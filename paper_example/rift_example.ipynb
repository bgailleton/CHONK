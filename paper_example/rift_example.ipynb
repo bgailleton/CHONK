{
 "cells": [
  {
   "cell_type": "code",
   "execution_count": 1,
   "id": "055ed078-c7ed-47fc-9cf2-7cd84e7a6637",
   "metadata": {},
   "outputs": [
    {
     "ename": "IndentationError",
     "evalue": "expected an indented block (environment.py, line 60)",
     "output_type": "error",
     "traceback": [
      "Traceback \u001b[0;36m(most recent call last)\u001b[0m:\n",
      "  File \u001b[1;32m\"/Users/gailleto/miniforge3/envs/lsdtopytools/lib/python3.8/site-packages/IPython/core/interactiveshell.py\"\u001b[0m, line \u001b[1;32m3441\u001b[0m, in \u001b[1;35mrun_code\u001b[0m\n    exec(code_obj, self.user_global_ns, self.user_ns)\n",
      "  File \u001b[1;32m\"/var/folders/t0/7zf23f454vn3_kkgrbf4c1500000gp/T/ipykernel_43623/2941013618.py\"\u001b[0m, line \u001b[1;32m2\u001b[0m, in \u001b[1;35m<module>\u001b[0m\n    import CHONK_XL as chxl\n",
      "\u001b[0;36m  File \u001b[0;32m\"/Users/gailleto/miniforge3/envs/lsdtopytools/lib/python3.8/site-packages/CHONK_XL/__init__.py\"\u001b[0;36m, line \u001b[0;32m8\u001b[0;36m, in \u001b[0;35m<module>\u001b[0;36m\u001b[0m\n\u001b[0;31m    from .environment import *\u001b[0m\n",
      "\u001b[0;36m  File \u001b[0;32m\"/Users/gailleto/miniforge3/envs/lsdtopytools/lib/python3.8/site-packages/CHONK_XL/environment.py\"\u001b[0;36m, line \u001b[0;32m60\u001b[0m\n\u001b[0;31m    asdfgbc\u001b[0m\n\u001b[0m    ^\u001b[0m\n\u001b[0;31mIndentationError\u001b[0m\u001b[0;31m:\u001b[0m expected an indented block\n"
     ]
    }
   ],
   "source": [
    "import numpy as np\n",
    "import CHONK_XL as chxl\n",
    "import matplotlib.pyplot as plt\n",
    "from IPython.display import display, Markdown, Latex\n",
    "import xsimlab as xs\n",
    "import CHONK_cpp as ch\n",
    "import zarr\n",
    "import helplotlib as hpl\n",
    "import helper\n",
    "%matplotlib widget\n",
    "%load_ext xsimlab.ipython"
   ]
  },
  {
   "cell_type": "code",
   "execution_count": 2,
   "id": "193bd333-4492-4203-b71d-1a245f2859c0",
   "metadata": {},
   "outputs": [],
   "source": [
    "\n",
    "\n",
    "@xs.process\n",
    "class CustomParameters:\n",
    "    label_array = xs.variable(intent = 'out', dims = (('y','x'), ('node')))\n",
    "    label_list = xs.any_object()\n",
    "    CHONK = xs.foreign(chxl.ChonkBase, \"CHONK\")\n",
    "    nx = xs.foreign(chxl.ChonkBase, \"nx\")\n",
    "    ny = xs.foreign(chxl.ChonkBase, \"ny\")\n",
    "    dx = xs.foreign(chxl.ChonkBase, \"dx\")\n",
    "    dy = xs.foreign(chxl.ChonkBase, \"dy\")\n",
    "    \n",
    "    active_nodes = xs.foreign(chxl.ChonkBase, \"active_nodes\")\n",
    "#     landscape = xs.any_object()\n",
    "\n",
    "    def initialize(self):\n",
    "\n",
    "        self.label_list = []\n",
    "    \n",
    "        self.label_array = np.zeros((nx*ny), dtype = np.int)\n",
    "        \n",
    "        # Labelling the second half of the landscape as label 1\n",
    "        self.label_array[round((nx*ny)/2):] = 1\n",
    "\n",
    "        self.label_list.append(ch.label(0))\n",
    "        self.label_list[-1].m = 0.45;\n",
    "        self.label_list[-1].n = 1;\n",
    "        self.label_list[-1].base_K = 1e-5;\n",
    "        self.label_list[-1].Ks_modifyer = 1.2;\n",
    "        self.label_list[-1].Kr_modifyer = 0.8;\n",
    "        self.label_list[-1].dimless_roughness = 0.5;\n",
    "        self.label_list[-1].V = 0.5;\n",
    "        self.label_list[-1].dstar = 1;\n",
    "        self.label_list[-1].threshold_incision = 0;\n",
    "        self.label_list[-1].threshold_entrainment = 0;\n",
    "        self.label_list[-1].kappa_base = 1e-4;\n",
    "        self.label_list[-1].kappa_r_mod = 0.8;\n",
    "        self.label_list[-1].kappa_s_mod = 1.2;\n",
    "        self.label_list[-1].critical_slope = 0.57835;\n",
    "        self.label_list[-1].sensitivity_tool_effect = 1;\n",
    "\n",
    "        self.label_list.append(ch.label(1))\n",
    "        self.label_list[-1].m = 0.45;\n",
    "        self.label_list[-1].n = 1;\n",
    "        self.label_list[-1].base_K = 1e-5;\n",
    "        self.label_list[-1].Ks_modifyer = 1;\n",
    "        self.label_list[-1].Kr_modifyer = 0.3;\n",
    "        self.label_list[-1].dimless_roughness = 0.5;\n",
    "        self.label_list[-1].V = 0.1;\n",
    "        self.label_list[-1].dstar = 1;\n",
    "        self.label_list[-1].threshold_incision = 0;\n",
    "        self.label_list[-1].threshold_entrainment = 0;\n",
    "        self.label_list[-1].kappa_base = 1e-4;\n",
    "        self.label_list[-1].kappa_r_mod = 0.8;\n",
    "        self.label_list[-1].kappa_s_mod = 1.2;\n",
    "        self.label_list[-1].critical_slope = 0.57835;\n",
    "        self.label_list[-1].sensitivity_tool_effect = 1;\n",
    "\n",
    "        self.CHONK.initialise_label_list(self.label_list)\n",
    "        self.CHONK.update_label_array(self.label_array.ravel())\n",
    "        \n",
    "        \n",
    "@xs.process\n",
    "class UpliftLandscape(chxl.Uplift):\n",
    "\tuplift_done = xs.variable(intent = \"out\")\n",
    "\trunner_done = xs.foreign(chxl.Runner, \"runner_done\")\n",
    "\tuplift = xs.variable(intent = 'out', dims = [('y','x'), ('node')])\n",
    "\tswitch_time = xs.variable(intent = 'in')\n",
    "\tCHONK = xs.foreign(chxl.ChonkBase, \"CHONK\")\n",
    "\tactive_nodes = xs.foreign(chxl.ChonkBase, \"active_nodes\")\n",
    "\tnx = xs.foreign(chxl.ChonkBase, \"nx\")\n",
    "\tny = xs.foreign(chxl.ChonkBase, \"ny\")\n",
    "\tdx = xs.foreign(chxl.ChonkBase, \"dx\") \n",
    "\tdy = xs.foreign(chxl.ChonkBase, \"dy\")\n",
    "    \n",
    "\trate = xs.variable()\n",
    "\tminrate = xs.variable(default=0)\n",
    "\tidx_N1 = xs.variable()\n",
    "\tidx_N2 = xs.variable()\n",
    "\tidx_N3 = xs.variable()\n",
    "\tidx_N4 = xs.variable()\n",
    "    \n",
    "\n",
    "\tdef initialize(self):\n",
    "\t\tself.uplift = np.zeros((ny,nx))\n",
    "\t\tself.uplift[self.idx_N1:self.idx_N2,:] = 1\n",
    "\t\tself.uplift[self.idx_N3:self.idx_N4,:] = 1\n",
    "\t\tself.uplift[self.idx_N2:self.idx_N3,:] = self.minrate\n",
    "\t\tfrom scipy.ndimage import gaussian_filter\n",
    "\t\tself.uplift = gaussian_filter(self.uplift, sigma=2)\n",
    "\t\tself.uplift /= self.uplift.max()\n",
    "\t\tself.uplift *= self.rate\n",
    "\t\tself.uplift[[-1,0],:] = 0\n",
    "\t\tself.done = False\n",
    "        \n",
    "\n",
    "\t@xs.runtime(args=['step_delta','step_end'])\n",
    "\tdef run_step(self, dt, timing):\n",
    "\t\tself.CHONK.add_external_to_surface_elevation_tp1(self.uplift.ravel() * dt)\n",
    "# \t\tprint(self.CHONK.get_neighbours_for_debugging(99,50))\n",
    "\t\tself.uplift_done = True\n",
    "\t\t\n",
    "# landscape.uplift4StSt"
   ]
  },
  {
   "cell_type": "code",
   "execution_count": 3,
   "id": "ff8b4390-7c66-4761-b3b7-9954750afdf8",
   "metadata": {},
   "outputs": [],
   "source": [
    "model = xs.Model({\"ChonkBase\": chxl.ChonkBase,\n",
    "                \"Runner\": chxl.Runner,\n",
    "                \"Topography\": chxl.Topography,\n",
    "#                 \"Uplift\": UpliftLandscapeStSt,\n",
    "                \"Uplift\": UpliftLandscape,\n",
    "#                 \"Uplift\": UpliftLandscapeNF1,\n",
    "#                 \"Uplift\": chxl.Uplift,\n",
    "                \"Lake\": chxl.Lake,\n",
    "                \"Precipitation\": chxl.Precipitation,\n",
    "#                 \"DefaultParameters\": chxl.DefaultParameters,\n",
    "                \"DefaultParameters\": CustomParameters,\n",
    "                \"Flow\": chxl.Flow,\n",
    "                \"Fluvial\": chxl.Fluvial,\n",
    "                \"Hillslope\": chxl.Hillslope\n",
    "            })\n",
    "\n"
   ]
  },
  {
   "cell_type": "code",
   "execution_count": 4,
   "id": "17def2b7-fb0c-4b4f-8717-1a8b70373167",
   "metadata": {},
   "outputs": [],
   "source": [
    "ny,nx = 100,100\n",
    "dy,dx = 200,200"
   ]
  },
  {
   "cell_type": "code",
   "execution_count": 7,
   "id": "aefcacad-9355-4ac8-9863-7b814fa28468",
   "metadata": {},
   "outputs": [
    {
     "ename": "KeyError",
     "evalue": "\"ChonkBase___stratigraphator is/are not valid key(s) for variables in model <xsimlab.Model (10 processes, 21 inputs)>\\nChonkBase\\n    dx                             [in] Spacing in X direction\\n    dy                             [in] Spacing in Y direction\\n    nx                             [in] Number of nodes in X direction\\n    ny                             [in] Number of nodes in Y direction\\n    boundary_conditions            [in]\\n    depths_res_sed_proportions  [inout] Depth resolution for saving...\\n    n_depth_sed_tracking           [in]\\nRunner\\nUplift\\n    switch_time                    [in]\\n    rate                           [in]\\n    minrate                        [in]\\n    idx_N1                         [in]\\n    idx_N2                         [in]\\n    idx_N3                         [in]\\n    idx_N4                         [in]\\nTopography\\n    initial_elevation              [in] ('y', 'x') or ('node',) \\n    initial_carving                [in]\\nLake\\n    method                         [in]\\n    evaporation                    [in]\\n    evaporation_rate               [in] ('y', 'x') or ('node',) or () \\nPrecipitation\\n    precipitation_rate             [in] ('y', 'x') or ('node',) or () \\nDefaultParameters\\nFlow\\n    threshold_single_flow          [in]\\nFluvial\\nHillslope\\n\"",
     "output_type": "error",
     "traceback": [
      "\u001b[0;31m---------------------------------------------------------------------------\u001b[0m",
      "\u001b[0;31mKeyError\u001b[0m                                  Traceback (most recent call last)",
      "\u001b[0;32m/var/folders/t0/7zf23f454vn3_kkgrbf4c1500000gp/T/ipykernel_43592/449654027.py\u001b[0m in \u001b[0;36m<module>\u001b[0;34m\u001b[0m\n\u001b[1;32m     16\u001b[0m \u001b[0;34m\u001b[0m\u001b[0m\n\u001b[1;32m     17\u001b[0m \u001b[0mUtime\u001b[0m \u001b[0;34m=\u001b[0m \u001b[0;36m1e8\u001b[0m\u001b[0;34m\u001b[0m\u001b[0;34m\u001b[0m\u001b[0m\n\u001b[0;32m---> 18\u001b[0;31m ds_in = xs.create_setup(\n\u001b[0m\u001b[1;32m     19\u001b[0m     \u001b[0mmodel\u001b[0m\u001b[0;34m=\u001b[0m\u001b[0mmodel\u001b[0m\u001b[0;34m,\u001b[0m\u001b[0;34m\u001b[0m\u001b[0;34m\u001b[0m\u001b[0m\n\u001b[1;32m     20\u001b[0m     clocks={\n",
      "\u001b[0;32m~/miniforge3/envs/lsdtopytools/lib/python3.8/site-packages/xsimlab/xr_accessor.py\u001b[0m in \u001b[0;36mcreate_setup\u001b[0;34m(model, clocks, master_clock, input_vars, output_vars, fill_default)\u001b[0m\n\u001b[1;32m    913\u001b[0m \u001b[0;34m\u001b[0m\u001b[0m\n\u001b[1;32m    914\u001b[0m     ds = (\n\u001b[0;32m--> 915\u001b[0;31m         \u001b[0mDataset\u001b[0m\u001b[0;34m(\u001b[0m\u001b[0;34m)\u001b[0m\u001b[0;34m\u001b[0m\u001b[0;34m\u001b[0m\u001b[0m\n\u001b[0m\u001b[1;32m    916\u001b[0m         \u001b[0;34m.\u001b[0m\u001b[0mxsimlab\u001b[0m\u001b[0;34m.\u001b[0m\u001b[0mupdate_clocks\u001b[0m\u001b[0;34m(\u001b[0m\u001b[0mmodel\u001b[0m\u001b[0;34m=\u001b[0m\u001b[0mmodel\u001b[0m\u001b[0;34m,\u001b[0m \u001b[0mclocks\u001b[0m\u001b[0;34m=\u001b[0m\u001b[0mclocks\u001b[0m\u001b[0;34m,\u001b[0m \u001b[0mmaster_clock\u001b[0m\u001b[0;34m=\u001b[0m\u001b[0mmaster_clock\u001b[0m\u001b[0;34m)\u001b[0m\u001b[0;34m\u001b[0m\u001b[0;34m\u001b[0m\u001b[0m\n\u001b[1;32m    917\u001b[0m         \u001b[0;34m.\u001b[0m\u001b[0mpipe\u001b[0m\u001b[0;34m(\u001b[0m\u001b[0mmaybe_fill_default\u001b[0m\u001b[0;34m)\u001b[0m\u001b[0;34m\u001b[0m\u001b[0;34m\u001b[0m\u001b[0m\n",
      "\u001b[0;32m~/miniforge3/envs/lsdtopytools/lib/python3.8/site-packages/xsimlab/xr_accessor.py\u001b[0m in \u001b[0;36mupdate_vars\u001b[0;34m(self, model, input_vars, output_vars)\u001b[0m\n\u001b[1;32m    580\u001b[0m \u001b[0;34m\u001b[0m\u001b[0m\n\u001b[1;32m    581\u001b[0m         \u001b[0;32mif\u001b[0m \u001b[0moutput_vars\u001b[0m \u001b[0;32mis\u001b[0m \u001b[0;32mnot\u001b[0m \u001b[0;32mNone\u001b[0m\u001b[0;34m:\u001b[0m\u001b[0;34m\u001b[0m\u001b[0;34m\u001b[0m\u001b[0m\n\u001b[0;32m--> 582\u001b[0;31m             \u001b[0mds\u001b[0m\u001b[0;34m.\u001b[0m\u001b[0mxsimlab\u001b[0m\u001b[0;34m.\u001b[0m\u001b[0m_set_output_vars\u001b[0m\u001b[0;34m(\u001b[0m\u001b[0mmodel\u001b[0m\u001b[0;34m,\u001b[0m \u001b[0moutput_vars\u001b[0m\u001b[0;34m)\u001b[0m\u001b[0;34m\u001b[0m\u001b[0;34m\u001b[0m\u001b[0m\n\u001b[0m\u001b[1;32m    583\u001b[0m \u001b[0;34m\u001b[0m\u001b[0m\n\u001b[1;32m    584\u001b[0m         \u001b[0;32mreturn\u001b[0m \u001b[0mds\u001b[0m\u001b[0;34m\u001b[0m\u001b[0;34m\u001b[0m\u001b[0m\n",
      "\u001b[0;32m~/miniforge3/envs/lsdtopytools/lib/python3.8/site-packages/xsimlab/xr_accessor.py\u001b[0m in \u001b[0;36m_set_output_vars\u001b[0;34m(self, model, output_vars, clear)\u001b[0m\n\u001b[1;32m    379\u001b[0m         \u001b[0minvalid_outputs\u001b[0m \u001b[0;34m=\u001b[0m \u001b[0mset\u001b[0m\u001b[0;34m(\u001b[0m\u001b[0moutput_vars\u001b[0m\u001b[0;34m)\u001b[0m \u001b[0;34m-\u001b[0m \u001b[0mset\u001b[0m\u001b[0;34m(\u001b[0m\u001b[0mmodel\u001b[0m\u001b[0;34m.\u001b[0m\u001b[0mall_vars\u001b[0m\u001b[0;34m)\u001b[0m\u001b[0;34m\u001b[0m\u001b[0;34m\u001b[0m\u001b[0m\n\u001b[1;32m    380\u001b[0m         \u001b[0;32mif\u001b[0m \u001b[0minvalid_outputs\u001b[0m\u001b[0;34m:\u001b[0m\u001b[0;34m\u001b[0m\u001b[0;34m\u001b[0m\u001b[0m\n\u001b[0;32m--> 381\u001b[0;31m             raise KeyError(\n\u001b[0m\u001b[1;32m    382\u001b[0m                 \u001b[0;34m\", \"\u001b[0m\u001b[0;34m.\u001b[0m\u001b[0mjoin\u001b[0m\u001b[0;34m(\u001b[0m\u001b[0;34m[\u001b[0m\u001b[0;34mf\"{pn}__{vn}\"\u001b[0m \u001b[0;32mfor\u001b[0m \u001b[0mpn\u001b[0m\u001b[0;34m,\u001b[0m \u001b[0mvn\u001b[0m \u001b[0;32min\u001b[0m \u001b[0minvalid_outputs\u001b[0m\u001b[0;34m]\u001b[0m\u001b[0;34m)\u001b[0m\u001b[0;34m\u001b[0m\u001b[0;34m\u001b[0m\u001b[0m\n\u001b[1;32m    383\u001b[0m                 \u001b[0;34m+\u001b[0m \u001b[0;34mf\" is/are not valid key(s) for variables in model {model}\"\u001b[0m\u001b[0;34m,\u001b[0m\u001b[0;34m\u001b[0m\u001b[0;34m\u001b[0m\u001b[0m\n",
      "\u001b[0;31mKeyError\u001b[0m: \"ChonkBase___stratigraphator is/are not valid key(s) for variables in model <xsimlab.Model (10 processes, 21 inputs)>\\nChonkBase\\n    dx                             [in] Spacing in X direction\\n    dy                             [in] Spacing in Y direction\\n    nx                             [in] Number of nodes in X direction\\n    ny                             [in] Number of nodes in Y direction\\n    boundary_conditions            [in]\\n    depths_res_sed_proportions  [inout] Depth resolution for saving...\\n    n_depth_sed_tracking           [in]\\nRunner\\nUplift\\n    switch_time                    [in]\\n    rate                           [in]\\n    minrate                        [in]\\n    idx_N1                         [in]\\n    idx_N2                         [in]\\n    idx_N3                         [in]\\n    idx_N4                         [in]\\nTopography\\n    initial_elevation              [in] ('y', 'x') or ('node',) \\n    initial_carving                [in]\\nLake\\n    method                         [in]\\n    evaporation                    [in]\\n    evaporation_rate               [in] ('y', 'x') or ('node',) or () \\nPrecipitation\\n    precipitation_rate             [in] ('y', 'x') or ('node',) or () \\nDefaultParameters\\nFlow\\n    threshold_single_flow          [in]\\nFluvial\\nHillslope\\n\""
     ]
    }
   ],
   "source": [
    "# %create_setup model\n",
    "import xsimlab as xs\n",
    "time = np.arange(0,1e7,1000)\n",
    "otime = time[::20]\n",
    "\n",
    "# init_z = np.load(\"./initial_topo_100_100.npy\")\n",
    "init_z = np.random.rand(ny,nx)\n",
    "rate = 0.5e-3\n",
    "idx_N1 = 10\n",
    "idx_N2 = 30\n",
    "idx_N3 = 70\n",
    "idx_N4 = 80\n",
    "# init_z[0,:] = 1000\n",
    "# init_z[0,:] = 0\n",
    "U = np.zeros((ny,nx)) + 2e-4\n",
    "\n",
    "Utime = 1e8\n",
    "ds_in = xs.create_setup(\n",
    "    model=model,\n",
    "    clocks={\n",
    "        'time': time,\n",
    "        'otime': otime\n",
    "    },\n",
    "    master_clock='time',\n",
    "    input_vars={\n",
    "        'ChonkBase__dx': dx,\n",
    "        'ChonkBase__dy': dy,\n",
    "        'ChonkBase__nx': nx,\n",
    "        'ChonkBase__ny': ny,\n",
    "        'ChonkBase__depths_res_sed_proportions': 10,\n",
    "        'ChonkBase__n_depth_sed_tracking': 50,\n",
    "        'ChonkBase__boundary_conditions': \"periodic_EW\",\n",
    "        'Topography__initial_elevation': init_z,\n",
    "        'Uplift__rate': rate,\n",
    "        'Uplift__idx_N1': idx_N1,\n",
    "        'Uplift__idx_N2': idx_N2,\n",
    "        'Uplift__idx_N3': idx_N3,\n",
    "        'Uplift__idx_N4': idx_N4,\n",
    "        'Uplift__switch_time': Utime,\n",
    "#         'Lake__method': ('batch', ['implicit', 'explicit']),\n",
    "        'Lake__method': 'explicit',\n",
    "        'Lake__evaporation': True,\n",
    "        'Lake__evaporation_rate':  1.3,#('batch', np.arange(1,1.6,0.1)),\n",
    "        'Flow__threshold_single_flow': 1e32,\n",
    "        'Precipitation__precipitation_rate': 1,#('batch', np.arange(0.3,2,0.2)), #1\n",
    "    },\n",
    "    output_vars={\n",
    "        'Topography__topography': 'otime',\n",
    "        'Topography__sed_height': 'otime',\n",
    "        'Flow__Qw': 'otime',\n",
    "        'Flow__water_balance_checker': 'time',\n",
    "        'Lake__lake_depth': 'otime',\n",
    "        'Lake__topolake': 'otime',\n",
    "        'Fluvial__Qs': 'otime',\n",
    "        'Hillslope__Qs': 'otime',\n",
    "        'ChonkBase__Q_sout_lab_N': 'otime',\n",
    "        'ChonkBase__Q_sout_lab_S': 'otime',\n",
    "        'ChonkBase___stratigraphator': 'otime',\n",
    "    \n",
    "    }\n",
    ")\n"
   ]
  },
  {
   "cell_type": "code",
   "execution_count": 9,
   "id": "c49f86a6-6098-4225-8418-fcd25e8f8089",
   "metadata": {
    "collapsed": true,
    "jupyter": {
     "outputs_hidden": true
    },
    "tags": []
   },
   "outputs": [
    {
     "name": "stderr",
     "output_type": "stream",
     "text": [
      "             0% | initialize /var/folders/t0/7zf23f454vn3_kkgrbf4c1500000gp/T/ipykernel_21417/980392377.py:18: DeprecationWarning: `np.int` is a deprecated alias for the builtin `int`. To silence this warning, use `int` by itself. Doing this will not modify any behavior and is safe. When replacing `np.int`, you may wish to use e.g. `np.int64` or `np.int32` to specify the precision. If you wish to review your current use, check the release note link for additional information.\n",
      "Deprecated in NumPy 1.20; for more details and guidance: https://numpy.org/devdocs/release/1.20.0-notes.html#deprecations\n",
      "             0% | run step 0/9999 /var/folders/t0/7zf23f454vn3_kkgrbf4c1500000gp/T/ipykernel_21417/980392377.py:18: DeprecationWarning: `np.int` is a deprecated alias for the builtin `int`. To silence this warning, use `int` by itself. Doing this will not modify any behavior and is safe. When replacing `np.int`, you may wish to use e.g. `np.int64` or `np.int32` to specify the precision. If you wish to review your current use, check the release note link for additional information.\n",
      "Deprecated in NumPy 1.20; for more details and guidance: https://numpy.org/devdocs/release/1.20.0-notes.html#deprecations\n",
      "             0% | run step 0/9999 /var/folders/t0/7zf23f454vn3_kkgrbf4c1500000gp/T/ipykernel_21417/980392377.py:18: DeprecationWarning: `np.int` is a deprecated alias for the builtin `int`. To silence this warning, use `int` by itself. Doing this will not modify any behavior and is safe. When replacing `np.int`, you may wish to use e.g. `np.int64` or `np.int32` to specify the precision. If you wish to review your current use, check the release note link for additional information.\n",
      "Deprecated in NumPy 1.20; for more details and guidance: https://numpy.org/devdocs/release/1.20.0-notes.html#deprecations\n",
      "             0% | run step 0/9999 /var/folders/t0/7zf23f454vn3_kkgrbf4c1500000gp/T/ipykernel_21417/980392377.py:18: DeprecationWarning: `np.int` is a deprecated alias for the builtin `int`. To silence this warning, use `int` by itself. Doing this will not modify any behavior and is safe. When replacing `np.int`, you may wish to use e.g. `np.int64` or `np.int32` to specify the precision. If you wish to review your current use, check the release note link for additional information.\n",
      "Deprecated in NumPy 1.20; for more details and guidance: https://numpy.org/devdocs/release/1.20.0-notes.html#deprecations\n",
      "             0% | run step 0/9999 /var/folders/t0/7zf23f454vn3_kkgrbf4c1500000gp/T/ipykernel_21417/980392377.py:18: DeprecationWarning: `np.int` is a deprecated alias for the builtin `int`. To silence this warning, use `int` by itself. Doing this will not modify any behavior and is safe. When replacing `np.int`, you may wish to use e.g. `np.int64` or `np.int32` to specify the precision. If you wish to review your current use, check the release note link for additional information.\n",
      "Deprecated in NumPy 1.20; for more details and guidance: https://numpy.org/devdocs/release/1.20.0-notes.html#deprecations\n",
      "             0% | run step 0/9999 /var/folders/t0/7zf23f454vn3_kkgrbf4c1500000gp/T/ipykernel_21417/980392377.py:18: DeprecationWarning: `np.int` is a deprecated alias for the builtin `int`. To silence this warning, use `int` by itself. Doing this will not modify any behavior and is safe. When replacing `np.int`, you may wish to use e.g. `np.int64` or `np.int32` to specify the precision. If you wish to review your current use, check the release note link for additional information.\n",
      "Deprecated in NumPy 1.20; for more details and guidance: https://numpy.org/devdocs/release/1.20.0-notes.html#deprecations\n",
      "             0% | run step 0/9999 "
     ]
    },
    {
     "name": "stdout",
     "output_type": "stream",
     "text": [
      "1.0114|178.559|176.546|0.955076|value:-45.1858\n",
      "1.00081|138.774|138.662|0.925706|value:-37.6088\n",
      "1.00257|91.8739|91.6383|0.939938|value:-23.618\n",
      "1.02303|181.483|177.398|0.89624|value:-39.5322\n",
      "1.01062|93.8791|92.8924|0.89624|value:-25.3394\n",
      "1.00141|747.731|746.681|0.955106|value:-60.107\n",
      "1.00401|356.903|355.478|0.983175|value:-86.1544\n"
     ]
    },
    {
     "name": "stderr",
     "output_type": "stream",
     "text": [
      "             0% | run step 1/9999 "
     ]
    },
    {
     "name": "stdout",
     "output_type": "stream",
     "text": [
      "1.00048|371.943|371.765|0.982057|value:-83.9821\n",
      "1.00364|202.718|201.983|0.993521|value:-116.142\n",
      "1.00611|219.871|218.535|0.961711|value:-50.2076\n",
      "1.01257|367.241|362.681|0.854386|value:-31.4828\n",
      "1.03276|179.2|173.516|0.871799|value:-44.5027\n",
      "1.02174|96.5626|94.5077|0.871799|value:-28.8447\n",
      "1.00071|780.558|780.007|0.956093|value:-88.5206\n",
      "1.00094|148.477|148.337|0.986079|value:-18.1969\n",
      "1.04855|106.689|101.748|0.850441|value:-36.9884\n",
      "1.00214|461.183|460.196|0.941824|value:-88.5249\n",
      "1.00089|1487|1485.68|0.911781|value:-53.319\n",
      "1.00144|1809.87|1807.28|0.911781|value:-78.7509\n",
      "1.0165|173.297|170.484|0.956784|value:-85.9202\n",
      "1.00575|100.189|99.617|0.919327|value:-50.1763\n",
      "1.00177|295.701|295.179|0.939149|value:-38.7698\n",
      "1.00048|371.942|371.765|0.982057|value:-83.9821\n",
      "1.00364|202.718|201.983|0.993521|value:-116.142\n",
      "1.00611|219.871|218.535|0.961711|value:-50.2076\n",
      "1.01248|370.042|365.482|0.854386|value:-31.4828\n",
      "1.03276|179.2|173.516|0.871799|value:-44.5027\n",
      "1.02174|96.5626|94.5076|0.871799|value:-28.8447\n",
      "1.0007|782.35|781.8|0.956135|value:-88.6049\n",
      "1.00094|148.476|148.337|0.986079|value:-18.1969\n",
      "1.04855|106.688|101.748|0.850441|value:-36.9884\n",
      "1.00214|461.183|460.196|0.941824|value:-88.5247\n",
      "1.00089|1487|1485.67|0.911781|value:-53.3189\n",
      "1.00144|1809.87|1807.27|0.911781|value:-78.7508\n",
      "1.0165|173.296|170.483|0.956784|value:-85.9202\n",
      "1.00575|100.189|99.6169|0.919327|value:-50.1763\n",
      "1.00048|371.942|371.765|0.982057|value:-83.982\n",
      "1.00364|202.718|201.983|0.993521|value:-116.141\n",
      "1.00611|219.871|218.535|0.961711|value:-50.2075\n",
      "1.0123|375.356|370.796|0.854386|value:-31.4828\n",
      "1.00364|202.754|202.019|0.993523|value:-116.096\n",
      "1.00062|371.997|371.767|0.981944|value:-86.3597\n",
      "1.00611|219.877|218.542|0.961713|value:-50.177\n",
      "1.01267|364.193|359.636|0.854406|value:-31.4665\n",
      "1.0221|179.347|175.47|0.907199|value:-42.0126\n",
      "1.00977|96.5538|95.6196|0.907199|value:-27.76\n",
      "1.00076|766.391|765.808|0.959271|value:-96.2029\n",
      "1.00094|148.406|148.266|0.986091|value:-18.2029\n",
      "1.04317|105.566|101.197|0.86443|value:-36.5966\n",
      "1.00195|830.134|828.517|0.86443|value:-12.0471\n",
      "1.00214|461.072|460.086|0.941835|value:-88.504\n",
      "1.00089|1487.46|1486.13|0.911695|value:-53.2546\n",
      "1.00144|1809.76|1807.17|0.911695|value:-78.6577\n",
      "1.01651|173.112|170.3|0.9568|value:-85.9157\n",
      "1.00576|100.129|99.5557|0.919328|value:-50.1748\n",
      "1.00176|295.784|295.264|0.93919|value:-38.7716\n",
      "1.00048|371.942|371.765|0.982057|value:-83.982\n",
      "1.00364|202.718|201.983|0.993521|value:-116.141\n",
      "1.00611|219.871|218.535|0.961711|value:-50.2075\n",
      "1.01239|372.75|368.19|0.854386|value:-31.4828\n",
      "1.03276|179.2|173.516|0.871799|value:-44.5026\n",
      "1.02174|96.5625|94.5076|0.871799|value:-28.8447\n",
      "1.0007|784.118|783.567|0.956176|value:-88.6883\n",
      "1.00094|148.476|148.337|0.986079|value:-18.1969\n",
      "1.04855|106.688|101.748|0.850441|value:-36.9884\n",
      "1.00214|461.182|460.195|0.941824|value:-88.5246\n",
      "1.00089|1487|1485.67|0.911781|value:-53.3189\n",
      "1.00144|1809.87|1807.27|0.911781|value:-78.7507\n",
      "1.0165|173.296|170.482|0.956784|value:-85.9201\n",
      "1.00575|100.189|99.6169|0.919327|value:-50.1763\n"
     ]
    },
    {
     "name": "stderr",
     "output_type": "stream",
     "text": [
      "             0% | run step 2/9999 "
     ]
    },
    {
     "name": "stdout",
     "output_type": "stream",
     "text": [
      "1.03219|242.26|234.704|0.871912|value:-64.4007\n",
      "1.00526|117.974|117.357|0.915504|value:-65.5087\n",
      "1.00208|1663.36|1659.92|0.926737|value:-50.2077\n",
      "1.03186|244.864|237.304|0.872034|value:-64.4861\n",
      "1.00516|118.02|117.414|0.915622|value:-65.5051\n",
      "1.03252|239.662|232.113|0.871806|value:-64.313\n",
      "1.00538|117.909|117.278|0.915372|value:-65.5167\n",
      "1.00207|1657.48|1654.06|0.927421|value:-50.3615\n",
      "1.03154|247.413|239.848|0.87215|value:-64.5758\n",
      "1.00508|118.034|117.438|0.915725|value:-65.5067\n"
     ]
    },
    {
     "name": "stderr",
     "output_type": "stream",
     "text": [
      "             0% | run step 3/9999 "
     ]
    },
    {
     "name": "stdout",
     "output_type": "stream",
     "text": [
      "1.02175|338.414|331.209|0.919717|value:-111.78\n",
      "1.01028|681.357|674.424|0.969847|value:-381.872\n",
      "1.00114|2380.31|2377.59|0.933661|value:-60.0009\n",
      "1.00005|2765.33|2765.19|0.933661|value:-67.611\n",
      "1.00045|1710.82|1710.05|0.9805|value:-177.874\n",
      "1.0212|347.771|340.551|0.919812|value:-113.458\n",
      "1.01015|690.606|683.667|0.970151|value:-386.093\n",
      "1.00114|2397.47|2394.73|0.93315|value:-59.7559\n",
      "1.00005|2782.25|2782.1|0.93315|value:-67.2637\n",
      "1.02205|335.768|328.526|0.919434|value:-111.807\n",
      "1.00756|922.992|916.071|0.969563|value:-377.772\n",
      "1.00115|2356.72|2354.02|0.933778|value:-59.77\n",
      "1.00005|2740.68|2740.55|0.933778|value:-67.4082\n",
      "1.02099|351.223|344.004|0.92009|value:-113.882\n",
      "1.01007|697.788|690.834|0.970412|value:-390.119\n"
     ]
    },
    {
     "name": "stderr",
     "output_type": "stream",
     "text": [
      "             0% | run step 4/9999 "
     ]
    },
    {
     "name": "stdout",
     "output_type": "stream",
     "text": [
      "1.00167|162.328|162.057|0.983714|value:-22.9284\n",
      "1.00161|162.395|162.135|0.983735|value:-22.7988\n",
      "1.01974|232.553|228.052|0.889678|value:-66.6183\n",
      "1.02309|370.227|361.87|0.925468|value:-134.767\n",
      "1.00819|946.653|938.965|0.925468|value:-103.371\n",
      "1.01962|233.028|228.543|0.889739|value:-66.5559\n",
      "1.02408|357.823|349.411|0.925262|value:-133.412\n",
      "1.00844|908.597|900.994|0.925262|value:-101.952\n",
      "1.00167|162.328|162.057|0.983715|value:-22.9284\n",
      "1.01976|232.559|228.052|0.889598|value:-66.6276\n",
      "1.02379|359.95|351.586|0.925301|value:-132.942\n",
      "1.00833|917.292|909.718|0.925301|value:-101.623\n",
      "1.00187|163.65|163.345|0.983848|value:-23.7761\n",
      "1.00167|162.328|162.057|0.983714|value:-22.9284\n",
      "1.01974|237.117|232.528|0.88968|value:-66.668\n",
      "1.02213|382.078|373.806|0.925667|value:-136.574\n",
      "1.00803|980.344|972.529|0.925667|value:-105.353\n"
     ]
    },
    {
     "name": "stderr",
     "output_type": "stream",
     "text": [
      "             0% | run step 5/9999 "
     ]
    },
    {
     "name": "stdout",
     "output_type": "stream",
     "text": [
      "1.00008|159.608|159.596|0.982635|value:-20.3512\n",
      "1.00096|108.413|108.309|0.883896|value:-1.56445\n",
      "1.00117|288.504|288.165|0.994636|value:-216.012\n",
      "1.00014|159.542|159.519|0.982614|value:-20.4855\n",
      "1.02279|423.702|414.259|0.936372|value:-172.794\n",
      "1.00891|849.806|842.3|0.936372|value:-132.038\n",
      "1.00036|160.818|160.761|0.98277|value:-21.3224\n",
      "1.00014|159.542|159.519|0.982614|value:-20.4851\n",
      "1.02217|432.158|422.784|0.936552|value:-174.971\n",
      "1.00918|903.162|894.946|0.936552|value:-134.346\n",
      "1.00014|159.542|159.519|0.982614|value:-20.4848\n",
      "1.02161|442.014|432.666|0.936684|value:-177.315\n",
      "1.00885|984.123|975.486|0.936684|value:-136.686\n"
     ]
    },
    {
     "name": "stderr",
     "output_type": "stream",
     "text": [
      "             0% | run step 6/9999 "
     ]
    },
    {
     "name": "stdout",
     "output_type": "stream",
     "text": [
      "1.01355|480.109|473.689|0.895173|value:-100.768\n",
      "1.0339|232.349|224.731|0.895173|value:-73.2297\n",
      "1.01475|480.73|473.742|0.893267|value:-99.7794\n",
      "1.03372|235.875|228.18|0.893267|value:-72.5091\n",
      "1.01355|480.253|473.832|0.895169|value:-100.777\n",
      "1.03388|232.468|224.85|0.895169|value:-73.2355\n",
      "1.0006|400.495|400.253|0.994233|value:-279.375\n",
      "1.01354|480.333|473.918|0.895166|value:-100.774\n",
      "1.03388|232.494|224.876|0.895166|value:-73.2337\n",
      "1.01429|481.803|475.014|0.895029|value:-101.334\n",
      "1.03381|235.127|227.437|0.895029|value:-73.671\n"
     ]
    },
    {
     "name": "stderr",
     "output_type": "stream",
     "text": [
      "█████▌      56% | run step 5595/9999 "
     ]
    },
    {
     "name": "stdout",
     "output_type": "stream",
     "text": [
      "1.01742|59.8207|58.7962|0.954301|value:-22.9427\n"
     ]
    },
    {
     "name": "stderr",
     "output_type": "stream",
     "text": [
      "█████▉      59% | run step 5943/9999 "
     ]
    },
    {
     "name": "stdout",
     "output_type": "stream",
     "text": [
      "1.01371|63.002|62.1499|0.948416|value:-16.8476\n",
      "1.01413|38.2734|37.7402|0.948416|value:-12.3113\n",
      "1.01849|33.6501|33.039|0.948416|value:-12.3112\n",
      "1.01456|35.4452|34.9365|0.948239|value:-9.8295\n",
      "1.01916|18.7985|18.445|0.948239|value:-7.29339\n",
      "1.00487|72.9804|72.6268|0.948239|value:-7.29359\n"
     ]
    },
    {
     "name": "stderr",
     "output_type": "stream",
     "text": [
      "█████▉      59% | run step 5946/9999 "
     ]
    },
    {
     "name": "stdout",
     "output_type": "stream",
     "text": [
      "1.01974|22.3351|21.9028|0.926548|value:-7.5199\n"
     ]
    },
    {
     "name": "stderr",
     "output_type": "stream",
     "text": [
      "██████▏     62% | run step 6182/9999 "
     ]
    },
    {
     "name": "stdout",
     "output_type": "stream",
     "text": [
      "1|4.83075e+06|4.83074e+06|0.999038|value:-2351.7\n",
      "1|4.82518e+06|4.82517e+06|0.999038|value:-3057.83\n",
      "1|4.81931e+06|4.81931e+06|0.999038|value:-2342.17\n"
     ]
    },
    {
     "name": "stderr",
     "output_type": "stream",
     "text": [
      "█████████   91% | run step 9092/9999 "
     ]
    },
    {
     "name": "stdout",
     "output_type": "stream",
     "text": [
      "1.03447|49.4546|47.8066|0.933644|value:-26.0159\n",
      "1.03153|32.0313|31.0523|0.94048|value:-16.8895\n"
     ]
    },
    {
     "name": "stderr",
     "output_type": "stream",
     "text": [
      "██████▎     63% | run step 6253/9999 "
     ]
    },
    {
     "name": "stdout",
     "output_type": "stream",
     "text": [
      "1.00007|6233.87|6233.46|0.999865|value:-5666.41\n",
      "WARNING:: OUT Sediment flux < 0 -521.647recasting...\n"
     ]
    },
    {
     "name": "stderr",
     "output_type": "stream",
     "text": [
      "██████▋     67% | run step 6739/9999 "
     ]
    },
    {
     "name": "stdout",
     "output_type": "stream",
     "text": [
      "1.02711|25.2772|24.61|0.935438|value:-13.803\n",
      "1.00131|251.827|251.497|0.939475|value:-9.09506\n",
      "1.00588|88.2993|87.7828|0.939475|value:-8.81388\n"
     ]
    },
    {
     "name": "stderr",
     "output_type": "stream",
     "text": [
      "█████████▍  94% | run step 9391/9999 "
     ]
    },
    {
     "name": "stdout",
     "output_type": "stream",
     "text": [
      "1.00008|13117.1|13116|0.999903|value:-11218.7\n"
     ]
    },
    {
     "name": "stderr",
     "output_type": "stream",
     "text": [
      "██████▊     68% | run step 6815/9999 "
     ]
    },
    {
     "name": "stdout",
     "output_type": "stream",
     "text": [
      "1.02058|18.2815|17.9128|0.942094|value:-8.44054\n",
      "1.00004|15412.6|15411.9|0.942094|value:-12.2242\n",
      "1.00374|183.8|183.115|0.942094|value:-12.1229\n",
      "1.00421|111.84|111.371|0.942094|value:-8.51237\n",
      "1.00158|43.3475|43.2792|0.932448|value:-10.3058\n"
     ]
    },
    {
     "name": "stderr",
     "output_type": "stream",
     "text": [
      "██████▉     69% | run step 6899/9999 "
     ]
    },
    {
     "name": "stdout",
     "output_type": "stream",
     "text": [
      "1.0181|70.8145|69.5554|0.939554|value:-20.8313\n",
      "1.01924|50.9706|50.0085|0.933397|value:-14.9555\n"
     ]
    },
    {
     "name": "stderr",
     "output_type": "stream",
     "text": [
      "██████▉     69% | run step 6891/9999 "
     ]
    },
    {
     "name": "stdout",
     "output_type": "stream",
     "text": [
      "1.01031|63.4326|62.7855|0.930712|value:-9.68603\n"
     ]
    },
    {
     "name": "stderr",
     "output_type": "stream",
     "text": [
      "██████▉     70% | run step 6981/9999 "
     ]
    },
    {
     "name": "stdout",
     "output_type": "stream",
     "text": [
      "1.03714|30.2649|29.1811|0.922367|value:-14.0783\n",
      "1.00439|193.909|193.062|0.915463|value:-10.4203\n"
     ]
    },
    {
     "name": "stderr",
     "output_type": "stream",
     "text": [
      "███████     71% | run step 7118/9999 "
     ]
    },
    {
     "name": "stdout",
     "output_type": "stream",
     "text": [
      "1.0499|8.67561|8.26328|0.906803|value:-5.72936\n"
     ]
    },
    {
     "name": "stderr",
     "output_type": "stream",
     "text": [
      "███████▏    71% | run step 7144/9999 "
     ]
    },
    {
     "name": "stdout",
     "output_type": "stream",
     "text": [
      "1.00003|20775.5|20774.9|0.997163|value:-229.79\n",
      "1.00005|18039.7|18038.8|0.997163|value:-327.912\n",
      "1.00004|18112.4|18111.8|0.997163|value:-238.456\n"
     ]
    },
    {
     "name": "stderr",
     "output_type": "stream",
     "text": [
      "███████     70% | run step 7035/9999  in 28:16 \n",
      "██████▊     69% | run step 6859/9999 /var/folders/t0/7zf23f454vn3_kkgrbf4c1500000gp/T/ipykernel_21417/980392377.py:18: DeprecationWarning: `np.int` is a deprecated alias for the builtin `int`. To silence this warning, use `int` by itself. Doing this will not modify any behavior and is safe. When replacing `np.int`, you may wish to use e.g. `np.int64` or `np.int32` to specify the precision. If you wish to review your current use, check the release note link for additional information.\n",
      "Deprecated in NumPy 1.20; for more details and guidance: https://numpy.org/devdocs/release/1.20.0-notes.html#deprecations\n",
      "███████▏    72% | run step 7224/9999 "
     ]
    },
    {
     "name": "stdout",
     "output_type": "stream",
     "text": [
      "1.00019|3571.49|3570.8|0.998024|value:-472.212\n",
      "1.00041|2287.82|2286.89|0.998024|value:-507.358\n",
      "1.00049|1349.62|1348.96|0.998024|value:-378.955\n"
     ]
    },
    {
     "name": "stderr",
     "output_type": "stream",
     "text": [
      "███████▎    73% | run step 7282/9999 "
     ]
    },
    {
     "name": "stdout",
     "output_type": "stream",
     "text": [
      "1.00867|69.515|68.9178|0.956536|value:-14.1301\n",
      "1.01267|47.7358|47.1387|0.956536|value:-14.1301\n",
      "1.00779|67.3568|66.8363|0.949395|value:-10.621\n",
      "1.01498|35.2761|34.7556|0.949395|value:-10.6212\n"
     ]
    },
    {
     "name": "stderr",
     "output_type": "stream",
     "text": [
      "███████▏    72% | run step 7150/9999 "
     ]
    },
    {
     "name": "stdout",
     "output_type": "stream",
     "text": [
      "1.00926|44.1344|43.7296|0.938865|value:-6.89812\n",
      "1.01837|22.437|22.0323|0.938865|value:-6.89787\n"
     ]
    },
    {
     "name": "stderr",
     "output_type": "stream",
     "text": [
      "██████▉     70% | run step 6983/9999 "
     ]
    },
    {
     "name": "stdout",
     "output_type": "stream",
     "text": [
      "1.0004|647.851|647.595|0.999143|value:-944.046\n",
      "1.00099|876.733|875.863|0.998815|value:-964.315\n",
      "1.0002|2495.7|2495.19|0.998815|value:-761.593\n"
     ]
    },
    {
     "name": "stderr",
     "output_type": "stream",
     "text": [
      "███████▎    73% | run step 7336/9999 "
     ]
    },
    {
     "name": "stdout",
     "output_type": "stream",
     "text": [
      "1.00001|123215|123214|0.944004|value:-13.9129\n",
      "1.00001|123045|123044|0.944004|value:-19.269\n",
      "1.00001|122899|122898|0.944004|value:-14.0978\n"
     ]
    },
    {
     "name": "stderr",
     "output_type": "stream",
     "text": [
      "███████▎    73% | run step 7329/9999 "
     ]
    },
    {
     "name": "stdout",
     "output_type": "stream",
     "text": [
      "1|3.21921e+06|3.21921e+06|0.928348|value:-24.9594\n",
      "1|3.21948e+06|3.21948e+06|0.928348|value:-34.5184\n"
     ]
    },
    {
     "name": "stderr",
     "output_type": "stream",
     "text": [
      "███████▎    74% | run step 7350/9999 "
     ]
    },
    {
     "name": "stdout",
     "output_type": "stream",
     "text": [
      "1.00037|4719.95|4718.2|0.998146|value:-946.838\n"
     ]
    },
    {
     "name": "stderr",
     "output_type": "stream",
     "text": [
      "███████▎    74% | run step 7360/9999 "
     ]
    },
    {
     "name": "stdout",
     "output_type": "stream",
     "text": [
      "1.00003|24407.4|24406.7|0.998736|value:-579.889\n",
      "1.00158|459.242|458.517|0.998736|value:-633.408\n",
      "1.00131|744.537|743.561|0.998736|value:-831.734\n",
      "1.00132|549.71|548.983|0.998736|value:-633.542\n"
     ]
    },
    {
     "name": "stderr",
     "output_type": "stream",
     "text": [
      "███████▎    73% | run step 7274/9999 "
     ]
    },
    {
     "name": "stdout",
     "output_type": "stream",
     "text": [
      "1.00007|1664.9|1664.78|0.999025|value:-894.036\n"
     ]
    },
    {
     "name": "stderr",
     "output_type": "stream",
     "text": [
      "███████▍    75% | run step 7459/9999 "
     ]
    },
    {
     "name": "stdout",
     "output_type": "stream",
     "text": [
      "1.00043|2289.68|2288.71|0.998479|value:-680.609\n",
      "1.00018|2037.54|2037.18|0.998479|value:-469.897\n"
     ]
    },
    {
     "name": "stderr",
     "output_type": "stream",
     "text": [
      "▎            3% | run step 259/9999  "
     ]
    },
    {
     "name": "stdout",
     "output_type": "stream",
     "text": [
      "1.00036|712.367|712.109|0.990505|value:-73.0157\n"
     ]
    },
    {
     "name": "stderr",
     "output_type": "stream",
     "text": [
      "███████▌    75% | run step 7516/9999 "
     ]
    },
    {
     "name": "stdout",
     "output_type": "stream",
     "text": [
      "1.0003|2171.48|2170.82|0.994536|value:-126.17\n",
      "1.0012|729.718|728.844|0.994536|value:-167.668\n",
      "1.00065|958.277|957.65|0.994536|value:-125.757\n"
     ]
    },
    {
     "name": "stderr",
     "output_type": "stream",
     "text": [
      "███████▌    75% | run step 7537/9999 "
     ]
    },
    {
     "name": "stdout",
     "output_type": "stream",
     "text": [
      "1|3.42692e+06|3.42692e+06|0.991091|value:-218.415\n"
     ]
    },
    {
     "name": "stderr",
     "output_type": "stream",
     "text": [
      "███████▉    79% | run step 7906/9999 "
     ]
    },
    {
     "name": "stdout",
     "output_type": "stream",
     "text": [
      "1.00042|1230.01|1229.5|0.999317|value:-1174.86\n",
      "1.00031|2062.88|2062.23|0.999317|value:-1563.88\n",
      "1.00014|5573.24|5572.48|0.999317|value:-1294.84\n"
     ]
    },
    {
     "name": "stderr",
     "output_type": "stream",
     "text": [
      "███████▋    77% | run step 7708/9999 "
     ]
    },
    {
     "name": "stdout",
     "output_type": "stream",
     "text": [
      "1.0002|1324.34|1324.08|0.998891|value:-579.766\n",
      "1.00023|1549.23|1548.87|0.998891|value:-794.62\n"
     ]
    },
    {
     "name": "stderr",
     "output_type": "stream",
     "text": [
      "▌            6% | run step 571/9999  "
     ]
    },
    {
     "name": "stdout",
     "output_type": "stream",
     "text": [
      "1.00028|1697.62|1697.14|0.998854|value:-731.456\n",
      "1.00059|1263.26|1262.52|0.998854|value:-974.973\n",
      "1.00169|279.502|279.032|0.998854|value:-728.791\n"
     ]
    },
    {
     "name": "stderr",
     "output_type": "stream",
     "text": [
      "████████▎   83% | run step 8319/9999 "
     ]
    },
    {
     "name": "stdout",
     "output_type": "stream",
     "text": [
      "1.00003|8076.84|8076.57|0.99759|value:-238.416\n"
     ]
    },
    {
     "name": "stderr",
     "output_type": "stream",
     "text": [
      "███████▊    78% | run step 7752/9999 "
     ]
    },
    {
     "name": "stdout",
     "output_type": "stream",
     "text": [
      "1|4.22191e+06|4.22191e+06|0.994548|value:-459.982\n"
     ]
    },
    {
     "name": "stderr",
     "output_type": "stream",
     "text": [
      "███████▉    79% | run step 7934/9999 "
     ]
    },
    {
     "name": "stdout",
     "output_type": "stream",
     "text": [
      "1.00071|1829.85|1828.56|0.999401|value:-2285.12\n"
     ]
    },
    {
     "name": "stderr",
     "output_type": "stream",
     "text": [
      "██████████ 100% | Simulation finished in 24:15 "
     ]
    }
   ],
   "source": [
    "from dask.distributed import Client\n",
    "if('client' in locals()):\n",
    "    if(isinstance(client,Client)):\n",
    "        client.close()\n",
    "client = Client(n_workers=6, threads_per_worker=1)  \n",
    "\n",
    "\n",
    "zg = zarr.group(\"rift_lake_evaporation_2.zarr\", overwrite=True)\n",
    "with model,xs.monitoring.ProgressBar():\n",
    "    out_ds = ds_in.xsimlab.run(store = zg, batch_dim='batch', parallel=True, scheduler=client)\n",
    "#     out_ds = ds_in.xsimlab.run(store = zg)\n",
    "#     out_ds = mod1.xsimlab.run()  \n",
    "out_ds.x.values[0] = 0\n",
    "out_ds.y.values[0] = 0\n",
    "# out_ds[\"topolake\"] = out_ds[\"Topography__topography\"] + out_ds[\"Lake__lake_depth\"]"
   ]
  },
  {
   "cell_type": "code",
   "execution_count": 10,
   "id": "97762137-e2a9-4462-aa9d-38889f577933",
   "metadata": {
    "tags": []
   },
   "outputs": [
    {
     "data": {
      "application/vnd.jupyter.widget-view+json": {
       "model_id": "1a310956954842bfb6ccf582d7348702",
       "version_major": 2,
       "version_minor": 0
      },
      "text/plain": [
       "Output(layout=Layout(height='640px'))"
      ]
     },
     "metadata": {},
     "output_type": "display_data"
    }
   ],
   "source": [
    "from ipyfastscape import TopoViz3d\n",
    "\n",
    "\n",
    "\n",
    "# app = TopoViz3d(out_ds, canvas_height=600, time_dim=\"otime\", elevation_var = \"Topography__topography\" )\n",
    "app = TopoViz3d(out_ds, canvas_height=600, time_dim=\"otime\", elevation_var = \"Lake__topolake\" )\n",
    "\n",
    "app.show()"
   ]
  },
  {
   "cell_type": "code",
   "execution_count": null,
   "id": "a6a7e462-fa25-4735-a178-5428fb528d5c",
   "metadata": {},
   "outputs": [],
   "source": [
    "#np.save(\"initial_topo_100_100.npy\", out_ds.Topography__topography.values[-1])\n",
    "# np.save(\"sed4testHS_CHONK.npy\", out_ds.Topography__sed_height.sel({'otime':1.001e6}, method=\"nearest\").values)\n",
    "# np.save(\"sed4testtopo_CHONK.npy\", out_ds.Topography__topography.sel({'otime':1.001e6}, method=\"nearest\").values)"
   ]
  },
  {
   "cell_type": "code",
   "execution_count": null,
   "id": "3a7fc54d-c9b8-4a8a-af2b-57d2931e4b9d",
   "metadata": {},
   "outputs": [],
   "source": [
    "fig,ax = plt.subplots()\n",
    "ax.plot(out_ds.time.values, out_ds.sel({'batch':1}).Flow__water_balance_checker.values)\n",
    "# ax.plot(out_ds.time.values, np.abs(out_ds.Flow__water_balance_checker.values))\n",
    "ax.set_yscale('log')"
   ]
  },
  {
   "cell_type": "code",
   "execution_count": null,
   "id": "d2b21909-a150-450e-87b1-c9b36f7b32ce",
   "metadata": {},
   "outputs": [],
   "source": [
    "fig, ax = plt.subplots()\n",
    "cb = ax.imshow(np.log10(out_ds[\"Flow__Qw\"].sel({'batch':1, 'otime':9900000}).values), cmap = \"Blues\")\n",
    "plt.colorbar(cb)"
   ]
  },
  {
   "cell_type": "code",
   "execution_count": 12,
   "id": "fa563c71-8398-4b64-9507-a8670d3dc5d2",
   "metadata": {},
   "outputs": [
    {
     "data": {
      "application/vnd.jupyter.widget-view+json": {
       "model_id": "54333b63ecbb44e49615827028066336",
       "version_major": 2,
       "version_minor": 0
      },
      "text/plain": [
       "Canvas(toolbar=Toolbar(toolitems=[('Home', 'Reset original view', 'home', 'home'), ('Back', 'Back to previous …"
      ]
     },
     "metadata": {},
     "output_type": "display_data"
    },
    {
     "name": "stderr",
     "output_type": "stream",
     "text": [
      "/var/folders/t0/7zf23f454vn3_kkgrbf4c1500000gp/T/ipykernel_21417/2536336896.py:61: UserWarning: Tight layout not applied. tight_layout cannot make axes height small enough to accommodate all axes decorations\n",
      "  plt.tight_layout()\n"
     ]
    }
   ],
   "source": [
    "import matplotlib.gridspec as gridspec\n",
    "import xarray as xr\n",
    "import matplotlib\n",
    "%matplotlib widget\n",
    "\n",
    "font = {'family' : 'Helvetica Neue',\n",
    "        'weight' : 'normal',\n",
    "        'size'   : 16}\n",
    "\n",
    "matplotlib.rc('font', **font)\n",
    "\n",
    "out_ds = xr.open_zarr(\"rift_lake_evaporation_2.zarr/\")\n",
    "out_ds.x.values[0] = 0\n",
    "out_ds.y.values[0] = 0\n",
    "\n",
    "tout_ds = out_ds.sel({\"batch\":3})\n",
    "# tout_ds = xr.open_zarr(\"rift_lake_tracking.zarr\")\n",
    "\n",
    "zumzumN = tout_ds.ChonkBase__Q_sout_lab_N.sum(dim = ['x'])\n",
    "zumzumS = tout_ds.ChonkBase__Q_sout_lab_S.sum(dim = ['x'])\n",
    "\n",
    "A = zumzumN.sel({'n_labels':0})\n",
    "B = A + zumzumN.sel({'n_labels':1})\n",
    "C = zumzumS.sel({'n_labels':0})\n",
    "D = C + zumzumS.sel({'n_labels':1})\n",
    "\n",
    "plt.close('all')\n",
    "\n",
    "\n",
    "fig =  plt.figure(constrained_layout=False, figsize = (12,8))\n",
    "\n",
    "grid = gridspec.GridSpec(100, 1, wspace=0, hspace=0)\n",
    "\n",
    "ax1,ax2 = fig.add_subplot(grid[0:80, 0]),fig.add_subplot(grid[80:, 0])\n",
    "\n",
    "ax1.fill_between(tout_ds.otime, 0,A, lw = 0, color = '#bdbdbd', label = \"From the Southern half\")\n",
    "ax1.fill_between(tout_ds.otime, A, B, lw = 0, color = '#474747', label = \"From the Northern Half\")\n",
    "\n",
    "ax2.fill_between(tout_ds.otime, 0,C, lw = 0, color = '#bdbdbd', label = \"S label 0\")\n",
    "ax2.fill_between(tout_ds.otime, C,D, lw = 0, color = '#474747', label = \"S label 1\")\n",
    "\n",
    "ax1.legend(loc = 'upper left')\n",
    "\n",
    "whylim = [0,150000]\n",
    "whylim2 = [0,150000/0.8 * 0.2]\n",
    "ax2.set_ylim(whylim2)\n",
    "ax1.set_ylim(whylim)\n",
    "ax2.invert_yaxis()\n",
    "\n",
    "ax1.get_yaxis().set_label_coords(-0.1,0.55)\n",
    "ax2.get_yaxis().set_label_coords(-0.1,0.7)\n",
    "\n",
    "ax1.grid(ls = '--', color = 'k', lw = 1, alpha = 0.6) \n",
    "ax2.grid(ls = '--', color = 'k', lw = 1, alpha = 0.6) \n",
    "\n",
    "ax2.set_xlabel(\"Time (yrs)\")\n",
    "ax2.set_ylabel(r\"$Q_s$ [out to the S] ($m^3/yrs$)\")\n",
    "ax1.set_ylabel(r\"$Q_s$ [out to the N] ($m^3/yrs$)\")\n",
    "# ax.plot(out_ds.otime, zumzumN, lw = 1, color = 'k')\n",
    "# ax.plot(out_ds.otime, zumzumS, lw = 1, color = 'r')\n",
    "plt.tight_layout()\n"
   ]
  },
  {
   "cell_type": "code",
   "execution_count": null,
   "id": "0bcac1a7-38b8-474e-ab3e-876b26d23f60",
   "metadata": {},
   "outputs": [],
   "source": []
  },
  {
   "cell_type": "code",
   "execution_count": 13,
   "id": "1761961a-3e0e-40bc-aa81-1af6b8be23a8",
   "metadata": {
    "collapsed": true,
    "jupyter": {
     "outputs_hidden": true
    },
    "tags": []
   },
   "outputs": [
    {
     "data": {
      "application/vnd.jupyter.widget-view+json": {
       "model_id": "01f73d4ed5824e4e8ae0e100b948312a",
       "version_major": 2,
       "version_minor": 0
      },
      "text/plain": [
       "  0%|          | 0/500 [00:00<?, ?it/s]"
      ]
     },
     "metadata": {},
     "output_type": "display_data"
    },
    {
     "name": "stderr",
     "output_type": "stream",
     "text": [
      "distributed.utils_perf - WARNING - full garbage collections took 11% CPU time recently (threshold: 10%)\n",
      "distributed.utils_perf - WARNING - full garbage collections took 12% CPU time recently (threshold: 10%)\n",
      "distributed.utils_perf - WARNING - full garbage collections took 12% CPU time recently (threshold: 10%)\n",
      "distributed.utils_perf - WARNING - full garbage collections took 12% CPU time recently (threshold: 10%)\n",
      "distributed.utils_perf - WARNING - full garbage collections took 12% CPU time recently (threshold: 10%)\n",
      "distributed.utils_perf - WARNING - full garbage collections took 12% CPU time recently (threshold: 10%)\n",
      "distributed.utils_perf - WARNING - full garbage collections took 12% CPU time recently (threshold: 10%)\n",
      "distributed.utils_perf - WARNING - full garbage collections took 12% CPU time recently (threshold: 10%)\n",
      "distributed.utils_perf - WARNING - full garbage collections took 12% CPU time recently (threshold: 10%)\n",
      "distributed.utils_perf - WARNING - full garbage collections took 12% CPU time recently (threshold: 10%)\n",
      "distributed.utils_perf - WARNING - full garbage collections took 12% CPU time recently (threshold: 10%)\n",
      "distributed.utils_perf - WARNING - full garbage collections took 12% CPU time recently (threshold: 10%)\n",
      "distributed.utils_perf - WARNING - full garbage collections took 12% CPU time recently (threshold: 10%)\n",
      "distributed.utils_perf - WARNING - full garbage collections took 12% CPU time recently (threshold: 10%)\n",
      "distributed.utils_perf - WARNING - full garbage collections took 12% CPU time recently (threshold: 10%)\n",
      "distributed.utils_perf - WARNING - full garbage collections took 12% CPU time recently (threshold: 10%)\n",
      "distributed.utils_perf - WARNING - full garbage collections took 12% CPU time recently (threshold: 10%)\n",
      "distributed.utils_perf - WARNING - full garbage collections took 12% CPU time recently (threshold: 10%)\n",
      "distributed.utils_perf - WARNING - full garbage collections took 12% CPU time recently (threshold: 10%)\n",
      "distributed.utils_perf - WARNING - full garbage collections took 12% CPU time recently (threshold: 10%)\n",
      "distributed.utils_perf - WARNING - full garbage collections took 12% CPU time recently (threshold: 10%)\n",
      "distributed.utils_perf - WARNING - full garbage collections took 12% CPU time recently (threshold: 10%)\n",
      "distributed.utils_perf - WARNING - full garbage collections took 12% CPU time recently (threshold: 10%)\n",
      "distributed.utils_perf - WARNING - full garbage collections took 12% CPU time recently (threshold: 10%)\n",
      "distributed.utils_perf - WARNING - full garbage collections took 12% CPU time recently (threshold: 10%)\n",
      "distributed.utils_perf - WARNING - full garbage collections took 12% CPU time recently (threshold: 10%)\n",
      "distributed.utils_perf - WARNING - full garbage collections took 12% CPU time recently (threshold: 10%)\n",
      "distributed.utils_perf - WARNING - full garbage collections took 12% CPU time recently (threshold: 10%)\n",
      "distributed.utils_perf - WARNING - full garbage collections took 12% CPU time recently (threshold: 10%)\n",
      "distributed.utils_perf - WARNING - full garbage collections took 12% CPU time recently (threshold: 10%)\n",
      "distributed.utils_perf - WARNING - full garbage collections took 12% CPU time recently (threshold: 10%)\n",
      "distributed.utils_perf - WARNING - full garbage collections took 12% CPU time recently (threshold: 10%)\n",
      "distributed.utils_perf - WARNING - full garbage collections took 12% CPU time recently (threshold: 10%)\n",
      "distributed.utils_perf - WARNING - full garbage collections took 12% CPU time recently (threshold: 10%)\n",
      "distributed.utils_perf - WARNING - full garbage collections took 12% CPU time recently (threshold: 10%)\n",
      "distributed.utils_perf - WARNING - full garbage collections took 12% CPU time recently (threshold: 10%)\n",
      "distributed.utils_perf - WARNING - full garbage collections took 12% CPU time recently (threshold: 10%)\n",
      "distributed.utils_perf - WARNING - full garbage collections took 12% CPU time recently (threshold: 10%)\n",
      "distributed.utils_perf - WARNING - full garbage collections took 12% CPU time recently (threshold: 10%)\n",
      "distributed.utils_perf - WARNING - full garbage collections took 12% CPU time recently (threshold: 10%)\n",
      "distributed.utils_perf - WARNING - full garbage collections took 12% CPU time recently (threshold: 10%)\n",
      "distributed.utils_perf - WARNING - full garbage collections took 12% CPU time recently (threshold: 10%)\n",
      "distributed.utils_perf - WARNING - full garbage collections took 12% CPU time recently (threshold: 10%)\n",
      "distributed.utils_perf - WARNING - full garbage collections took 12% CPU time recently (threshold: 10%)\n",
      "distributed.utils_perf - WARNING - full garbage collections took 12% CPU time recently (threshold: 10%)\n",
      "distributed.utils_perf - WARNING - full garbage collections took 12% CPU time recently (threshold: 10%)\n",
      "distributed.utils_perf - WARNING - full garbage collections took 12% CPU time recently (threshold: 10%)\n",
      "distributed.utils_perf - WARNING - full garbage collections took 12% CPU time recently (threshold: 10%)\n",
      "distributed.utils_perf - WARNING - full garbage collections took 12% CPU time recently (threshold: 10%)\n",
      "distributed.utils_perf - WARNING - full garbage collections took 12% CPU time recently (threshold: 10%)\n",
      "distributed.utils_perf - WARNING - full garbage collections took 12% CPU time recently (threshold: 10%)\n",
      "distributed.utils_perf - WARNING - full garbage collections took 12% CPU time recently (threshold: 10%)\n",
      "distributed.utils_perf - WARNING - full garbage collections took 12% CPU time recently (threshold: 10%)\n",
      "distributed.utils_perf - WARNING - full garbage collections took 13% CPU time recently (threshold: 10%)\n",
      "distributed.utils_perf - WARNING - full garbage collections took 13% CPU time recently (threshold: 10%)\n",
      "distributed.utils_perf - WARNING - full garbage collections took 13% CPU time recently (threshold: 10%)\n",
      "distributed.utils_perf - WARNING - full garbage collections took 13% CPU time recently (threshold: 10%)\n",
      "distributed.utils_perf - WARNING - full garbage collections took 13% CPU time recently (threshold: 10%)\n",
      "distributed.utils_perf - WARNING - full garbage collections took 13% CPU time recently (threshold: 10%)\n",
      "distributed.utils_perf - WARNING - full garbage collections took 13% CPU time recently (threshold: 10%)\n",
      "distributed.utils_perf - WARNING - full garbage collections took 13% CPU time recently (threshold: 10%)\n",
      "distributed.utils_perf - WARNING - full garbage collections took 13% CPU time recently (threshold: 10%)\n",
      "distributed.utils_perf - WARNING - full garbage collections took 13% CPU time recently (threshold: 10%)\n",
      "distributed.utils_perf - WARNING - full garbage collections took 13% CPU time recently (threshold: 10%)\n",
      "distributed.utils_perf - WARNING - full garbage collections took 13% CPU time recently (threshold: 10%)\n",
      "distributed.utils_perf - WARNING - full garbage collections took 13% CPU time recently (threshold: 10%)\n",
      "distributed.utils_perf - WARNING - full garbage collections took 13% CPU time recently (threshold: 10%)\n",
      "distributed.utils_perf - WARNING - full garbage collections took 13% CPU time recently (threshold: 10%)\n",
      "distributed.utils_perf - WARNING - full garbage collections took 13% CPU time recently (threshold: 10%)\n",
      "distributed.utils_perf - WARNING - full garbage collections took 13% CPU time recently (threshold: 10%)\n",
      "distributed.utils_perf - WARNING - full garbage collections took 13% CPU time recently (threshold: 10%)\n",
      "distributed.utils_perf - WARNING - full garbage collections took 13% CPU time recently (threshold: 10%)\n",
      "distributed.utils_perf - WARNING - full garbage collections took 13% CPU time recently (threshold: 10%)\n",
      "distributed.utils_perf - WARNING - full garbage collections took 13% CPU time recently (threshold: 10%)\n",
      "distributed.utils_perf - WARNING - full garbage collections took 13% CPU time recently (threshold: 10%)\n",
      "distributed.utils_perf - WARNING - full garbage collections took 13% CPU time recently (threshold: 10%)\n",
      "distributed.utils_perf - WARNING - full garbage collections took 13% CPU time recently (threshold: 10%)\n",
      "distributed.utils_perf - WARNING - full garbage collections took 13% CPU time recently (threshold: 10%)\n",
      "distributed.utils_perf - WARNING - full garbage collections took 13% CPU time recently (threshold: 10%)\n",
      "distributed.utils_perf - WARNING - full garbage collections took 13% CPU time recently (threshold: 10%)\n",
      "distributed.utils_perf - WARNING - full garbage collections took 13% CPU time recently (threshold: 10%)\n",
      "distributed.utils_perf - WARNING - full garbage collections took 13% CPU time recently (threshold: 10%)\n",
      "distributed.utils_perf - WARNING - full garbage collections took 13% CPU time recently (threshold: 10%)\n",
      "distributed.utils_perf - WARNING - full garbage collections took 13% CPU time recently (threshold: 10%)\n",
      "distributed.utils_perf - WARNING - full garbage collections took 13% CPU time recently (threshold: 10%)\n",
      "distributed.utils_perf - WARNING - full garbage collections took 13% CPU time recently (threshold: 10%)\n",
      "distributed.utils_perf - WARNING - full garbage collections took 13% CPU time recently (threshold: 10%)\n",
      "distributed.utils_perf - WARNING - full garbage collections took 13% CPU time recently (threshold: 10%)\n",
      "distributed.utils_perf - WARNING - full garbage collections took 13% CPU time recently (threshold: 10%)\n",
      "distributed.utils_perf - WARNING - full garbage collections took 13% CPU time recently (threshold: 10%)\n",
      "distributed.utils_perf - WARNING - full garbage collections took 13% CPU time recently (threshold: 10%)\n",
      "distributed.utils_perf - WARNING - full garbage collections took 13% CPU time recently (threshold: 10%)\n",
      "distributed.utils_perf - WARNING - full garbage collections took 13% CPU time recently (threshold: 10%)\n",
      "distributed.utils_perf - WARNING - full garbage collections took 13% CPU time recently (threshold: 10%)\n",
      "distributed.utils_perf - WARNING - full garbage collections took 13% CPU time recently (threshold: 10%)\n",
      "distributed.utils_perf - WARNING - full garbage collections took 13% CPU time recently (threshold: 10%)\n",
      "distributed.utils_perf - WARNING - full garbage collections took 13% CPU time recently (threshold: 10%)\n",
      "distributed.utils_perf - WARNING - full garbage collections took 13% CPU time recently (threshold: 10%)\n",
      "distributed.utils_perf - WARNING - full garbage collections took 13% CPU time recently (threshold: 10%)\n",
      "distributed.utils_perf - WARNING - full garbage collections took 13% CPU time recently (threshold: 10%)\n",
      "distributed.utils_perf - WARNING - full garbage collections took 13% CPU time recently (threshold: 10%)\n",
      "distributed.utils_perf - WARNING - full garbage collections took 13% CPU time recently (threshold: 10%)\n",
      "distributed.utils_perf - WARNING - full garbage collections took 13% CPU time recently (threshold: 10%)\n",
      "distributed.utils_perf - WARNING - full garbage collections took 13% CPU time recently (threshold: 10%)\n",
      "distributed.utils_perf - WARNING - full garbage collections took 13% CPU time recently (threshold: 10%)\n",
      "distributed.utils_perf - WARNING - full garbage collections took 13% CPU time recently (threshold: 10%)\n",
      "distributed.utils_perf - WARNING - full garbage collections took 13% CPU time recently (threshold: 10%)\n",
      "distributed.utils_perf - WARNING - full garbage collections took 13% CPU time recently (threshold: 10%)\n",
      "distributed.utils_perf - WARNING - full garbage collections took 13% CPU time recently (threshold: 10%)\n",
      "distributed.utils_perf - WARNING - full garbage collections took 13% CPU time recently (threshold: 10%)\n",
      "distributed.utils_perf - WARNING - full garbage collections took 13% CPU time recently (threshold: 10%)\n",
      "distributed.utils_perf - WARNING - full garbage collections took 13% CPU time recently (threshold: 10%)\n",
      "distributed.utils_perf - WARNING - full garbage collections took 13% CPU time recently (threshold: 10%)\n",
      "distributed.utils_perf - WARNING - full garbage collections took 13% CPU time recently (threshold: 10%)\n",
      "distributed.utils_perf - WARNING - full garbage collections took 13% CPU time recently (threshold: 10%)\n",
      "distributed.utils_perf - WARNING - full garbage collections took 13% CPU time recently (threshold: 10%)\n",
      "distributed.utils_perf - WARNING - full garbage collections took 13% CPU time recently (threshold: 10%)\n",
      "distributed.utils_perf - WARNING - full garbage collections took 13% CPU time recently (threshold: 10%)\n",
      "distributed.utils_perf - WARNING - full garbage collections took 13% CPU time recently (threshold: 10%)\n",
      "distributed.utils_perf - WARNING - full garbage collections took 13% CPU time recently (threshold: 10%)\n",
      "distributed.utils_perf - WARNING - full garbage collections took 13% CPU time recently (threshold: 10%)\n",
      "distributed.utils_perf - WARNING - full garbage collections took 13% CPU time recently (threshold: 10%)\n",
      "distributed.utils_perf - WARNING - full garbage collections took 13% CPU time recently (threshold: 10%)\n",
      "distributed.utils_perf - WARNING - full garbage collections took 13% CPU time recently (threshold: 10%)\n",
      "distributed.utils_perf - WARNING - full garbage collections took 13% CPU time recently (threshold: 10%)\n",
      "distributed.utils_perf - WARNING - full garbage collections took 13% CPU time recently (threshold: 10%)\n",
      "distributed.utils_perf - WARNING - full garbage collections took 13% CPU time recently (threshold: 10%)\n",
      "distributed.utils_perf - WARNING - full garbage collections took 13% CPU time recently (threshold: 10%)\n",
      "distributed.utils_perf - WARNING - full garbage collections took 13% CPU time recently (threshold: 10%)\n",
      "distributed.utils_perf - WARNING - full garbage collections took 13% CPU time recently (threshold: 10%)\n",
      "distributed.utils_perf - WARNING - full garbage collections took 13% CPU time recently (threshold: 10%)\n",
      "distributed.utils_perf - WARNING - full garbage collections took 13% CPU time recently (threshold: 10%)\n",
      "distributed.utils_perf - WARNING - full garbage collections took 14% CPU time recently (threshold: 10%)\n",
      "distributed.utils_perf - WARNING - full garbage collections took 13% CPU time recently (threshold: 10%)\n",
      "distributed.utils_perf - WARNING - full garbage collections took 14% CPU time recently (threshold: 10%)\n",
      "distributed.utils_perf - WARNING - full garbage collections took 13% CPU time recently (threshold: 10%)\n",
      "distributed.utils_perf - WARNING - full garbage collections took 14% CPU time recently (threshold: 10%)\n",
      "distributed.utils_perf - WARNING - full garbage collections took 14% CPU time recently (threshold: 10%)\n",
      "distributed.utils_perf - WARNING - full garbage collections took 14% CPU time recently (threshold: 10%)\n",
      "distributed.utils_perf - WARNING - full garbage collections took 13% CPU time recently (threshold: 10%)\n",
      "distributed.utils_perf - WARNING - full garbage collections took 13% CPU time recently (threshold: 10%)\n",
      "distributed.utils_perf - WARNING - full garbage collections took 13% CPU time recently (threshold: 10%)\n",
      "distributed.utils_perf - WARNING - full garbage collections took 13% CPU time recently (threshold: 10%)\n",
      "distributed.utils_perf - WARNING - full garbage collections took 13% CPU time recently (threshold: 10%)\n",
      "distributed.utils_perf - WARNING - full garbage collections took 13% CPU time recently (threshold: 10%)\n",
      "distributed.utils_perf - WARNING - full garbage collections took 13% CPU time recently (threshold: 10%)\n",
      "distributed.utils_perf - WARNING - full garbage collections took 13% CPU time recently (threshold: 10%)\n",
      "distributed.utils_perf - WARNING - full garbage collections took 13% CPU time recently (threshold: 10%)\n",
      "distributed.utils_perf - WARNING - full garbage collections took 14% CPU time recently (threshold: 10%)\n",
      "distributed.utils_perf - WARNING - full garbage collections took 13% CPU time recently (threshold: 10%)\n",
      "distributed.utils_perf - WARNING - full garbage collections took 13% CPU time recently (threshold: 10%)\n",
      "distributed.utils_perf - WARNING - full garbage collections took 13% CPU time recently (threshold: 10%)\n",
      "distributed.utils_perf - WARNING - full garbage collections took 13% CPU time recently (threshold: 10%)\n",
      "distributed.utils_perf - WARNING - full garbage collections took 13% CPU time recently (threshold: 10%)\n",
      "distributed.utils_perf - WARNING - full garbage collections took 13% CPU time recently (threshold: 10%)\n",
      "distributed.utils_perf - WARNING - full garbage collections took 13% CPU time recently (threshold: 10%)\n",
      "distributed.utils_perf - WARNING - full garbage collections took 13% CPU time recently (threshold: 10%)\n",
      "distributed.utils_perf - WARNING - full garbage collections took 13% CPU time recently (threshold: 10%)\n",
      "distributed.utils_perf - WARNING - full garbage collections took 13% CPU time recently (threshold: 10%)\n",
      "distributed.utils_perf - WARNING - full garbage collections took 13% CPU time recently (threshold: 10%)\n",
      "distributed.utils_perf - WARNING - full garbage collections took 13% CPU time recently (threshold: 10%)\n",
      "distributed.utils_perf - WARNING - full garbage collections took 13% CPU time recently (threshold: 10%)\n",
      "distributed.utils_perf - WARNING - full garbage collections took 13% CPU time recently (threshold: 10%)\n",
      "distributed.utils_perf - WARNING - full garbage collections took 13% CPU time recently (threshold: 10%)\n",
      "distributed.utils_perf - WARNING - full garbage collections took 13% CPU time recently (threshold: 10%)\n",
      "distributed.utils_perf - WARNING - full garbage collections took 13% CPU time recently (threshold: 10%)\n",
      "distributed.utils_perf - WARNING - full garbage collections took 13% CPU time recently (threshold: 10%)\n",
      "distributed.utils_perf - WARNING - full garbage collections took 13% CPU time recently (threshold: 10%)\n",
      "distributed.utils_perf - WARNING - full garbage collections took 13% CPU time recently (threshold: 10%)\n",
      "distributed.utils_perf - WARNING - full garbage collections took 13% CPU time recently (threshold: 10%)\n",
      "distributed.utils_perf - WARNING - full garbage collections took 13% CPU time recently (threshold: 10%)\n",
      "distributed.utils_perf - WARNING - full garbage collections took 13% CPU time recently (threshold: 10%)\n",
      "distributed.utils_perf - WARNING - full garbage collections took 13% CPU time recently (threshold: 10%)\n",
      "distributed.utils_perf - WARNING - full garbage collections took 13% CPU time recently (threshold: 10%)\n",
      "distributed.utils_perf - WARNING - full garbage collections took 13% CPU time recently (threshold: 10%)\n",
      "distributed.utils_perf - WARNING - full garbage collections took 13% CPU time recently (threshold: 10%)\n",
      "distributed.utils_perf - WARNING - full garbage collections took 13% CPU time recently (threshold: 10%)\n",
      "distributed.utils_perf - WARNING - full garbage collections took 13% CPU time recently (threshold: 10%)\n",
      "distributed.utils_perf - WARNING - full garbage collections took 13% CPU time recently (threshold: 10%)\n",
      "distributed.utils_perf - WARNING - full garbage collections took 13% CPU time recently (threshold: 10%)\n",
      "distributed.utils_perf - WARNING - full garbage collections took 13% CPU time recently (threshold: 10%)\n",
      "distributed.utils_perf - WARNING - full garbage collections took 13% CPU time recently (threshold: 10%)\n",
      "distributed.utils_perf - WARNING - full garbage collections took 13% CPU time recently (threshold: 10%)\n",
      "distributed.utils_perf - WARNING - full garbage collections took 13% CPU time recently (threshold: 10%)\n",
      "distributed.utils_perf - WARNING - full garbage collections took 13% CPU time recently (threshold: 10%)\n",
      "distributed.utils_perf - WARNING - full garbage collections took 13% CPU time recently (threshold: 10%)\n",
      "distributed.utils_perf - WARNING - full garbage collections took 13% CPU time recently (threshold: 10%)\n",
      "distributed.utils_perf - WARNING - full garbage collections took 13% CPU time recently (threshold: 10%)\n",
      "distributed.utils_perf - WARNING - full garbage collections took 13% CPU time recently (threshold: 10%)\n",
      "distributed.utils_perf - WARNING - full garbage collections took 14% CPU time recently (threshold: 10%)\n",
      "distributed.utils_perf - WARNING - full garbage collections took 13% CPU time recently (threshold: 10%)\n",
      "distributed.utils_perf - WARNING - full garbage collections took 14% CPU time recently (threshold: 10%)\n",
      "distributed.utils_perf - WARNING - full garbage collections took 14% CPU time recently (threshold: 10%)\n",
      "distributed.utils_perf - WARNING - full garbage collections took 14% CPU time recently (threshold: 10%)\n",
      "distributed.utils_perf - WARNING - full garbage collections took 14% CPU time recently (threshold: 10%)\n",
      "distributed.utils_perf - WARNING - full garbage collections took 14% CPU time recently (threshold: 10%)\n",
      "distributed.utils_perf - WARNING - full garbage collections took 14% CPU time recently (threshold: 10%)\n",
      "distributed.utils_perf - WARNING - full garbage collections took 14% CPU time recently (threshold: 10%)\n",
      "distributed.utils_perf - WARNING - full garbage collections took 14% CPU time recently (threshold: 10%)\n",
      "distributed.utils_perf - WARNING - full garbage collections took 14% CPU time recently (threshold: 10%)\n",
      "distributed.utils_perf - WARNING - full garbage collections took 14% CPU time recently (threshold: 10%)\n",
      "distributed.utils_perf - WARNING - full garbage collections took 14% CPU time recently (threshold: 10%)\n",
      "distributed.utils_perf - WARNING - full garbage collections took 14% CPU time recently (threshold: 10%)\n",
      "distributed.utils_perf - WARNING - full garbage collections took 14% CPU time recently (threshold: 10%)\n",
      "distributed.utils_perf - WARNING - full garbage collections took 14% CPU time recently (threshold: 10%)\n",
      "distributed.utils_perf - WARNING - full garbage collections took 14% CPU time recently (threshold: 10%)\n",
      "distributed.utils_perf - WARNING - full garbage collections took 14% CPU time recently (threshold: 10%)\n",
      "distributed.utils_perf - WARNING - full garbage collections took 14% CPU time recently (threshold: 10%)\n",
      "distributed.utils_perf - WARNING - full garbage collections took 14% CPU time recently (threshold: 10%)\n",
      "distributed.utils_perf - WARNING - full garbage collections took 14% CPU time recently (threshold: 10%)\n",
      "distributed.utils_perf - WARNING - full garbage collections took 14% CPU time recently (threshold: 10%)\n",
      "distributed.utils_perf - WARNING - full garbage collections took 14% CPU time recently (threshold: 10%)\n",
      "distributed.utils_perf - WARNING - full garbage collections took 14% CPU time recently (threshold: 10%)\n",
      "distributed.utils_perf - WARNING - full garbage collections took 14% CPU time recently (threshold: 10%)\n",
      "distributed.utils_perf - WARNING - full garbage collections took 14% CPU time recently (threshold: 10%)\n",
      "distributed.utils_perf - WARNING - full garbage collections took 14% CPU time recently (threshold: 10%)\n",
      "distributed.utils_perf - WARNING - full garbage collections took 14% CPU time recently (threshold: 10%)\n",
      "distributed.utils_perf - WARNING - full garbage collections took 14% CPU time recently (threshold: 10%)\n",
      "distributed.utils_perf - WARNING - full garbage collections took 14% CPU time recently (threshold: 10%)\n",
      "distributed.utils_perf - WARNING - full garbage collections took 14% CPU time recently (threshold: 10%)\n",
      "distributed.utils_perf - WARNING - full garbage collections took 14% CPU time recently (threshold: 10%)\n",
      "distributed.utils_perf - WARNING - full garbage collections took 14% CPU time recently (threshold: 10%)\n",
      "distributed.utils_perf - WARNING - full garbage collections took 14% CPU time recently (threshold: 10%)\n",
      "distributed.utils_perf - WARNING - full garbage collections took 14% CPU time recently (threshold: 10%)\n",
      "distributed.utils_perf - WARNING - full garbage collections took 14% CPU time recently (threshold: 10%)\n",
      "distributed.utils_perf - WARNING - full garbage collections took 14% CPU time recently (threshold: 10%)\n",
      "distributed.utils_perf - WARNING - full garbage collections took 15% CPU time recently (threshold: 10%)\n",
      "distributed.utils_perf - WARNING - full garbage collections took 15% CPU time recently (threshold: 10%)\n",
      "distributed.utils_perf - WARNING - full garbage collections took 15% CPU time recently (threshold: 10%)\n",
      "distributed.utils_perf - WARNING - full garbage collections took 15% CPU time recently (threshold: 10%)\n",
      "distributed.utils_perf - WARNING - full garbage collections took 15% CPU time recently (threshold: 10%)\n",
      "distributed.utils_perf - WARNING - full garbage collections took 15% CPU time recently (threshold: 10%)\n",
      "distributed.utils_perf - WARNING - full garbage collections took 15% CPU time recently (threshold: 10%)\n",
      "distributed.utils_perf - WARNING - full garbage collections took 15% CPU time recently (threshold: 10%)\n",
      "distributed.utils_perf - WARNING - full garbage collections took 15% CPU time recently (threshold: 10%)\n",
      "distributed.utils_perf - WARNING - full garbage collections took 15% CPU time recently (threshold: 10%)\n",
      "distributed.utils_perf - WARNING - full garbage collections took 15% CPU time recently (threshold: 10%)\n",
      "distributed.utils_perf - WARNING - full garbage collections took 15% CPU time recently (threshold: 10%)\n",
      "distributed.utils_perf - WARNING - full garbage collections took 15% CPU time recently (threshold: 10%)\n",
      "distributed.utils_perf - WARNING - full garbage collections took 15% CPU time recently (threshold: 10%)\n",
      "distributed.utils_perf - WARNING - full garbage collections took 15% CPU time recently (threshold: 10%)\n",
      "distributed.utils_perf - WARNING - full garbage collections took 15% CPU time recently (threshold: 10%)\n",
      "distributed.utils_perf - WARNING - full garbage collections took 15% CPU time recently (threshold: 10%)\n",
      "distributed.utils_perf - WARNING - full garbage collections took 15% CPU time recently (threshold: 10%)\n",
      "distributed.utils_perf - WARNING - full garbage collections took 15% CPU time recently (threshold: 10%)\n",
      "distributed.utils_perf - WARNING - full garbage collections took 15% CPU time recently (threshold: 10%)\n",
      "distributed.utils_perf - WARNING - full garbage collections took 15% CPU time recently (threshold: 10%)\n",
      "distributed.utils_perf - WARNING - full garbage collections took 15% CPU time recently (threshold: 10%)\n",
      "distributed.utils_perf - WARNING - full garbage collections took 15% CPU time recently (threshold: 10%)\n",
      "distributed.utils_perf - WARNING - full garbage collections took 15% CPU time recently (threshold: 10%)\n",
      "distributed.utils_perf - WARNING - full garbage collections took 15% CPU time recently (threshold: 10%)\n",
      "distributed.utils_perf - WARNING - full garbage collections took 15% CPU time recently (threshold: 10%)\n",
      "distributed.utils_perf - WARNING - full garbage collections took 15% CPU time recently (threshold: 10%)\n",
      "distributed.utils_perf - WARNING - full garbage collections took 15% CPU time recently (threshold: 10%)\n",
      "distributed.utils_perf - WARNING - full garbage collections took 15% CPU time recently (threshold: 10%)\n",
      "distributed.utils_perf - WARNING - full garbage collections took 15% CPU time recently (threshold: 10%)\n",
      "distributed.utils_perf - WARNING - full garbage collections took 15% CPU time recently (threshold: 10%)\n",
      "distributed.utils_perf - WARNING - full garbage collections took 15% CPU time recently (threshold: 10%)\n",
      "distributed.utils_perf - WARNING - full garbage collections took 15% CPU time recently (threshold: 10%)\n",
      "distributed.utils_perf - WARNING - full garbage collections took 15% CPU time recently (threshold: 10%)\n",
      "distributed.utils_perf - WARNING - full garbage collections took 15% CPU time recently (threshold: 10%)\n",
      "distributed.utils_perf - WARNING - full garbage collections took 15% CPU time recently (threshold: 10%)\n",
      "distributed.utils_perf - WARNING - full garbage collections took 15% CPU time recently (threshold: 10%)\n",
      "distributed.utils_perf - WARNING - full garbage collections took 15% CPU time recently (threshold: 10%)\n",
      "distributed.utils_perf - WARNING - full garbage collections took 15% CPU time recently (threshold: 10%)\n",
      "distributed.utils_perf - WARNING - full garbage collections took 15% CPU time recently (threshold: 10%)\n",
      "distributed.utils_perf - WARNING - full garbage collections took 15% CPU time recently (threshold: 10%)\n",
      "distributed.utils_perf - WARNING - full garbage collections took 15% CPU time recently (threshold: 10%)\n",
      "distributed.utils_perf - WARNING - full garbage collections took 15% CPU time recently (threshold: 10%)\n",
      "distributed.utils_perf - WARNING - full garbage collections took 15% CPU time recently (threshold: 10%)\n",
      "distributed.utils_perf - WARNING - full garbage collections took 15% CPU time recently (threshold: 10%)\n",
      "distributed.utils_perf - WARNING - full garbage collections took 15% CPU time recently (threshold: 10%)\n",
      "distributed.utils_perf - WARNING - full garbage collections took 15% CPU time recently (threshold: 10%)\n",
      "distributed.utils_perf - WARNING - full garbage collections took 15% CPU time recently (threshold: 10%)\n",
      "distributed.utils_perf - WARNING - full garbage collections took 15% CPU time recently (threshold: 10%)\n",
      "distributed.utils_perf - WARNING - full garbage collections took 15% CPU time recently (threshold: 10%)\n",
      "distributed.utils_perf - WARNING - full garbage collections took 15% CPU time recently (threshold: 10%)\n",
      "distributed.utils_perf - WARNING - full garbage collections took 15% CPU time recently (threshold: 10%)\n",
      "distributed.utils_perf - WARNING - full garbage collections took 15% CPU time recently (threshold: 10%)\n",
      "distributed.utils_perf - WARNING - full garbage collections took 15% CPU time recently (threshold: 10%)\n",
      "distributed.utils_perf - WARNING - full garbage collections took 15% CPU time recently (threshold: 10%)\n",
      "distributed.utils_perf - WARNING - full garbage collections took 16% CPU time recently (threshold: 10%)\n",
      "distributed.utils_perf - WARNING - full garbage collections took 15% CPU time recently (threshold: 10%)\n",
      "distributed.utils_perf - WARNING - full garbage collections took 15% CPU time recently (threshold: 10%)\n",
      "distributed.utils_perf - WARNING - full garbage collections took 15% CPU time recently (threshold: 10%)\n",
      "distributed.utils_perf - WARNING - full garbage collections took 16% CPU time recently (threshold: 10%)\n",
      "distributed.utils_perf - WARNING - full garbage collections took 16% CPU time recently (threshold: 10%)\n",
      "distributed.utils_perf - WARNING - full garbage collections took 15% CPU time recently (threshold: 10%)\n",
      "distributed.utils_perf - WARNING - full garbage collections took 16% CPU time recently (threshold: 10%)\n",
      "distributed.utils_perf - WARNING - full garbage collections took 16% CPU time recently (threshold: 10%)\n",
      "distributed.utils_perf - WARNING - full garbage collections took 16% CPU time recently (threshold: 10%)\n",
      "distributed.utils_perf - WARNING - full garbage collections took 16% CPU time recently (threshold: 10%)\n",
      "distributed.utils_perf - WARNING - full garbage collections took 16% CPU time recently (threshold: 10%)\n",
      "distributed.utils_perf - WARNING - full garbage collections took 16% CPU time recently (threshold: 10%)\n",
      "distributed.utils_perf - WARNING - full garbage collections took 16% CPU time recently (threshold: 10%)\n",
      "distributed.utils_perf - WARNING - full garbage collections took 16% CPU time recently (threshold: 10%)\n",
      "distributed.utils_perf - WARNING - full garbage collections took 16% CPU time recently (threshold: 10%)\n",
      "distributed.utils_perf - WARNING - full garbage collections took 16% CPU time recently (threshold: 10%)\n",
      "distributed.utils_perf - WARNING - full garbage collections took 16% CPU time recently (threshold: 10%)\n",
      "distributed.utils_perf - WARNING - full garbage collections took 16% CPU time recently (threshold: 10%)\n",
      "distributed.utils_perf - WARNING - full garbage collections took 16% CPU time recently (threshold: 10%)\n",
      "distributed.utils_perf - WARNING - full garbage collections took 16% CPU time recently (threshold: 10%)\n",
      "distributed.utils_perf - WARNING - full garbage collections took 16% CPU time recently (threshold: 10%)\n",
      "distributed.utils_perf - WARNING - full garbage collections took 16% CPU time recently (threshold: 10%)\n",
      "distributed.utils_perf - WARNING - full garbage collections took 16% CPU time recently (threshold: 10%)\n",
      "distributed.utils_perf - WARNING - full garbage collections took 16% CPU time recently (threshold: 10%)\n",
      "distributed.utils_perf - WARNING - full garbage collections took 16% CPU time recently (threshold: 10%)\n",
      "distributed.utils_perf - WARNING - full garbage collections took 16% CPU time recently (threshold: 10%)\n",
      "distributed.utils_perf - WARNING - full garbage collections took 16% CPU time recently (threshold: 10%)\n",
      "distributed.scheduler - ERROR - Couldn't gather keys {\"('getitem-7b85786fa1f8d4a55f03dea3df91d1a3', 2)\": [], \"('getitem-7b85786fa1f8d4a55f03dea3df91d1a3', 1)\": [], \"('getitem-7b85786fa1f8d4a55f03dea3df91d1a3', 3)\": [], \"('getitem-7b85786fa1f8d4a55f03dea3df91d1a3', 0)\": []} state: ['waiting', 'waiting', 'waiting', 'waiting'] workers: []\n",
      "NoneType: None\n",
      "distributed.scheduler - ERROR - Workers don't have promised key: [], ('getitem-7b85786fa1f8d4a55f03dea3df91d1a3', 2)\n",
      "NoneType: None\n",
      "distributed.scheduler - ERROR - Workers don't have promised key: [], ('getitem-7b85786fa1f8d4a55f03dea3df91d1a3', 1)\n",
      "NoneType: None\n",
      "distributed.scheduler - ERROR - Workers don't have promised key: [], ('getitem-7b85786fa1f8d4a55f03dea3df91d1a3', 3)\n",
      "NoneType: None\n",
      "distributed.scheduler - ERROR - Workers don't have promised key: [], ('getitem-7b85786fa1f8d4a55f03dea3df91d1a3', 0)\n",
      "NoneType: None\n",
      "distributed.client - WARNING - Couldn't gather 4 keys, rescheduling {\"('getitem-7b85786fa1f8d4a55f03dea3df91d1a3', 2)\": (), \"('getitem-7b85786fa1f8d4a55f03dea3df91d1a3', 1)\": (), \"('getitem-7b85786fa1f8d4a55f03dea3df91d1a3', 3)\": (), \"('getitem-7b85786fa1f8d4a55f03dea3df91d1a3', 0)\": ()}\n",
      "distributed.utils_perf - WARNING - full garbage collections took 16% CPU time recently (threshold: 10%)\n",
      "distributed.utils_perf - WARNING - full garbage collections took 16% CPU time recently (threshold: 10%)\n",
      "distributed.utils_perf - WARNING - full garbage collections took 16% CPU time recently (threshold: 10%)\n",
      "distributed.utils_perf - WARNING - full garbage collections took 16% CPU time recently (threshold: 10%)\n",
      "distributed.utils_perf - WARNING - full garbage collections took 16% CPU time recently (threshold: 10%)\n",
      "distributed.utils_perf - WARNING - full garbage collections took 16% CPU time recently (threshold: 10%)\n",
      "distributed.utils_perf - WARNING - full garbage collections took 16% CPU time recently (threshold: 10%)\n",
      "distributed.utils_perf - WARNING - full garbage collections took 16% CPU time recently (threshold: 10%)\n",
      "distributed.utils_perf - WARNING - full garbage collections took 16% CPU time recently (threshold: 10%)\n",
      "distributed.utils_perf - WARNING - full garbage collections took 16% CPU time recently (threshold: 10%)\n",
      "distributed.utils_perf - WARNING - full garbage collections took 16% CPU time recently (threshold: 10%)\n",
      "distributed.utils_perf - WARNING - full garbage collections took 16% CPU time recently (threshold: 10%)\n",
      "distributed.utils_perf - WARNING - full garbage collections took 16% CPU time recently (threshold: 10%)\n",
      "distributed.utils_perf - WARNING - full garbage collections took 16% CPU time recently (threshold: 10%)\n",
      "distributed.utils_perf - WARNING - full garbage collections took 16% CPU time recently (threshold: 10%)\n",
      "distributed.utils_perf - WARNING - full garbage collections took 16% CPU time recently (threshold: 10%)\n",
      "distributed.utils_perf - WARNING - full garbage collections took 16% CPU time recently (threshold: 10%)\n",
      "distributed.utils_perf - WARNING - full garbage collections took 16% CPU time recently (threshold: 10%)\n",
      "distributed.utils_perf - WARNING - full garbage collections took 16% CPU time recently (threshold: 10%)\n",
      "distributed.utils_perf - WARNING - full garbage collections took 16% CPU time recently (threshold: 10%)\n",
      "distributed.utils_perf - WARNING - full garbage collections took 16% CPU time recently (threshold: 10%)\n",
      "distributed.utils_perf - WARNING - full garbage collections took 16% CPU time recently (threshold: 10%)\n",
      "distributed.utils_perf - WARNING - full garbage collections took 16% CPU time recently (threshold: 10%)\n",
      "distributed.utils_perf - WARNING - full garbage collections took 16% CPU time recently (threshold: 10%)\n",
      "distributed.utils_perf - WARNING - full garbage collections took 16% CPU time recently (threshold: 10%)\n",
      "distributed.utils_perf - WARNING - full garbage collections took 16% CPU time recently (threshold: 10%)\n",
      "distributed.utils_perf - WARNING - full garbage collections took 16% CPU time recently (threshold: 10%)\n",
      "distributed.utils_perf - WARNING - full garbage collections took 16% CPU time recently (threshold: 10%)\n",
      "distributed.utils_perf - WARNING - full garbage collections took 16% CPU time recently (threshold: 10%)\n",
      "distributed.utils_perf - WARNING - full garbage collections took 16% CPU time recently (threshold: 10%)\n",
      "distributed.utils_perf - WARNING - full garbage collections took 16% CPU time recently (threshold: 10%)\n",
      "distributed.utils_perf - WARNING - full garbage collections took 16% CPU time recently (threshold: 10%)\n",
      "distributed.utils_perf - WARNING - full garbage collections took 16% CPU time recently (threshold: 10%)\n",
      "distributed.utils_perf - WARNING - full garbage collections took 16% CPU time recently (threshold: 10%)\n",
      "distributed.utils_perf - WARNING - full garbage collections took 16% CPU time recently (threshold: 10%)\n",
      "distributed.utils_perf - WARNING - full garbage collections took 16% CPU time recently (threshold: 10%)\n",
      "distributed.utils_perf - WARNING - full garbage collections took 16% CPU time recently (threshold: 10%)\n",
      "distributed.utils_perf - WARNING - full garbage collections took 16% CPU time recently (threshold: 10%)\n",
      "distributed.utils_perf - WARNING - full garbage collections took 16% CPU time recently (threshold: 10%)\n",
      "distributed.utils_perf - WARNING - full garbage collections took 16% CPU time recently (threshold: 10%)\n",
      "distributed.utils_perf - WARNING - full garbage collections took 16% CPU time recently (threshold: 10%)\n",
      "distributed.utils_perf - WARNING - full garbage collections took 16% CPU time recently (threshold: 10%)\n",
      "distributed.utils_perf - WARNING - full garbage collections took 16% CPU time recently (threshold: 10%)\n",
      "distributed.utils_perf - WARNING - full garbage collections took 16% CPU time recently (threshold: 10%)\n",
      "distributed.utils_perf - WARNING - full garbage collections took 16% CPU time recently (threshold: 10%)\n",
      "distributed.utils_perf - WARNING - full garbage collections took 16% CPU time recently (threshold: 10%)\n",
      "distributed.utils_perf - WARNING - full garbage collections took 16% CPU time recently (threshold: 10%)\n",
      "distributed.utils_perf - WARNING - full garbage collections took 16% CPU time recently (threshold: 10%)\n",
      "distributed.utils_perf - WARNING - full garbage collections took 16% CPU time recently (threshold: 10%)\n",
      "distributed.utils_perf - WARNING - full garbage collections took 16% CPU time recently (threshold: 10%)\n",
      "distributed.utils_perf - WARNING - full garbage collections took 16% CPU time recently (threshold: 10%)\n",
      "distributed.utils_perf - WARNING - full garbage collections took 16% CPU time recently (threshold: 10%)\n",
      "distributed.utils_perf - WARNING - full garbage collections took 16% CPU time recently (threshold: 10%)\n",
      "distributed.utils_perf - WARNING - full garbage collections took 16% CPU time recently (threshold: 10%)\n",
      "distributed.utils_perf - WARNING - full garbage collections took 16% CPU time recently (threshold: 10%)\n",
      "distributed.utils_perf - WARNING - full garbage collections took 16% CPU time recently (threshold: 10%)\n",
      "distributed.utils_perf - WARNING - full garbage collections took 16% CPU time recently (threshold: 10%)\n",
      "distributed.utils_perf - WARNING - full garbage collections took 16% CPU time recently (threshold: 10%)\n",
      "distributed.utils_perf - WARNING - full garbage collections took 16% CPU time recently (threshold: 10%)\n",
      "distributed.utils_perf - WARNING - full garbage collections took 16% CPU time recently (threshold: 10%)\n",
      "distributed.utils_perf - WARNING - full garbage collections took 16% CPU time recently (threshold: 10%)\n",
      "distributed.utils_perf - WARNING - full garbage collections took 16% CPU time recently (threshold: 10%)\n",
      "distributed.utils_perf - WARNING - full garbage collections took 16% CPU time recently (threshold: 10%)\n",
      "distributed.utils_perf - WARNING - full garbage collections took 16% CPU time recently (threshold: 10%)\n",
      "distributed.utils_perf - WARNING - full garbage collections took 16% CPU time recently (threshold: 10%)\n",
      "distributed.utils_perf - WARNING - full garbage collections took 16% CPU time recently (threshold: 10%)\n",
      "distributed.utils_perf - WARNING - full garbage collections took 16% CPU time recently (threshold: 10%)\n",
      "distributed.utils_perf - WARNING - full garbage collections took 16% CPU time recently (threshold: 10%)\n",
      "distributed.utils_perf - WARNING - full garbage collections took 16% CPU time recently (threshold: 10%)\n",
      "distributed.utils_perf - WARNING - full garbage collections took 16% CPU time recently (threshold: 10%)\n",
      "distributed.utils_perf - WARNING - full garbage collections took 16% CPU time recently (threshold: 10%)\n",
      "distributed.utils_perf - WARNING - full garbage collections took 16% CPU time recently (threshold: 10%)\n",
      "distributed.utils_perf - WARNING - full garbage collections took 16% CPU time recently (threshold: 10%)\n",
      "distributed.utils_perf - WARNING - full garbage collections took 16% CPU time recently (threshold: 10%)\n",
      "distributed.utils_perf - WARNING - full garbage collections took 16% CPU time recently (threshold: 10%)\n",
      "distributed.utils_perf - WARNING - full garbage collections took 16% CPU time recently (threshold: 10%)\n",
      "distributed.utils_perf - WARNING - full garbage collections took 16% CPU time recently (threshold: 10%)\n",
      "distributed.utils_perf - WARNING - full garbage collections took 16% CPU time recently (threshold: 10%)\n",
      "distributed.utils_perf - WARNING - full garbage collections took 16% CPU time recently (threshold: 10%)\n",
      "distributed.utils_perf - WARNING - full garbage collections took 16% CPU time recently (threshold: 10%)\n",
      "distributed.utils_perf - WARNING - full garbage collections took 16% CPU time recently (threshold: 10%)\n",
      "distributed.utils_perf - WARNING - full garbage collections took 16% CPU time recently (threshold: 10%)\n",
      "distributed.utils_perf - WARNING - full garbage collections took 16% CPU time recently (threshold: 10%)\n",
      "distributed.utils_perf - WARNING - full garbage collections took 16% CPU time recently (threshold: 10%)\n",
      "distributed.utils_perf - WARNING - full garbage collections took 16% CPU time recently (threshold: 10%)\n",
      "distributed.utils_perf - WARNING - full garbage collections took 16% CPU time recently (threshold: 10%)\n",
      "distributed.utils_perf - WARNING - full garbage collections took 16% CPU time recently (threshold: 10%)\n",
      "distributed.utils_perf - WARNING - full garbage collections took 16% CPU time recently (threshold: 10%)\n",
      "distributed.utils_perf - WARNING - full garbage collections took 16% CPU time recently (threshold: 10%)\n",
      "distributed.utils_perf - WARNING - full garbage collections took 16% CPU time recently (threshold: 10%)\n",
      "distributed.utils_perf - WARNING - full garbage collections took 16% CPU time recently (threshold: 10%)\n",
      "distributed.utils_perf - WARNING - full garbage collections took 16% CPU time recently (threshold: 10%)\n",
      "distributed.utils_perf - WARNING - full garbage collections took 16% CPU time recently (threshold: 10%)\n",
      "distributed.utils_perf - WARNING - full garbage collections took 16% CPU time recently (threshold: 10%)\n",
      "distributed.utils_perf - WARNING - full garbage collections took 16% CPU time recently (threshold: 10%)\n",
      "distributed.utils_perf - WARNING - full garbage collections took 16% CPU time recently (threshold: 10%)\n",
      "distributed.utils_perf - WARNING - full garbage collections took 16% CPU time recently (threshold: 10%)\n",
      "distributed.utils_perf - WARNING - full garbage collections took 16% CPU time recently (threshold: 10%)\n",
      "distributed.utils_perf - WARNING - full garbage collections took 16% CPU time recently (threshold: 10%)\n",
      "distributed.utils_perf - WARNING - full garbage collections took 16% CPU time recently (threshold: 10%)\n",
      "distributed.utils_perf - WARNING - full garbage collections took 16% CPU time recently (threshold: 10%)\n",
      "distributed.utils_perf - WARNING - full garbage collections took 16% CPU time recently (threshold: 10%)\n",
      "distributed.utils_perf - WARNING - full garbage collections took 16% CPU time recently (threshold: 10%)\n",
      "distributed.utils_perf - WARNING - full garbage collections took 16% CPU time recently (threshold: 10%)\n",
      "distributed.utils_perf - WARNING - full garbage collections took 16% CPU time recently (threshold: 10%)\n",
      "distributed.utils_perf - WARNING - full garbage collections took 16% CPU time recently (threshold: 10%)\n",
      "distributed.utils_perf - WARNING - full garbage collections took 16% CPU time recently (threshold: 10%)\n",
      "distributed.utils_perf - WARNING - full garbage collections took 16% CPU time recently (threshold: 10%)\n",
      "distributed.utils_perf - WARNING - full garbage collections took 16% CPU time recently (threshold: 10%)\n",
      "distributed.utils_perf - WARNING - full garbage collections took 16% CPU time recently (threshold: 10%)\n",
      "distributed.utils_perf - WARNING - full garbage collections took 16% CPU time recently (threshold: 10%)\n",
      "distributed.utils_perf - WARNING - full garbage collections took 16% CPU time recently (threshold: 10%)\n",
      "distributed.utils_perf - WARNING - full garbage collections took 16% CPU time recently (threshold: 10%)\n",
      "distributed.utils_perf - WARNING - full garbage collections took 16% CPU time recently (threshold: 10%)\n",
      "distributed.utils_perf - WARNING - full garbage collections took 16% CPU time recently (threshold: 10%)\n",
      "distributed.utils_perf - WARNING - full garbage collections took 16% CPU time recently (threshold: 10%)\n",
      "distributed.utils_perf - WARNING - full garbage collections took 16% CPU time recently (threshold: 10%)\n",
      "distributed.utils_perf - WARNING - full garbage collections took 16% CPU time recently (threshold: 10%)\n",
      "distributed.utils_perf - WARNING - full garbage collections took 17% CPU time recently (threshold: 10%)\n",
      "distributed.utils_perf - WARNING - full garbage collections took 17% CPU time recently (threshold: 10%)\n",
      "distributed.utils_perf - WARNING - full garbage collections took 17% CPU time recently (threshold: 10%)\n",
      "distributed.utils_perf - WARNING - full garbage collections took 17% CPU time recently (threshold: 10%)\n",
      "distributed.utils_perf - WARNING - full garbage collections took 17% CPU time recently (threshold: 10%)\n",
      "distributed.utils_perf - WARNING - full garbage collections took 17% CPU time recently (threshold: 10%)\n",
      "distributed.utils_perf - WARNING - full garbage collections took 17% CPU time recently (threshold: 10%)\n",
      "distributed.utils_perf - WARNING - full garbage collections took 17% CPU time recently (threshold: 10%)\n",
      "distributed.utils_perf - WARNING - full garbage collections took 17% CPU time recently (threshold: 10%)\n",
      "distributed.utils_perf - WARNING - full garbage collections took 17% CPU time recently (threshold: 10%)\n",
      "distributed.utils_perf - WARNING - full garbage collections took 17% CPU time recently (threshold: 10%)\n",
      "distributed.utils_perf - WARNING - full garbage collections took 17% CPU time recently (threshold: 10%)\n",
      "distributed.utils_perf - WARNING - full garbage collections took 17% CPU time recently (threshold: 10%)\n",
      "distributed.utils_perf - WARNING - full garbage collections took 17% CPU time recently (threshold: 10%)\n",
      "distributed.utils_perf - WARNING - full garbage collections took 17% CPU time recently (threshold: 10%)\n",
      "distributed.utils_perf - WARNING - full garbage collections took 17% CPU time recently (threshold: 10%)\n",
      "distributed.utils_perf - WARNING - full garbage collections took 17% CPU time recently (threshold: 10%)\n",
      "distributed.utils_perf - WARNING - full garbage collections took 17% CPU time recently (threshold: 10%)\n",
      "distributed.utils_perf - WARNING - full garbage collections took 17% CPU time recently (threshold: 10%)\n",
      "distributed.utils_perf - WARNING - full garbage collections took 17% CPU time recently (threshold: 10%)\n",
      "distributed.utils_perf - WARNING - full garbage collections took 17% CPU time recently (threshold: 10%)\n",
      "distributed.utils_perf - WARNING - full garbage collections took 17% CPU time recently (threshold: 10%)\n",
      "distributed.utils_perf - WARNING - full garbage collections took 17% CPU time recently (threshold: 10%)\n",
      "distributed.utils_perf - WARNING - full garbage collections took 17% CPU time recently (threshold: 10%)\n",
      "distributed.utils_perf - WARNING - full garbage collections took 17% CPU time recently (threshold: 10%)\n",
      "distributed.utils_perf - WARNING - full garbage collections took 17% CPU time recently (threshold: 10%)\n",
      "distributed.utils_perf - WARNING - full garbage collections took 17% CPU time recently (threshold: 10%)\n",
      "distributed.utils_perf - WARNING - full garbage collections took 17% CPU time recently (threshold: 10%)\n",
      "distributed.utils_perf - WARNING - full garbage collections took 17% CPU time recently (threshold: 10%)\n",
      "distributed.utils_perf - WARNING - full garbage collections took 17% CPU time recently (threshold: 10%)\n",
      "distributed.utils_perf - WARNING - full garbage collections took 17% CPU time recently (threshold: 10%)\n",
      "distributed.utils_perf - WARNING - full garbage collections took 17% CPU time recently (threshold: 10%)\n",
      "distributed.utils_perf - WARNING - full garbage collections took 17% CPU time recently (threshold: 10%)\n",
      "distributed.utils_perf - WARNING - full garbage collections took 17% CPU time recently (threshold: 10%)\n",
      "distributed.utils_perf - WARNING - full garbage collections took 17% CPU time recently (threshold: 10%)\n",
      "distributed.utils_perf - WARNING - full garbage collections took 17% CPU time recently (threshold: 10%)\n",
      "distributed.utils_perf - WARNING - full garbage collections took 17% CPU time recently (threshold: 10%)\n",
      "distributed.utils_perf - WARNING - full garbage collections took 17% CPU time recently (threshold: 10%)\n",
      "distributed.utils_perf - WARNING - full garbage collections took 17% CPU time recently (threshold: 10%)\n",
      "distributed.utils_perf - WARNING - full garbage collections took 17% CPU time recently (threshold: 10%)\n",
      "distributed.utils_perf - WARNING - full garbage collections took 17% CPU time recently (threshold: 10%)\n",
      "distributed.utils_perf - WARNING - full garbage collections took 17% CPU time recently (threshold: 10%)\n",
      "distributed.utils_perf - WARNING - full garbage collections took 17% CPU time recently (threshold: 10%)\n",
      "distributed.utils_perf - WARNING - full garbage collections took 17% CPU time recently (threshold: 10%)\n"
     ]
    },
    {
     "name": "stdout",
     "output_type": "stream",
     "text": [
      "Movie created at rift_lake_explicit_evaporation_batch3.mp4\n",
      "GIF created at rift_lake_explicit_evaporation_batch3.gif\n"
     ]
    }
   ],
   "source": [
    "from importlib import reload  \n",
    "import plotter as pol\n",
    "import warnings;warnings.simplefilter('ignore')\n",
    "reload(pol)\n",
    "\n",
    "pol.anim_lake_cross_section(\n",
    "\tout_ds, # The input ds \n",
    "\tfname = \"rift_lake_explicit_evaporation_batch3\",\n",
    "\ttimedim = \"otime\", # the time dimension\n",
    "\tbatch_dim = 'batch',\n",
    "    batch_val = 3,\n",
    "\tcross_section_dir = 'x', # is the cross section in x or y direction\n",
    "\txy_cross_section = 10000, # coordinate on the other axis\n",
    "\tcolor_bedrock = 'gray', # color of the bedrock\n",
    "\tcolor_sediments = 'orange', # color of the bedrock\n",
    "\tcolor_water = 'blue', # color of the water\n",
    "\tz_min = 0, # minimum z on the cross_section, if left to none -> min of all\n",
    "\tz_max = 600, # max z on the cross_section, if left to none -> min of all\n",
    "\t# Map parameters\n",
    "\tcmap_elev = 'gist_earth', # cmap of the cross-section\n",
    "\talpha_hillshade = 0.5, # transparency of the hillshade\n",
    "    czmin = 0,\n",
    "    czmax = 600,\n",
    "    figsize = (12,4.5),\n",
    "    custom_tickszz = np.arange(0,21000,5000, dtype = np.int),\n",
    ")"
   ]
  },
  {
   "cell_type": "code",
   "execution_count": null,
   "id": "9a7a4106-ff51-4f7f-9ad3-e847d77c2ef8",
   "metadata": {},
   "outputs": [],
   "source": []
  },
  {
   "cell_type": "code",
   "execution_count": null,
   "id": "76fedd58-14d6-41cb-95da-0bc069dbd6ae",
   "metadata": {},
   "outputs": [],
   "source": []
  },
  {
   "cell_type": "code",
   "execution_count": null,
   "id": "688fb2e4-697b-4cff-a7b0-cb020fa9c9f9",
   "metadata": {},
   "outputs": [],
   "source": []
  },
  {
   "cell_type": "code",
   "execution_count": null,
   "id": "eff60486-1a99-42ad-853f-1cf0349cda62",
   "metadata": {},
   "outputs": [],
   "source": []
  },
  {
   "cell_type": "code",
   "execution_count": null,
   "id": "8b02c389-3c43-45e5-a84a-7e97e2cdcd7a",
   "metadata": {},
   "outputs": [],
   "source": []
  },
  {
   "cell_type": "code",
   "execution_count": 17,
   "id": "de85e8a9-fba6-479a-a714-40786b94f39e",
   "metadata": {},
   "outputs": [],
   "source": [
    "arr = np.random.rand(2,76)"
   ]
  },
  {
   "cell_type": "code",
   "execution_count": 18,
   "id": "14beadaa-adcd-43fc-b762-8517f9946087",
   "metadata": {},
   "outputs": [
    {
     "data": {
      "text/plain": [
       "(2, 76)"
      ]
     },
     "execution_count": 18,
     "metadata": {},
     "output_type": "execute_result"
    }
   ],
   "source": [
    "arr.shape"
   ]
  },
  {
   "cell_type": "code",
   "execution_count": 19,
   "id": "3e026da1-547c-4dbb-bdf2-e6eca8ec279d",
   "metadata": {},
   "outputs": [],
   "source": [
    "arr = np.array([[0,0], [1,-1], [2,-2]])"
   ]
  },
  {
   "cell_type": "code",
   "execution_count": 31,
   "id": "1bc5ceae-1b3f-4981-adee-e9e41b6f5be9",
   "metadata": {},
   "outputs": [
    {
     "data": {
      "text/plain": [
       "array([0, 0, 1, 2])"
      ]
     },
     "execution_count": 31,
     "metadata": {},
     "output_type": "execute_result"
    }
   ],
   "source": [
    "arr.ravel()[np.where(arr.ravel() >= 0 )]"
   ]
  },
  {
   "cell_type": "code",
   "execution_count": 61,
   "id": "ee284ca6-cc2c-4f40-868a-6f1466489732",
   "metadata": {},
   "outputs": [
    {
     "data": {
      "text/plain": [
       "(2, 500)"
      ]
     },
     "execution_count": 61,
     "metadata": {},
     "output_type": "execute_result"
    }
   ],
   "source": [
    "arr = np.vstack([np.arange(500), np.arange(500)])\n",
    "arr.shape"
   ]
  },
  {
   "cell_type": "code",
   "execution_count": 62,
   "id": "459f57e4-96ff-4dcf-8c48-61a944332883",
   "metadata": {},
   "outputs": [
    {
     "ename": "IndexError",
     "evalue": "too many indices for array: array is 2-dimensional, but 3 were indexed",
     "output_type": "error",
     "traceback": [
      "\u001b[0;31m---------------------------------------------------------------------------\u001b[0m",
      "\u001b[0;31mIndexError\u001b[0m                                Traceback (most recent call last)",
      "\u001b[0;32m/var/folders/t0/7zf23f454vn3_kkgrbf4c1500000gp/T/ipykernel_20354/2393178513.py\u001b[0m in \u001b[0;36m<module>\u001b[0;34m\u001b[0m\n\u001b[0;32m----> 1\u001b[0;31m \u001b[0marr\u001b[0m\u001b[0;34m[\u001b[0m\u001b[0;34m:\u001b[0m\u001b[0;34m,\u001b[0m\u001b[0mnp\u001b[0m\u001b[0;34m.\u001b[0m\u001b[0mlogical_and\u001b[0m\u001b[0;34m(\u001b[0m\u001b[0marr\u001b[0m\u001b[0;34m[\u001b[0m\u001b[0;36m1\u001b[0m\u001b[0;34m,\u001b[0m\u001b[0;34m:\u001b[0m\u001b[0;34m]\u001b[0m \u001b[0;34m<\u001b[0m \u001b[0;36m200\u001b[0m \u001b[0;34m,\u001b[0m \u001b[0marr\u001b[0m\u001b[0;34m[\u001b[0m\u001b[0;36m1\u001b[0m\u001b[0;34m:\u001b[0m\u001b[0;34m,\u001b[0m\u001b[0;34m]\u001b[0m \u001b[0;34m>\u001b[0m \u001b[0;36m150\u001b[0m\u001b[0;34m)\u001b[0m \u001b[0;34m]\u001b[0m\u001b[0;34m\u001b[0m\u001b[0;34m\u001b[0m\u001b[0m\n\u001b[0m",
      "\u001b[0;31mIndexError\u001b[0m: too many indices for array: array is 2-dimensional, but 3 were indexed"
     ]
    }
   ],
   "source": [
    "arr[:, ]"
   ]
  },
  {
   "cell_type": "code",
   "execution_count": 64,
   "id": "267f62aa-dacf-4ae6-b6be-cec586541577",
   "metadata": {},
   "outputs": [
    {
     "data": {
      "text/plain": [
       "array([False, False, False, False, False, False, False, False, False,\n",
       "       False, False, False, False, False, False, False, False, False,\n",
       "       False, False, False, False, False, False, False, False, False,\n",
       "       False, False, False, False, False, False, False, False, False,\n",
       "       False, False, False, False, False, False, False, False, False,\n",
       "       False, False, False, False, False, False, False, False, False,\n",
       "       False, False, False, False, False, False, False, False, False,\n",
       "       False, False, False, False, False, False, False, False, False,\n",
       "       False, False, False, False, False, False, False, False, False,\n",
       "       False, False, False, False, False, False, False, False, False,\n",
       "       False, False, False, False, False, False, False, False, False,\n",
       "       False, False, False, False, False, False, False, False, False,\n",
       "       False, False, False, False, False, False, False, False, False,\n",
       "       False, False, False, False, False, False, False, False, False,\n",
       "       False, False, False, False, False, False, False, False, False,\n",
       "       False, False, False, False, False, False, False, False, False,\n",
       "       False, False, False, False, False, False, False,  True,  True,\n",
       "        True,  True,  True,  True,  True,  True,  True,  True,  True,\n",
       "        True,  True,  True,  True,  True,  True,  True,  True,  True,\n",
       "        True,  True,  True,  True,  True,  True,  True,  True,  True,\n",
       "        True,  True,  True,  True,  True,  True,  True,  True,  True,\n",
       "        True,  True,  True,  True,  True,  True,  True,  True,  True,\n",
       "        True,  True, False, False, False, False, False, False, False,\n",
       "       False, False, False, False, False, False, False, False, False,\n",
       "       False, False, False, False, False, False, False, False, False,\n",
       "       False, False, False, False, False, False, False, False, False,\n",
       "       False, False, False, False, False, False, False, False, False,\n",
       "       False, False, False, False, False, False, False, False, False,\n",
       "       False, False, False, False, False, False, False, False, False,\n",
       "       False, False, False, False, False, False, False, False, False,\n",
       "       False, False, False, False, False, False, False, False, False,\n",
       "       False, False, False, False, False, False, False, False, False,\n",
       "       False, False, False, False, False, False, False, False, False,\n",
       "       False, False, False, False, False, False, False, False, False,\n",
       "       False, False, False, False, False, False, False, False, False,\n",
       "       False, False, False, False, False, False, False, False, False,\n",
       "       False, False, False, False, False, False, False, False, False,\n",
       "       False, False, False, False, False, False, False, False, False,\n",
       "       False, False, False, False, False, False, False, False, False,\n",
       "       False, False, False, False, False, False, False, False, False,\n",
       "       False, False, False, False, False, False, False, False, False,\n",
       "       False, False, False, False, False, False, False, False, False,\n",
       "       False, False, False, False, False, False, False, False, False,\n",
       "       False, False, False, False, False, False, False, False, False,\n",
       "       False, False, False, False, False, False, False, False, False,\n",
       "       False, False, False, False, False, False, False, False, False,\n",
       "       False, False, False, False, False, False, False, False, False,\n",
       "       False, False, False, False, False, False, False, False, False,\n",
       "       False, False, False, False, False, False, False, False, False,\n",
       "       False, False, False, False, False, False, False, False, False,\n",
       "       False, False, False, False, False, False, False, False, False,\n",
       "       False, False, False, False, False, False, False, False, False,\n",
       "       False, False, False, False, False, False, False, False, False,\n",
       "       False, False, False, False, False, False, False, False, False,\n",
       "       False, False, False, False, False, False, False, False, False,\n",
       "       False, False, False, False, False])"
      ]
     },
     "execution_count": 64,
     "metadata": {},
     "output_type": "execute_result"
    }
   ],
   "source": [
    "np.logical_and(arr[1,:] < 200 , arr[1,:] > 150)"
   ]
  },
  {
   "cell_type": "code",
   "execution_count": null,
   "id": "09acdbe7-473b-4ea8-b8b3-78204a1fc384",
   "metadata": {},
   "outputs": [],
   "source": []
  }
 ],
 "metadata": {
  "kernelspec": {
   "display_name": "Python 3 (ipykernel)",
   "language": "python",
   "name": "python3"
  },
  "language_info": {
   "codemirror_mode": {
    "name": "ipython",
    "version": 3
   },
   "file_extension": ".py",
   "mimetype": "text/x-python",
   "name": "python",
   "nbconvert_exporter": "python",
   "pygments_lexer": "ipython3",
   "version": "3.8.8"
  }
 },
 "nbformat": 4,
 "nbformat_minor": 5
}
