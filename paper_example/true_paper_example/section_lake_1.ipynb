{
 "cells": [
  {
   "cell_type": "code",
   "execution_count": 3,
   "id": "fe828eef-ee33-4352-a35e-a5a3aa7164de",
   "metadata": {},
   "outputs": [
    {
     "name": "stdout",
     "output_type": "stream",
     "text": [
      "The xsimlab.ipython extension is already loaded. To reload it, use:\n",
      "  %reload_ext xsimlab.ipython\n"
     ]
    },
    {
     "data": {
      "text/plain": [
       "(200, 3)"
      ]
     },
     "execution_count": 3,
     "metadata": {},
     "output_type": "execute_result"
    }
   ],
   "source": [
    "import numpy as np\n",
    "import CHONK_XL as chxl\n",
    "import matplotlib.pyplot as plt\n",
    "from IPython.display import display, Markdown, Latex\n",
    "import xsimlab as xs\n",
    "import CHONK_cpp as ch\n",
    "import zarr\n",
    "import helplotlib as hpl\n",
    "# import helper as H\n",
    "%matplotlib widget\n",
    "%load_ext xsimlab.ipython\n",
    "@xs.process\n",
    "class CustomParameters:\n",
    "\tlabel_array = xs.variable(intent = 'in', dims = ('y','x'))\n",
    "\tlabel_list = xs.any_object()\n",
    "\tCHONK = xs.foreign(chxl.ChonkBase, \"CHONK\")\n",
    "\tnx = xs.foreign(chxl.ChonkBase, \"nx\")\n",
    "\tny = xs.foreign(chxl.ChonkBase, \"ny\")\n",
    "\tdx = xs.foreign(chxl.ChonkBase, \"dx\")\n",
    "\tdy = xs.foreign(chxl.ChonkBase, \"dy\")\n",
    "\t\n",
    "\tactive_nodes = xs.foreign(chxl.ChonkBase, \"active_nodes\")\n",
    "\n",
    "\tdef initialize(self):\n",
    "\n",
    "#\t\t self.landscape.add_pluton( dimless_X = 0.6, dimless_Y = 0.3, half_width = 5000,  half_heigth = 3000)\n",
    "\t\tself.label_list = []\n",
    "\t\n",
    "\t\t# self.label_array = self.landscape.indices\n",
    "\n",
    "\t\tself.label_list.append(ch.label(0))\n",
    "\t\tself.label_list[-1].m = 0.45;\n",
    "\t\tself.label_list[-1].n = 1;\n",
    "\t\tself.label_list[-1].base_K = 2e-5;\n",
    "\t\tself.label_list[-1].Ks_modifyer = 1.2;\n",
    "\t\tself.label_list[-1].Kr_modifyer = 0.8;\n",
    "\t\tself.label_list[-1].dimless_roughness = 0.5;\n",
    "\t\tself.label_list[-1].V = 0.5;\n",
    "\t\tself.label_list[-1].dstar = 1;\n",
    "\t\tself.label_list[-1].threshold_incision = 0;\n",
    "\t\tself.label_list[-1].threshold_entrainment = 0;\n",
    "\t\tself.label_list[-1].kappa_base = 1e-4;\n",
    "\t\tself.label_list[-1].kappa_r_mod = 0.8;\n",
    "\t\tself.label_list[-1].kappa_s_mod = 1.2;\n",
    "\t\tself.label_list[-1].critical_slope = 0.57835;\n",
    "\t\tself.label_list[-1].sensitivity_tool_effect = 1;\n",
    "\n",
    "\t\tself.label_list.append(ch.label(1))\n",
    "\t\tself.label_list[-1].m = 0.45;\n",
    "\t\tself.label_list[-1].n = 1;\n",
    "\t\tself.label_list[-1].base_K = 2e-5;\n",
    "\t\tself.label_list[-1].Ks_modifyer = 1;\n",
    "\t\tself.label_list[-1].Kr_modifyer = 0.3;\n",
    "\t\tself.label_list[-1].dimless_roughness = 0.5;\n",
    "\t\tself.label_list[-1].V = 0.1;\n",
    "\t\tself.label_list[-1].dstar = 1;\n",
    "\t\tself.label_list[-1].threshold_incision = 0;\n",
    "\t\tself.label_list[-1].threshold_entrainment = 0;\n",
    "\t\tself.label_list[-1].kappa_base = 1e-4;\n",
    "\t\tself.label_list[-1].kappa_r_mod = 0.8;\n",
    "\t\tself.label_list[-1].kappa_s_mod = 1.2;\n",
    "\t\tself.label_list[-1].critical_slope = 0.57835;\n",
    "\t\tself.label_list[-1].sensitivity_tool_effect = 1;\n",
    "\n",
    "\t\tself.CHONK.initialise_label_list(self.label_list)\n",
    "\t\tself.CHONK.update_label_array(self.label_array.ravel())\n",
    "\n",
    "\n",
    "model = xs.Model({\"ChonkBase\": chxl.ChonkBase,\n",
    "                \"Runner\": chxl.Runner,\n",
    "                \"Topography\": chxl.Topography,\n",
    "#                 \"Uplift\": UpliftLandscapeStSt,\n",
    "#                 \"Uplift\": UpliftLandscape,\n",
    "                # \"Uplift\": UpliftLandscapeNF1,\n",
    "                \"Uplift\": chxl.Uplift,\n",
    "                \"Lake\": chxl.Lake,\n",
    "                \"Precipitation\": chxl.Precipitation,\n",
    "#                 \"DefaultParameters\": chxl.DefaultParameters,\n",
    "                \"Params\": CustomParameters,\n",
    "                \"Flow\": chxl.Flow,\n",
    "                \"Fluvial\": chxl.Fluvial,\n",
    "                \"Hillslope\": chxl.Hillslope\n",
    "            })\n",
    "\n",
    "ny,nx = 200,3\n",
    "dy,dx = 200,200\n",
    "time = np.arange(0,2e7,1000)\n",
    "otime = time[::100]\n",
    "\n",
    "init_z = np.random.rand(ny,nx)\n",
    "# U = np.zeros((ny,nx)) + 0.5e-3\n",
    "# # U[0:round(ny/3),:] = 0\n",
    "# # U[2 *round(ny/3):,:] = 0\n",
    "# U[round(ny/2):,:] = 0\n",
    "# U[0,:] = 0\n",
    "init_z[0,:] = 1200\n",
    "\n",
    "# init_z = np.load(\"SS_topolake.npy\")\n",
    "\n",
    "\n",
    "label_array = np.zeros((ny,nx), dtype = np.int32)\n",
    "# label_array[40:80,40:80] = 1\n",
    "\n",
    "\n",
    "\n",
    "label_array.shape\n"
   ]
  },
  {
   "cell_type": "code",
   "execution_count": 4,
   "id": "8faae8f5-844c-485a-89c7-2fe92fce8473",
   "metadata": {},
   "outputs": [
    {
     "data": {
      "text/plain": [
       "<matplotlib.image.AxesImage at 0x7f7f183028e0>"
      ]
     },
     "execution_count": 4,
     "metadata": {},
     "output_type": "execute_result"
    },
    {
     "data": {
      "application/vnd.jupyter.widget-view+json": {
       "model_id": "c83a3769c7374d8591d3f94f0643ee10",
       "version_major": 2,
       "version_minor": 0
      },
      "image/png": "[encoded data removed]",
      "text/html": [
       "\n",
       "            <div style=\"display: inline-block;\">\n",
       "                <div class=\"jupyter-widgets widget-label\" style=\"text-align: center;\">\n",
       "                    Figure\n",
       "                </div>\n",
       "                <img src='data:image/png;base64,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' width=640.0/>\n",
       "            </div>\n",
       "        "
      ],
      "text/plain": [
       "Canvas(toolbar=Toolbar(toolitems=[('Home', 'Reset original view', 'home', 'home'), ('Back', 'Back to previous …"
      ]
     },
     "metadata": {},
     "output_type": "display_data"
    }
   ],
   "source": [
    "# Uplift shape\n",
    "lU = np.zeros(ny)\n",
    "lU[1:140] = 1\n",
    "U = np.zeros((ny,nx))\n",
    "for i in range(nx):\n",
    "    U[:,i] = lU * 1e-3\n",
    "# U[:,:] = lU * 1e-3\n",
    "# U = np.rot90(U)[::-1]\n",
    "fig, ax = plt.subplots()\n",
    "ax.imshow(U)"
   ]
  },
  {
   "cell_type": "code",
   "execution_count": 5,
   "id": "f17eb517-eb33-4f41-86f5-ad5e7387026f",
   "metadata": {},
   "outputs": [],
   "source": [
    "# %create_setup model\n",
    "# import xsimlab as xs\n",
    "\n",
    "ds_in = xs.create_setup(\n",
    "    model=model,\n",
    "    clocks={\n",
    "        \"time\":time,\n",
    "        \"otime\":otime\n",
    "    },\n",
    "    master_clock=\"time\",\n",
    "    input_vars={\n",
    "        'ChonkBase__dx': dx,\n",
    "        'ChonkBase__dy': dy,\n",
    "        'ChonkBase__nx': nx,\n",
    "        'ChonkBase__ny': ny,\n",
    "        'ChonkBase__boundary_conditions': \"periodic_EW\",\n",
    "        'ChonkBase__depths_res_sed_proportions': 1,\n",
    "        'ChonkBase__n_depth_sed_tracking': 50,\n",
    "        'ChonkBase__strati_recorder': True,\n",
    "        'ChonkBase__path_strati': \"strati_lake\",\n",
    "        'ChonkBase__pref_strati': \"test1\",\n",
    "        'ChonkBase__create_folder_strati': False,\n",
    "        'Topography__initial_elevation': init_z,\n",
    "        'Topography__initial_carving': True,\n",
    "        'Uplift__uplift': U,\n",
    "        'Lake__method': \"implicit\",\n",
    "        'Lake__Aincision_threshold': False,\n",
    "        'Lake__evaporation': False,\n",
    "        'Lake__evaporation_rate': 1e-3,\n",
    "        'Precipitation__precipitation_rate': 1,\n",
    "        # 'Flow__threshold_single_flow': 1e12,\n",
    "        'Flow__threshold_single_flow': 1e-12,\n",
    "        'Params__label_array': label_array\n",
    "    },\n",
    "    output_vars=\n",
    "    {\n",
    "        'Topography__topography': 'otime',\n",
    "        'Topography__sed_height': 'otime',\n",
    "        'Flow__Qw': 'otime',\n",
    "        'Flow__water_balance_checker': 'time',\n",
    "        'Lake__lake_depth': 'otime',\n",
    "        'Fluvial__Qs': 'otime',\n",
    "        'Hillslope__Qs': 'otime',\n",
    "        'ChonkBase__strati': 'otime'\n",
    "    }\n",
    ")"
   ]
  },
  {
   "cell_type": "code",
   "execution_count": 6,
   "id": "d583ba67-0cec-4441-96fe-873eb9360d8b",
   "metadata": {},
   "outputs": [
    {
     "data": {
      "application/vnd.jupyter.widget-view+json": {
       "model_id": "44b82662aee54d368c4be23f7b022ea0",
       "version_major": 2,
       "version_minor": 0
      },
      "text/plain": [
       "             0% | initialize "
      ]
     },
     "metadata": {},
     "output_type": "display_data"
    }
   ],
   "source": [
    "zg = zarr.group(\"SS_section_lake.zarr\", overwrite=True)\n",
    "with model,xs.monitoring.ProgressBar():\n",
    "    out_ds = ds_in.xsimlab.run(store = zg)\n",
    "#     out_ds = mod1.xsimlab.run()  \n",
    "out_ds.x.values[0] = 0\n",
    "out_ds.y.values[0] = 0"
   ]
  },
  {
   "cell_type": "code",
   "execution_count": 7,
   "id": "a5ad32c2-bb01-4605-98a8-f7077048fc57",
   "metadata": {},
   "outputs": [
    {
     "data": {
      "application/vnd.jupyter.widget-view+json": {
       "model_id": "d582cfda455b4ce2b77c7da5fa0788fc",
       "version_major": 2,
       "version_minor": 0
      },
      "text/plain": [
       "Output(layout=Layout(height='640px'))"
      ]
     },
     "metadata": {},
     "output_type": "display_data"
    }
   ],
   "source": [
    "from ipyfastscape import TopoViz3d\n",
    "\n",
    "\n",
    "app = TopoViz3d(out_ds, canvas_height=600, time_dim=\"otime\", elevation_var = \"Topography__topography\" )\n",
    "\n",
    "app.show()"
   ]
  },
  {
   "cell_type": "code",
   "execution_count": null,
   "id": "9fcb6a90-fc79-4ffd-91d2-c599ea8d9a30",
   "metadata": {},
   "outputs": [],
   "source": [
    "# np.save(\"SS_topolake.npy\", out_ds.Topography__topography.values[-1])\n",
    "\n",
    "\n"
   ]
  },
  {
   "cell_type": "code",
   "execution_count": null,
   "id": "56fdad38-b913-4486-8dd9-174e8a62bff4",
   "metadata": {},
   "outputs": [],
   "source": []
  }
 ],
 "metadata": {
  "kernelspec": {
   "display_name": "Python 3 (ipykernel)",
   "language": "python",
   "name": "python3"
  },
  "language_info": {
   "codemirror_mode": {
    "name": "ipython",
    "version": 3
   },
   "file_extension": ".py",
   "mimetype": "text/x-python",
   "name": "python",
   "nbconvert_exporter": "python",
   "pygments_lexer": "ipython3",
   "version": "3.8.8"
  }
 },
 "nbformat": 4,
 "nbformat_minor": 5
}
