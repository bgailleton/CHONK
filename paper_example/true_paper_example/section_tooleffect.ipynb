{
 "cells": [
  {
   "cell_type": "code",
   "execution_count": 1,
   "id": "fe828eef-ee33-4352-a35e-a5a3aa7164de",
   "metadata": {},
   "outputs": [],
   "source": [
    "import numpy as np\n",
    "import CHONK_XL as chxl\n",
    "import matplotlib.pyplot as plt\n",
    "from IPython.display import display, Markdown, Latex\n",
    "import xsimlab as xs\n",
    "import CHONK_cpp as ch\n",
    "import zarr\n",
    "import helplotlib as hpl\n",
    "import xarray as xr\n",
    "from scipy.ndimage import gaussian_filter\n",
    "\n",
    "# import helper as H\n",
    "%matplotlib widget\n",
    "%load_ext xsimlab.ipython\n",
    "@xs.process\n",
    "class CustomParameters:\n",
    "\tlabel_array = xs.variable(intent = 'in', dims = ('y','x'))\n",
    "\tlabel_list = xs.any_object()\n",
    "\tCHONK = xs.foreign(chxl.ChonkBase, \"CHONK\")\n",
    "\tnx = xs.foreign(chxl.ChonkBase, \"nx\")\n",
    "\tny = xs.foreign(chxl.ChonkBase, \"ny\")\n",
    "\tdx = xs.foreign(chxl.ChonkBase, \"dx\")\n",
    "\tdy = xs.foreign(chxl.ChonkBase, \"dy\")\n",
    "\t\n",
    "\tactive_nodes = xs.foreign(chxl.ChonkBase, \"active_nodes\")\n",
    "\n",
    "\tdef initialize(self):\n",
    "\n",
    "#\t\t self.landscape.add_pluton( dimless_X = 0.6, dimless_Y = 0.3, half_width = 5000,  half_heigth = 3000)\n",
    "\t\tself.label_list = []\n",
    "\t\n",
    "\t\t# self.label_array = self.landscape.indices\n",
    "\n",
    "\t\tself.label_list.append(ch.label(0))\n",
    "\t\tself.label_list[-1].m = 0.45;\n",
    "\t\tself.label_list[-1].n = 1;\n",
    "\t\tself.label_list[-1].base_K = 1e-5;\n",
    "\t\tself.label_list[-1].Ks_modifyer = 1.2;\n",
    "\t\tself.label_list[-1].Kr_modifyer = 0.8;\n",
    "\t\tself.label_list[-1].dimless_roughness = 0.5;\n",
    "\t\tself.label_list[-1].V = 0.5;\n",
    "\t\tself.label_list[-1].dstar = 1;\n",
    "\t\tself.label_list[-1].threshold_incision = 0;\n",
    "\t\tself.label_list[-1].threshold_entrainment = 0;\n",
    "\t\tself.label_list[-1].kappa_base = 1e-4;\n",
    "\t\tself.label_list[-1].kappa_r_mod = 0.8;\n",
    "\t\tself.label_list[-1].kappa_s_mod = 1.2;\n",
    "\t\tself.label_list[-1].critical_slope = 0.57835;\n",
    "\t\tself.label_list[-1].sensitivity_tool_effect = 2.5;\n",
    "\n",
    "\t\tself.label_list.append(ch.label(1))\n",
    "\t\tself.label_list[-1].m = 0.45;\n",
    "\t\tself.label_list[-1].n = 1;\n",
    "\t\tself.label_list[-1].base_K = 1e-5;\n",
    "\t\tself.label_list[-1].Ks_modifyer = 0.8;\n",
    "\t\tself.label_list[-1].Kr_modifyer = 0.4;\n",
    "\t\tself.label_list[-1].dimless_roughness = 0.5;\n",
    "\t\tself.label_list[-1].V = 0.5;\n",
    "\t\tself.label_list[-1].dstar = 1;\n",
    "\t\tself.label_list[-1].threshold_incision = 0;\n",
    "\t\tself.label_list[-1].threshold_entrainment = 0;\n",
    "\t\tself.label_list[-1].kappa_base = 1e-4;\n",
    "\t\tself.label_list[-1].kappa_r_mod = 0.8;\n",
    "\t\tself.label_list[-1].kappa_s_mod = 1.2;\n",
    "\t\tself.label_list[-1].critical_slope = 0.6;\n",
    "\t\tself.label_list[-1].sensitivity_tool_effect = 1.5;\n",
    "\n",
    "\t\tself.CHONK.initialise_label_list(self.label_list)\n",
    "\t\tself.CHONK.update_label_array(self.label_array.ravel())\n",
    "\n",
    "@xs.process\n",
    "class UpliftRangeOld(chxl.Uplift):\n",
    "    timing = xs.variable()\n",
    "    intensity = xs.variable()\n",
    "    smoothing_iterations = xs.variable()\n",
    "    span = xs.variable(dims = 'minmax')\n",
    "    \n",
    "    uplift = xs.variable(dims=('y','x'), intent = 'inout')\n",
    "    \n",
    "    CHONK = xs.foreign(chxl.ChonkBase, \"CHONK\")\n",
    "    \n",
    "    \n",
    "    def initialize(self):\n",
    "        self.mod_done = False\n",
    "                                    \n",
    "    @xs.runtime(args=['step_delta','step_start'])\n",
    "    def run_step(self, dt, this_time):\n",
    "        # print (this_time)\n",
    "        if(self.mod_done == False and this_time >= self.timing):\n",
    "            toadd = np.zeros_like(self.uplift)\n",
    "            toadd[self.span[0]:self.span[1]] = self.intensity\n",
    "            toadd = gaussian_filter(toadd, self.smoothing_iterations)\n",
    "            self.uplift = self.uplift + toadd\n",
    "            self.mod_done = True\n",
    "        \n",
    "        self.CHONK.add_external_to_surface_elevation_tp1(self.uplift.ravel() * dt)\n",
    "        self.uplift_done = True\n",
    "        \n",
    "@xs.process\n",
    "class UpliftRange(chxl.Uplift): \n",
    "    pattern = xs.variable(dims=('y','x'), intent = 'inout')\n",
    "    uplift = xs.variable(dims=('y','x'), intent = 'out')\n",
    "    intensity = xs.variable()\n",
    "    \n",
    "    CHONK = xs.foreign(chxl.ChonkBase, \"CHONK\")\n",
    "    \n",
    "    \n",
    "    def initialize(self):\n",
    "        self.mod_done = False\n",
    "        self.uplift = self.pattern * self.intensity\n",
    "                                    \n",
    "    @xs.runtime(args=['step_delta','step_start'])\n",
    "    def run_step(self, dt, this_time):\n",
    "        \n",
    "        self.CHONK.add_external_to_surface_elevation_tp1(self.uplift.ravel() * dt)\n",
    "        self.uplift_done = True\n",
    " \n",
    "\n",
    "\n",
    "model = xs.Model({\"ChonkBase\": chxl.ChonkBase,\n",
    "                \"Runner\": chxl.Runner,\n",
    "                \"Topography\": chxl.Topography,\n",
    "#                 \"Uplift\": UpliftLandscapeStSt,\n",
    "#                 \"Uplift\": UpliftLandscape,\n",
    "                # \"Uplift\": UpliftLandscapeNF1,\n",
    "                \"Uplift\": UpliftRange,\n",
    "                \"Lake\": chxl.Lake,\n",
    "                \"Precipitation\": chxl.Precipitation,\n",
    "#                 \"DefaultParameters\": chxl.DefaultParameters,\n",
    "                \"Params\": CustomParameters,\n",
    "                \"Flow\": chxl.Flow,\n",
    "                \"Fluvial\": chxl.Fluvial,\n",
    "                \"Hillslope\": chxl.Hillslope\n",
    "            })\n",
    "\n",
    "ny,nx = 200,200\n",
    "dy,dx = 200,200\n",
    "time = np.arange(0,2e7,1000)\n",
    "otime = time[::20]\n",
    "\n",
    "init_z = np.load(\"SS_topolake.npy\")\n",
    "init_z[0,:] = 800\n",
    "# init_z = np.random.rand(ny,nx)\n",
    "\n",
    "\n",
    "# label_array[40:80,40:80] = 1\n",
    "\n",
    "\n",
    "\n",
    "# label_array.shape"
   ]
  },
  {
   "cell_type": "code",
   "execution_count": 2,
   "id": "db47d4cf-d0a5-453d-bd96-78ae43fb29ac",
   "metadata": {},
   "outputs": [
    {
     "data": {
      "application/vnd.jupyter.widget-view+json": {
       "model_id": "47b8e8049ef74892a47782ae5eabe9fa",
       "version_major": 2,
       "version_minor": 0
      },
      "image/png": "[encoded data removed]",
      "text/html": [
       "\n",
       "            <div style=\"display: inline-block;\">\n",
       "                <div class=\"jupyter-widgets widget-label\" style=\"text-align: center;\">\n",
       "                    Figure\n",
       "                </div>\n",
       "                <img src='data:image/png;base64,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' width=640.0/>\n",
       "            </div>\n",
       "        "
      ],
      "text/plain": [
       "Canvas(toolbar=Toolbar(toolitems=[('Home', 'Reset original view', 'home', 'home'), ('Back', 'Back to previous …"
      ]
     },
     "metadata": {},
     "output_type": "display_data"
    }
   ],
   "source": [
    "# Uplift shape\n",
    "lU = np.zeros(ny)\n",
    "lU[1:140] = 1\n",
    "lU[10:50] = ( (1-0.33)/40 * np.arange(40) + 0.33 ) [::-1]\n",
    "lU[140:] = ( (1-0.90)/60 * np.arange(60) + 0.91 ) - 1\n",
    "lU[140:][lU[140:] >= 0] = 0\n",
    "lU[1:140] -= 0.7\n",
    "# lU[1:140]\n",
    "\n",
    "U = np.zeros((ny,nx))\n",
    "# U[:] = lU * 1\n",
    "for i in range(nx):\n",
    "    U[:,i] = lU\n",
    "# U = np.rot90(U)[::-1]\n",
    "\n",
    "U[[0,-1],:] = 0\n",
    "fig, ax = plt.subplots()\n",
    "ax.imshow(U)\n",
    "U.shape\n",
    "\n",
    "Usimple = np.zeros((ny,nx))\n",
    "Usimple[1:140] = 1"
   ]
  },
  {
   "cell_type": "code",
   "execution_count": 3,
   "id": "3ad5cfe6-a55f-4049-811a-18b37b6d6bef",
   "metadata": {},
   "outputs": [
    {
     "data": {
      "text/plain": [
       "<matplotlib.image.AxesImage at 0x7f8e60f1a040>"
      ]
     },
     "execution_count": 3,
     "metadata": {},
     "output_type": "execute_result"
    },
    {
     "data": {
      "application/vnd.jupyter.widget-view+json": {
       "model_id": "2c41423c42c544c6bd90d294dca06edb",
       "version_major": 2,
       "version_minor": 0
      },
      "image/png": "[encoded data removed]",
      "text/html": [
       "\n",
       "            <div style=\"display: inline-block;\">\n",
       "                <div class=\"jupyter-widgets widget-label\" style=\"text-align: center;\">\n",
       "                    Figure\n",
       "                </div>\n",
       "                <img src='data:image/png;base64,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' width=640.0/>\n",
       "            </div>\n",
       "        "
      ],
      "text/plain": [
       "Canvas(toolbar=Toolbar(toolitems=[('Home', 'Reset original view', 'home', 'home'), ('Back', 'Back to previous …"
      ]
     },
     "metadata": {},
     "output_type": "display_data"
    }
   ],
   "source": [
    "label_array = np.zeros((ny,nx), dtype = np.int32)\n",
    "\n",
    "h = 150\n",
    "k = 75\n",
    "a = 30\n",
    "b = 20\n",
    "\n",
    "for x in range(nx):\n",
    "    for y in range(ny):\n",
    "        if((x - h)**2/a**2 + (y - k)**2/b**2 <= 1 ):\n",
    "            label_array[y,x] = 1\n",
    "# label_array[]\n",
    "fig,ax = plt.subplots()\n",
    "ax.imshow(label_array)\n",
    "# np.save(\"geological_map\", label_array)"
   ]
  },
  {
   "cell_type": "code",
   "execution_count": 4,
   "id": "f17eb517-eb33-4f41-86f5-ad5e7387026f",
   "metadata": {},
   "outputs": [],
   "source": [
    "# %create_setup model\n",
    "# import xsimlab as xs\n",
    "\n",
    "#Batch dimension for the strati recorder\n",
    "# bastrat = xr.DataArray([\"batch_fdir_1\",\"batch_fdir_1e6\",\"batch_fdir_1e9\",\"batch_fdir_1e12\"],dims='batch')\n",
    "\n",
    "ds_in = xs.create_setup(\n",
    "    model=model,\n",
    "    clocks={\n",
    "        \"time\":time,\n",
    "        \"otime\":otime\n",
    "    },\n",
    "    master_clock=\"time\",\n",
    "    input_vars={\n",
    "        'ChonkBase__dx': dx,\n",
    "        'ChonkBase__dy': dy,\n",
    "        'ChonkBase__nx': nx,\n",
    "        'ChonkBase__ny': ny,\n",
    "        'ChonkBase__boundary_conditions': \"periodic_EW\",\n",
    "        'ChonkBase__depths_res_sed_proportions': 1,\n",
    "        'ChonkBase__n_depth_sed_tracking': 50,\n",
    "        'ChonkBase__strati_recorder': False,\n",
    "        # 'ChonkBase__path_strati': bastrat,\n",
    "        'ChonkBase__path_strati': \"YOLO\",\n",
    "        'ChonkBase__pref_strati': \"YOLO\",\n",
    "        'ChonkBase__create_folder_strati': True,\n",
    "        'Topography__initial_elevation': init_z,\n",
    "        'Topography__initial_carving': True,\n",
    "        # 'Uplift__pattern': U,\n",
    "        'Uplift__pattern': Usimple,\n",
    "        # run for the sensitivity on uplift intensity\n",
    "        # 'Uplift__intensity':  xr.DataArray([1e-3,1.5e-3,2e-3], dims=\"batch\"),\n",
    "        # 'Uplift__intensity': xr.DataArray(np.arange(1e-4,5e-3,1e-4),dims='batch'),\n",
    "        'Uplift__intensity': 0.4e-3,# USED FOR ALL BUT HACKY\n",
    "        # 'Uplift__intensity': 0.5e-3,\n",
    "        # 'Lake__method': \"implicit\",\n",
    "        'Lake__method': \"explicit\",\n",
    "        'Lake__Aincision_threshold': False,\n",
    "        'Lake__evaporation': False,\n",
    "        # 'Lake__evaporation_rate': xr.DataArray(np.arange(0.4,1.6,0.1),dims='batch'),\n",
    "        'Lake__evaporation_rate': 1.5,\n",
    "        'Precipitation__precipitation_rate': 0.7,\n",
    "        # 'Precipitation__precipitation_rate': xr.DataArray(np.arange(0.4,0.8,0.05),dims='batch'),\n",
    "        # 'Flow__threshold_single_flow': 1e12,\n",
    "        # 'Flow__threshold_single_flow': xr.DataArray([1,1e6,1e9,1e12],dims='batch'),\n",
    "        'Flow__threshold_single_flow': 1e12,\n",
    "        'Params__label_array': label_array,\n",
    "        \n",
    "        'Fluvial__relative_erosivity_bed' : xr.DataArray(np.array([True,False], dtype = bool),dims='batch'),\n",
    "        'Fluvial__relative_erosivity_sed' : xr.DataArray(np.array([True,False], dtype = bool),dims='batch'),\n",
    "\n",
    "    },\n",
    "    output_vars=\n",
    "    {\n",
    "        'Topography__topography': 'otime',\n",
    "        'Topography__sed_height': 'otime',\n",
    "        'Flow__Qw': 'otime',\n",
    "        'Flow__water_balance_checker': 'time',\n",
    "        'Lake__lake_depth': 'otime',\n",
    "        'Fluvial__Qs': 'otime',\n",
    "        'Hillslope__Qs': 'otime',\n",
    "        'ChonkBase__strati': 'otime',\n",
    "        \n",
    "        'ChonkBase__D_s':'otime',\n",
    "        'ChonkBase__E_r':'otime',\n",
    "        'ChonkBase__E_s':'otime',\n",
    "        'ChonkBase__Q_sout_lab_N':'otime',\n",
    "        'ChonkBase__Q_sout_lab_S':'otime',\n",
    "        'Fluvial__post_K':'otime'\n",
    "        \n",
    "    }\n",
    ")"
   ]
  },
  {
   "cell_type": "code",
   "execution_count": 5,
   "id": "d583ba67-0cec-4441-96fe-873eb9360d8b",
   "metadata": {
    "scrolled": true,
    "tags": []
   },
   "outputs": [
    {
     "name": "stderr",
     "output_type": "stream",
     "text": [
      "█▏          12% | run step 2359/19999 "
     ]
    },
    {
     "name": "stdout",
     "output_type": "stream",
     "text": [
      "1.00011|128814|128800|0.999875|value:-110920\n"
     ]
    },
    {
     "name": "stderr",
     "output_type": "stream",
     "text": [
      "█▏          12% | run step 2341/19999 "
     ]
    },
    {
     "name": "stdout",
     "output_type": "stream",
     "text": [
      "1.00011|125139|125125|0.99987|value:-106558\n"
     ]
    },
    {
     "name": "stderr",
     "output_type": "stream",
     "text": [
      "█▏          12% | run step 2342/19999 "
     ]
    },
    {
     "name": "stdout",
     "output_type": "stream",
     "text": [
      "1.0001|125036|125023|0.999839|value:-80063.9\n"
     ]
    },
    {
     "name": "stderr",
     "output_type": "stream",
     "text": [
      "█▍          14% | run step 2829/19999 "
     ]
    },
    {
     "name": "stdout",
     "output_type": "stream",
     "text": [
      "1.00012|82999.3|82989.5|0.999877|value:-79894.6\n"
     ]
    },
    {
     "name": "stderr",
     "output_type": "stream",
     "text": [
      "█▊          19% | run step 3742/19999 "
     ]
    },
    {
     "name": "stdout",
     "output_type": "stream",
     "text": [
      "1.00011|148270|148253|0.999592|value:-40034.8\n"
     ]
    },
    {
     "name": "stderr",
     "output_type": "stream",
     "text": [
      "██▌         26% | run step 5163/19999 "
     ]
    },
    {
     "name": "stdout",
     "output_type": "stream",
     "text": [
      "1.00012|113521|113507|0.999709|value:-47734.7\n"
     ]
    },
    {
     "name": "stderr",
     "output_type": "stream",
     "text": [
      "██▌         26% | run step 5177/19999 "
     ]
    },
    {
     "name": "stdout",
     "output_type": "stream",
     "text": [
      "1.00012|87080.7|87070.7|0.999516|value:-20798.9\n"
     ]
    },
    {
     "name": "stderr",
     "output_type": "stream",
     "text": [
      "██▌         26% | run step 5179/19999 "
     ]
    },
    {
     "name": "stdout",
     "output_type": "stream",
     "text": [
      "1.00011|82075.5|82066.2|0.99934|value:-14111.3\n"
     ]
    },
    {
     "name": "stderr",
     "output_type": "stream",
     "text": [
      "███▋        37% | run step 7340/19999 "
     ]
    },
    {
     "name": "stdout",
     "output_type": "stream",
     "text": [
      "1.00012|116339|116326|0.999854|value:-91671.8\n"
     ]
    },
    {
     "name": "stderr",
     "output_type": "stream",
     "text": [
      "███▋        37% | run step 7480/19999 "
     ]
    },
    {
     "name": "stdout",
     "output_type": "stream",
     "text": [
      "1.00014|97101.7|97088|0.999828|value:-79279.9\n"
     ]
    },
    {
     "name": "stderr",
     "output_type": "stream",
     "text": [
      "███▋        37% | run step 7481/19999 "
     ]
    },
    {
     "name": "stdout",
     "output_type": "stream",
     "text": [
      "1.00014|84983.4|84971.7|0.999715|value:-41106.4\n"
     ]
    },
    {
     "name": "stderr",
     "output_type": "stream",
     "text": [
      "███████▉    80% | run step 15947/19999 "
     ]
    },
    {
     "name": "stdout",
     "output_type": "stream",
     "text": [
      "1.0001|62631|62624.7|0.999875|value:-50386.4\n"
     ]
    },
    {
     "name": "stderr",
     "output_type": "stream",
     "text": [
      "████████▏   82% | run step 16377/19999 "
     ]
    },
    {
     "name": "stdout",
     "output_type": "stream",
     "text": [
      "1.00013|117629|117614|0.999857|value:-105433\n"
     ]
    },
    {
     "name": "stderr",
     "output_type": "stream",
     "text": [
      "████████    81% | run step 16128/19999 "
     ]
    },
    {
     "name": "stdout",
     "output_type": "stream",
     "text": [
      "1.0001|115630|115618|0.999879|value:-99681.6\n"
     ]
    },
    {
     "name": "stderr",
     "output_type": "stream",
     "text": [
      "█████████▋  96% | run step 19291/19999 "
     ]
    },
    {
     "name": "stdout",
     "output_type": "stream",
     "text": [
      "1.00011|26265.8|26263|0.999823|value:-15881\n"
     ]
    },
    {
     "name": "stderr",
     "output_type": "stream",
     "text": [
      "██████████ 100% | Simulation finished in 2:10:22 "
     ]
    }
   ],
   "source": [
    "zg = zarr.group(\"section_tooleffect.zarr\", overwrite=True)\n",
    "from dask.distributed import Client\n",
    "if('client' in locals()):\n",
    "    if(isinstance(client,Client)):\n",
    "        client.close()\n",
    "client = Client(n_workers=2, threads_per_worker=1)  \n",
    "\n",
    "with model,xs.monitoring.ProgressBar():\n",
    "    out_ds = ds_in.xsimlab.run(store = zg, parallel = True, batch_dim = 'batch', scheduler=client)\n",
    "    # out_ds = ds_in.xsimlab.run(store = zg, parallel = False, batch_dim = 'batch', scheduler=None)\n",
    "    # out_ds = ds_in.xsimlab.run(store = zg)#, parallel = True, batch_dim = 'batch', scheduler=client)\n",
    "#     out_ds = mod1.xsimlab.run()  \n",
    "out_ds.x.values[0] = 0\n",
    "out_ds.y.values[0] = 0"
   ]
  },
  {
   "cell_type": "code",
   "execution_count": 6,
   "id": "a5ad32c2-bb01-4605-98a8-f7077048fc57",
   "metadata": {
    "tags": []
   },
   "outputs": [
    {
     "data": {
      "application/vnd.jupyter.widget-view+json": {
       "model_id": "3817b360843c4e67a87254eba2421a02",
       "version_major": 2,
       "version_minor": 0
      },
      "text/plain": [
       "Output(layout=Layout(height='640px'))"
      ]
     },
     "metadata": {},
     "output_type": "display_data"
    }
   ],
   "source": [
    "from ipyfastscape import TopoViz3d\n",
    "\n",
    "\n",
    "app = TopoViz3d(out_ds, canvas_height=600, time_dim=\"otime\", elevation_var = \"Topography__topography\" )\n",
    "\n",
    "app.show()"
   ]
  },
  {
   "cell_type": "code",
   "execution_count": 7,
   "id": "9fcb6a90-fc79-4ffd-91d2-c599ea8d9a30",
   "metadata": {},
   "outputs": [
    {
     "data": {
      "text/plain": [
       "<matplotlib.colorbar.Colorbar at 0x7f8e7acfdd90>"
      ]
     },
     "execution_count": 7,
     "metadata": {},
     "output_type": "execute_result"
    },
    {
     "data": {
      "application/vnd.jupyter.widget-view+json": {
       "model_id": "5945fcf223944d5286348a7d56f2a207",
       "version_major": 2,
       "version_minor": 0
      },
      "image/png": "[encoded data removed]",
      "text/html": [
       "\n",
       "            <div style=\"display: inline-block;\">\n",
       "                <div class=\"jupyter-widgets widget-label\" style=\"text-align: center;\">\n",
       "                    Figure\n",
       "                </div>\n",
       "                <img src='data:image/png;base64,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' width=640.0/>\n",
       "            </div>\n",
       "        "
      ],
      "text/plain": [
       "Canvas(toolbar=Toolbar(toolitems=[('Home', 'Reset original view', 'home', 'home'), ('Back', 'Back to previous …"
      ]
     },
     "metadata": {},
     "output_type": "display_data"
    }
   ],
   "source": [
    "from cmcrameri import cm\n",
    "\n",
    "fig, ax = plt.subplots()\n",
    "cb = ax.imshow(out_ds.Fluvial__post_K.values[0][-1], vmin = 6e-6, vmax = 12e-6, cmap = cm.hawaii_r)\n",
    "plt.colorbar(cb)"
   ]
  },
  {
   "cell_type": "code",
   "execution_count": 8,
   "id": "56fdad38-b913-4486-8dd9-174e8a62bff4",
   "metadata": {},
   "outputs": [],
   "source": [
    "# out_ds = xr.open_zarr(\"section_lake_explicit_full_lake_find_ev.zarr\")\n",
    "# out_ds.x.values[0] = 0\n",
    "# out_ds.y.values[0] = 0"
   ]
  },
  {
   "cell_type": "code",
   "execution_count": null,
   "id": "2dcdf3e2-da19-4ed2-bf29-649bcef5ef21",
   "metadata": {},
   "outputs": [],
   "source": []
  },
  {
   "cell_type": "code",
   "execution_count": 9,
   "id": "c205a0e3-d71d-4dd2-a38e-d6706b1001e5",
   "metadata": {},
   "outputs": [],
   "source": [
    "X = np.arange(10)\n",
    "Y = np.arange(10)\n",
    "Z = np.random.rand(10)\n",
    "\n",
    "verts = np.array([X,Y,Z]).T"
   ]
  },
  {
   "cell_type": "code",
   "execution_count": 10,
   "id": "2057bfc8-c517-4b21-8cc9-8dd32caa409b",
   "metadata": {},
   "outputs": [
    {
     "data": {
      "text/plain": [
       "array([[0.        , 0.        , 0.11051631],\n",
       "       [1.        , 1.        , 0.93804487],\n",
       "       [2.        , 2.        , 0.32911518],\n",
       "       [3.        , 3.        , 0.54758328],\n",
       "       [4.        , 4.        , 0.6159367 ],\n",
       "       [5.        , 5.        , 0.90115217],\n",
       "       [6.        , 6.        , 0.36064552],\n",
       "       [7.        , 7.        , 0.34387939],\n",
       "       [8.        , 8.        , 0.20263321],\n",
       "       [9.        , 9.        , 0.70184836]])"
      ]
     },
     "execution_count": 10,
     "metadata": {},
     "output_type": "execute_result"
    }
   ],
   "source": [
    "verts"
   ]
  },
  {
   "cell_type": "code",
   "execution_count": null,
   "id": "30ff0eca-fc2f-41ca-8833-48b3a2240fce",
   "metadata": {},
   "outputs": [],
   "source": []
  }
 ],
 "metadata": {
  "kernelspec": {
   "display_name": "Python 3 (ipykernel)",
   "language": "python",
   "name": "python3"
  },
  "language_info": {
   "codemirror_mode": {
    "name": "ipython",
    "version": 3
   },
   "file_extension": ".py",
   "mimetype": "text/x-python",
   "name": "python",
   "nbconvert_exporter": "python",
   "pygments_lexer": "ipython3",
   "version": "3.8.8"
  }
 },
 "nbformat": 4,
 "nbformat_minor": 5
}
