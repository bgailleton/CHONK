{
 "cells": [
  {
   "cell_type": "code",
   "execution_count": null,
   "id": "aea62753-3023-47db-8ffa-8cd6408ee8fc",
   "metadata": {},
   "outputs": [],
   "source": [
    "import matplotlib.pyplot as plt\n",
    "import xarray as xr\n",
    "import numpy as np\n",
    "import zarr\n",
    "import plotter as plo\n",
    "from cmcrameri import cm\n",
    "import pywtt\n",
    "import scipy.stats\n",
    "from matplotlib.gridspec import GridSpec\n",
    "import matplotlib\n",
    "import CHONK_XL as chxl\n",
    "from cmcrameri import cm\n",
    "from matplotlib.gridspec import GridSpec\n",
    "\n",
    "\n",
    "matplotlib.rc('font', family='Helvetica Neue') \n",
    "matplotlib.rc('font', serif='Helvetica Neue') \n",
    "matplotlib.rcParams.update({'font.size': 16})\n",
    "\n",
    "%matplotlib widget\n",
    "def divide_labels(ax, divider, isint = True, axis = \"both\"):\n",
    "    if(axis == \"both\"):\n",
    "        onx = True\n",
    "        ony = True\n",
    "    elif (axis == \"x\"):\n",
    "        onx = True\n",
    "        ony = False\n",
    "    elif (axis == \"y\"):\n",
    "        onx = False\n",
    "        ony = True\n",
    "            \n",
    "    \n",
    "    xticks = ax.get_xticks()\n",
    "    yticks = ax.get_yticks()\n",
    "\n",
    "    xtickslab = ax.get_xticklabels()\n",
    "    ytickslab = ax.get_yticklabels()\n",
    "    if(onx):\n",
    "        for i in range(len(xticks)):\n",
    "            xtickslab[i] = str(int(xticks[i]/divider)) if isint else str(xticks[i]/divider)\n",
    "        ax.set_xticklabels(xtickslab)\n",
    "    \n",
    "    if(ony):\n",
    "        for i in range(len(yticks)):\n",
    "            ytickslab[i] = str(int(yticks[i]/divider)) if isint else str(yticks[i]/divider)\n",
    "        ax.set_yticklabels(ytickslab)"
   ]
  },
  {
   "cell_type": "code",
   "execution_count": null,
   "id": "74a7054e-8b06-45a3-98d3-8f97083f3df1",
   "metadata": {},
   "outputs": [],
   "source": [
    "ds = xr.open_zarr('section_tracking_simple2.zarr')\n",
    "ds.x.values[0] = 0\n",
    "ds.y.values[0] = 0\n",
    "ny = ds.ChonkBase__ny.item(0)\n",
    "nx = ds.ChonkBase__nx.item(0)\n",
    "\n",
    "extent = [ds.x.min(),ds.x.max(),ds.y.max(), ds.y.min() ]\n",
    "extent1 = [ds.x.min(),ds.x.max()/2,ds.y.max(), ds.y.min() ]\n",
    "extent2 = [ds.x.max()/2,ds.x.max(),ds.y.max(), ds.y.min() ]\n",
    "sel = {\"otime\": 1e7}\n",
    "label = 1\n",
    "ttopo = ds.Topography__topography.sel({'otime':sel['otime']}, method = 'nearest').values\n",
    "HS = pywtt.minigraph(ds.ChonkBase__nx.values.item(0), ds.ChonkBase__ny.values.item(0), ds.ChonkBase__nx.values.item(0) * ds.ChonkBase__ny.values.item(0), ds.ChonkBase__dx, ds.ChonkBase__dy, 0, 0, ttopo.ravel()).get_HS()\n",
    "HS[np.isfinite(HS) == False] = 0\n",
    "HS[HS < 80] = 80\n",
    "HS = HS - 80\n",
    "HS = HS / HS.max()\n",
    "np.unique(HS)\n",
    "\n"
   ]
  },
  {
   "cell_type": "code",
   "execution_count": null,
   "id": "56a3371f-851f-4305-9c04-d447ac5c2879",
   "metadata": {},
   "outputs": [],
   "source": [
    "sumVol = chxl.get_full_volume_sediment_label_map(ds,sel,label, ChonkBase = 'ChonkBase')\n",
    "sumVol10m = chxl.get_first_m_volume_sediment_label_map(ds,sel,label,10, ChonkBase = 'ChonkBase')"
   ]
  },
  {
   "cell_type": "code",
   "execution_count": null,
   "id": "a8f0aa60-f8c2-4c90-b6dc-9e8f3a07246e",
   "metadata": {},
   "outputs": [],
   "source": [
    "plt.close('all')\n",
    "fig = plt.figure(figsize = (8,5))\n",
    "\n",
    "\n",
    "gs = GridSpec(100, 100, figure=fig)\n",
    "\n",
    "ax = fig.add_subplot(gs[:,25:90])\n",
    "axcb1 = fig.add_subplot(gs[8:92,:7])\n",
    "axcb2 = fig.add_subplot(gs[10:90,93:99])\n",
    "\n",
    "cb1 = ax.imshow(sumVol[:,:100], extent = extent1, cmap = cm.tokyo_r, zorder = 1)\n",
    "cb2 = ax.imshow(sumVol10m[:,100:], extent = extent2, cmap = cm.tokyo_r, zorder = 1) #tokyo, lapaz\n",
    "\n",
    "ax.set_xlim(extent[0],extent[1])\n",
    "ax.set_ylim(extent[2],extent[3])\n",
    "plt.colorbar(cb1, cax=axcb1, label = \"Full volume in basins\")\n",
    "ax.imshow(HS.reshape(ny,nx), extent = extent, cmap = cm.grayC_r, alpha = 0.35, zorder = 2)\n",
    "ax.set_xlabel(\"Easting (m)\")\n",
    "ax.set_ylabel(\"Northing (m)\")\n",
    "plt.colorbar(cb2, cax=axcb2, label = \"Volume in the first 10 m\")\n",
    "ax.axvline(ds.x.max()/2, lw = 2, color = 'k')"
   ]
  },
  {
   "cell_type": "code",
   "execution_count": null,
   "id": "0d9937e6-6930-422d-9832-71b3650b3d2a",
   "metadata": {},
   "outputs": [],
   "source": [
    "ds.n_labels"
   ]
  },
  {
   "cell_type": "code",
   "execution_count": null,
   "id": "d04466c6-0f7f-4a59-b1e9-6893a581b13c",
   "metadata": {},
   "outputs": [],
   "source": [
    "csel = sel.copy()\n",
    "csel[\"y\"] = 30000\n",
    "fig, ax = chxl.get_cross_section(\n",
    "\tds, # The input ds \n",
    "\t# fname = \"well.png\",\n",
    "\tcsel,\n",
    "\tChonkBase = 'ChonkBase',\n",
    "\tlabel = 1,\n",
    "\tcmap = cm.tokyo_r,\n",
    "\tcolor_bedrock = 'gray',\n",
    "\tfigsize = None,\n",
    "\tnlabels = 2,\n",
    "\tdpi = 300,\n",
    "    direction = \"EW\"\n",
    "    # minmax = (32000,42000)\n",
    "\n",
    ")\n",
    "ax.grid(ls = '--', lw = 0.5, color = 'k', alpha = 0.6)"
   ]
  },
  {
   "cell_type": "code",
   "execution_count": null,
   "id": "1ffc6aec-dd0f-4b74-aab7-b1a4e68cac9f",
   "metadata": {},
   "outputs": [],
   "source": [
    "fig, ax = chxl.get_well_time_serie(\n",
    "\tds, # The input ds \n",
    "\t# fname = \"well.png\",\n",
    "\ttimedim = \"otime\", # the time dimension\n",
    "\tX = 27000,\n",
    "\tY = 31000,\n",
    "\tChonkBase = 'ChonkBase',\n",
    "\tlabel = 1,\n",
    "\tcmap = cm.tokyo_r,\n",
    "\tcolor_bedrock = 'gray',\n",
    "\tfigsize = None,\n",
    "\tnlabels = 2,\n",
    "\tdpi = 300,\n",
    "    minmax = [0,0.25]\n",
    "    \n",
    ")\n",
    "\n",
    "xticks = ax.get_xticks()[1:-1] #< notice the slicing\n",
    "yticks = ax.get_yticks()[1:-1] #< notice the slicing\n",
    "xgrid, ygrid = np.meshgrid(xticks, yticks)\n",
    "ax.scatter(xgrid,ygrid, marker= \"+\",c = 'k', s = 20, lw = 1 , alpha = 0.4, zorder = 5)\n",
    "divide_labels(ax,1e6, axis='x')\n",
    "ax.set_xlabel(\"Time (Myrs)\")\n",
    "plt.savefig(\"/Users/gailleto/Desktop/papers/CHONK_!/figure_tracking/fig2.svg\")\n",
    "plt.savefig(\"/Users/gailleto/Desktop/papers/CHONK_!/figure_tracking/fig2.pdf\")\n",
    "plt.savefig(\"/Users/gailleto/Desktop/papers/CHONK_!/figure_tracking/fig2.png\")"
   ]
  },
  {
   "cell_type": "code",
   "execution_count": null,
   "id": "abd34c0c-d065-4d6e-a7c9-cc57a6d74792",
   "metadata": {},
   "outputs": [],
   "source": [
    "# fig, ax = chxl.get_cross_section_EW_props(\n",
    "# \tds, # The input ds \n",
    "# \t# fname = \"well.png\",\n",
    "# \tcsel,\n",
    "# \tChonkBase = 'ChonkBase',\n",
    "# \tlabel = 1,\n",
    "# \tcmap = cm.bam,\n",
    "# \tcolor_bedrock = 'gray',\n",
    "# \tfigsize = None,\n",
    "# \tnlabels = 2,\n",
    "# \tdpi = 300,\n",
    "#     # minmax = (32000,42000)\n",
    "\n",
    "# )"
   ]
  },
  {
   "cell_type": "code",
   "execution_count": null,
   "id": "10b01e2a-e3d3-4ea8-9cd2-6e8cf69c553f",
   "metadata": {},
   "outputs": [],
   "source": [
    "# arr.shape"
   ]
  },
  {
   "cell_type": "code",
   "execution_count": null,
   "id": "af5d960c-5120-44f5-9ef3-e8bb6c0f4e40",
   "metadata": {},
   "outputs": [],
   "source": [
    "# fig,ax = plt.subplots()\n",
    "# ax.hist(HS)"
   ]
  },
  {
   "cell_type": "code",
   "execution_count": null,
   "id": "68b40766-54e9-4c0c-9146-509241d56561",
   "metadata": {},
   "outputs": [],
   "source": [
    "from ipyfastscape import TopoViz3d\n",
    "\n",
    "\n",
    "app = TopoViz3d(ds, canvas_height=600, time_dim=\"otime\", elevation_var = \"Topography__topography\" )\n",
    "\n",
    "app.show()"
   ]
  },
  {
   "cell_type": "code",
   "execution_count": null,
   "id": "cda09005-2b54-4735-a95c-0338438b2d4e",
   "metadata": {},
   "outputs": [],
   "source": []
  }
 ],
 "metadata": {
  "kernelspec": {
   "display_name": "Python 3 (ipykernel)",
   "language": "python",
   "name": "python3"
  },
  "language_info": {
   "codemirror_mode": {
    "name": "ipython",
    "version": 3
   },
   "file_extension": ".py",
   "mimetype": "text/x-python",
   "name": "python",
   "nbconvert_exporter": "python",
   "pygments_lexer": "ipython3",
   "version": "3.8.8"
  }
 },
 "nbformat": 4,
 "nbformat_minor": 5
}
