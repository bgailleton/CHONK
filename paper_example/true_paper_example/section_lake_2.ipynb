{
 "cells": [
  {
   "cell_type": "code",
   "execution_count": 1,
   "id": "fe828eef-ee33-4352-a35e-a5a3aa7164de",
   "metadata": {},
   "outputs": [
    {
     "data": {
      "text/plain": [
       "(200, 200)"
      ]
     },
     "execution_count": 1,
     "metadata": {},
     "output_type": "execute_result"
    }
   ],
   "source": [
    "import numpy as np\n",
    "import CHONK_XL as chxl\n",
    "import matplotlib.pyplot as plt\n",
    "from IPython.display import display, Markdown, Latex\n",
    "import xsimlab as xs\n",
    "import CHONK_cpp as ch\n",
    "import zarr\n",
    "import helplotlib as hpl\n",
    "import xarray as xr\n",
    "from scipy.ndimage import gaussian_filter\n",
    "\n",
    "# import helper as H\n",
    "%matplotlib widget\n",
    "%load_ext xsimlab.ipython\n",
    "@xs.process\n",
    "class CustomParameters:\n",
    "\tlabel_array = xs.variable(intent = 'in', dims = ('y','x'))\n",
    "\tlabel_list = xs.any_object()\n",
    "\tCHONK = xs.foreign(chxl.ChonkBase, \"CHONK\")\n",
    "\tnx = xs.foreign(chxl.ChonkBase, \"nx\")\n",
    "\tny = xs.foreign(chxl.ChonkBase, \"ny\")\n",
    "\tdx = xs.foreign(chxl.ChonkBase, \"dx\")\n",
    "\tdy = xs.foreign(chxl.ChonkBase, \"dy\")\n",
    "\t\n",
    "\tactive_nodes = xs.foreign(chxl.ChonkBase, \"active_nodes\")\n",
    "\n",
    "\tdef initialize(self):\n",
    "\n",
    "#\t\t self.landscape.add_pluton( dimless_X = 0.6, dimless_Y = 0.3, half_width = 5000,  half_heigth = 3000)\n",
    "\t\tself.label_list = []\n",
    "\t\n",
    "\t\t# self.label_array = self.landscape.indices\n",
    "\n",
    "\t\tself.label_list.append(ch.label(0))\n",
    "\t\tself.label_list[-1].m = 0.45;\n",
    "\t\tself.label_list[-1].n = 1;\n",
    "\t\tself.label_list[-1].base_K = 1e-5;\n",
    "\t\tself.label_list[-1].Ks_modifyer = 1.2;\n",
    "\t\tself.label_list[-1].Kr_modifyer = 0.8;\n",
    "\t\tself.label_list[-1].dimless_roughness = 0.5;\n",
    "\t\tself.label_list[-1].V = 0.5;\n",
    "\t\tself.label_list[-1].dstar = 1;\n",
    "\t\tself.label_list[-1].threshold_incision = 0;\n",
    "\t\tself.label_list[-1].threshold_entrainment = 0;\n",
    "\t\tself.label_list[-1].kappa_base = 1e-4;\n",
    "\t\tself.label_list[-1].kappa_r_mod = 0.8;\n",
    "\t\tself.label_list[-1].kappa_s_mod = 1.2;\n",
    "\t\tself.label_list[-1].critical_slope = 0.57835;\n",
    "\t\tself.label_list[-1].sensitivity_tool_effect = 1;\n",
    "\n",
    "\t\tself.label_list.append(ch.label(1))\n",
    "\t\tself.label_list[-1].m = 0.45;\n",
    "\t\tself.label_list[-1].n = 1;\n",
    "\t\tself.label_list[-1].base_K = 1e-5;\n",
    "\t\tself.label_list[-1].Ks_modifyer = 1;\n",
    "\t\tself.label_list[-1].Kr_modifyer = 0.3;\n",
    "\t\tself.label_list[-1].dimless_roughness = 0.5;\n",
    "\t\tself.label_list[-1].V = 0.1;\n",
    "\t\tself.label_list[-1].dstar = 1;\n",
    "\t\tself.label_list[-1].threshold_incision = 0;\n",
    "\t\tself.label_list[-1].threshold_entrainment = 0;\n",
    "\t\tself.label_list[-1].kappa_base = 1e-4;\n",
    "\t\tself.label_list[-1].kappa_r_mod = 0.8;\n",
    "\t\tself.label_list[-1].kappa_s_mod = 1.2;\n",
    "\t\tself.label_list[-1].critical_slope = 0.57835;\n",
    "\t\tself.label_list[-1].sensitivity_tool_effect = 1;\n",
    "\n",
    "\t\tself.CHONK.initialise_label_list(self.label_list)\n",
    "\t\tself.CHONK.update_label_array(self.label_array.ravel())\n",
    "\n",
    "@xs.process\n",
    "class UpliftRangeOld(chxl.Uplift):\n",
    "    timing = xs.variable()\n",
    "    intensity = xs.variable()\n",
    "    smoothing_iterations = xs.variable()\n",
    "    span = xs.variable(dims = 'minmax')\n",
    "    \n",
    "    uplift = xs.variable(dims=('y','x'), intent = 'inout')\n",
    "    \n",
    "    CHONK = xs.foreign(chxl.ChonkBase, \"CHONK\")\n",
    "    \n",
    "    \n",
    "    def initialize(self):\n",
    "        self.mod_done = False\n",
    "                                    \n",
    "    @xs.runtime(args=['step_delta','step_start'])\n",
    "    def run_step(self, dt, this_time):\n",
    "        # print (this_time)\n",
    "        if(self.mod_done == False and this_time >= self.timing):\n",
    "            toadd = np.zeros_like(self.uplift)\n",
    "            toadd[self.span[0]:self.span[1]] = self.intensity\n",
    "            toadd = gaussian_filter(toadd, self.smoothing_iterations)\n",
    "            self.uplift = self.uplift + toadd\n",
    "            self.mod_done = True\n",
    "        \n",
    "        self.CHONK.add_external_to_surface_elevation_tp1(self.uplift.ravel() * dt)\n",
    "        self.uplift_done = True\n",
    "        \n",
    "@xs.process\n",
    "class UpliftRange(chxl.Uplift): \n",
    "    pattern = xs.variable(dims=('y','x'), intent = 'inout')\n",
    "    uplift = xs.variable(dims=('y','x'), intent = 'out')\n",
    "    intensity = xs.variable()\n",
    "    \n",
    "    CHONK = xs.foreign(chxl.ChonkBase, \"CHONK\")\n",
    "    \n",
    "    \n",
    "    def initialize(self):\n",
    "        self.mod_done = False\n",
    "        self.uplift = self.pattern * self.intensity\n",
    "                                    \n",
    "    @xs.runtime(args=['step_delta','step_start'])\n",
    "    def run_step(self, dt, this_time):\n",
    "        \n",
    "        self.CHONK.add_external_to_surface_elevation_tp1(self.uplift.ravel() * dt)\n",
    "        self.uplift_done = True\n",
    " \n",
    "\n",
    "\n",
    "model = xs.Model({\"ChonkBase\": chxl.ChonkBase,\n",
    "                \"Runner\": chxl.Runner,\n",
    "                \"Topography\": chxl.Topography,\n",
    "#                 \"Uplift\": UpliftLandscapeStSt,\n",
    "#                 \"Uplift\": UpliftLandscape,\n",
    "                # \"Uplift\": UpliftLandscapeNF1,\n",
    "                \"Uplift\": UpliftRange,\n",
    "                \"Lake\": chxl.Lake,\n",
    "                \"Precipitation\": chxl.Precipitation,\n",
    "#                 \"DefaultParameters\": chxl.DefaultParameters,\n",
    "                \"Params\": CustomParameters,\n",
    "                \"Flow\": chxl.Flow,\n",
    "                \"Fluvial\": chxl.Fluvial,\n",
    "                \"Hillslope\": chxl.Hillslope\n",
    "            })\n",
    "\n",
    "ny,nx = 200,200\n",
    "dy,dx = 200,200\n",
    "time = np.arange(0,1e7,1000)\n",
    "otime = time[::20]\n",
    "\n",
    "init_z = np.load(\"SS_topolake.npy\")\n",
    "init_z[0,:] = 600\n",
    "# init_z = np.random.rand(ny,nx)\n",
    "\n",
    "\n",
    "label_array = np.zeros((ny,nx), dtype = np.int32)\n",
    "# label_array[40:80,40:80] = 1\n",
    "\n",
    "\n",
    "\n",
    "label_array.shape"
   ]
  },
  {
   "cell_type": "code",
   "execution_count": 2,
   "id": "db47d4cf-d0a5-453d-bd96-78ae43fb29ac",
   "metadata": {},
   "outputs": [
    {
     "data": {
      "text/plain": [
       "(200, 200)"
      ]
     },
     "execution_count": 2,
     "metadata": {},
     "output_type": "execute_result"
    },
    {
     "data": {
      "application/vnd.jupyter.widget-view+json": {
       "model_id": "36fdf1fed3f34cb0a93e28413dbd727f",
       "version_major": 2,
       "version_minor": 0
      },
      "image/png": "[encoded data removed]",
      "text/html": [
       "\n",
       "            <div style=\"display: inline-block;\">\n",
       "                <div class=\"jupyter-widgets widget-label\" style=\"text-align: center;\">\n",
       "                    Figure\n",
       "                </div>\n",
       "                <img src='data:image/png;base64,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' width=640.0/>\n",
       "            </div>\n",
       "        "
      ],
      "text/plain": [
       "Canvas(toolbar=Toolbar(toolitems=[('Home', 'Reset original view', 'home', 'home'), ('Back', 'Back to previous …"
      ]
     },
     "metadata": {},
     "output_type": "display_data"
    }
   ],
   "source": [
    "# Uplift shape\n",
    "lU = np.zeros(ny)\n",
    "lU[1:140] = 1\n",
    "lU[10:50] = ( (1-0.33)/40 * np.arange(40) + 0.33 ) [::-1]\n",
    "lU[140:] = ( (1-0.90)/60 * np.arange(60) + 0.91 ) - 1\n",
    "lU[140:][lU[140:] >= 0] = 0\n",
    "lU[1:140] -= 0.7\n",
    "# lU[1:140]\n",
    "\n",
    "U = np.zeros((ny,nx))\n",
    "# U[:] = lU * 1\n",
    "for i in range(nx):\n",
    "    U[:,i] = lU\n",
    "# U = np.rot90(U)[::-1]\n",
    "\n",
    "U[[0,-1],:] = 0\n",
    "fig, ax = plt.subplots()\n",
    "ax.imshow(U)\n",
    "U.shape"
   ]
  },
  {
   "cell_type": "code",
   "execution_count": 3,
   "id": "f17eb517-eb33-4f41-86f5-ad5e7387026f",
   "metadata": {},
   "outputs": [],
   "source": [
    "# %create_setup model\n",
    "# import xsimlab as xs\n",
    "\n",
    "ds_in = xs.create_setup(\n",
    "    model=model,\n",
    "    clocks={\n",
    "        \"time\":time,\n",
    "        \"otime\":otime\n",
    "    },\n",
    "    master_clock=\"time\",\n",
    "    input_vars={\n",
    "        'ChonkBase__dx': dx,\n",
    "        'ChonkBase__dy': dy,\n",
    "        'ChonkBase__nx': nx,\n",
    "        'ChonkBase__ny': ny,\n",
    "        'ChonkBase__boundary_conditions': \"periodic_EW\",\n",
    "        'ChonkBase__depths_res_sed_proportions': 1,\n",
    "        'ChonkBase__n_depth_sed_tracking': 50,\n",
    "        'ChonkBase__strati_recorder': True,\n",
    "        'ChonkBase__path_strati': \"strati_lake\",\n",
    "        'ChonkBase__pref_strati': \"test1\",\n",
    "        'ChonkBase__create_folder_strati': False,\n",
    "        'Topography__initial_elevation': init_z,\n",
    "        'Topography__initial_carving': True,\n",
    "        'Uplift__pattern': U,\n",
    "        # run for the sensitivity on uplift intensity\n",
    "        # 'Uplift__intensity':  xr.DataArray([1e-3,1.5e-3,2e-3], dims=\"batch\"),\n",
    "        # 'Uplift__intensity': xr.DataArray(np.arange(1e-4,5e-3,1e-4),dims='batch'),\n",
    "        # 'Uplift__intensity': 1.2e-3,# USED FOR ALL BUT HACKY\n",
    "        'Uplift__intensity': 0.5e-3,\n",
    "        # 'Lake__method': \"implicit\",\n",
    "        'Lake__method': \"explicit\",\n",
    "        'Lake__Aincision_threshold': True,\n",
    "        'Lake__evaporation': False,\n",
    "        # 'Lake__evaporation_rate': xr.DataArray(np.arange(0.4,1.6,0.1),dims='batch'),\n",
    "        'Lake__evaporation_rate': 1.5,\n",
    "        'Precipitation__precipitation_rate': 0.7,\n",
    "        # 'Precipitation__precipitation_rate': xr.DataArray(np.arange(0.4,0.8,0.05),dims='batch'),\n",
    "        'Flow__threshold_single_flow': 1e12,\n",
    "        'Params__label_array': label_array\n",
    "    },\n",
    "    output_vars=\n",
    "    {\n",
    "        'Topography__topography': 'otime',\n",
    "        'Topography__sed_height': 'otime',\n",
    "        'Flow__Qw': 'otime',\n",
    "        'Flow__water_balance_checker': 'time',\n",
    "        'Lake__lake_depth': 'otime',\n",
    "        'Fluvial__Qs': 'otime',\n",
    "        'Hillslope__Qs': 'otime',\n",
    "        'ChonkBase__strati': 'otime',\n",
    "        \n",
    "        'ChonkBase__D_s':'otime',\n",
    "        'ChonkBase__E_r':'otime',\n",
    "        'ChonkBase__E_s':'otime',\n",
    "        'ChonkBase__Q_sout_lab_N':'otime',\n",
    "        'ChonkBase__Q_sout_lab_S':'otime',\n",
    "    }\n",
    ")"
   ]
  },
  {
   "cell_type": "code",
   "execution_count": 4,
   "id": "d583ba67-0cec-4441-96fe-873eb9360d8b",
   "metadata": {
    "scrolled": true,
    "tags": []
   },
   "outputs": [
    {
     "data": {
      "application/vnd.jupyter.widget-view+json": {
       "model_id": "2170d3417796478ba3260db4efb03cc7",
       "version_major": 2,
       "version_minor": 0
      },
      "text/plain": [
       "             0% | initialize "
      ]
     },
     "metadata": {},
     "output_type": "display_data"
    }
   ],
   "source": [
    "zg = zarr.group(\"section_lake_explicit_HACK.zarr\", overwrite=True)\n",
    "from dask.distributed import Client\n",
    "if('client' in locals()):\n",
    "    if(isinstance(client,Client)):\n",
    "        client.close()\n",
    "client = Client(n_workers=3, threads_per_worker=1)  \n",
    "\n",
    "with model,xs.monitoring.ProgressBar():\n",
    "    # out_ds = ds_in.xsimlab.run(store = zg, parallel = True, batch_dim = 'batch', scheduler=client)\n",
    "    out_ds = ds_in.xsimlab.run(store = zg)#, parallel = True, batch_dim = 'batch', scheduler=client)\n",
    "#     out_ds = mod1.xsimlab.run()  \n",
    "out_ds.x.values[0] = 0\n",
    "out_ds.y.values[0] = 0"
   ]
  },
  {
   "cell_type": "code",
   "execution_count": 7,
   "id": "a5ad32c2-bb01-4605-98a8-f7077048fc57",
   "metadata": {
    "tags": []
   },
   "outputs": [
    {
     "data": {
      "application/vnd.jupyter.widget-view+json": {
       "model_id": "e71dc01bb6f1477398b90a404be0a890",
       "version_major": 2,
       "version_minor": 0
      },
      "text/plain": [
       "Output(layout=Layout(height='640px'))"
      ]
     },
     "metadata": {},
     "output_type": "display_data"
    }
   ],
   "source": [
    "from ipyfastscape import TopoViz3d\n",
    "\n",
    "\n",
    "app = TopoViz3d(out_ds, canvas_height=600, time_dim=\"otime\", elevation_var = \"Topography__topography\" )\n",
    "\n",
    "app.show()"
   ]
  },
  {
   "cell_type": "code",
   "execution_count": null,
   "id": "9fcb6a90-fc79-4ffd-91d2-c599ea8d9a30",
   "metadata": {},
   "outputs": [],
   "source": []
  },
  {
   "cell_type": "code",
   "execution_count": 6,
   "id": "56fdad38-b913-4486-8dd9-174e8a62bff4",
   "metadata": {},
   "outputs": [],
   "source": [
    "# out_ds = xr.open_zarr(\"section_lake_explicit_full_lake_find_ev.zarr\")\n",
    "# out_ds.x.values[0] = 0\n",
    "# out_ds.y.values[0] = 0"
   ]
  },
  {
   "cell_type": "code",
   "execution_count": null,
   "id": "2dcdf3e2-da19-4ed2-bf29-649bcef5ef21",
   "metadata": {},
   "outputs": [],
   "source": []
  }
 ],
 "metadata": {
  "kernelspec": {
   "display_name": "Python 3 (ipykernel)",
   "language": "python",
   "name": "python3"
  },
  "language_info": {
   "codemirror_mode": {
    "name": "ipython",
    "version": 3
   },
   "file_extension": ".py",
   "mimetype": "text/x-python",
   "name": "python",
   "nbconvert_exporter": "python",
   "pygments_lexer": "ipython3",
   "version": "3.8.8"
  }
 },
 "nbformat": 4,
 "nbformat_minor": 5
}
