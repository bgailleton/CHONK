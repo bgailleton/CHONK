{
 "cells": [
  {
   "cell_type": "code",
   "execution_count": 1,
   "id": "6dcf140f-3a5c-454a-a528-36e553eff17f",
   "metadata": {},
   "outputs": [],
   "source": [
    "from CHONK_II.numerobis import FunctionParser as FP"
   ]
  },
  {
   "cell_type": "code",
   "execution_count": 2,
   "id": "5e1539a2-110b-4de1-ac66-8e7049621422",
   "metadata": {},
   "outputs": [],
   "source": [
    "def mefunc():\n",
    "    area_to_add = grid.cell_area\n",
    "    model.A.add(area_to_add)\n",
    "    model.A.transmit()"
   ]
  },
  {
   "cell_type": "code",
   "execution_count": 3,
   "id": "ab7b7d00-1279-48c8-981c-3415c1b703f2",
   "metadata": {},
   "outputs": [
    {
     "name": "stdout",
     "output_type": "stream",
     "text": [
      "Parsing line:\n",
      "    area_to_add = grid.cell_area\n",
      "BREAK 1\n",
      "\n",
      "a\n",
      "ar\n",
      "are\n",
      "area\n",
      "area_\n",
      "area_t\n",
      "area_to\n",
      "area_to_\n",
      "area_to_a\n",
      "area_to_ad\n",
      "area_to_add\n",
      "BREAK 4\n",
      "\n",
      "BREAK 5\n",
      "\n",
      "g\n",
      "gr\n",
      "gri\n",
      "grid\n",
      "grid.\n",
      "grid.c\n",
      "grid.ce\n",
      "grid.cel\n",
      "grid.cell\n",
      "grid.cell_\n",
      "grid.cell_a\n",
      "grid.cell_ar\n",
      "grid.cell_are\n",
      "BREAK NAT\n",
      "BREAK 2\n",
      "Parsing line:\n",
      "    model.A.add(area_to_add)\n",
      "BREAK 1\n",
      "\n",
      "m\n",
      "mo\n",
      "mod\n",
      "mode\n",
      "model\n",
      "model.\n",
      "model.A\n",
      "model.A.\n",
      "model.A.a\n",
      "model.A.ad\n",
      "model.A.add\n",
      "model.A.add(\n",
      "model.A.add(a\n",
      "model.A.add(ar\n",
      "model.A.add(are\n",
      "model.A.add(area\n",
      "model.A.add(area_\n",
      "model.A.add(area_t\n",
      "model.A.add(area_to\n",
      "model.A.add(area_to_\n",
      "model.A.add(area_to_a\n",
      "model.A.add(area_to_ad\n",
      "model.A.add(area_to_add\n",
      "BREAK NAT\n",
      "BREAK 2\n",
      "Parsing line:\n",
      "    model.A.transmit()\n",
      "BREAK 1\n",
      "\n",
      "m\n",
      "mo\n",
      "mod\n",
      "mode\n",
      "model\n",
      "model.\n",
      "model.A\n",
      "model.A.\n",
      "model.A.t\n",
      "model.A.tr\n",
      "model.A.tra\n",
      "model.A.tran\n",
      "model.A.trans\n",
      "model.A.transm\n",
      "model.A.transmi\n",
      "model.A.transmit\n",
      "model.A.transmit(\n",
      "BREAK NAT\n",
      "BREAK 2\n"
     ]
    }
   ],
   "source": [
    "parsed = FP(mefunc)"
   ]
  },
  {
   "cell_type": "code",
   "execution_count": 4,
   "id": "01d65628-e26d-492d-8704-6415d1792ef5",
   "metadata": {},
   "outputs": [
    {
     "data": {
      "text/plain": [
       "'mefunc'"
      ]
     },
     "execution_count": 4,
     "metadata": {},
     "output_type": "execute_result"
    }
   ],
   "source": [
    "parsed.call"
   ]
  },
  {
   "cell_type": "code",
   "execution_count": 5,
   "id": "1c38a3e3-5624-4da8-b2cc-9e9af37d31c0",
   "metadata": {},
   "outputs": [
    {
     "data": {
      "text/plain": [
       "['    area_to_add = grid.cell_area\\n',\n",
       " '    model.A.add(area_to_add)\\n',\n",
       " '    model.A.transmit()\\n']"
      ]
     },
     "execution_count": 5,
     "metadata": {},
     "output_type": "execute_result"
    }
   ],
   "source": [
    "parsed.full_body"
   ]
  },
  {
   "cell_type": "code",
   "execution_count": 6,
   "id": "237ae240-b405-43ec-95ab-6dd5a8404059",
   "metadata": {},
   "outputs": [
    {
     "data": {
      "text/plain": [
       "[{'tablvl': 0,\n",
       "  'tokens': [('code', 'area_to_add'),\n",
       "   ('ope', '='),\n",
       "   ('code', 'grid.cell_area')]},\n",
       " {'tablvl': 0, 'tokens': [('code', 'model.A.add(area_to_add)')]},\n",
       " {'tablvl': 0, 'tokens': [('code', 'model.A.transmit()')]}]"
      ]
     },
     "execution_count": 6,
     "metadata": {},
     "output_type": "execute_result"
    }
   ],
   "source": [
    "parsed.tokened_body"
   ]
  },
  {
   "cell_type": "code",
   "execution_count": 7,
   "id": "a8556c4b-b14d-40ef-a44d-979eecabd3a8",
   "metadata": {},
   "outputs": [],
   "source": [
    "class A(object):\n",
    "    def __init__(self):\n",
    "        self.text = \"walululululu\"\n",
    "    def write(self):\n",
    "        return self.text\n",
    "\n",
    "    "
   ]
  },
  {
   "cell_type": "code",
   "execution_count": 8,
   "id": "dab6d09e-c448-41ef-81a1-b03d90b718b0",
   "metadata": {},
   "outputs": [],
   "source": [
    "a = A()"
   ]
  },
  {
   "cell_type": "code",
   "execution_count": 10,
   "id": "392e8f67-118c-4fdc-a8cb-2c4f86cafe4e",
   "metadata": {},
   "outputs": [],
   "source": [
    "\n",
    "stre = \"dfjhhhvgfdr\"\n",
    "stre += eval(\"a.write()\")"
   ]
  },
  {
   "cell_type": "code",
   "execution_count": 11,
   "id": "e665679a-d430-498b-9fa1-ba65f48ad7e3",
   "metadata": {},
   "outputs": [
    {
     "data": {
      "text/plain": [
       "'dfjhhhvgfdrwalululululu'"
      ]
     },
     "execution_count": 11,
     "metadata": {},
     "output_type": "execute_result"
    }
   ],
   "source": [
    "stre"
   ]
  },
  {
   "cell_type": "code",
   "execution_count": 5,
   "id": "9b8e41fe-3d2b-4752-a3c4-1ac9d7b96034",
   "metadata": {},
   "outputs": [
    {
     "data": {
      "text/plain": [
       "<matplotlib.collections.PathCollection at 0x7fa5a08e8820>"
      ]
     },
     "execution_count": 5,
     "metadata": {},
     "output_type": "execute_result"
    },
    {
     "data": {
      "application/vnd.jupyter.widget-view+json": {
       "model_id": "ac3d78f71db046d49910d60103348170",
       "version_major": 2,
       "version_minor": 0
      },
      "image/png": "[encoded data removed]",
      "text/html": [
       "\n",
       "            <div style=\"display: inline-block;\">\n",
       "                <div class=\"jupyter-widgets widget-label\" style=\"text-align: center;\">\n",
       "                    Figure\n",
       "                </div>\n",
       "                <img src='data:image/png;base64,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' width=640.0/>\n",
       "            </div>\n",
       "        "
      ],
      "text/plain": [
       "Canvas(toolbar=Toolbar(toolitems=[('Home', 'Reset original view', 'home', 'home'), ('Back', 'Back to previous …"
      ]
     },
     "metadata": {},
     "output_type": "display_data"
    }
   ],
   "source": [
    "import matplotlib.pyplot as plt\n",
    "%matplotlib widget\n",
    "fig,ax = plt.subplots()\n",
    "ax.scatter([0,1],[0,1])"
   ]
  },
  {
   "cell_type": "code",
   "execution_count": 6,
   "id": "fcf9c95f-3378-4e54-b72c-ddec37bb576d",
   "metadata": {},
   "outputs": [
    {
     "data": {
      "text/plain": [
       "<matplotlib.collections.PathCollection at 0x7fa5b0468af0>"
      ]
     },
     "execution_count": 6,
     "metadata": {},
     "output_type": "execute_result"
    }
   ],
   "source": [
    "ax.clear()\n",
    "ax.scatter([2,2],[3,2])"
   ]
  },
  {
   "cell_type": "code",
   "execution_count": null,
   "id": "c356ff94-979a-4667-b8ad-d6755de68f65",
   "metadata": {},
   "outputs": [],
   "source": []
  }
 ],
 "metadata": {
  "kernelspec": {
   "display_name": "Python 3 (ipykernel)",
   "language": "python",
   "name": "python3"
  },
  "language_info": {
   "codemirror_mode": {
    "name": "ipython",
    "version": 3
   },
   "file_extension": ".py",
   "mimetype": "text/x-python",
   "name": "python",
   "nbconvert_exporter": "python",
   "pygments_lexer": "ipython3",
   "version": "3.8.8"
  }
 },
 "nbformat": 4,
 "nbformat_minor": 5
}
