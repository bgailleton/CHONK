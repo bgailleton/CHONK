{
 "cells": [
  {
   "cell_type": "code",
   "execution_count": null,
   "id": "055ed078-c7ed-47fc-9cf2-7cd84e7a6637",
   "metadata": {},
   "outputs": [],
   "source": [
    "import numpy as np\n",
    "import CHONK_XL as chxl\n",
    "import matplotlib.pyplot as plt\n",
    "from IPython.display import display, Markdown, Latex\n",
    "import xsimlab as xs\n",
    "import CHONK_cpp as ch\n",
    "\n",
    "import zarr\n",
    "import helplotlib as hpl\n",
    "import helper\n",
    "%matplotlib widget\n",
    "%load_ext xsimlab.ipython"
   ]
  },
  {
   "cell_type": "code",
   "execution_count": null,
   "id": "193bd333-4492-4203-b71d-1a245f2859c0",
   "metadata": {},
   "outputs": [],
   "source": [
    "\n",
    "\n",
    "@xs.process\n",
    "class CustomParameters:\n",
    "    label_array = xs.variable(intent = 'out', dims = (('y','x'), ('node')))\n",
    "    label_list = xs.any_object()\n",
    "    CHONK = xs.foreign(chxl.ChonkBase, \"CHONK\")\n",
    "    nx = xs.foreign(chxl.ChonkBase, \"nx\")\n",
    "    ny = xs.foreign(chxl.ChonkBase, \"ny\")\n",
    "    dx = xs.foreign(chxl.ChonkBase, \"dx\")\n",
    "    dy = xs.foreign(chxl.ChonkBase, \"dy\")\n",
    "    \n",
    "    active_nodes = xs.foreign(chxl.ChonkBase, \"active_nodes\")\n",
    "#     landscape = xs.any_object()\n",
    "\n",
    "    def initialize(self):\n",
    "\n",
    "        self.label_list = []\n",
    "    \n",
    "        self.label_array = np.zeros((nx*ny), dtype = np.int)\n",
    "\n",
    "        self.label_list.append(ch.label(0))\n",
    "        self.label_list[-1].m = 0.45;\n",
    "        self.label_list[-1].n = 1;\n",
    "        self.label_list[-1].base_K = 1e-5;\n",
    "        self.label_list[-1].Ks_modifyer = 1.2;\n",
    "        self.label_list[-1].Kr_modifyer = 0.8;\n",
    "        self.label_list[-1].dimless_roughness = 0.5;\n",
    "        self.label_list[-1].V = 0.5;\n",
    "        self.label_list[-1].dstar = 1;\n",
    "        self.label_list[-1].threshold_incision = 0;\n",
    "        self.label_list[-1].threshold_entrainment = 0;\n",
    "        self.label_list[-1].kappa_base = 1e-4;\n",
    "        self.label_list[-1].kappa_r_mod = 0.8;\n",
    "        self.label_list[-1].kappa_s_mod = 1.2;\n",
    "        self.label_list[-1].critical_slope = 0.57835;\n",
    "        self.label_list[-1].sensitivity_tool_effect = 1;\n",
    "\n",
    "        self.label_list.append(ch.label(1))\n",
    "        self.label_list[-1].m = 0.45;\n",
    "        self.label_list[-1].n = 1;\n",
    "        self.label_list[-1].base_K = 1e-5;\n",
    "        self.label_list[-1].Ks_modifyer = 1;\n",
    "        self.label_list[-1].Kr_modifyer = 0.3;\n",
    "        self.label_list[-1].dimless_roughness = 0.5;\n",
    "        self.label_list[-1].V = 0.1;\n",
    "        self.label_list[-1].dstar = 1;\n",
    "        self.label_list[-1].threshold_incision = 0;\n",
    "        self.label_list[-1].threshold_entrainment = 0;\n",
    "        self.label_list[-1].kappa_base = 1e-4;\n",
    "        self.label_list[-1].kappa_r_mod = 0.8;\n",
    "        self.label_list[-1].kappa_s_mod = 1.2;\n",
    "        self.label_list[-1].critical_slope = 0.57835;\n",
    "        self.label_list[-1].sensitivity_tool_effect = 1;\n",
    "\n",
    "        self.CHONK.initialise_label_list(self.label_list)\n",
    "        self.CHONK.update_label_array(self.label_array.ravel())\n",
    "        \n",
    "        \n",
    "@xs.process\n",
    "class UpliftLandscape(chxl.Uplift):\n",
    "\tuplift_done = xs.variable(intent = \"out\")\n",
    "\trunner_done = xs.foreign(chxl.Runner, \"runner_done\")\n",
    "\tuplift = xs.variable(intent = 'out', dims = [('y','x'), ('node')])\n",
    "\tswitch_time = xs.variable(intent = 'in')\n",
    "\tCHONK = xs.foreign(chxl.ChonkBase, \"CHONK\")\n",
    "\tactive_nodes = xs.foreign(chxl.ChonkBase, \"active_nodes\")\n",
    "\tnx = xs.foreign(chxl.ChonkBase, \"nx\")\n",
    "\tny = xs.foreign(chxl.ChonkBase, \"ny\")\n",
    "\tdx = xs.foreign(chxl.ChonkBase, \"dx\")\n",
    "\tdy = xs.foreign(chxl.ChonkBase, \"dy\")\n",
    "    \n",
    "\trate = xs.variable()\n",
    "\tidx_N1 = xs.variable()\n",
    "\tidx_N2 = xs.variable()\n",
    "\tidx_N3 = xs.variable()\n",
    "\tidx_N4 = xs.variable()\n",
    "    \n",
    "\n",
    "\tdef initialize(self):\n",
    "\t\tself.uplift = np.zeros((ny,nx))\n",
    "\t\tself.uplift[self.idx_N1:self.idx_N2,:] = 1\n",
    "\t\tself.uplift[self.idx_N3:self.idx_N4,:] = 1\n",
    "\t\tfrom scipy.ndimage import gaussian_filter\n",
    "\t\tself.uplift = gaussian_filter(self.uplift, sigma=2)\n",
    "\t\tself.uplift /= self.uplift.max()\n",
    "\t\tself.uplift *= self.rate\n",
    "\t\tself.uplift[[-1,0],:] = 0\n",
    "\t\tself.done = False\n",
    "\n",
    "\t@xs.runtime(args=['step_delta','step_end'])\n",
    "\tdef run_step(self, dt, timing):\n",
    "\t\tself.CHONK.add_external_to_surface_elevation_tp1(self.uplift.ravel() * dt)\n",
    "\t\tself.uplift_done = True\n",
    "\t\t\n",
    "# landscape.uplift4StSt"
   ]
  },
  {
   "cell_type": "code",
   "execution_count": null,
   "id": "ff8b4390-7c66-4761-b3b7-9954750afdf8",
   "metadata": {},
   "outputs": [],
   "source": [
    "model = xs.Model({\"ChonkBase\": chxl.ChonkBase,\n",
    "                \"Runner\": chxl.Runner,\n",
    "                \"Topography\": chxl.Topography,\n",
    "#                 \"Uplift\": UpliftLandscapeStSt,\n",
    "                \"Uplift\": UpliftLandscape,\n",
    "#                 \"Uplift\": UpliftLandscapeNF1,\n",
    "#                 \"Uplift\": chxl.Uplift,\n",
    "                \"Lake\": chxl.Lake,\n",
    "                \"Precipitation\": chxl.Precipitation,\n",
    "#                 \"DefaultParameters\": chxl.DefaultParameters,\n",
    "                \"DefaultParameters\": CustomParameters,\n",
    "                \"Flow\": chxl.Flow,\n",
    "                \"Fluvial\": chxl.Fluvial,\n",
    "#                 \"Hillslope\": chxl.Hillslope\n",
    "            })\n",
    "\n"
   ]
  },
  {
   "cell_type": "code",
   "execution_count": null,
   "id": "17def2b7-fb0c-4b4f-8717-1a8b70373167",
   "metadata": {},
   "outputs": [],
   "source": [
    "ny,nx = 100,30\n",
    "dy,dx = 200,200\n",
    "init_z = np.random.rand(ny,nx)\n",
    "# np.save(\"WB_checker\",init_z)"
   ]
  },
  {
   "cell_type": "code",
   "execution_count": null,
   "id": "aefcacad-9355-4ac8-9863-7b814fa28468",
   "metadata": {},
   "outputs": [],
   "source": [
    "# %create_setup model\n",
    "import xsimlab as xs\n",
    "time = np.arange(0,1e6,1000)\n",
    "# time = [0,1000,2000]\n",
    "otime = time[::10]\n",
    "\n",
    "init_z = np.load(\"./WB_checker.npy\")\n",
    "init_z = np.random.rand(ny,nx)\n",
    "init_z[[-1,0],:] -=1 \n",
    "init_z+=1\n",
    "\n",
    "rate = 0.5e-3\n",
    "idx_N1 = 10\n",
    "idx_N2 = 30\n",
    "idx_N3 = 70\n",
    "idx_N4 = 80\n",
    "# init_z[0,:] = 1000\n",
    "# init_z[0,:] = 0\n",
    "U = np.zeros((ny,nx)) + 2e-4\n",
    "\n",
    "Utime = 1e8\n",
    "ds_in = xs.create_setup(\n",
    "    model=model,\n",
    "    clocks={\n",
    "        'time': time,\n",
    "        'otime': otime\n",
    "    },\n",
    "    master_clock='time',\n",
    "    input_vars={\n",
    "        'ChonkBase__dx': dx,\n",
    "        'ChonkBase__dy': dy,\n",
    "        'ChonkBase__nx': nx,\n",
    "        'ChonkBase__ny': ny,\n",
    "        'ChonkBase__depths_res_sed_proportions': 10,\n",
    "        'ChonkBase__n_depth_sed_tracking': 50,\n",
    "        'ChonkBase__boundary_conditions': \"periodic_EW\",\n",
    "        'Topography__initial_elevation': init_z,\n",
    "        'Uplift__rate': rate,\n",
    "        'Uplift__idx_N1': idx_N1,\n",
    "        'Uplift__idx_N2': idx_N2,\n",
    "        'Uplift__idx_N3': idx_N3,\n",
    "        'Uplift__idx_N4': idx_N4,\n",
    "        'Uplift__switch_time': Utime,\n",
    "        'Lake__method': 'explicit', # ('batch', ['implicit', 'explicit']),\n",
    "        'Lake__evaporation': True,\n",
    "        'Lake__evaporation_rate': 1.4,#('batch', [1e-2,0.1,1,2,5,10, 100]),\n",
    "        'Flow__threshold_single_flow': 1e9,\n",
    "        'Precipitation__precipitation_rate': 1\n",
    "    },\n",
    "    output_vars={\n",
    "        'Topography__topography': 'otime',\n",
    "        'Topography__sed_height': 'otime',\n",
    "        'Flow__Qw': 'otime',\n",
    "        'Flow__water_balance_checker': 'time',\n",
    "        'Lake__lake_depth': 'otime',\n",
    "        'Fluvial__Qs': 'otime',\n",
    "        'ChonkBase__D_s': 'otime',\n",
    "        'ChonkBase__E_s': 'otime',\n",
    "        'ChonkBase__E_r': 'otime',\n",
    "        'Lake__topolake': 'otime',\n",
    "#         'Hillslope__Qs': 'otime',\n",
    "    }\n",
    ")\n"
   ]
  },
  {
   "cell_type": "code",
   "execution_count": null,
   "id": "c49f86a6-6098-4225-8418-fcd25e8f8089",
   "metadata": {
    "tags": []
   },
   "outputs": [],
   "source": [
    "# from dask.distributed import Client\n",
    "# client = Client(n_workers=4, threads_per_worker=1)  \n",
    "zg = zarr.group(\"WBchecekr.zarr\", overwrite=True)\n",
    "with model,xs.monitoring.ProgressBar():\n",
    "    out_ds = ds_in.xsimlab.run(store = zg)\n",
    "#     out_ds = mod1.xsimlab.run()  \n",
    "out_ds.x.values[0] = 0\n",
    "out_ds.y.values[0] = 0\n",
    "# out_ds[\"topolake\"] = out_ds[\"Topography__topography\"] + out_ds[\"Lake__lake_depth\"]"
   ]
  },
  {
   "cell_type": "code",
   "execution_count": null,
   "id": "3a7fc54d-c9b8-4a8a-af2b-57d2931e4b9d",
   "metadata": {},
   "outputs": [],
   "source": [
    "fig,ax = plt.subplots()\n",
    "ax2 = ax.twinx()\n",
    "ax2.plot(out_ds.time.values, out_ds.Flow__water_balance_checker.values/ (out_ds.Topography__topography.values[-1].ravel().shape[0] * dx * dy) * 100, color = 'r')\n",
    "ax2.set_ylabel(\"% watbal\")\n",
    "ax.plot(out_ds.time.values, out_ds.Flow__water_balance_checker.values,color = 'blue' )"
   ]
  },
  {
   "cell_type": "code",
   "execution_count": null,
   "id": "97762137-e2a9-4462-aa9d-38889f577933",
   "metadata": {
    "tags": []
   },
   "outputs": [],
   "source": [
    "from ipyfastscape import TopoViz3d\n",
    "\n",
    "\n",
    "app = TopoViz3d(out_ds, canvas_height=600, time_dim=\"otime\", elevation_var = \"Lake__topolake\" )\n",
    "# app = TopoViz3d(out_ds, canvas_height=600, time_dim=\"otime\", elevation_var = \"Topography__topography\" )\n",
    "# \n",
    "\n",
    "app.show()"
   ]
  },
  {
   "cell_type": "code",
   "execution_count": null,
   "id": "a6a7e462-fa25-4735-a178-5428fb528d5c",
   "metadata": {},
   "outputs": [],
   "source": [
    "np.save(\"WB_checker.npy\", out_ds.Topography__topography.values[-1])\n",
    "# np.save(\"sed4testHS_CHONK.npy\", out_ds.Topography__sed_height.sel({'otime':1.001e6}, method=\"nearest\").values)\n",
    "# np.save(\"sed4testtopo_CHONK.npy\", out_ds.Topography__topography.sel({'otime':1.001e6}, method=\"nearest\").values)"
   ]
  },
  {
   "cell_type": "code",
   "execution_count": null,
   "id": "d2b21909-a150-450e-87b1-c9b36f7b32ce",
   "metadata": {},
   "outputs": [],
   "source": [
    "fig,ax = plt.subplots()\n",
    "# ax.imshow(np.log10(out_ds.Flow__Qw.values[0]))\n",
    "# cb = ax.imshow(np.load(\"Stuff.npy\").reshape(ny,nx))\n",
    "cb = ax.imshow(out_ds.Lake__lake_depth.values[36], vmin = 0, vmax = 0.1)\n",
    "plt.colorbar(cb)"
   ]
  },
  {
   "cell_type": "code",
   "execution_count": null,
   "id": "fa563c71-8398-4b64-9507-a8670d3dc5d2",
   "metadata": {},
   "outputs": [],
   "source": []
  },
  {
   "cell_type": "code",
   "execution_count": null,
   "id": "0bcac1a7-38b8-474e-ab3e-876b26d23f60",
   "metadata": {},
   "outputs": [],
   "source": []
  },
  {
   "cell_type": "code",
   "execution_count": null,
   "id": "1761961a-3e0e-40bc-aa81-1af6b8be23a8",
   "metadata": {},
   "outputs": [],
   "source": [
    "from importlib import reload  \n",
    "import plotter as pol\n",
    "import warnings;warnings.simplefilter('ignore')\n",
    "reload(pol)\n",
    "\n",
    "pol.anim_lake_cross_section(\n",
    "\tout_ds, # The input ds \n",
    "\tfname = \"outputgif\",\n",
    "\ttimedim = \"otime\", # the time dimension\n",
    "\tbatch_dim = None, # if there is a batch dim to pick\n",
    "\tcross_section_dir = 'x', # is the cross section in x or y direction\n",
    "\txy_cross_section = 10000, # coordinate on the other axis\n",
    "\tcolor_bedrock = 'gray', # color of the bedrock\n",
    "\tcolor_sediments = 'orange', # color of the bedrock\n",
    "\tcolor_water = 'blue', # color of the water\n",
    "\tz_min = None, # minimum z on the cross_section, if left to none -> min of all\n",
    "\tz_max = None, # max z on the cross_section, if left to none -> min of all\n",
    "\t# Map parameters\n",
    "\tcmap_elev = 'gist_earth', # cmap of the cross-section\n",
    "\talpha_hillshade = 0.5, # transparency of the hillshade\n",
    "    czmin = 0,\n",
    "    czmax = 1500,\n",
    "    figsize = (12,4.5),\n",
    "    custom_tickszz = np.arange(0,21000,5000, dtype = np.int),\n",
    ")"
   ]
  },
  {
   "cell_type": "code",
   "execution_count": null,
   "id": "9a7a4106-ff51-4f7f-9ad3-e847d77c2ef8",
   "metadata": {},
   "outputs": [],
   "source": [
    "A =np.zeros((1092 * 1002), dtype= np.float32)"
   ]
  },
  {
   "cell_type": "code",
   "execution_count": null,
   "id": "b6ea8ec1-ba5f-4079-8bca-885d8ce3f786",
   "metadata": {},
   "outputs": [],
   "source": [
    "A.shape"
   ]
  },
  {
   "cell_type": "code",
   "execution_count": null,
   "id": "259efd0e-ddb5-4abe-94e0-e9f794bb8945",
   "metadata": {},
   "outputs": [],
   "source": [
    "A.nbytes * 5 * 200"
   ]
  },
  {
   "cell_type": "code",
   "execution_count": null,
   "id": "67ee7a90-8890-4c29-b9bb-b0f94d619e16",
   "metadata": {},
   "outputs": [],
   "source": [
    "4376736000 / 1e6"
   ]
  },
  {
   "cell_type": "code",
   "execution_count": null,
   "id": "0b65ebd7-2458-41f8-bf0c-09bfa3f648d4",
   "metadata": {
    "tags": []
   },
   "outputs": [],
   "source": [
    "from ipyfastscape import TopoViz3d\n",
    "import xarray as xr\n",
    "out_ds = xr.open_zarr(\"rift_lake_evaporation_2.zarr\")\n",
    "out_ds.x.values[0] = 0\n",
    "out_ds.y.values[0] = 0\n",
    "# app = TopoViz3d(out_ds.load(), canvas_height=600, time_dim=\"otime\", elevation_var = \"Lake__topolake\" )\n",
    "app = TopoViz3d(out_ds, canvas_height=600, time_dim=\"otime\", elevation_var = \"Topography__topography\" )\n",
    "# \n",
    "\n",
    "app.show()"
   ]
  },
  {
   "cell_type": "code",
   "execution_count": null,
   "id": "802048d1-132d-4965-b7d3-78749ada198a",
   "metadata": {},
   "outputs": [],
   "source": [
    "out_ds[\"Topography__topography\"]"
   ]
  },
  {
   "cell_type": "code",
   "execution_count": null,
   "id": "61f7455f-b60a-4645-9872-67128d6a2f49",
   "metadata": {},
   "outputs": [],
   "source": []
  }
 ],
 "metadata": {
  "kernelspec": {
   "display_name": "Python 3 (ipykernel)",
   "language": "python",
   "name": "python3"
  },
  "language_info": {
   "codemirror_mode": {
    "name": "ipython",
    "version": 3
   },
   "file_extension": ".py",
   "mimetype": "text/x-python",
   "name": "python",
   "nbconvert_exporter": "python",
   "pygments_lexer": "ipython3",
   "version": "3.8.8"
  }
 },
 "nbformat": 4,
 "nbformat_minor": 5
}
