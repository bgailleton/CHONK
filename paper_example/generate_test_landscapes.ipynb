{
 "cells": [
  {
   "cell_type": "code",
   "execution_count": 1,
   "id": "5e041dcb-0183-4031-a90e-2022dbaba2c5",
   "metadata": {},
   "outputs": [],
   "source": [
    "import numpy as np\n",
    "import CHONK_XL as chxl\n",
    "import matplotlib.pyplot as plt\n",
    "from IPython.display import display, Markdown, Latex\n",
    "import xsimlab as xs\n",
    "import CHONK_cpp as ch\n",
    "import zarr\n",
    "import helplotlib as hpl\n",
    "import helper\n",
    "%matplotlib widget\n",
    "\n",
    "# Instanciating the landscape\n",
    "landscape = helper.Landscape()\n",
    "\n",
    "# params for the landscapes dimensions\n",
    "\n",
    "landscape.set_dimensions_from_res( nx = 100, ny = 100, dx = 200, dy = 200)\n",
    "# landscape.set_dimensions_from_length(nx = 100, ny = 100, lx = 20000, ly = 20000)\n",
    "landscape.set_boundaries_elevation(N = 0, S = 0)\n",
    "landscape.set_rel_distances(mountain_front = 0.7, normal_fault = 0.5)\n",
    "\n",
    "landscape.generate_uplift_4_StSt(  U = 2e-4)\n",
    "landscape.generate_uplift_Normal_fault(Upos = 1e-3, Uneg = 2e-3, alpha_pos = 2e3, alpha_neg = 0.8e4)\n",
    "# landscape.add_pluton( dimless_X = 0.6, dimless_Y = 0.3, half_width = 5000,  half_heigth = 3000)"
   ]
  },
  {
   "cell_type": "code",
   "execution_count": 2,
   "id": "7956d4dd-930e-4df0-82aa-73b450979627",
   "metadata": {},
   "outputs": [
    {
     "data": {
      "application/vnd.jupyter.widget-view+json": {
       "model_id": "4b6f91c8d1394938a5481952072064d4",
       "version_major": 2,
       "version_minor": 0
      },
      "text/plain": [
       "Canvas(toolbar=Toolbar(toolitems=[('Home', 'Reset original view', 'home', 'home'), ('Back', 'Back to previous …"
      ]
     },
     "metadata": {},
     "output_type": "display_data"
    },
    {
     "data": {
      "text/plain": [
       "<matplotlib.colorbar.Colorbar at 0x7f9e9986f4c0>"
      ]
     },
     "execution_count": 2,
     "metadata": {},
     "output_type": "execute_result"
    }
   ],
   "source": [
    "fig, ax  = plt.subplots()\n",
    "# cb = ax.imshow(landscape.indices)\n",
    "cb = ax.imshow(landscape.uplift_NF)\n",
    "# cb = ax.imshow(landscape.uplift_phase_1)\n",
    "plt.colorbar(cb, label = 'Uplift')"
   ]
  },
  {
   "cell_type": "code",
   "execution_count": null,
   "id": "cd192673-3dd6-4064-b3a0-958693df4167",
   "metadata": {},
   "outputs": [],
   "source": []
  }
 ],
 "metadata": {
  "kernelspec": {
   "display_name": "Python 3 (ipykernel)",
   "language": "python",
   "name": "python3"
  },
  "language_info": {
   "codemirror_mode": {
    "name": "ipython",
    "version": 3
   },
   "file_extension": ".py",
   "mimetype": "text/x-python",
   "name": "python",
   "nbconvert_exporter": "python",
   "pygments_lexer": "ipython3",
   "version": "3.8.8"
  }
 },
 "nbformat": 4,
 "nbformat_minor": 5
}
