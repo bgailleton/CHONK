{
 "cells": [
  {
   "cell_type": "code",
   "execution_count": 1,
   "metadata": {},
   "outputs": [
    {
     "name": "stdout",
     "output_type": "stream",
     "text": [
      "[[False False False ... False False False]\n",
      " [ True  True  True ...  True  True  True]\n",
      " [ True  True  True ...  True  True  True]\n",
      " ...\n",
      " [ True  True  True ...  True  True  True]\n",
      " [ True  True  True ...  True  True  True]\n",
      " [False False False ... False False False]]\n",
      "[[0 0 0 ... 0 0 0]\n",
      " [1 1 1 ... 1 1 1]\n",
      " [1 1 1 ... 1 1 1]\n",
      " ...\n",
      " [1 1 1 ... 1 1 1]\n",
      " [1 1 1 ... 1 1 1]\n",
      " [0 0 0 ... 0 0 0]]\n"
     ]
    }
   ],
   "source": [
    "import CHONK_cpp as ch\n",
    "import numpy as np\n",
    "import fastscapelib_fortran as fs\n",
    "import lsdtopytools as lsd\n",
    "import numba as nb\n",
    "from matplotlib import pyplot as plt\n",
    "%matplotlib inline\n",
    "from IPython.display import clear_output, display\n",
    "nrows = 100\n",
    "ncols = 100\n",
    "xres = 100\n",
    "yres = 100\n",
    "\n",
    "xmin = 0\n",
    "xmax = ncols*yres\n",
    "ymin = 0\n",
    "ymax = nrows*xres\n",
    "# Z = np.load(\"elev_breaking_stack.npy\")\n",
    "Z = np.random.rand(nrows,ncols)\n",
    "# Z = np.load(\"SS_100_100_MFA.npy\")\n",
    "lsd.raster_loader.save_raster(Z.reshape(nrows,ncols),\n",
    "   0,xres*ncols,yres*nrows,0,xres,\"epsg:32635\",\"current_Z.tif\", fmt = 'GTIFF')\n",
    "lsd.raster_loader.save_raster(np.arange(nrows*ncols).reshape(nrows,ncols).astype(np.int32),\n",
    "   0,xres*ncols,yres*nrows,0,xres,\"epsg:32635\",\"current_ID.tif\", fmt = 'GTIFF')\n",
    "\n",
    "model = ch.ModelRunner( 1, 0, [\"drainage_area\",\"move\",\"basic_SPIL\"], \"MF_fastscapelib_threshold_SF\") # \"MF_fastscapelib\"\n",
    "model.set_lake_switch(False)\n",
    "model.update_array_double_param(\"surface_elevation\", Z.ravel())\n",
    "model.update_double_param(\"x_min\", xmin)\n",
    "model.update_double_param(\"y_min\", ymin)\n",
    "model.update_double_param(\"x_max\", xmax)\n",
    "model.update_double_param(\"y_max\", ymax)\n",
    "model.update_double_param(\"dx\", xres)\n",
    "model.update_double_param(\"dy\", yres)\n",
    "model.update_double_param(\"no_data\", -9999)\n",
    "model.update_int_param(\"n_rows\", nrows)\n",
    "model.update_int_param(\"n_cols\", ncols)\n",
    "model.update_int_param(\"n_elements\", nrows*ncols)\n",
    "model.update_array_double_param(\"surface_elevation_tp1\", np.copy(Z.ravel()))\n",
    "model.update_array_double_param(\"sed_height\", np.zeros_like(Z.ravel()))\n",
    "model.update_array_double_param(\"sed_height_tp1\", np.zeros_like(Z.ravel()))\n",
    "model.update_array_double_param(\"lake_depth\", np.zeros_like(Z.ravel()))\n",
    "model.update_double_param(\"SPIL_n\", 1)\n",
    "model.update_double_param(\"SPIL_m\", 0.45)\n",
    "model.update_double_param(\"threshold_single_flow\", 5e5)\n",
    "this_K = np.zeros_like(Z.ravel())+1e-4\n",
    "model.update_array_double_param(\"erodibility_K\", np.zeros_like(Z.ravel())+1e-3)\n",
    "active = np.zeros((nrows,ncols), dtype = np.int)\n",
    "# active[1:-1,1:-1:] = 1\n",
    "active[1:-1,:] = 1\n",
    "print(active.astype(np.bool))\n",
    "print(active)\n",
    "model.update_array_int_param(\"active_nodes\", active.ravel())\n",
    "\n"
   ]
  },
  {
   "cell_type": "code",
   "execution_count": 2,
   "metadata": {},
   "outputs": [],
   "source": [
    "fs.fastscape_init()\n",
    "fs.fastscape_set_nx_ny(ncols,nrows)\n",
    "fs.fastscape_setup()\n",
    "fs.fastscape_set_xl_yl(xmax - xmin, ymax - ymin)\n",
    "fs.fastscape_set_bc(1010)\n",
    "fstctx = fs.fastscapecontext\n",
    "fstctx.p = 3\n",
    "\n",
    "\n",
    "\n"
   ]
  },
  {
   "cell_type": "code",
   "execution_count": 3,
   "metadata": {},
   "outputs": [],
   "source": [
    "ch.set_DEBUG_switch_nodegraph([\"SAFE_STACK_STOPPER\", \"EXTENSIVE_STACK_INFO\"], [True,True]) "
   ]
  },
  {
   "cell_type": "code",
   "execution_count": 27,
   "metadata": {},
   "outputs": [
    {
     "name": "stdout",
     "output_type": "stream",
     "text": [
      "0|1|2|3|4|5|6|7|8|9|10|11|12|13|14|15|16|17|18|19|20|21|22|23|24|25|26|27|28|29|30|31|32|33|34|35|36|37|38|39|40|41|42|43|44|45|46|47|48|49|50|51|52|53|54|55|56|57|58|59|60|61|62|63|64|65|66|67|68|69|70|71|72|73|74|75|76|77|78|79|80|81|82|83|84|85|86|87|88|89|90|91|92|93|94|95|96|97|98|99|"
     ]
    }
   ],
   "source": [
    "uplift = np.zeros((nrows,ncols))\n",
    "# uplift[1:-1,1:-1:] = 0.001\n",
    "uplift[1:-1,:] = 0.001\n",
    "uplift[10:20,:] +=  0.004\n",
    "uplift = uplift.ravel() \n",
    "dt = 100\n",
    "model.update_timestep(dt)\n",
    "\n",
    "model.update_array_double_param(\"erodibility_K\", np.zeros_like(Z.ravel())+1e-4)\n",
    "\n",
    "model.set_lake_switch(True)\n",
    "\n",
    "# for i in range(1):\n",
    "for i in range(100):\n",
    "    new_elev = model.get_array_double_param(\"surface_elevation_tp1\") + (uplift * dt)\n",
    "\n",
    "#     new_elev = np.random.rand(nrows *ncols) \n",
    "    new_elev += np.random.rand(new_elev.shape[0]) * 1e-6\n",
    "    lsd.raster_loader.save_raster(Z.reshape(nrows,ncols),\n",
    "   0,xres*ncols,yres*nrows,0,xres,\"epsg:32635\",\"current_Z.tif\", fmt = 'GTIFF')\n",
    "    lsd.raster_loader.save_raster(np.arange(nrows*ncols).reshape(nrows,ncols).astype(np.int32),\n",
    "   0,xres*ncols,yres*nrows,0,xres,\"epsg:32635\",\"current_ID.tif\", fmt = 'GTIFF')\n",
    "\n",
    "    model.update_array_double_param(\"surface_elevation\", new_elev)\n",
    "    model.update_array_double_param(\"surface_elevation_tp1\", new_elev)\n",
    "    model.update_array_double_param(\"sed_height\", model.get_array_double_param(\"sed_height_tp1\"))\n",
    "    fstctx.h = new_elev\n",
    "    fstctx.mrec = np.zeros_like(fstctx.mrec) -1\n",
    "    fs.find_stacks_with_intermediate_save ()\n",
    "    model.update_array_int_param(\"D8stack\",fstctx.stack0 - 1)\n",
    "    model.update_array_int_param(\"D8rec\",fstctx.rec0 - 1)\n",
    "    model.update_array_int_param(\"Prec\",fstctx.rec - 1)\n",
    "    model.update_array_double_param(\"D8Length\",fstctx.length)\n",
    "    model.update_array2d_int_param(\"Mrec\",fstctx.mrec.astype('int').transpose() - 1)\n",
    "    model.update_array2d_double_param(\"Mlength\",fstctx.mlrec.transpose())\n",
    "    model.update_array2d_double_param(\"external_weigths_water\",fstctx.mwrec.transpose())\n",
    "#      this->graph = NodeGraphV2(this->io_int_array[\"D8stack\"], this->io_int_array[\"D8rec\"], this->io_double_array[\"D8Length\"],\n",
    "# this->io_int_array2d[\"Mrec\"] , this->io_double_array2d[\"Mlength\"], this->io_double_array[\"surface_elevation\"], this->io_double[\"dx\"], this->io_double[\"dy\"]);\n",
    "    \n",
    "    model.initiate_nodegraph()\n",
    "    \n",
    "    model.run()\n",
    "    print(i, end= \"|\")\n",
    "    \n",
    "    \n",
    "    "
   ]
  },
  {
   "cell_type": "code",
   "execution_count": 30,
   "metadata": {},
   "outputs": [
    {
     "name": "stdout",
     "output_type": "stream",
     "text": [
      "0.011678601630285541\n"
     ]
    },
    {
     "data": {
      "text/plain": [
       "Text(0, 0.5, 'Y (m)')"
      ]
     },
     "execution_count": 30,
     "metadata": {},
     "output_type": "execute_result"
    },
    {
     "data": {
      "image/png": "[encoded data removed]",
      "text/plain": [
       "<Figure size 720x720 with 2 Axes>"
      ]
     },
     "metadata": {
      "needs_background": "light"
     },
     "output_type": "display_data"
    }
   ],
   "source": [
    "Zp1 = model.get_array_double_param(\"surface_elevation_tp1\")\n",
    "print(np.min(Zp1))\n",
    "\n",
    "fig,ax = plt.subplots(figsize = (10,10))\n",
    "\n",
    "# cb = ax.imshow(Z.reshape(raster[\"nrows\"],raster[\"ncols\"])- Zp1.reshape(raster[\"nrows\"],raster[\"ncols\"]), \n",
    "#      cmap = \"viridis\")\n",
    "# model.get_water_flux()\n",
    "noerr = np.copy(Zp1.reshape(nrows,ncols))\n",
    "noerr[noerr>0] = np.nan\n",
    " \n",
    "cb = ax.imshow(Zp1.reshape(nrows,ncols), vmin = 0, cmap = \"gray\", extent = [xmin,xmax,ymin,ymax])\n",
    "\n",
    "\n",
    "lake = model.get_array_double_param(\"lake_depth\").reshape(nrows,ncols)\n",
    "lake = np.abs(lake)\n",
    "lake[lake<=0] = np.nan\n",
    "ax.imshow(lake,vmin =-5, vmax = -4, cmap = \"Blues\", extent = [xmin,xmax,ymin,ymax])\n",
    "cb = ax.imshow(np.log10(model.get_water_flux().reshape(nrows,ncols)), vmin = 3, cmap = \"Blues\")\n",
    "# cb = ax.imshow((Zp1 - tempsave).reshape(nrows,ncols), vmin = 0, cmap = \"gist_earth\", extent = [xmin,xmax,ymin,ymax])\n",
    "# cb = ax.imshow(model.get_other_attribute(\"lake_depth\").reshape(nrows,ncols), vmin = 0,     cmap = \"viridis\")\n",
    "# cb = ax.imshow(model.get_erosion_flux().reshape(nrows,ncols), cmap = \"viridis\")\n",
    "# cb = ax.imshow(model.get_sediment_flux().reshape(nrows,ncols), cmap = \"viridis\")\n",
    "\n",
    "# cb = ax.imshow(model.get_all_nodes_in_depression().reshape(nrows,ncols), cmap = \"viridis\")\n",
    "# cb = ax.imshow(model.DEBUG_get_preacc().reshape(nrows,ncols), cmap = \"viridis\")\n",
    "# cb = ax.imshow(model.get_array_double_param(\"sed_height_tp1\").reshape(nrows,ncols), cmap = \"viridis\")\n",
    "\n",
    "\n",
    "# cb = ax.imshow(Z.reshape(raster[\"nrows\"],raster[\"ncols\"])[600:700,400:500] - Zp1.reshape(raster[\"nrows\"],raster[\"ncols\"])[600:700,400:500], \n",
    "#     vmin = -0.1,vmax = 0.5, cmap = \"viridis\")\n",
    "# cb = ax.imshow(Z.reshape(raster[\"nrows\"],raster[\"ncols\"])[550:650,400:500], cmap = \"viridis\",vmin = 500, vmax = 800 )\n",
    "plt.colorbar(cb, label = r\"Erosion rates $(mm.yrs^{-1})$\")\n",
    "ax.set_xlabel(\"X (m)\")\n",
    "ax.set_ylabel(\"Y (m)\")\n"
   ]
  },
  {
   "cell_type": "code",
   "execution_count": 6,
   "metadata": {},
   "outputs": [],
   "source": [
    "\n",
    "\n",
    "\n",
    "\n",
    "ch.set_DEBUG_switch_nodegraph([\"SAFE_STACK_STOPPER\", \"EXTENSIVE_STACK_INFO\"], [True,True]) \n",
    "# ch.set_DEBUG_switch_nodegraph([\"SAFE_STACK_STOPPER\", \"EXTENSIVE_STACK_INFO\"], [False,True]) \n"
   ]
  },
  {
   "cell_type": "code",
   "execution_count": 3,
   "metadata": {},
   "outputs": [
    {
     "ename": "NameError",
     "evalue": "name 'new_elev' is not defined",
     "output_type": "error",
     "traceback": [
      "\u001b[0;31m---------------------------------------------------------------------------\u001b[0m",
      "\u001b[0;31mNameError\u001b[0m                                 Traceback (most recent call last)",
      "\u001b[0;32m<ipython-input-3-48444da70ce0>\u001b[0m in \u001b[0;36m<module>\u001b[0;34m\u001b[0m\n\u001b[0;32m----> 1\u001b[0;31m \u001b[0mnew_elev\u001b[0m \u001b[0;34m=\u001b[0m \u001b[0mnew_elev\u001b[0m\u001b[0;34m.\u001b[0m\u001b[0mreshape\u001b[0m\u001b[0;34m(\u001b[0m\u001b[0mnrows\u001b[0m\u001b[0;34m,\u001b[0m\u001b[0mncols\u001b[0m\u001b[0;34m)\u001b[0m\u001b[0;34m\u001b[0m\u001b[0;34m\u001b[0m\u001b[0m\n\u001b[0m\u001b[1;32m      2\u001b[0m \u001b[0;31m# new_elev[20:20,15:15] = new_elev[20:20,15:15] -  20\u001b[0m\u001b[0;34m\u001b[0m\u001b[0;34m\u001b[0m\u001b[0;34m\u001b[0m\u001b[0m\n\u001b[1;32m      3\u001b[0m \u001b[0mnew_elev\u001b[0m\u001b[0;34m[\u001b[0m\u001b[0;36m0\u001b[0m\u001b[0;34m:\u001b[0m\u001b[0;36m2\u001b[0m\u001b[0;34m,\u001b[0m\u001b[0;34m:\u001b[0m\u001b[0;34m]\u001b[0m \u001b[0;34m=\u001b[0m \u001b[0;36m0\u001b[0m\u001b[0;34m\u001b[0m\u001b[0;34m\u001b[0m\u001b[0m\n\u001b[1;32m      4\u001b[0m \u001b[0mnew_elev\u001b[0m\u001b[0;34m[\u001b[0m\u001b[0;34m-\u001b[0m\u001b[0;36m2\u001b[0m\u001b[0;34m:\u001b[0m\u001b[0;34m,\u001b[0m\u001b[0;34m:\u001b[0m\u001b[0;34m]\u001b[0m \u001b[0;34m=\u001b[0m \u001b[0;36m0\u001b[0m\u001b[0;34m\u001b[0m\u001b[0;34m\u001b[0m\u001b[0m\n\u001b[1;32m      5\u001b[0m \u001b[0mnew_elev\u001b[0m \u001b[0;34m=\u001b[0m \u001b[0mnew_elev\u001b[0m\u001b[0;34m.\u001b[0m\u001b[0mravel\u001b[0m\u001b[0;34m(\u001b[0m\u001b[0;34m)\u001b[0m\u001b[0;34m\u001b[0m\u001b[0;34m\u001b[0m\u001b[0m\n",
      "\u001b[0;31mNameError\u001b[0m: name 'new_elev' is not defined"
     ]
    }
   ],
   "source": [
    "new_elev = new_elev.reshape(nrows,ncols)\n",
    "# new_elev[20:20,15:15] = new_elev[20:20,15:15] -  20\n",
    "new_elev[0:2,:] = 0\n",
    "new_elev[-2:,:] = 0\n",
    "new_elev = new_elev.ravel()\n",
    "model.update_array_double_param(\"surface_elevation_tp1\", new_elev)\n",
    "model.update_array_double_param(\"surface_elevation\", new_elev)\n"
   ]
  },
  {
   "cell_type": "code",
   "execution_count": null,
   "metadata": {},
   "outputs": [],
   "source": [
    "this_K = np.zeros_like(Z.ravel())+1e-4\n",
    "\n",
    "popup_elev = ch.pop_elevation_to_SS_SF_SPIL(fstctx.stack -1, fstctx.rec -1,fstctx.length , uplift, this_K, 0.9, 0.45, xres*yres)\n",
    "pZ = np.copy(popup_elev)"
   ]
  },
  {
   "cell_type": "code",
   "execution_count": 6,
   "metadata": {},
   "outputs": [
    {
     "data": {
      "image/png": "[encoded data removed]",
      "text/plain": [
       "<Figure size 432x288 with 1 Axes>"
      ]
     },
     "metadata": {
      "needs_background": "light"
     },
     "output_type": "display_data"
    }
   ],
   "source": [
    "plt.imshow(pZ.reshape(nrows, ncols))\n",
    "model.update_array_double_param(\"surface_elevation_tp1\", pZ)\n",
    "\n",
    "model.update_array_double_param(\"surface_elevation\", pZ)\n"
   ]
  },
  {
   "cell_type": "code",
   "execution_count": 13,
   "metadata": {},
   "outputs": [
    {
     "name": "stdout",
     "output_type": "stream",
     "text": [
      "[0 0 0 ... 0 0 0]\n",
      "[0]\n"
     ]
    }
   ],
   "source": [
    "mfst = np.copy(fstctx.mstack.astype('int') - 1)\n",
    "print(model.get_array_int_param(\"MF_stack\") - mfst)\n",
    "print(np.unique(model.get_array_int_param(\"MF_stack\") - mfst))"
   ]
  },
  {
   "cell_type": "code",
   "execution_count": 8,
   "metadata": {},
   "outputs": [
    {
     "data": {
      "text/plain": [
       "0"
      ]
     },
     "execution_count": 8,
     "metadata": {},
     "output_type": "execute_result"
    }
   ],
   "source": [
    "Prec = fstctx.rec - 1\n",
    "don = fstctx.don.transpose() - 1\n",
    "ndon = fstctx.ndon\n",
    "rec = fstctx.mrec.transpose() - 1\n",
    "# print(model.get_array_int_param(\"MF_rec\")[792])\n",
    "# print(model.get_array_int_param(\"MF_stack\")[2080])\n",
    "# print(Prec[2080])\n",
    "# print(model.DEBUG_get_receivers_at_node(2390))\n",
    "# print(model.DEBUG_get_donors_at_node(2390))\n",
    "rec[300]\n",
    "ndon[300]"
   ]
  },
  {
   "cell_type": "code",
   "execution_count": 9,
   "metadata": {},
   "outputs": [],
   "source": [
    "lsd.raster_loader.save_raster(model.get_array_double_param(\"surface_elevation\").reshape(nrows,ncols),\n",
    "   0,xres*ncols,yres*nrows,0,xres,\"epsg:32635\",\"nodegraphv2_topo.tif\", fmt = 'GTIFF')\n",
    "lsd.raster_loader.save_raster(np.arange(nrows*ncols).astype(np.int32).reshape(nrows,ncols),\n",
    "   0,xres*ncols,yres*nrows,0,xres,\"epsg:32635\",\"nodegraphv2_ID.tif\", fmt = 'GTIFF')\n",
    "lsd.raster_loader.save_raster(np.log10(model.get_water_flux().reshape(nrows,ncols)).reshape(nrows,ncols),\n",
    "   0,xres*ncols,yres*nrows,0,xres,\"epsg:32635\",\"nodegraphv2_logDA.tif\", fmt = 'GTIFF')\n",
    "arr = model.get_array_double_param(\"lake_depth\").reshape(nrows,ncols)\n",
    "arr[arr<=0] = -9999\n",
    "lsd.raster_loader.save_raster(arr,\n",
    "   0,xres*ncols,yres*nrows,0,xres,\"epsg:32635\",\"nodegraphv2_lake_depth.tif\", fmt = 'GTIFF')\n",
    "caspers = model.get_broken_nodes()\n",
    "ARR = np.zeros_like(Z.ravel())\n",
    "ARR[caspers]=1\n",
    "lsd.raster_loader.save_raster(ARR.reshape(nrows,ncols),0,xres*ncols,yres*nrows,0,xres,\"epsg:32635\",\"nodegraphv2_broken_nodes.tif\", fmt = 'GTIFF')"
   ]
  },
  {
   "cell_type": "code",
   "execution_count": 16,
   "metadata": {},
   "outputs": [],
   "source": [
    "model.update_double_param(\"threshold_single_flow\", 1e5)\n"
   ]
  },
  {
   "cell_type": "code",
   "execution_count": 8,
   "metadata": {},
   "outputs": [],
   "source": [
    "np.save(\"SS_100_100_MFA.npy\",model.get_array_double_param(\"surface_elevation\"))"
   ]
  },
  {
   "cell_type": "code",
   "execution_count": 10,
   "metadata": {},
   "outputs": [
    {
     "name": "stdout",
     "output_type": "stream",
     "text": [
      "[]\n"
     ]
    }
   ],
   "source": [
    "caspers = model.get_broken_nodes()\n",
    "print(caspers)"
   ]
  },
  {
   "cell_type": "code",
   "execution_count": 11,
   "metadata": {},
   "outputs": [
    {
     "data": {
      "text/plain": [
       "<matplotlib.image.AxesImage at 0x7f850a6f5a90>"
      ]
     },
     "execution_count": 11,
     "metadata": {},
     "output_type": "execute_result"
    },
    {
     "data": {
      "image/png": "[encoded data removed]",
      "text/plain": [
       "<Figure size 432x288 with 1 Axes>"
      ]
     },
     "metadata": {
      "needs_background": "light"
     },
     "output_type": "display_data"
    }
   ],
   "source": [
    "ARR = np.zeros_like(Z.ravel())\n",
    "ARR[caspers]=1\n",
    "plt.imshow(ARR.reshape(nrows,ncols))"
   ]
  },
  {
   "cell_type": "code",
   "execution_count": 16,
   "metadata": {},
   "outputs": [],
   "source": [
    "from io import StringIO\n",
    "import pandas as pd\n",
    "res = \"\"\"ID|donor|score\n",
    "79|178|1638\n",
    "80|181|537\n",
    "81|182|536\n",
    "180|281|534\n",
    "877|978|507\n",
    "976|1077|470\n",
    "1175|1176|460\n",
    "1274|1273|1593\n",
    "1275|1176|460\n",
    "1374|1273|1593\n",
    "1375|1276|461\n",
    "1376|1477|435\n",
    "1474|1373|1594\n",
    "1475|1576|433\n",
    "1476|1577|431\n",
    "1573|1672|1576\n",
    "1574|1673|1577\n",
    "1575|1676|432\n",
    "1674|1774|1537\n",
    "1675|1776|415\n",
    "1775|1776|415\n",
    "2000|1999|705\n",
    "2001|1900|715\n",
    "2002|1901|717\n",
    "2003|1902|722\n",
    "2004|1905|848\n",
    "2005|1906|847\n",
    "2073|1974|1535\n",
    "2079|1980|413\n",
    "2080|1981|412\n",
    "2085|1986|388\n",
    "2097|1998|707\n",
    "2098|1999|705\n",
    "2099|1999|705\n",
    "2105|2006|2468\n",
    "2106|2207|2102\n",
    "2172|2071|1546\n",
    "2174|2075|1536\n",
    "2175|2076|426\n",
    "2177|2076|426\n",
    "2182|2282|2616\n",
    "2183|2282|2616\n",
    "2196|2095|709\n",
    "2198|2197|2097\n",
    "2200|2399|2160\n",
    "2204|2305|2483\n",
    "2205|2305|2483\n",
    "2206|2207|2102\n",
    "2271|2171|2135\n",
    "2275|2176|427\n",
    "2276|2176|427\n",
    "2287|2386|3221\n",
    "2294|2395|3340\n",
    "2295|2396|3337\n",
    "2297|2197|2097\n",
    "2298|2197|2097\n",
    "2299|2398|2159\n",
    "2300|2399|2160\n",
    "2304|2405|2482\n",
    "2371|2272|2136\n",
    "2390|2289|367\n",
    "2392|2491|3319\n",
    "2393|2492|3320\n",
    "2394|2495|3305\n",
    "2400|2399|2160\n",
    "2401|2500|3285\n",
    "2404|2405|2482\n",
    "2467|2368|1532\n",
    "2469|2368|1532\n",
    "2470|2471|2993\n",
    "2489|2588|3216\n",
    "2501|2600|3283\n",
    "2502|2603|2162\n",
    "2503|2603|2162\n",
    "2504|2603|2162\n",
    "2568|2669|3066\n",
    "2602|2702|2161\n",
    "2604|2603|2162\n",
    "2703|2702|2161\"\"\"\n",
    "df = pd.read_csv(StringIO(res.replace(\"|\",\",\")))"
   ]
  },
  {
   "cell_type": "code",
   "execution_count": 17,
   "metadata": {},
   "outputs": [
    {
     "data": {
      "text/html": [
       "<div>\n",
       "<style scoped>\n",
       "    .dataframe tbody tr th:only-of-type {\n",
       "        vertical-align: middle;\n",
       "    }\n",
       "\n",
       "    .dataframe tbody tr th {\n",
       "        vertical-align: top;\n",
       "    }\n",
       "\n",
       "    .dataframe thead th {\n",
       "        text-align: right;\n",
       "    }\n",
       "</style>\n",
       "<table border=\"1\" class=\"dataframe\">\n",
       "  <thead>\n",
       "    <tr style=\"text-align: right;\">\n",
       "      <th></th>\n",
       "      <th>ID</th>\n",
       "      <th>donor</th>\n",
       "      <th>score</th>\n",
       "    </tr>\n",
       "  </thead>\n",
       "  <tbody>\n",
       "    <tr>\n",
       "      <th>60</th>\n",
       "      <td>2390</td>\n",
       "      <td>2289</td>\n",
       "      <td>367</td>\n",
       "    </tr>\n",
       "  </tbody>\n",
       "</table>\n",
       "</div>"
      ],
      "text/plain": [
       "      ID  donor  score\n",
       "60  2390   2289    367"
      ]
     },
     "execution_count": 17,
     "metadata": {},
     "output_type": "execute_result"
    }
   ],
   "source": [
    "df[df['score'] == df['score'].min()]"
   ]
  },
  {
   "cell_type": "code",
   "execution_count": null,
   "metadata": {},
   "outputs": [],
   "source": []
  }
 ],
 "metadata": {
  "kernelspec": {
   "display_name": "Python 3",
   "language": "python",
   "name": "python3"
  },
  "language_info": {
   "codemirror_mode": {
    "name": "ipython",
    "version": 3
   },
   "file_extension": ".py",
   "mimetype": "text/x-python",
   "name": "python",
   "nbconvert_exporter": "python",
   "pygments_lexer": "ipython3",
   "version": "3.7.7"
  }
 },
 "nbformat": 4,
 "nbformat_minor": 4
}
