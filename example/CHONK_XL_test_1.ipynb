{
 "cells": [
  {
   "cell_type": "code",
   "execution_count": 1,
   "metadata": {},
   "outputs": [
    {
     "name": "stderr",
     "output_type": "stream",
     "text": [
      "<ipython-input-1-4609ee5a2924>:106: DeprecationWarning: `np.int` is a deprecated alias for the builtin `int`. To silence this warning, use `int` by itself. Doing this will not modify any behavior and is safe. When replacing `np.int`, you may wish to use e.g. `np.int64` or `np.int32` to specify the precision. If you wish to review your current use, check the release note link for additional information.\n",
      "Deprecated in NumPy 1.20; for more details and guidance: https://numpy.org/devdocs/release/1.20.0-notes.html#deprecations\n",
      "  my_label_array = np.zeros((ny,nx), np.int)\n"
     ]
    }
   ],
   "source": [
    "%load_ext autoreload\n",
    "%autoreload 1\n",
    "import numpy as np\n",
    "import CHONK_XL as chxl\n",
    "import matplotlib.pyplot as plt\n",
    "from IPython.display import display, Markdown, Latex\n",
    "\n",
    "\n",
    "import xsimlab as xs\n",
    "import CHONK_cpp as ch\n",
    "import zarr\n",
    "import helplotlib as hpl\n",
    "%matplotlib widget\n",
    "\n",
    "ny = 100\n",
    "nx = 100\n",
    "dt = 1000\n",
    "dx = 100\n",
    "dy = 100\n",
    "\n",
    "rd3 = round(ny/3)\n",
    "\n",
    "Up = np.zeros((ny,nx)) + 1e-3\n",
    "# Up[0:rd3,:] = 1e-5\n",
    "# Up[0:rd3,:] = 1e-5\n",
    "# Up[2*rd3:,:] = 1e-5\n",
    "Up[[0,-1],:] = 0\n",
    "# Up[0:rd3,rd3:2*rd3] = 2e-4\n",
    "# Up[0:rd3,rd3:2*rd3] = 2e-4\n",
    "# Up[2*rd3:,rd3:2*rd3] = 2e-4\n",
    "# Up[[0,-1],rd3:2*rd3] = 2e-4\n",
    "Up = Up.ravel()\n",
    "\n",
    "# Z = np.load(\"SStopo50_50.npy\")\n",
    "\n",
    "# Z[25:30,25:30] = -1 * Z[25:30,25:30] + Z[25:30,25:30].min() - 10\n",
    "# Z[25:30,25:30] = 10\n",
    "# Z[3,:] = 1000\n",
    "# Z[8,:] = 900\n",
    "# Z[1:-1,8] = 900\n",
    "# Z[12,:] =800\n",
    "# Z[1:-1,11] =800\n",
    "# Z[18,:] = 600\n",
    "# Z[20,:] = 500\n",
    "\n",
    "\n",
    "# Z[3,7:40] = 800\n",
    "# Z[8,7:40] = 800\n",
    "\n",
    "# Z[13,7:40] = 800\n",
    "\n",
    "\n",
    "# Z[20:30,20:25] = np.random.rand(10,5)\n",
    "\n",
    "Z = np.load(\"100_100_SS.npy\")\n",
    "\n",
    "Z[5,:] = 1000\n",
    "\n",
    "# Z[5,20:35] = 800\n",
    "# Z[5,20:35] = 800\n",
    "\n",
    "# Z[20:40,20:40:] = 10\n",
    "\n",
    "\n",
    "\n",
    "\n",
    "# Z[5,50:70] = 800\n",
    "\n",
    "\n",
    "# Z[15,20:40] = 800\n",
    "\n",
    "# Z[20,30] = 0 \n",
    "\n",
    "# Z[2,84:88] = 400\n",
    "# Z[20,:] = 1000\n",
    "# Z[5,46:62] = 400 # level 3 test for 1 dt\n",
    "# Z[5,0:20] = 1400 # level 4\n",
    "# Z[5,36:60] = 1400 # level 4\n",
    "# Z[5,10:20] = 1000 # level 4\n",
    "# Z.ravel()[617] = 320\n",
    "\n",
    "# a,b = 0,100\n",
    "# # Z[10,a:b] = 1000 # level 5.2\n",
    "# Z[8,a:b] = 1000 # level 5.2\n",
    "# Z[6,a:b] = 1000 # level 5.2\n",
    "\n",
    "\n",
    "# Z[15,:] = 800 # level 5.2\n",
    "# Z[12,:] = 1000 # level 5.2\n",
    "\n",
    "# Z[3,40:50] = 700 # level 1 test for 1 dt, level 2 for 23 dt\n",
    "# Z[10:20,40:50] = 10\n",
    "\n",
    "# Z[3,:] = 2700 # level 2\n",
    "# \n",
    "\n",
    "# Z = np.random.rand(ny,nx)\n",
    "\n",
    "\n",
    "\n",
    "prec = np.ones((ny,nx))\n",
    "\n",
    "prec = Z/Z.max() * 0.6\n",
    "\n",
    "\n",
    "my_label_array = np.zeros((ny,nx), np.int)\n",
    "my_label_array[rd3:2*rd3,:] = 1\n",
    "\n",
    "lakeva = np.ones((ny,nx)) * 10\n",
    "\n",
    "\n",
    "\n",
    "@xs.process\n",
    "class CustomLabelling(chxl.Labelling):\n",
    "\n",
    "    def initialize(self):\n",
    "# Cidre_HS_kappa_s\n",
    "# Cidre_HS_kappa_r\n",
    "# Cidre_HS_critical_slope\n",
    "        self.label_list = []\n",
    "        self.label_list.append(ch.label(0))\n",
    "        # self.label_list[0].set_double_attribute(\"SPIL_m\", 0.45);\n",
    "        # self.label_list[0].set_double_attribute(\"SPIL_n\", 1);\n",
    "        # self.label_list[0].set_double_attribute(\"SPIL_K\", 1e-5);\n",
    "        # self.label_list[0].set_double_attribute(\"CHARLIE_I_Kr\", 2e-5);\n",
    "        # self.label_list[0].set_double_attribute(\"CHARLIE_I_Ks\", 3e-5);\n",
    "        # self.label_list[0].set_double_attribute(\"CHARLIE_I_V\", 1);\n",
    "        # self.label_list[0].set_double_attribute(\"CHARLIE_I_dimless_roughness\", 1);\n",
    "        # self.label_list[0].set_double_attribute(\"CHARLIE_I_dstar\", 1);\n",
    "        # self.label_list[0].set_double_attribute(\"CHARLIE_I_threshold_incision\", 0);\n",
    "        # self.label_list[0].set_double_attribute(\"CHARLIE_I_threshold_entrainment\", 0);\n",
    "        self.label_list[0].kappa_base = 3e-5;\n",
    "        # self.label_list[0].set_double_attribute(\"Cidre_HS_critical_slope\", 0.6);\n",
    "        self.label_list.append(ch.label(1))\n",
    "        self.label_list[1].kappa_base = 3e-5;\n",
    "        # self.label_list[1].set_double_attribute(\"SPIL_m\", 0.45);\n",
    "        # self.label_list[1].set_double_attribute(\"SPIL_n\", 1);\n",
    "        # self.label_list[1].set_double_attribute(\"SPIL_K\", 2e-5);\n",
    "        # self.label_list[1].set_double_attribute(\"CHARLIE_I_Kr\", 1e-5);\n",
    "        # self.label_list[1].set_double_attribute(\"CHARLIE_I_Ks\", 3e-5);\n",
    "        # self.label_list[1].set_double_attribute(\"CHARLIE_I_V\", 0.1);\n",
    "        # self.label_list[1].set_double_attribute(\"CHARLIE_I_dimless_roughness\", 0.5);\n",
    "        # self.label_list[1].set_double_attribute(\"CHARLIE_I_dstar\", 1);\n",
    "        # self.label_list[1].set_double_attribute(\"CHARLIE_I_threshold_incision\", 0);\n",
    "        # self.label_list[1].set_double_attribute(\"CHARLIE_I_threshold_entrainment\", 0);\n",
    "        # self.label_list[1].set_double_attribute(\"Cidre_HS_kappa_s\", 3e-5 );        \n",
    "        # self.label_list[1].set_double_attribute(\"Cidre_HS_kappa_r\", 0.5e-5  );        \n",
    "        # self.label_list[1].set_double_attribute(\"Cidre_HS_critical_slope\", 0.6);        "
   ]
  },
  {
   "cell_type": "code",
   "execution_count": 2,
   "metadata": {},
   "outputs": [],
   "source": [
    "mod_sed = xs.Model(\n",
    "    {\n",
    "        \"grid\" : chxl.GridSpec,\n",
    "        \"bound\" : chxl.BoundaryConditions,\n",
    "        \"topo\": chxl.CustomInitialSurface,\n",
    "        \"labelling\": CustomLabelling,\n",
    "        \"flow\": chxl.MF2D8Flow,#D8Flow,\n",
    "#         \"flow\": chxl.D8Flow,\n",
    "        \"methods\": chxl.OrderedMethods,\n",
    "        \"core\": chxl.CoreModel,\n",
    "        \"uplift\": chxl.BlockUplift\n",
    "        \n",
    "    }\n",
    ")\n",
    "# mod_sed.input_vars"
   ]
  },
  {
   "cell_type": "code",
   "execution_count": 3,
   "metadata": {},
   "outputs": [],
   "source": [
    "dt = 1000\n",
    "# timing = np.arange(0,5000001, dt)\n",
    "# timing = np.arange(0,2, dt)\n",
    "# timing = np.arange(0,2000000 , dt)\n",
    "# timing = np.arange(0,32000, dt)\n",
    "timing = np.arange(0,100001, dt)\n",
    "otiming = timing[::1]\n",
    "\n",
    "mod1 = xs.create_setup(\n",
    "    model = mod_sed,\n",
    "    clocks={\n",
    "        'time': timing,\n",
    "        'otime': otiming\n",
    "    },\n",
    "    master_clock = 'time',\n",
    "    \n",
    "    input_vars = {\n",
    "        'bound' : {\n",
    "            'boundary_conditions' : \"periodic_EW\"\n",
    "        },\n",
    "        'grid': {\n",
    "            \"dx\": dx,\n",
    "            \"dy\": dy,\n",
    "            \"nx\": nx,\n",
    "            \"ny\": ny\n",
    "        },\n",
    "        'labelling' : {\n",
    "            'label_array': my_label_array\n",
    "        },\n",
    "        'flow__threshold_single_flow': 1e7,\n",
    "        \n",
    "        'methods': {\n",
    "            'methods_pre_move' : np.array([\"drainage_area\"]),\n",
    "#             'methods_post_move' : np.array([\"CHARLIE_I\"])\n",
    "#             'methods_post_move' : np.array([\"CHARLIE_I\", \"Cidre_hillslope_diffusion\"])\n",
    "            'methods_post_move' : np.array([\"Cidre_hillslope_diffusion\"])\n",
    "        },\n",
    "        'uplift' : {\n",
    "            'uplift' : Up\n",
    "        },\n",
    "        'core' : {\n",
    "            'depths_res_sed_proportions' : 1.,\n",
    "            'lake_solver' : True,\n",
    "            'CHARLIE_I': True,\n",
    "            'CIDRE_HS': False,\n",
    "            'precipitations': False,\n",
    "            'precipitations_array': prec,\n",
    "            'lake_evaporation': True,\n",
    "            'lake_evaporation_rate': lakeva,\n",
    "            \n",
    "        },\n",
    "        'topo' : {\"this_surface_elevation\": Z.ravel()}\n",
    "        \n",
    "    },\n",
    "    output_vars = {\n",
    "        'core__topo' : 'otime',\n",
    "        'core__topolake' : 'otime',\n",
    "#         'core__HS' : 'otime',\n",
    "        'core__Q_water' : 'otime',\n",
    "        'core__lake_depth' : 'otime',\n",
    "        'core__labprop_Qs': 'otime',\n",
    "#         'core__labprop_superficial_layer': 'otime',\n",
    "        'core__sed_thickness': 'otime',\n",
    "        'core__E_r': 'otime',\n",
    "        'core__E_s': 'otime',\n",
    "        'core__D_s': 'otime',\n",
    "        'core__sed_div': 'otime',\n",
    "#         'core__lake_id_raw': 'otime',\n",
    "        'core__Q_sed': 'otime',\n",
    "        'core__Qw_in' : 'otime',\n",
    "        'core__Qw_out' : 'otime',\n",
    "        'core__Ql_in' : 'otime',\n",
    "        'core__Ql_out' : 'otime',\n",
    "        'core__water_balance_checker' : 'otime',\n",
    "#         'core__flat_mask' : 'otime',\n",
    "        'core__NodeID' : 'otime',\n",
    "#         'core__full_sed_pile_prop':'otime',\n",
    "#         'core__fluvprop':'otime',\n",
    "        'core__Qs_mass_balance_checker' : 'otime',\n",
    "#         'core__top_depression' : 'otime',\n",
    "#         'core__potential_volume' : 'otime',\n",
    "#         'core__tot_volake_tree' : 'otime',\n",
    "        \n",
    "        \n",
    "    }\n",
    "\n",
    "        \n",
    ")"
   ]
  },
  {
   "cell_type": "code",
   "execution_count": 4,
   "metadata": {},
   "outputs": [
    {
     "data": {
      "application/vnd.jupyter.widget-view+json": {
       "model_id": "4b7b75c87b1f40ac8ed031bb29669da3",
       "version_major": 2,
       "version_minor": 0
      },
      "text/plain": [
       "             0% | initialize "
      ]
     },
     "metadata": {},
     "output_type": "display_data"
    }
   ],
   "source": [
    "zg = zarr.group(\"test_obj.zarr\", overwrite=True)\n",
    "with mod_sed,xs.monitoring.ProgressBar():\n",
    "    out_ds = mod1.xsimlab.run(store = zg)\n",
    "#     out_ds = mod1.xsimlab.run()  \n",
    "out_ds.x.values[0] = 0\n",
    "out_ds.y.values[0] = 0\n"
   ]
  },
  {
   "cell_type": "code",
   "execution_count": 5,
   "metadata": {},
   "outputs": [
    {
     "data": {
      "application/vnd.jupyter.widget-view+json": {
       "model_id": "dfd1ff573d4a4128a34f05801162e48e",
       "version_major": 2,
       "version_minor": 0
      },
      "text/plain": [
       "Canvas(toolbar=Toolbar(toolitems=[('Home', 'Reset original view', 'home', 'home'), ('Back', 'Back to previous …"
      ]
     },
     "metadata": {},
     "output_type": "display_data"
    },
    {
     "name": "stdout",
     "output_type": "stream",
     "text": [
      "16351.232758315811\n"
     ]
    }
   ],
   "source": [
    "fig, ax = hpl.mkfig_grey_bold()\n",
    "ax2 = ax.twinx()\n",
    "\n",
    "ax2.plot(out_ds.otime,out_ds.core__water_balance_checker.values, color = \"blue\")\n",
    "ax2.set_ylabel(r\"$Q_w$ in $m^3.yrs^{-1}$\")\n",
    "ax.set_ylabel(r\"$Q_s$ in $m^3.yrs^{-1}$\")\n",
    "ax.plot(out_ds.otime.values,out_ds.core__Qs_mass_balance_checker.values, color = 'orange', zorder = 5, lw =2)\n",
    "# ax2.plot(out_ds.otime,out_ds.core__Ql_out)\n",
    "# ax2.plot(out_ds.otime,out_ds.core__Ql_in)\n",
    "\n",
    "# ax2.plot(out_ds.otime,out_ds.core__Qw_out, color = \"green\")\n",
    "# ax2.plot(out_ds.otime,out_ds.core__Qw_in, color = \"red\")\n",
    "# ax2.plot(out_ds.otime,out_ds.core__Qw_in)\n",
    "\n",
    "\n",
    "\n",
    "\n",
    "# percerr = out_ds.core__water_balance_checker.values/out_ds.core__Qw_in.values * -100\n",
    "# ax.fill_between(out_ds.otime,0,percerr, where =percerr>0, color = 'b', lw = 0, interpolate = True )\n",
    "# ax.fill_between(out_ds.otime,0,percerr, where =percerr<0, color = 'r', lw = 0 , interpolate = True)\n",
    "# ax.plot(out_ds.otime,percerr, color = \"k\", lw = 0.25)\n",
    "# ax.set_ylabel(\"% error\")\n",
    "\n",
    "\n",
    "\n",
    "# ax.plot(out_ds.otime,np.log10(out_ds.core__water_balance_checker.values))\n",
    "# ax.plot(out_ds.otime,out_ds.core__Ql_out)\n",
    "# sums = []\n",
    "# for U in out_ds.core__lake_depth:\n",
    "#     sums.append(np.sum(U))\n",
    "# sums = np.concatenate([[0],sums])\n",
    "# ax.plot(out_ds.otime,np.diff(sums))\n",
    "\n",
    "# ax.plot(out_ds.otime,out_ds.core__Qw_in.values)\n",
    "# ax.plot(out_ds.otime,out_ds.core__Qw_out.values - out_ds.core__Qw_in.values + out_ds.core__Ql_out)\n",
    "# ax.plot(out_ds.otime,out_ds.core__Ql_out)\n",
    "# ax.plot(out_ds.otime,out_ds.core__Qw_out.values + out_ds.core__Ql_out.values)\n",
    "\n",
    "# sumlakes = []\n",
    "# for i in out_ds.core__lake_depth.values:\n",
    "#     sumlakes.append(np.nansum(i) * 10000 / 1000)\n",
    "    \n",
    "# ax.plot(out_ds.otime,(np.concatenate([[0],np.diff(sumlakes)])))\n",
    "\n",
    "# print(np.nansum(out_ds.core__lake_depth.values[0]) * dx * dy / dt, out_ds.core__Ql_out.values[0])\n",
    "\n",
    "# ax.plot(out_ds.otime, out_ds.core__Ql_in.values)\n",
    "# ax.fill_between(out_ds.otime,0, out_ds.core__Ql_in.values, color = 'b')\n",
    "# ax.set_ylabel(\"$Q_{l}^{in}$ (in $m^3.yrs^{-1}$)\")\n",
    "\n",
    "\n",
    "# ax.plot(out_ds.otime,out_ds.core__Ql_out.values + out_ds.core__Qw_out.values)\n",
    "# ax.set_yscale('log')\n",
    "\n",
    "ax.set_xlabel(\"Time (yrs)\")\n",
    "out_ds.core__Qs_mass_balance_checker.values\n",
    "plt.tight_layout()\n",
    "\n",
    "# qspyrs = np.sum(out_ds.core__water_balance_checker.isel({\"otime\":-1}).values[[0,-1],:])\n",
    "\n",
    "# display(Markdown(\"last dt: $Q_s.yrs^{-1} = $\"))\n",
    "print(out_ds.core__Q_sed.values.max()/dt)"
   ]
  },
  {
   "cell_type": "code",
   "execution_count": 6,
   "metadata": {},
   "outputs": [
    {
     "data": {
      "application/vnd.jupyter.widget-view+json": {
       "model_id": "1f435a2408214417acda8e32d741b798",
       "version_major": 2,
       "version_minor": 0
      },
      "text/plain": [
       "Output(layout=Layout(height='640px'))"
      ]
     },
     "metadata": {},
     "output_type": "display_data"
    }
   ],
   "source": [
    "from ipyfastscape import TopoViz3d\n",
    "\n",
    "\n",
    "app = TopoViz3d(out_ds, canvas_height=600, time_dim=\"otime\",elevation_var = \"core__topo\" )\n",
    "\n",
    "app.show()\n",
    "\n"
   ]
  },
  {
   "cell_type": "code",
   "execution_count": 7,
   "metadata": {},
   "outputs": [
    {
     "data": {
      "application/vnd.jupyter.widget-view+json": {
       "model_id": "83692a0b75b5491c9393b1b6fc59cce3",
       "version_major": 2,
       "version_minor": 0
      },
      "text/plain": [
       "Canvas(toolbar=Toolbar(toolitems=[('Home', 'Reset original view', 'home', 'home'), ('Back', 'Back to previous …"
      ]
     },
     "metadata": {},
     "output_type": "display_data"
    },
    {
     "data": {
      "text/plain": [
       "18000"
      ]
     },
     "execution_count": 7,
     "metadata": {},
     "output_type": "execute_result"
    }
   ],
   "source": [
    "fig,ax = plt.subplots()\n",
    "i = 18\n",
    "# cb =  ax.imshow(out_ds.core__top_depression.isel({\"otime\": i}).values, cmap = \"jet\" )\n",
    "cb =  ax.imshow(out_ds.core__topolake.isel({\"otime\": i}).values, cmap = \"jet\" , alpha = 1)\n",
    "cb =  ax.imshow(out_ds.core__topo.isel({\"otime\": i}).values, cmap = \"jet\" , alpha = 1)\n",
    "\n",
    "# cb = ax.imshow(np.log10(out_ds.core__Q_water.isel({\"otime\": i}).values), cmap = \"viridis\" , alpha = 1)\n",
    "# cb = ax.imshow(np.log10(out_ds.core__Q_sed.isel({\"otime\": i}).values), cmap = \"Greens\" , alpha = 1)\n",
    "# cb = ax.imshow(out_ds.core__lake_depth.values[-1], cmap = \"viridis\" , alpha = 1)\n",
    "\n",
    "# cb = ax.imshow(out_ds.core__lake_depth.values[-1], cmap = \"viridis\", vmin = 0, vmax = 0.1 , alpha = 1)\n",
    "# cb =  ax.imshow(out_ds.core__top_depression.isel({\"otime\": i}).values, cmap = \"jet\" )\n",
    "\n",
    "\n",
    "# cb =  ax.imshow(out_ds.core__topo.isel({\"otime\": i}).values , cmap = \"jet\" , alpha = 1)\n",
    "# cb =  ax.imshow(np.log10(out_ds.core__Q_sed.isel({\"otime\": i}).values), cmap = \"Reds\" , alpha = 1)\n",
    "# cb =  ax.imshow(np.log10(out_ds.core__Q_sed.isel({\"otime\": i}).values - out_ds.core__Q_sed.isel({\"otime\": i-1}).values), cmap = \"Reds\" , alpha = 1)\n",
    "# cb =  ax.imshow(out_ds.core__top_depression.isel({\"otime\": i}).values, cmap = \"jet\" , alpha = 1)\n",
    "# cb =  ax.imshow(out_ds.core__potential_volume.isel({\"otime\": i}).values, cmap = \"jet\" , alpha = 0)\n",
    "# cb =  ax.imshow(out_ds.core__topolake.isel({\"otime\": i}).values, cmap = \"jet\" , alpha = 0)\n",
    "# cb =  ax.imshow((out_ds.core__Q_sed).isel({\"otime\": i}).values, cmap = \"Reds\" , alpha = 1)\n",
    "# cb =  ax.imshow((out_ds.core__sed_div).isel({\"otime\": i}).values, cmap = \"Reds\" , alpha = 1)\n",
    "#cb =  ax.imshow(out_ds.core__topo.isel({\"otime\": i}).values, cmap = \"jet\" , alpha = 1)\n",
    "#cb =  ax.imshow(out_ds.core__potential_volume.isel({\"otime\": i}).values, cmap = \"magma\" , alpha = 1)\n",
    "#cb =  ax.imshow(out_ds.core__NodeID.isel({\"otime\": i}).values, cmap = \"jet\" , alpha = 0)\n",
    "\n",
    "# cb = ax.imshow((out_ds.core__lake_depth.values[-2] - out_ds.core__lake_depth.values[-3]), cmap = \"viridis\" , alpha = 1)\n",
    "# cb =  ax.imshow(out_ds.core__D_s.isel({\"otime\": i}).values, cmap = \"magma\" )\n",
    "\n",
    "plt.colorbar(cb)\n",
    "out_ds.otime.values[i]"
   ]
  },
  {
   "cell_type": "code",
   "execution_count": 8,
   "metadata": {},
   "outputs": [
    {
     "data": {
      "application/vnd.jupyter.widget-view+json": {
       "model_id": "cc39c7c556cd450d81902578dc328f6d",
       "version_major": 2,
       "version_minor": 0
      },
      "text/plain": [
       "Canvas(toolbar=Toolbar(toolitems=[('Home', 'Reset original view', 'home', 'home'), ('Back', 'Back to previous …"
      ]
     },
     "metadata": {},
     "output_type": "display_data"
    },
    {
     "data": {
      "text/plain": [
       "[<matplotlib.lines.Line2D at 0x7ff070d81af0>]"
      ]
     },
     "execution_count": 8,
     "metadata": {},
     "output_type": "execute_result"
    }
   ],
   "source": [
    "\n",
    "maxes = []\n",
    "for arr in out_ds.core__sed_div.values:\n",
    "    maxes.append(arr.max())\n",
    "\n",
    "medians_Qs_prop  = []\n",
    "Q3_Qs_prop  = []\n",
    "mmax_Qs_prop  = []\n",
    "for arr,arrw in zip(out_ds.core__Q_sed.values,out_ds.core__Q_water.values):\n",
    "    medians_Qs_prop.append(np.median(arr/(arrw * 1000)))\n",
    "    mmax_Qs_prop.append(np.max(arr/(arrw * 1000)))\n",
    "    Q3_Qs_prop.append(np.percentile(arr/(arrw * 1000),99))\n",
    "    \n",
    "\n",
    "fig, ax = hpl.mkfig_grey_bold()\n",
    "# ax.plot(out_ds.otime,maxes, color = \"blue\")\n",
    "ax.plot(out_ds.otime,medians_Qs_prop, color = \"blue\")\n",
    "ax.plot(out_ds.otime,Q3_Qs_prop, color = \"orange\")\n",
    "# ax.plot(out_ds.otime,mmax_Qs_prop, color = \"red\")\n",
    "\n"
   ]
  },
  {
   "cell_type": "code",
   "execution_count": 9,
   "metadata": {},
   "outputs": [
    {
     "name": "stdout",
     "output_type": "stream",
     "text": [
      "-62247.653595000505\n",
      "-51493.17113999999\n",
      "10754.482455000281\n",
      "0.0\n",
      "62937.143651001155\n"
     ]
    }
   ],
   "source": [
    "totlakevolwat = []\n",
    "inherited = []\n",
    "Qwout = []\n",
    "Qwin = []\n",
    "Qlout = []\n",
    "\n",
    "totlakevolwat.append( 46494982.814454)\n",
    "inherited.append( 560189.023838)\n",
    "Qwout.append( 54065206.209384)\n",
    "Qwin.append( 100000000.000000)\n",
    "Qlout.append( 46008485.416722)\n",
    "\n",
    "# t-1\n",
    "totlakevolwat.append(46557230.468049)\n",
    "inherited.append(611682.194978)\n",
    "Qwout.append(54054451.726929)\n",
    "Qwin.append(100000000.000000)\n",
    "Qlout.append(45945548.273071)\n",
    "\n",
    "\n",
    "print(totlakevolwat[0] - totlakevolwat[1])\n",
    "print(inherited[0] - inherited[1])\n",
    "print(Qwout[0] - Qwout[1])\n",
    "print(Qwin[0] - Qwin[1])\n",
    "print(Qlout[0] - Qlout[1])"
   ]
  },
  {
   "cell_type": "markdown",
   "metadata": {},
   "source": [
    "nolake: 1.91e7\n",
    "lake: "
   ]
  },
  {
   "cell_type": "code",
   "execution_count": 10,
   "metadata": {},
   "outputs": [
    {
     "data": {
      "text/plain": [
       "389929.0861301124"
      ]
     },
     "execution_count": 10,
     "metadata": {},
     "output_type": "execute_result"
    }
   ],
   "source": [
    "# out_ds.core__Qw_out.values + 1.1301046813102036\n",
    "out_ds.core__Qw_out.values[-1]\n",
    "out_ds.core__Ql_out.values[-1]\n",
    "out_ds.core__Qw_in.values[-1] - out_ds.core__Qw_out.values[-1] - out_ds.core__Ql_out.values[-1]\n",
    "out_ds.core__Qw_out.values[-1] + out_ds.core__Ql_out.values[-1]\n",
    "np.sum(out_ds.core__lake_depth.values[-1] - out_ds.core__lake_depth.values[-3]) * 10\n",
    "np.sum(out_ds.core__Qw_out.values[-1] - out_ds.core__Qw_out.values[-3])\n",
    "# out_ds.core__Qw_in.values[-1]\n",
    "# out_ds.core__Qw_out.values + out_ds.core__Ql_out.values\n",
    "# out_ds.core__Qw_out.values + out_ds.core__Ql_out.values - out_ds.core__Qw_in.values\n",
    "# out_ds.core__Ql_out.values[0]\n",
    "# out_ds.core__Ql_out.values\n",
    "# out_ds.core__tot_volake_tree.values[2] - np.abs(np.nansum(out_ds.core__lake_depth.values[2])*100 *100)\n",
    "# out_ds.core__Qw_in.values \n",
    "# # out_ds.core__Qw_out.values + out_ds.core__Ql_out.values\n",
    "# np.nansum(out_ds.core__lake_depth.values)\n",
    "# out_ds.core__tot_volake_tree.values/10000 \n",
    "# np.abs(np.nansum(out_ds.core__lake_depth.values[-1])*100 *100)\n",
    "# out_ds.core__Qw_out.values[0] + np.abs(np.nansum(out_ds.core__lake_depth.values[0])*100 *100/1000)\n",
    "# np.sum(out_ds.core__lake_depth.values[-3])"
   ]
  },
  {
   "cell_type": "code",
   "execution_count": 11,
   "metadata": {},
   "outputs": [
    {
     "ename": "AttributeError",
     "evalue": "'Dataset' object has no attribute 'core__tot_volake_tree'",
     "output_type": "error",
     "traceback": [
      "\u001b[0;31m---------------------------------------------------------------------------\u001b[0m",
      "\u001b[0;31mAttributeError\u001b[0m                            Traceback (most recent call last)",
      "\u001b[0;32m<ipython-input-11-1244400aee76>\u001b[0m in \u001b[0;36m<module>\u001b[0;34m\u001b[0m\n\u001b[1;32m      1\u001b[0m \u001b[0mnp\u001b[0m\u001b[0;34m.\u001b[0m\u001b[0mabs\u001b[0m\u001b[0;34m(\u001b[0m\u001b[0mnp\u001b[0m\u001b[0;34m.\u001b[0m\u001b[0msum\u001b[0m\u001b[0;34m(\u001b[0m\u001b[0mZ\u001b[0m \u001b[0;34m-\u001b[0m \u001b[0mout_ds\u001b[0m\u001b[0;34m.\u001b[0m\u001b[0mcore__topolake\u001b[0m\u001b[0;34m.\u001b[0m\u001b[0mvalues\u001b[0m\u001b[0;34m[\u001b[0m\u001b[0;36m0\u001b[0m\u001b[0;34m]\u001b[0m\u001b[0;34m)\u001b[0m\u001b[0;34m*\u001b[0m \u001b[0;36m100\u001b[0m \u001b[0;34m*\u001b[0m \u001b[0;36m100\u001b[0m\u001b[0;34m)\u001b[0m \u001b[0;34m/\u001b[0m \u001b[0;36m1e7\u001b[0m\u001b[0;34m\u001b[0m\u001b[0;34m\u001b[0m\u001b[0m\n\u001b[0;32m----> 2\u001b[0;31m \u001b[0mout_ds\u001b[0m\u001b[0;34m.\u001b[0m\u001b[0mcore__tot_volake_tree\u001b[0m\u001b[0;34m.\u001b[0m\u001b[0mvalues\u001b[0m\u001b[0;34m[\u001b[0m\u001b[0;36m0\u001b[0m\u001b[0;34m]\u001b[0m\u001b[0;34m\u001b[0m\u001b[0;34m\u001b[0m\u001b[0m\n\u001b[0m",
      "\u001b[0;32m~/miniforge3/envs/lsdtopytools/lib/python3.8/site-packages/xarray/core/common.py\u001b[0m in \u001b[0;36m__getattr__\u001b[0;34m(self, name)\u001b[0m\n\u001b[1;32m    237\u001b[0m                 \u001b[0;32mwith\u001b[0m \u001b[0msuppress\u001b[0m\u001b[0;34m(\u001b[0m\u001b[0mKeyError\u001b[0m\u001b[0;34m)\u001b[0m\u001b[0;34m:\u001b[0m\u001b[0;34m\u001b[0m\u001b[0;34m\u001b[0m\u001b[0m\n\u001b[1;32m    238\u001b[0m                     \u001b[0;32mreturn\u001b[0m \u001b[0msource\u001b[0m\u001b[0;34m[\u001b[0m\u001b[0mname\u001b[0m\u001b[0;34m]\u001b[0m\u001b[0;34m\u001b[0m\u001b[0;34m\u001b[0m\u001b[0m\n\u001b[0;32m--> 239\u001b[0;31m         raise AttributeError(\n\u001b[0m\u001b[1;32m    240\u001b[0m             \u001b[0;34m\"{!r} object has no attribute {!r}\"\u001b[0m\u001b[0;34m.\u001b[0m\u001b[0mformat\u001b[0m\u001b[0;34m(\u001b[0m\u001b[0mtype\u001b[0m\u001b[0;34m(\u001b[0m\u001b[0mself\u001b[0m\u001b[0;34m)\u001b[0m\u001b[0;34m.\u001b[0m\u001b[0m__name__\u001b[0m\u001b[0;34m,\u001b[0m \u001b[0mname\u001b[0m\u001b[0;34m)\u001b[0m\u001b[0;34m\u001b[0m\u001b[0;34m\u001b[0m\u001b[0m\n\u001b[1;32m    241\u001b[0m         )\n",
      "\u001b[0;31mAttributeError\u001b[0m: 'Dataset' object has no attribute 'core__tot_volake_tree'"
     ]
    }
   ],
   "source": [
    "np.abs(np.sum(Z - out_ds.core__topolake.values[0])* 100 * 100) / 1e7\n",
    "out_ds.core__tot_volake_tree.values[0]"
   ]
  },
  {
   "cell_type": "code",
   "execution_count": null,
   "metadata": {},
   "outputs": [],
   "source": [
    "out_ds.core__Qw_out.values[-1]-out_ds.core__Qw_out.values[-3]"
   ]
  },
  {
   "cell_type": "code",
   "execution_count": null,
   "metadata": {},
   "outputs": [],
   "source": [
    "import hvplot.xarray\n",
    "import holoviews as hv\n",
    "import datashader\n",
    "import xarray as xr\n",
    "\n",
    "\n",
    "hv.extension('bokeh')\n",
    "wi, he = 600,500\n",
    "\n",
    "topo = out_ds.core__topolake.hvplot.image(\n",
    "    x='x', y='y',\n",
    "    width = wi, height = he, #clim = (50,1800),\n",
    "    cmap=plt.cm.gist_earth, groupby='otime', dynamic = True\n",
    ")\n",
    "\n",
    "# Qw = np.log10(out_ds.core__Q_water).hvplot.image(\n",
    "#     x='x', y='y',\n",
    "#     width = wi, height = he, clim = (4,8),\n",
    "#     cmap=plt.cm.Blues, groupby='otime', dynamic = True, alpha = 1\n",
    "# )\n",
    "\n",
    "# Qs = np.log10(out_ds.core__Q_sed).hvplot.image(\n",
    "#     x='x', y='y',\n",
    "#     width = wi, height = he, #clim = (1e3,1e8),\n",
    "#     cmap=plt.cm.Greens, groupby='otime', dynamic = True\n",
    "# )\n",
    "# Qs = out_ds.core__Q_sed.hvplot.image(\n",
    "#     x='x', y='y',\n",
    "#     width = wi, height = he, #clim = (1e3,1e8),\n",
    "#     cmap=plt.cm.Greens, groupby='otime', dynamic = True\n",
    "# )\n",
    "\n",
    "# HS = out_ds.core__HS.hvplot.image(\n",
    "#     x='x', y='y',\n",
    "#     width = wi, height = he, clim = (0,250),\n",
    "#     cmap=plt.cm.gray, groupby='otime', alpha = 0.45, dynamic = True\n",
    "# )\n",
    "\n",
    "# HSS = out_ds.core__HS.hvplot.image(\n",
    "#     x='x', y='y',\n",
    "#     width = wi, height = he, clim = (0,250),\n",
    "#     cmap=plt.cm.gray, groupby='otime', alpha = 0.8, dynamic = True\n",
    "# )\n",
    "\n",
    "\n",
    "# SH = out_ds.core__sed_thickness.hvplot.image(\n",
    "#     x='x', y='y',\n",
    "#     width = wi, height = he, clim = (0,500),\n",
    "#     cmap=plt.cm.viridis, groupby='otime', alpha = 1, dynamic = True\n",
    "# )\n",
    "\n",
    "# prop = out_ds.core__labprop_superficial_layer.sel(n_labels = 1).hvplot.image(\n",
    "#     x='x', y='y',\n",
    "#     width = wi, height = he, #clim = (0,1),\n",
    "#     cmap=plt.cm.magma, groupby='otime', alpha = 1, dynamic = True\n",
    "# )\n",
    "\n",
    "# sumprop = (out_ds.core__labprop_superficial_layer.sel(n_labels = 1) + out_ds.core__labprop_superficial_layer.sel(n_labels = 0)).hvplot.image(\n",
    "#     x='x', y='y',\n",
    "#     width = wi, height = he, #clim = (0,1),\n",
    "#     cmap=plt.cm.magma, groupby='otime', alpha = 1, dynamic = True\n",
    "# )\n",
    "\n",
    "# prop_QS = out_ds.core__labprop_Qs.sel(n_labels = 0).hvplot.image(\n",
    "#     x='x', y='y',\n",
    "#     width = wi, height = he, clim = (0,1),\n",
    "#     cmap=plt.cm.magma, groupby='otime', alpha = 1, dynamic = True\n",
    "# )\n",
    "\n",
    "\n",
    "# prop_delta = (out_ds.core__labprop_Qs.sel(n_labels = 0) - out_ds.core__labprop_superficial_layer.sel(n_labels = 0)).hvplot.image(\n",
    "#     x='x', y='y',\n",
    "#     width = wi, height = he, clim = (0,0.1),\n",
    "#     cmap=plt.cm.magma, groupby='otime', alpha = 1, dynamic = True\n",
    "# )\n",
    "\n",
    "# E_s = out_ds.core__E_s.hvplot.image(\n",
    "#     x='x', y='y',\n",
    "#     width = wi, height = he, clim = (0,1e-6),\n",
    "#     cmap=plt.cm.magma, groupby='otime', alpha = 1, dynamic = True\n",
    "# )\n",
    "\n",
    "# E_r = out_ds.core__E_r.hvplot.image(\n",
    "#     x='x', y='y',\n",
    "#     width = wi, height = he,# clim = (0,1e-3),\n",
    "#     cmap=plt.cm.magma, groupby='otime', alpha = 1, dynamic = True\n",
    "# )\n",
    "# # core__labprop_Qs\n",
    "# LD = out_ds.core__lake_depth.hvplot.image(\n",
    "#     x='x', y='y',\n",
    "#     width = wi, height = he, clim = (-1,0),\n",
    "#     cmap=plt.cm.Blues, groupby='otime', alpha = 0.6, dynamic = True\n",
    "# )\n",
    "\n",
    "# LiDr = out_ds.core__lake_id_raw.hvplot.image(\n",
    "#     x='x', y='y',\n",
    "#     width = wi, height = he, \n",
    "#     cmap=plt.cm.jet, groupby='otime', alpha = 0.6, dynamic = True\n",
    "# )\n",
    "\n",
    "# # mstack = out_ds.core__mstack_checker.hvplot.image(\n",
    "# #     x='x', y='y',\n",
    "# #     width = wi, height = he, \n",
    "# #     cmap=plt.cm.jet, groupby='otime', alpha = 0.3, dynamic = True\n",
    "# # )\n",
    "\n",
    "# FM = out_ds.core__flat_mask.hvplot.image(\n",
    "#     x='x', y='y',\n",
    "#     width = wi, height = he, \n",
    "#     cmap=plt.cm.jet, groupby='otime', alpha = 0.3, dynamic = True\n",
    "# )\n",
    "\n",
    "# NID = out_ds.core__NodeID.hvplot.image(\n",
    "#     x='x', y='y',\n",
    "#     width = wi, height = he, \n",
    "#     cmap=plt.cm.jet, groupby='otime', alpha = 0.01, dynamic = True\n",
    "# )\n",
    "\n",
    "# topolake = (out_ds.core__topolake).hvplot.image(\n",
    "#     x='x', y='y',\n",
    "#     width = wi, height = he, #clim = (599.9,600.1),\n",
    "#     cmap=plt.cm.gist_earth, groupby='otime', dynamic = True\n",
    "# )\n",
    "\n",
    "# Qwdiff = (out_ds.core__Q_water).diff(dim = \"otime\").hvplot.image(\n",
    "#     x='x', y='y',\n",
    "#     width = wi, height = he, #clim = (4,6.9),\n",
    "#     cmap=plt.cm.Blues, groupby='otime', dynamic = True, alpha = 1)\n",
    "\n",
    "# debugint = out_ds.core__debugint.hvplot.image(\n",
    "#     x='x', y='y',\n",
    "#     width = wi, height = he, #clim = (4,6.9),\n",
    "#     cmap=plt.cm.Blues, groupby='otime', dynamic = True, alpha = 1)"
   ]
  },
  {
   "cell_type": "code",
   "execution_count": null,
   "metadata": {},
   "outputs": [],
   "source": [
    "# LiDr\n",
    "# LD * HS\n",
    "# SH * HS\n",
    "# FM #* NID\n",
    "# Qw * NID\n",
    "\n",
    "# Qw * FM * NID\n",
    "# topo * LiDr * NID *LD\n",
    "\n",
    "# mstack * NID\n",
    "# topo * NID\n",
    "# SH\n",
    "# Qw\n",
    "# Qw * LD * NID\n",
    "# topo * LD * HS\n",
    "# Qw   * HS#* NID\n",
    "# topo * LD * HS\n",
    "# prop * HS\n",
    "# Qw * NID\n",
    "# Qwdiff# * NID\n",
    "\n",
    "# mstack\n",
    "# LD * HS * NID\n",
    "# prop_QS\n",
    "# prop\n",
    "# sumprop\n",
    "# topolake * NID\n",
    "# topo * NID\n",
    "LiDr * NID\n",
    "# Qw * NID\n",
    "\n",
    "# LD\n",
    "# topolake  * NID\n",
    "# topo  * NID\n",
    "# topolake # * LD \n",
    "# Qs * HS\n",
    "# topo * HS * NID\n",
    "# SH\n",
    "# Qs * LD * NID\n",
    "# Qw\n",
    "# out_ds.core__HS.values[0]"
   ]
  },
  {
   "cell_type": "code",
   "execution_count": null,
   "metadata": {},
   "outputs": [],
   "source": [
    "# sumlakes = []\n",
    "# for i in out_ds.core__topo.values:\n",
    "#     fig, ax = plt.subplots()\n",
    "#     ax.imshow(i)\n"
   ]
  },
  {
   "cell_type": "code",
   "execution_count": null,
   "metadata": {},
   "outputs": [],
   "source": [
    "?TopoViz3d"
   ]
  },
  {
   "cell_type": "code",
   "execution_count": null,
   "metadata": {},
   "outputs": [],
   "source": [
    "# np.save(\"Qw_dir.npy\",out_ds.core__Q_water.values[-1])"
   ]
  },
  {
   "cell_type": "code",
   "execution_count": null,
   "metadata": {},
   "outputs": [],
   "source": [
    "1*7 "
   ]
  },
  {
   "cell_type": "code",
   "execution_count": null,
   "metadata": {},
   "outputs": [],
   "source": [
    "BUG = np.load(\"Qw_buggy.npy\")\n",
    "NOR = np.load(\"Qw_dir.npy\")\n",
    "DELT = BUG - NOR\n",
    "DELT[DELT == 0] = np.nan\n",
    "fig,ax = plt.subplots()\n",
    "ax.imshow(out_ds.core__topo.values[-1], cmap = \"gray\")\n",
    "ax.imshow(DELT)"
   ]
  },
  {
   "cell_type": "code",
   "execution_count": null,
   "metadata": {},
   "outputs": [],
   "source": [
    "# with open(\"new_test.csv\") as f:\n",
    "#     content = f.readlines()\n"
   ]
  },
  {
   "cell_type": "code",
   "execution_count": null,
   "metadata": {},
   "outputs": [],
   "source": [
    "# content"
   ]
  },
  {
   "cell_type": "code",
   "execution_count": null,
   "metadata": {},
   "outputs": [],
   "source": [
    "# with open(\"new_test_mod.csv\", 'w') as f:\n",
    "#     for l in content:\n",
    "#         f.write(l)\n",
    "#         f.write(\"NaN,NaN\\n\")"
   ]
  },
  {
   "cell_type": "code",
   "execution_count": null,
   "metadata": {},
   "outputs": [],
   "source": [
    "# df = pd.read_csv(\"new_test_mod.csv\")\n",
    "# df"
   ]
  },
  {
   "cell_type": "code",
   "execution_count": null,
   "metadata": {},
   "outputs": [],
   "source": [
    "# df.interpolate(method='polynomial', order=2)"
   ]
  },
  {
   "cell_type": "markdown",
   "metadata": {},
   "source": [
    "# Record of time efficienty\n",
    "\n",
    "5/04/2021:15:34\n",
    "\n",
    "\n",
    "--------------------- START OF TIME REPORT ---------------------\n",
    "\n",
    "init_graph took 0.0345532 seconds out of 100 runs \n",
    "\n",
    "total_run took 0.0777062 seconds out of 100 runs \n",
    "\n",
    "passive took 2.02699e-08 seconds out of 1000000 runs\n",
    "\n",
    "active took 3.2118e-06 seconds out of 1000000 runs\n",
    "\n",
    "splitNmerge took 1.61179e-06 seconds out of 999297 runs\n",
    "\n",
    "move_prep took 1.7814e-06 seconds out of 999297 runs\n",
    "\n",
    "--------------------- END OF TIME REPORT ---------------------\n",
    "\n"
   ]
  },
  {
   "cell_type": "code",
   "execution_count": null,
   "metadata": {},
   "outputs": [],
   "source": []
  },
  {
   "cell_type": "code",
   "execution_count": null,
   "metadata": {},
   "outputs": [],
   "source": [
    "import random\n",
    "def roll_from_string(tinput):\n",
    "\tsanitised = tinput.lower().replace(\" \",\"\")\n",
    "\tn_dices = int(sanitised.split(\"d\")[0])\n",
    "\tdice = int(sanitised.split(\"d\")[1].split(\"+\")[0]) if(\"+\" in sanitised) else int(sanitised.split(\"d\")[1].split(\"-\")[0])\n",
    "\tif(\"+\" in sanitised or \"-\" in sanitised):\n",
    "\t\tadder = int(sanitised.split(\"d\")[1].split(\"+\")[1]) if(\"+\" in sanitised) else int(sanitised.split(\"d\")[1].split(\"-\")[1])\n",
    "\telse:\n",
    "\t\tadder = 0\n",
    "\n",
    "\treturn random.randint(1,dice) * n_dices + adder \n",
    "    \n",
    "    "
   ]
  },
  {
   "cell_type": "code",
   "execution_count": null,
   "metadata": {},
   "outputs": [],
   "source": [
    "for i in range(100):\n",
    "    print(roll_from_string(\"3d20\"), end = \"|\")"
   ]
  },
  {
   "cell_type": "code",
   "execution_count": null,
   "metadata": {},
   "outputs": [],
   "source": [
    "\n",
    "test=np.zeros((5,2,2))\n",
    "# print(test, end = \"\\n\\n\\n\")\n",
    "test[:,0,0] = 5\n",
    "# print(test, end = \"\\n\\n\\n\")\n",
    "test2 = np.copy(test[:,0,0])\n",
    "# print(test, end = \"\\n\\n\\n\")\n",
    "test[:,0,0] = test[:,0,0]+10\n",
    "type(test2)"
   ]
  },
  {
   "cell_type": "code",
   "execution_count": null,
   "metadata": {},
   "outputs": [],
   "source": [
    "test2[2] = -5"
   ]
  },
  {
   "cell_type": "code",
   "execution_count": null,
   "metadata": {},
   "outputs": [],
   "source": [
    "print (test)"
   ]
  },
  {
   "cell_type": "code",
   "execution_count": null,
   "metadata": {},
   "outputs": [],
   "source": [
    "def pluss(arr, idx):\n",
    "    arr[idx] += 5\n",
    "def other_stuff(arr):\n",
    "    arr = np.arange(45)"
   ]
  },
  {
   "cell_type": "code",
   "execution_count": null,
   "metadata": {},
   "outputs": [],
   "source": [
    "A = np.arange(5)\n",
    "pluss(A,2)"
   ]
  },
  {
   "cell_type": "code",
   "execution_count": null,
   "metadata": {},
   "outputs": [],
   "source": [
    "A"
   ]
  },
  {
   "cell_type": "code",
   "execution_count": null,
   "metadata": {},
   "outputs": [],
   "source": [
    "other_stuff(A)"
   ]
  },
  {
   "cell_type": "code",
   "execution_count": null,
   "metadata": {},
   "outputs": [],
   "source": [
    "A"
   ]
  },
  {
   "cell_type": "code",
   "execution_count": null,
   "metadata": {},
   "outputs": [],
   "source": []
  },
  {
   "cell_type": "code",
   "execution_count": null,
   "metadata": {},
   "outputs": [],
   "source": []
  }
 ],
 "metadata": {
  "kernelspec": {
   "display_name": "Python 3 (ipykernel)",
   "language": "python",
   "name": "python3"
  },
  "language_info": {
   "codemirror_mode": {
    "name": "ipython",
    "version": 3
   },
   "file_extension": ".py",
   "mimetype": "text/x-python",
   "name": "python",
   "nbconvert_exporter": "python",
   "pygments_lexer": "ipython3",
   "version": "3.8.8"
  }
 },
 "nbformat": 4,
 "nbformat_minor": 4
}
