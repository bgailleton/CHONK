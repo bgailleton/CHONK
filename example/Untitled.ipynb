{
 "cells": [
  {
   "cell_type": "code",
   "execution_count": 1,
   "metadata": {},
   "outputs": [],
   "source": [
    "import numpy as np\n",
    "import fastscapelib_fortran as fs\n",
    "import lsdtopytools as lsd\n",
    "import numba as nb\n",
    "from matplotlib import pyplot as plt\n",
    "%matplotlib inline\n",
    "            "
   ]
  },
  {
   "cell_type": "code",
   "execution_count": 2,
   "metadata": {},
   "outputs": [],
   "source": [
    "#raster name putna_50_NDF\n",
    "raster = lsd.raster_loader.load_raster(\"putna_50_NDF.tif\")"
   ]
  },
  {
   "cell_type": "code",
   "execution_count": 3,
   "metadata": {},
   "outputs": [],
   "source": [
    "fs.fastscape_init()\n",
    "fs.fastscape_set_nx_ny(raster[\"ncols\"],raster[\"nrows\"])\n",
    "fs.fastscape_setup()\n",
    "fs.fastscape_set_xl_yl(raster[\"x_max\"] - raster[\"x_min\"],raster[\"y_max\"] - raster[\"y_min\"] )\n",
    "fstctx = fs.fastscapecontext"
   ]
  },
  {
   "cell_type": "code",
   "execution_count": 4,
   "metadata": {},
   "outputs": [],
   "source": [
    "fstctx.p = 3\n",
    "fstctx.h = raster[\"array\"].astype(np.float64).ravel()\n",
    "# fs.fastscape_init_h(raster[\"array\"].astype(np.float64).ravel())\n",
    "\n",
    "fstctx.kf = np.ones_like(fstctx.h) * 1e-3\n",
    "fstctx.kfsed = 1e-3\n",
    "fstctx.m = 0.45\n",
    "fstctx.n = 1.\n",
    "fstctx.kd = np.ones_like(fstctx.h) * 1e-3\n",
    "fstctx.kdsed = 1e-3\n",
    "fstctx.g1 = 1.0\n",
    "fstctx.g2 = 1.0\n",
    "fstctx.ibc = 1111\n",
    "fs.fastscape_set_dt(1000)\n",
    "\n",
    "\n",
    "bc = np.zeros(fstctx.h.shape[0],dtype = np.int32)\n",
    "# print(bc)\n",
    "i1=np.int(0)\n",
    "i2=np.int(0)\n",
    "j1=np.int(0)\n",
    "j2=np.int(0)\n",
    "xcyclic = np.bool(False)\n",
    "ycyclic = np.bool(False)\n",
    "dx = np.double(0.)\n",
    "dy = np.double(0.)\n",
    "fs.flowrouting_first_stack ()\n",
    "prestack = np.copy(fstctx.stack.astype('int') - 1)\n",
    "fs.flowrouting_reroute_and_mf()"
   ]
  },
  {
   "cell_type": "code",
   "execution_count": 8,
   "metadata": {},
   "outputs": [
    {
     "name": "stdout",
     "output_type": "stream",
     "text": [
      "[ 150092  148833  147574 ... 1420017 1420018 1420019]\n",
      "[ 134922  133662  132403 ... 1420017 1420018 1420019]\n"
     ]
    }
   ],
   "source": [
    "# print(dx)\n",
    "stack = fstctx.stack.astype('int') - 1\n",
    "print(stack[10542:])\n",
    "mstack = fstctx.mstack.astype('int') - 1\n",
    "print(prestack[10542:])\n",
    "# plt.scatter(np.arange(1,stack.shape[0]),np.diff(stack))"
   ]
  },
  {
   "cell_type": "code",
   "execution_count": null,
   "metadata": {},
   "outputs": [],
   "source": [
    "stack = fstctx.mstack.astype('int') - 1\n",
    "nb_receivers = fstctx.mnrec.astype('int')\n",
    "receivers = fstctx.mrec.astype('int').transpose() - 1\n",
    "lengths = fstctx.mlrec.transpose()\n",
    "weights = fstctx.mwrec.transpose()\n",
    "\n",
    "sstack = fstctx.stack.astype('int') - 1\n",
    "sreceivers = fstctx.rec.astype('int') - 1"
   ]
  },
  {
   "cell_type": "code",
   "execution_count": null,
   "metadata": {
    "scrolled": false
   },
   "outputs": [],
   "source": [
    "# fstctx.mstack.astype(\"int\")\n",
    "checker = check_stack(stack)\n",
    "checker = checker.reshape(raster[\"nrows\"],raster[\"ncols\"])\n",
    "pits, recapit = try_identify_pits(receivers, raster[\"array\"].astype(np.float32).ravel(), stack)\n",
    "# pits, recapit = try_identify_pits_single(sreceivers, raster[\"array\"].astype(np.float32).ravel(), sstack)\n",
    "\n",
    "fig,ax = plt.subplots(figsize = (10,12))\n",
    "cb = ax.imshow(raster[\"array\"][500: 520, 695:715 ], cmap = \"gray\", vmin = 300, vmax = 400)\n",
    "cb =ax.imshow(checker[500: 520,695:715 ], alpha=1, cmap = \"magma\")\n",
    "# cb =ax.imshow(nb_receivers.reshape(raster[\"nrows\"],raster[\"ncols\"]), alpha=1, cmap = \"magma\")\n",
    "colspit = pits % raster[\"ncols\"]\n",
    "rowspit = ((pits - colspit)/ raster[\"ncols\"]).astype(np.int32)\n",
    "\n",
    "rcolspit = recapit % raster[\"ncols\"]\n",
    "rrowspit = ((recapit - rcolspit)/ raster[\"ncols\"]).astype(np.int32)\n",
    "\n",
    "# ax.scatter(colspit, rowspit, lw = 0, c = \"yellow\")\n",
    "# ax.scatter(rcolspit, rrowspit, lw = 0, c = \"green\")\n",
    "\n",
    "# ax.set_xlim(695,715)\n",
    "# ax.set_ylim(520, 500)\n",
    "\n",
    "print(receivers[0])\n",
    "print(stack.shape)\n",
    "\n",
    "plt.colorbar(cb)"
   ]
  },
  {
   "cell_type": "code",
   "execution_count": 18,
   "metadata": {},
   "outputs": [
    {
     "name": "stdout",
     "output_type": "stream",
     "text": [
      "Loading the raster from file: ./putna_50_NDF.tif\n",
      "LOADING TOOK 2.1628315448760986\n",
      "I am recasting your nodata values to -9999 (standard LSDTT)\n",
      "PREPROC TOOK 0.0016355514526367188\n",
      "Alright, let me summon control upon the c++ code ...\n",
      "Got it.\n",
      "INGESTINGINTO CPP TOOK 0.006393909454345703\n",
      "WARNING: you are telling me that the raster is already preprocessed. You mean either you don't need flow routine (e.g., slope, curvature, roughness,... calculations) or you already made sure you got rid of your depressions.\n",
      "TELLINGCPP IT IS PP TOOK 0.002369403839111328\n",
      "FINALISATION TOOK 0.006168365478515625\n",
      "lsdtopytools is now ready to roll!\n"
     ]
    }
   ],
   "source": [
    "cols = stack % raster[\"ncols\"]\n",
    "rows = ((stack - cols)/ raster[\"ncols\"]).astype(np.int32)\n",
    "import lsdtopytools as lsd\n",
    "mydem = lsd.LSDDEM(file_name =\"putna_50_NDF.tif\", already_preprocessed = True )\n",
    "X,Y = mydem.cppdem.query_xy_from_rowcol(rows,cols)\n",
    "import pandas as pd\n",
    "pd.DataFrame({\"incr\": checker.ravel(), \"X\": X, \"Y\":Y}).to_csv(\"checker.csv\", index = False)"
   ]
  },
  {
   "cell_type": "code",
   "execution_count": null,
   "metadata": {},
   "outputs": [],
   "source": [
    "bite =  np.zeros(fstctx.nn)\n",
    "bc =  np.zeros(fstctx.nn)\n",
    "\n",
    "dx = fstctx.xl/(fstctx.nx - 1)\n",
    "dy = fstctx.yl/(fstctx.ny - 1)\n",
    "i1 = np.int32(0)\n",
    "i2 = np.int32(0)\n",
    "j1 = np.int32(0)\n",
    "j2 = np.int32(0)\n",
    "xcyclic = np.bool(0)\n",
    "ycyclic = np.bool(0)\n",
    "\n",
    "fs.set_bc(fstctx.ibc, fstctx.nx, fstctx.ny) #, i1, i2, j1, j2, bc, xcyclic, ycyclic)\n",
    "fs.find_receiver(fstctx.h,fstctx.nx,fstctx.ny,dx,dy,i1,i2,j1,j2,xcyclic, ycyclic)\n"
   ]
  },
  {
   "cell_type": "code",
   "execution_count": null,
   "metadata": {},
   "outputs": [],
   "source": [
    "\n",
    "@nb.njit()\n",
    "def check_stack(stack):\n",
    "    checker = np.zeros(stack.shape, dtype = np.int32)\n",
    "    incr = 0\n",
    "    for i in stack:\n",
    "        checker[i] = incr\n",
    "        incr +=1\n",
    "    return checker\n",
    "\n",
    "@nb.njit()\n",
    "def try_identify_pits(receivers, elev, stack):\n",
    "    pits = []\n",
    "    recapit = []\n",
    "    for i in range(receivers.shape[0]):\n",
    "        ispit = False\n",
    "        for j in range(receivers.shape[1]):\n",
    "            if(receivers[i,j] == -1 or ispit == True or receivers[i,j] == i):\n",
    "                continue\n",
    "                \n",
    "            if(elev[i]<elev[receivers[i,j] ]):\n",
    "                pits.append(i)\n",
    "                recapit.append(receivers[i,j])\n",
    "                ispit = True\n",
    "                \n",
    "    return np.array(pits),np.array(recapit)\n",
    "\n",
    "@nb.njit()\n",
    "def try_identify_pits_single(receivers, elev, stack):\n",
    "    pits = []\n",
    "    recapit = []\n",
    "    for i in range(receivers.shape[0]):\n",
    "\n",
    "        if(receivers[i] == -1 or receivers[i] == i):\n",
    "            continue\n",
    "\n",
    "        if(elev[i]<elev[receivers[i]]):\n",
    "            pits.append(i)\n",
    "            recapit.append(receivers[i])\n",
    "\n",
    "\n",
    "    return np.array(pits),np.array(recapit)\n",
    "            \n",
    "@nb.njit()\n",
    "def get_delta_elev(receivers, elev, stack):\n",
    "    pits = []\n",
    "    for i in range(receivers.shape[0]):\n",
    "        ispit = False\n",
    "        for j in range(receivers.shape[1]):\n",
    "            if(receivers[i,j] == -1 or ispit == True):\n",
    "                continue\n",
    "                \n",
    "            if(elev[i]<elev[receivers[i,j]]):\n",
    "                pits.append(i)\n",
    "                ispit = True\n",
    "                \n",
    "    return np.array(pits)\n",
    "            "
   ]
  },
  {
   "cell_type": "code",
   "execution_count": null,
   "metadata": {},
   "outputs": [],
   "source": [
    "fs.fastscape_destroy()"
   ]
  }
 ],
 "metadata": {
  "kernelspec": {
   "display_name": "Python 3",
   "language": "python",
   "name": "python3"
  },
  "language_info": {
   "codemirror_mode": {
    "name": "ipython",
    "version": 3
   },
   "file_extension": ".py",
   "mimetype": "text/x-python",
   "name": "python",
   "nbconvert_exporter": "python",
   "pygments_lexer": "ipython3",
   "version": "3.7.1"
  }
 },
 "nbformat": 4,
 "nbformat_minor": 4
}
