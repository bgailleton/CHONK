{
 "cells": [
  {
   "cell_type": "code",
   "execution_count": 1,
   "id": "02332af3-9f73-447e-9ae1-ff42484817e8",
   "metadata": {},
   "outputs": [],
   "source": [
    "# import Pkg; Pkg.add(\"BenchmarkTools\")\n",
    "using BenchmarkTools\n",
    "using Base"
   ]
  },
  {
   "cell_type": "code",
   "execution_count": 2,
   "id": "029d380b-51a1-4acc-a2bf-069e8e98f769",
   "metadata": {},
   "outputs": [
    {
     "data": {
      "text/plain": [
       "BenchmarkTools.Trial: \n",
       "  memory estimate:  390.70 KiB\n",
       "  allocs estimate:  2\n",
       "  --------------\n",
       "  minimum time:     977.531 ns (86.62% GC)\n",
       "  median time:      1.175 μs (87.80% GC)\n",
       "  mean time:        4.491 μs (96.67% GC)\n",
       "  maximum time:     142.612 μs (99.85% GC)\n",
       "  --------------\n",
       "  samples:          1316\n",
       "  evals/sample:     852"
      ]
     },
     "execution_count": 2,
     "metadata": {},
     "output_type": "execute_result"
    }
   ],
   "source": [
    "A = Base.zeros(Float64,50000)\n",
    "@benchmark A = Array{Float64}(undef, 50000)"
   ]
  },
  {
   "cell_type": "code",
   "execution_count": 13,
   "id": "94cf0196-a1de-442e-914f-d40fb4cebba9",
   "metadata": {},
   "outputs": [
    {
     "data": {
      "text/plain": [
       "f (generic function with 1 method)"
      ]
     },
     "execution_count": 13,
     "metadata": {},
     "output_type": "execute_result"
    }
   ],
   "source": [
    "function f(A)\n",
    "    for i = 2:length(A)\n",
    "        A[i] = A[i-1] + 1.2\n",
    "    end\n",
    "end"
   ]
  },
  {
   "cell_type": "code",
   "execution_count": 14,
   "id": "0f88db4f-f9be-4d14-90a0-2e2ede9a8ef6",
   "metadata": {},
   "outputs": [],
   "source": [
    "f(A)"
   ]
  },
  {
   "cell_type": "code",
   "execution_count": 15,
   "id": "68eb9f48-50fb-4ed0-874d-5afce5a8af86",
   "metadata": {},
   "outputs": [
    {
     "data": {
      "text/plain": [
       "50000-element Vector{Float64}:\n",
       "     0.0\n",
       "     1.2\n",
       "     2.4\n",
       "     3.5999999999999996\n",
       "     4.8\n",
       "     6.0\n",
       "     7.2\n",
       "     8.4\n",
       "     9.6\n",
       "    10.799999999999999\n",
       "    11.999999999999998\n",
       "    13.199999999999998\n",
       "    14.399999999999997\n",
       "     ⋮\n",
       " 59985.59999994801\n",
       " 59986.79999994801\n",
       " 59987.999999948006\n",
       " 59989.199999948\n",
       " 59990.399999948\n",
       " 59991.599999948\n",
       " 59992.799999947994\n",
       " 59993.99999994799\n",
       " 59995.19999994799\n",
       " 59996.399999947986\n",
       " 59997.59999994798\n",
       " 59998.79999994798"
      ]
     },
     "execution_count": 15,
     "metadata": {},
     "output_type": "execute_result"
    }
   ],
   "source": [
    "A"
   ]
  },
  {
   "cell_type": "code",
   "execution_count": 16,
   "id": "f4b8864d-50dc-4b38-a4ca-67996f01c366",
   "metadata": {},
   "outputs": [
    {
     "data": {
      "text/plain": [
       "BenchmarkTools.Trial: \n",
       "  memory estimate:  0 bytes\n",
       "  allocs estimate:  0\n",
       "  --------------\n",
       "  minimum time:     102.578 μs (0.00% GC)\n",
       "  median time:      102.650 μs (0.00% GC)\n",
       "  mean time:        108.327 μs (0.00% GC)\n",
       "  maximum time:     307.062 μs (0.00% GC)\n",
       "  --------------\n",
       "  samples:          10000\n",
       "  evals/sample:     1"
      ]
     },
     "execution_count": 16,
     "metadata": {},
     "output_type": "execute_result"
    }
   ],
   "source": [
    "@benchmark f(A)"
   ]
  },
  {
   "cell_type": "code",
   "execution_count": null,
   "id": "bc15f250-1a89-4667-b43d-d869e88c89d9",
   "metadata": {},
   "outputs": [],
   "source": []
  }
 ],
 "metadata": {
  "kernelspec": {
   "display_name": "Julia 1.6.1",
   "language": "julia",
   "name": "julia-1.6"
  },
  "language_info": {
   "file_extension": ".jl",
   "mimetype": "application/julia",
   "name": "julia",
   "version": "1.6.1"
  }
 },
 "nbformat": 4,
 "nbformat_minor": 5
}
