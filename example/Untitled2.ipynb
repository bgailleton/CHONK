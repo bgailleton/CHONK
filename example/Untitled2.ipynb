{
 "cells": [
  {
   "cell_type": "code",
   "execution_count": 1,
   "metadata": {},
   "outputs": [],
   "source": [
    "import numba as nb\n",
    "import numpy as np\n"
   ]
  },
  {
   "cell_type": "code",
   "execution_count": 2,
   "metadata": {},
   "outputs": [],
   "source": [
    "@nb.njit()\n",
    "def iterate_through_custom(n, dtype):\n",
    "    arr = np.ones(n, dtype = dtype)\n",
    "    for i in range(n):\n",
    "        arr[i] += 1\n",
    "    return arr\n"
   ]
  },
  {
   "cell_type": "code",
   "execution_count": 3,
   "metadata": {},
   "outputs": [
    {
     "data": {
      "text/plain": [
       "array([2, 2, 2, 2, 2], dtype=int8)"
      ]
     },
     "execution_count": 3,
     "metadata": {},
     "output_type": "execute_result"
    }
   ],
   "source": [
    "iterate_through_custom(5, dtype = nb.i1)\n"
   ]
  },
  {
   "cell_type": "code",
   "execution_count": 4,
   "metadata": {},
   "outputs": [
    {
     "name": "stdout",
     "output_type": "stream",
     "text": [
      "743 µs ± 36.5 µs per loop (mean ± std. dev. of 7 runs, 1000 loops each)\n",
      "677 µs ± 41.9 µs per loop (mean ± std. dev. of 7 runs, 1000 loops each)\n",
      "2.36 ms ± 96.1 µs per loop (mean ± std. dev. of 7 runs, 100 loops each)\n",
      "10.6 ms ± 259 µs per loop (mean ± std. dev. of 7 runs, 100 loops each)\n",
      "2.63 ms ± 132 µs per loop (mean ± std. dev. of 7 runs, 100 loops each)\n",
      "10.5 ms ± 190 µs per loop (mean ± std. dev. of 7 runs, 100 loops each)\n"
     ]
    }
   ],
   "source": [
    "%timeit iterate_through_custom(5000000, dtype = nb.i1)\n",
    "%timeit iterate_through_custom(5000000, dtype = nb.i2)\n",
    "%timeit iterate_through_custom(5000000, dtype = nb.i4)\n",
    "%timeit iterate_through_custom(5000000, dtype = nb.i8)\n",
    "%timeit iterate_through_custom(5000000, dtype = nb.f4)\n",
    "%timeit iterate_through_custom(5000000, dtype = nb.f8)\n"
   ]
  },
  {
   "cell_type": "code",
   "execution_count": null,
   "metadata": {},
   "outputs": [],
   "source": []
  },
  {
   "cell_type": "code",
   "execution_count": null,
   "metadata": {},
   "outputs": [],
   "source": []
  }
 ],
 "metadata": {
  "kernelspec": {
   "display_name": "Python 3",
   "language": "python",
   "name": "python3"
  },
  "language_info": {
   "codemirror_mode": {
    "name": "ipython",
    "version": 3
   },
   "file_extension": ".py",
   "mimetype": "text/x-python",
   "name": "python",
   "nbconvert_exporter": "python",
   "pygments_lexer": "ipython3",
   "version": "3.7.7"
  }
 },
 "nbformat": 4,
 "nbformat_minor": 4
}
