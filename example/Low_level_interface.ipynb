{
 "cells": [
  {
   "cell_type": "markdown",
   "metadata": {},
   "source": [
    "# Low-level interface to the CHONK model\n",
    "\n",
    "This notebooks describes how to use the model with the low-level interface, _i.e_ intereacting with the pybinded c++ code"
   ]
  },
  {
   "cell_type": "code",
   "execution_count": 1,
   "metadata": {},
   "outputs": [
    {
     "name": "stdout",
     "output_type": "stream",
     "text": [
      "Ready!\n"
     ]
    }
   ],
   "source": [
    "import CHONK_cpp as ch\n",
    "import time\n",
    "import numpy as np\n",
    "import fastscapelib_fortran as fs\n",
    "import lsdtopytools as lsd\n",
    "from scipy.ndimage import gaussian_filter\n",
    "import numba as nb\n",
    "from matplotlib import pyplot as plt\n",
    "import lsdnumbatools as lsdnb\n",
    "%matplotlib inline\n",
    "from IPython.display import clear_output, display\n",
    "nrows = 100\n",
    "ncols = 100\n",
    "xres = 50\n",
    "yres = 50\n",
    "\n",
    "xmin = 0\n",
    "xmax = ncols*yres\n",
    "ymin = 0\n",
    "ymax = nrows*xres\n",
    "# Z = np.load(\"stack_breaker.npy\")\n",
    "Z = np.random.rand(nrows,ncols)\n",
    "# Z = np.load(\"SS_100_100_MFA.npy\")\n",
    "lsd.raster_loader.save_raster(Z.reshape(nrows,ncols),\n",
    "   0,xres*ncols,yres*nrows,0,xres,\"epsg:32635\",\"v3_current_Z.tif\", fmt = 'GTIFF')\n",
    "lsd.raster_loader.save_raster(np.arange(nrows*ncols).reshape(nrows,ncols).astype(np.int32),\n",
    "   0,xres*ncols,yres*nrows,0,xres,\"epsg:32635\",\"v3_current_ID.tif\", fmt = 'GTIFF')\n",
    "\n",
    "model = ch.ModelRunner( 1, [\"drainage_area\",\"move\",\"CHARLIE_I\"], \"MF_fastscapelib_threshold_SF\") #\"MF_fastscapelib_threshold_SF\") # \"MF_fastscapelib\" #\"SPIL_Howard_Kerby_1984\"\n",
    "model.set_lake_switch(True)\n",
    "model.update_array_double_param(\"surface_elevation\", Z.ravel())\n",
    "model.update_double_param(\"x_min\", xmin)\n",
    "model.update_double_param(\"y_min\", ymin)\n",
    "model.update_double_param(\"x_max\", xmax)\n",
    "model.update_double_param(\"y_max\", ymax)\n",
    "model.update_double_param(\"dx\", xres)\n",
    "model.update_double_param(\"dy\", yres)\n",
    "model.update_double_param(\"no_data\", -9999)\n",
    "model.update_int_param(\"n_rows\", nrows)\n",
    "model.update_int_param(\"n_cols\", ncols)\n",
    "model.update_int_param(\"n_elements\", nrows*ncols)\n",
    "model.update_array_double_param(\"surface_elevation_tp1\", np.copy(Z.ravel()))\n",
    "model.update_array_double_param(\"sed_height\", np.zeros_like(Z.ravel()))\n",
    "model.update_array_double_param(\"sed_height_tp1\", np.zeros_like(Z.ravel()))\n",
    "model.update_array_double_param(\"lake_depth\", np.zeros_like(Z.ravel()))\n",
    "model.update_double_param(\"depths_res_sed_proportions\", 1.)\n",
    "model.update_double_param(\"threshold_single_flow\", 1e6)\n",
    "\n",
    "active = np.zeros((nrows,ncols), dtype = np.int)\n",
    "# active[1:-1,1:-1:] = 1\n",
    "active[1:-1,:] = 1\n",
    "\n",
    "model.update_array_int_param(\"active_nodes\", active.ravel())\n",
    "\n",
    "# Labelisation for CHARLIE_I\n",
    "label_list = []\n",
    "label_list.append(ch.label(0))\n",
    "label_list[0].set_double_attribute(\"SPIL_m\", 0.45);\n",
    "label_list[0].set_double_attribute(\"SPIL_n\", 1);\n",
    "label_list[0].set_double_attribute(\"SPIL_K\", 1e-5);\n",
    "label_list[0].set_double_attribute(\"CHARLIE_I_Kr\", 1e-5);\n",
    "label_list[0].set_double_attribute(\"CHARLIE_I_Ks\", 2e-5);\n",
    "label_list[0].set_double_attribute(\"CHARLIE_I_V\", 1);\n",
    "label_list[0].set_double_attribute(\"CHARLIE_I_dimless_roughness\", 1);\n",
    "label_list[0].set_double_attribute(\"CHARLIE_I_dstar\", 1);\n",
    "label_list[0].set_double_attribute(\"CHARLIE_I_threshold_incision\", 0);\n",
    "label_list[0].set_double_attribute(\"CHARLIE_I_threshold_entrainment\", 0);\n",
    "label_list.append(ch.label(1))\n",
    "label_list[1].set_double_attribute(\"SPIL_m\", 0.45);\n",
    "label_list[1].set_double_attribute(\"SPIL_n\", 1);\n",
    "label_list[1].set_double_attribute(\"SPIL_K\", 1e-5);\n",
    "label_list[1].set_double_attribute(\"CHARLIE_I_Kr\", 1e-5);\n",
    "label_list[1].set_double_attribute(\"CHARLIE_I_Ks\", 2e-5);\n",
    "label_list[1].set_double_attribute(\"CHARLIE_I_V\", 1);\n",
    "label_list[1].set_double_attribute(\"CHARLIE_I_dimless_roughness\", 1);\n",
    "label_list[1].set_double_attribute(\"CHARLIE_I_dstar\", 1);\n",
    "label_list[1].set_double_attribute(\"CHARLIE_I_threshold_incision\", 0);\n",
    "label_list[1].set_double_attribute(\"CHARLIE_I_threshold_entrainment\", 0);\n",
    "\n",
    "label_array = np.ones_like(Z,dtype = np.int);\n",
    "# label_array[round(nrows/4):3*round(nrows/4), :] = 0;\n",
    "label_array = label_array.ravel()\n",
    "\n",
    "model.initialise_label_list(label_list)\n",
    "model.update_label_array(label_array.ravel())\n",
    "\n",
    "\n",
    "ch.set_DEBUG_switch_nodegraph([\"SAFE_STACK_STOPPER\", \"EXTENSIVE_STACK_INFO\"], [True,True]) \n",
    "print(\"Ready!\")"
   ]
  },
  {
   "cell_type": "code",
   "execution_count": null,
   "metadata": {},
   "outputs": [
    {
     "data": {
      "text/plain": [
       "'45'"
      ]
     },
     "metadata": {},
     "output_type": "display_data"
    }
   ],
   "source": [
    "uplift = np.zeros((nrows,ncols))\n",
    "# uplift[1:-1,1:-1:] = 0.001\n",
    "uplift[1:-1,:] = 0.001\n",
    "# uplift[20:40,:] = 0.0005\n",
    "# uplift[10:20,:] = 0.001\n",
    "# uplift[25:60,:] +=  0.003\n",
    "# uplift[60:85:,:] +=  0.002      \n",
    "uplift = uplift.ravel() \n",
    "dt = 500\n",
    "model.update_timestep(dt)\n",
    "model.update_array_double_param(\"erodibility_K\", np.zeros_like(Z.ravel())+1e-5)\n",
    "model.set_lake_switch(False)\n",
    "save_question_mark = False\n",
    "save_mod = 20\n",
    "\n",
    "timers = {}\n",
    "timers[\"preproc\"] = []\n",
    "timers[\"init_node_graph\"] = []\n",
    "timers[\"run\"] = []\n",
    "# timers[\"preproc\"] = []\n",
    "\n",
    "checkMBlist = []\n",
    "\n",
    "# for i in range(1):\n",
    "for i in range(100):\n",
    "    this_timer = time.time()\n",
    "    new_elev = model.get_array_double_param(\"surface_elevation_tp1\") + (uplift * dt)\n",
    "    new_elev += np.random.rand(new_elev.shape[0]) * 1e-6\n",
    "    \n",
    "    \n",
    "\n",
    "    model.update_array_double_param(\"surface_elevation\", new_elev)\n",
    "    model.update_array_double_param(\"surface_elevation_tp1\", new_elev)\n",
    "    model.update_array_double_param(\"sed_height\", np.copy(model.get_array_double_param(\"sed_height_tp1\")))\n",
    "    timers[\"preproc\"].append(time.time() - this_timer)\n",
    "    this_timer = time.time()\n",
    "    \n",
    "    model.initiate_nodegraph()\n",
    "    timers[\"init_node_graph\"].append(time.time() - this_timer)\n",
    "    this_timer = time.time()\n",
    "    model.run()\n",
    "    timers[\"run\"].append(time.time() - this_timer)\n",
    "    \n",
    "    dtprint = 1\n",
    "    clear_output() if (i%dtprint == 0) else 0\n",
    "    display(str(i+1)) if (i%dtprint == 0) else 0\n",
    "    \n",
    "#     checkMBlist.append( np.nansum(model.get_water_flux().reshape(nrows,ncols)[0,:]) + np.nansum(model.get_water_flux().reshape(nrows,ncols)[-1,:]) + np.nansum(model.get_array_double_param(\"lake_depth\"))* xres *yres / dt)\n",
    "\n",
    "    \n",
    "    if(save_question_mark):\n",
    "        if(i%save_mod == 0):\n",
    "            name = str(i)\n",
    "            while(len(name)<4):\n",
    "                name = \"0\" + name\n",
    "            Zp1 = model.get_array_double_param(\"surface_elevation_tp1\")\n",
    "            fig,ax = plt.subplots(figsize = (10,10))\n",
    "            cb = ax.imshow(Zp1.reshape(nrows,ncols), vmin = 0, cmap = \"gist_earth\", extent = [xmin,xmax,ymin,ymax])\n",
    "            plt.colorbar(cb)\n",
    "            HS = np.zeros_like(Zp1).reshape(nrows,ncols)\n",
    "            tester = np.copy(Zp1).reshape(nrows,ncols)\n",
    "\n",
    "#             tester = gaussian_filter(tester, sigma=1)\n",
    "#             tester = tester - tester.min()\n",
    "#             tester = tester/np.median(tester) * 1000\n",
    "            lsdnb.lsdnb.hillshading(tester.reshape(nrows,ncols),xres,yres,ncols,nrows,HS,np.deg2rad(60),np.deg2rad(125),1)\n",
    "#             HS = HS - np.nanmin(HS)\n",
    "#             HS = HS/np.median(HS)\n",
    "#             HS = HS/np.nanmax(HS)\n",
    "            ax.imshow(HS.reshape(nrows,ncols),vmin = 0, vmax = 255,  cmap = \"gray\", extent = [xmin,xmax,ymin,ymax], alpha = 0.35)\n",
    "            \n",
    "            lake = model.get_array_double_param(\"lake_depth\").reshape(nrows,ncols)\n",
    "            lake = np.abs(lake)\n",
    "            lake[lake<=0] = np.nan\n",
    "            ax.imshow(lake,vmin =-5, vmax = -4, cmap = \"Blues\", extent = [xmin,xmax,ymin,ymax])\n",
    "            ax.set_xlabel(\"X (m)\")\n",
    "            ax.set_ylabel(\"Y (m)\")\n",
    "            plt.savefig(\"demo_lake_tecto/anim%s.jpg\"%(name), dpi = 300)\n",
    "            plt.close(fig)\n",
    "\n",
    "\n",
    "\n",
    "\n",
    "for key,val in timers.items():\n",
    "    print(key, \"took\", np.median(np.array(val)) )\n",
    "    "
   ]
  },
  {
   "cell_type": "code",
   "execution_count": 3,
   "metadata": {},
   "outputs": [
    {
     "name": "stdout",
     "output_type": "stream",
     "text": [
      "0.4178346160165127\n"
     ]
    },
    {
     "data": {
      "text/plain": [
       "Text(0, 0.5, 'Y (m)')"
      ]
     },
     "execution_count": 3,
     "metadata": {},
     "output_type": "execute_result"
    },
    {
     "data": {
      "image/png": "[encoded data removed]",
      "text/plain": [
       "<Figure size 720x720 with 2 Axes>"
      ]
     },
     "metadata": {
      "needs_background": "light"
     },
     "output_type": "display_data"
    }
   ],
   "source": [
    "Zp1 = model.get_array_double_param(\"surface_elevation_tp1\")\n",
    "print(np.min(Zp1))\n",
    "\n",
    "fig,ax = plt.subplots(figsize = (10,10))\n",
    "\n",
    "# cb = ax.imshow(Z.reshape(raster[\"nrows\"],raster[\"ncols\"])- Zp1.reshape(raster[\"nrows\"],raster[\"ncols\"]), \n",
    "#      cmap = \"viridis\")\n",
    "# model.get_water_flux()\n",
    "\n",
    "noerr = np.copy(Zp1.reshape(nrows,ncols))\n",
    "noerr[noerr>0] = np.nan\n",
    " \n",
    "cb = ax.imshow(Zp1.reshape(nrows,ncols), vmin = 0, cmap = \"gist_earth\", extent = [xmin,xmax,ymin,ymax])\n",
    "\n",
    "lake = model.get_array_double_param(\"lake_depth\").reshape(nrows,ncols)\n",
    "lake = np.abs(lake)\n",
    "lake[lake<=0] = np.nan\n",
    "ax.imshow(lake,vmin = -5, vmax = -4, cmap = \"Blues\", extent = [xmin,xmax,ymin,ymax])\n",
    "\n",
    "# logwat = np.log10(model.get_water_flux().reshape(nrows,ncols))\n",
    "# cb = ax.imshow(logwat, vmin = 3, cmap = \"Blues\")\n",
    "# cb = ax.imshow(np.log10(model.get_water_flux().reshape(nrows,ncols)), vmin = 3, cmap = \"Blues\", extent = [xmin,xmax,ymin,ymax])\n",
    "# logwat[logwat<6] = np.nan\n",
    "# cb = ax.imshow(logwat, vmin = 3, cmap = \"Blues\")\n",
    "\n",
    "\n",
    "\n",
    "# cb = ax.imshow((Zp1 - tempsave).reshape(nrows,ncols), vmin = 0, cmap = \"gist_earth\", extent = [xmin,xmax,ymin,ymax])\n",
    "# cb = ax.imshow(model.get_other_attribute(\"lake_depth\").reshape(nrows,ncols), vmin = 0,     cmap = \"viridis\")\n",
    "# cb = ax.imshow(model.get_erosion_flux().reshape(nrows,ncols), cmap = \"viridis\", extent = [xmin,xmax,ymin,ymax])\n",
    "# cb = ax.imshow(model.get_deposition_flux().reshape(nrows,ncols), cmap = \"viridis\", extent = [xmin,xmax,ymin,ymax])\n",
    "\n",
    "# Sediment stuff plotting\n",
    "\n",
    "list_of_proportions = model.get_label_tracking_results()\n",
    "\n",
    "# cb = ax.imshow(np.log10(model.get_sediment_flux()).reshape(nrows,ncols), cmap = \"viridis\", extent = [xmin,xmax,ymin,ymax])\n",
    "# cb = ax.imshow((model.get_sediment_flux() / model.get_water_flux()).reshape(nrows,ncols), cmap = \"viridis\", extent = [xmin,xmax,ymin,ymax])\n",
    "# cb = ax.imshow(list_of_proportions[1].reshape(nrows,ncols), cmap = \"viridis\" ) #, vmin =0, vmax = 1)\n",
    "\n",
    "# # # cb = ax.imshow(model.get_all_nodes_in_depression().reshape(nrows,ncols), cmap = \"viridis\")\n",
    "# cb = ax.imshow(model.DEBUG_get_preacc().reshape(nrows,ncols), cmap = \"viridis\")\n",
    "\n",
    "cb = ax.imshow(model.get_array_double_param(\"sed_height_tp1\").reshape(nrows,ncols), cmap = \"viridis\", extent = [xmin,xmax,ymin,ymax], vmin = 0.3, vmax =0.5)\n",
    "# cb = ax.imshow(model.get_array_double_param(\"sed_height_tp1\").reshape(nrows,ncols), cmap = \"viridis\", vmax =0.0001, extent = [xmin,xmax,ymin,ymax])\n",
    "\n",
    "HS = np.zeros_like(Zp1).reshape(nrows,ncols)\n",
    "tester = np.copy(Zp1).reshape(nrows,ncols)\n",
    "\n",
    "lsdnb.lsdnb.hillshading(tester.reshape(nrows,ncols),xres,yres,ncols,nrows,HS,np.deg2rad(60),np.deg2rad(125),1)\n",
    "\n",
    "ax.imshow((HS.reshape(nrows,ncols)),vmin = 0, vmax = 255,  cmap = \"gray\", extent = [xmin,xmax,ymin,ymax], alpha = 0.35)\n",
    "\n",
    "\n",
    "# cb = ax.imshow(Z.reshape(raster[\"nrows\"],raster[\"ncols\"])[600:700,400:500] - Zp1.reshape(raster[\"nrows\"],raster[\"ncols\"])[600:700,400:500], \n",
    "#     vmin = -0.1,vmax = 0.5, cmap = \"viridis\")\n",
    "# cb = ax.imshow(Z.reshape(raster[\"nrows\"],raster[\"ncols\"])[550:650,400:500], cmap = \"viridis\",vmin = 500, vmax = 800 )\n",
    "# plt.colorbar(cb, label = r\"Erosion rates $(mm.yrs^{-1})$\")\n",
    "plt.colorbar(cb, label = r\"elevation (m)\")\n",
    "ax.set_xlabel(\"X (m)\")\n",
    "ax.set_ylabel(\"Y (m)\")\n"
   ]
  },
  {
   "cell_type": "code",
   "execution_count": 30,
   "metadata": {},
   "outputs": [
    {
     "data": {
      "text/plain": [
       "<matplotlib.colorbar.Colorbar at 0x7fe4d4ebdcd0>"
      ]
     },
     "execution_count": 30,
     "metadata": {},
     "output_type": "execute_result"
    },
    {
     "data": {
      "image/png": "[encoded data removed]",
      "text/plain": [
       "<Figure size 432x432 with 2 Axes>"
      ]
     },
     "metadata": {
      "needs_background": "light"
     },
     "output_type": "display_data"
    }
   ],
   "source": []
  },
  {
   "cell_type": "code",
   "execution_count": 4,
   "metadata": {},
   "outputs": [
    {
     "name": "stdout",
     "output_type": "stream",
     "text": [
      "25000000\n",
      "25000000.0\n",
      "Lake depth sum 0.0\n",
      "0.0 2500\n"
     ]
    }
   ],
   "source": [
    "# Checking mass balance\n",
    "\n",
    "total_accumulable = nrows*ncols*xres*yres\n",
    "total_accumulated = np.nansum(model.get_water_flux().reshape(nrows,ncols)[0,:]) + np.nansum(model.get_water_flux().reshape(nrows,ncols)[-1,:]) + np.nansum(model.get_array_double_param(\"lake_depth\"))* xres *yres / dt\n",
    "print(total_accumulable)\n",
    "print(total_accumulated)\n",
    "print(\"Lake depth sum\", np.nansum(model.get_array_double_param(\"lake_depth\")) * xres * yres/dt)\n",
    "print(np.nansum(model.get_array_double_param(\"lake_depth\")), xres*yres )"
   ]
  },
  {
   "cell_type": "code",
   "execution_count": null,
   "metadata": {},
   "outputs": [],
   "source": [
    "fig, ax = plt.subplots(figsize = (9,6))\n",
    "ax.set_facecolor(\"k\")\n",
    "ax.plot(checkMBlist, lw = 3, color = \"w\")\n",
    "ax.grid(color = \"gray\")\n",
    "ax.axhline(nrows*ncols*xres*yres, color = \"pink\")"
   ]
  },
  {
   "cell_type": "markdown",
   "metadata": {},
   "source": [
    "# Fantastic inputs and where to find them\n",
    "\n",
    "The model can take a lot of parameters, which looks scary, but actually this is just to induce flexibility and most of them will be used by defaults in higher interface.\n",
    "\n",
    "## Essential\n",
    "\n",
    "These inputs are **essential**, i.e. the model won't simply run without it.\n",
    "\n",
    "|Parameter string|c++ object|value type|description\n",
    "|---|---|---|---|\n",
    "|   |   |   |   |\n",
    "|   |   |   |   |\n",
    "|   |   |   |   |"
   ]
  },
  {
   "cell_type": "code",
   "execution_count": null,
   "metadata": {},
   "outputs": [],
   "source": [
    "# Labelisation for SPL\n",
    "label_list = []\n",
    "label_list.append(ch.label(0))\n",
    "label_list[0].set_double_attribute(\"SPIL_m\", 0.45);\n",
    "label_list[0].set_double_attribute(\"SPIL_n\", 1.11);\n",
    "label_list[0].set_double_attribute(\"SPIL_K\", 1e-5);\n",
    "label_list.append(ch.label(1))\n",
    "label_list[1].set_double_attribute(\"SPIL_m\", 0.45);\n",
    "label_list[1].set_double_attribute(\"SPIL_n\", 1.11);\n",
    "label_list[1].set_double_attribute(\"SPIL_K\", 3e-5);"
   ]
  },
  {
   "cell_type": "code",
   "execution_count": null,
   "metadata": {},
   "outputs": [],
   "source": [
    "# Labelisation for CHARLIE_I\n",
    "label_list = []\n",
    "label_list.append(ch.label(0))\n",
    "label_list[0].set_double_attribute(\"SPIL_m\", 0.45);\n",
    "label_list[0].set_double_attribute(\"SPIL_n\", 1.11);\n",
    "label_list[0].set_double_attribute(\"CHARLIE_I_Kr\", 1e-5);\n",
    "label_list[0].set_double_attribute(\"CHARLIE_I_Ks\", 5e-5);\n",
    "label_list[0].set_double_attribute(\"CHARLIE_I_V\", 1e-2);\n",
    "label_list[0].set_double_attribute(\"CHARLIE_I_dimless_roughness\", 0.01);\n",
    "label_list[0].set_double_attribute(\"CHARLIE_I_dstar\", 1);\n",
    "label_list[0].set_double_attribute(\"CHARLIE_I_threshold_incision\", 0);\n",
    "label_list[0].set_double_attribute(\"CHARLIE_I_threshold_entrainment\", 0);\n",
    "label_list.append(ch.label(1))\n",
    "label_list[1].set_double_attribute(\"SPIL_m\", 0.45);\n",
    "label_list[1].set_double_attribute(\"SPIL_n\", 1.11);\n",
    "label_list[1].set_double_attribute(\"CHARLIE_I_Kr\", 2e-5);\n",
    "label_list[1].set_double_attribute(\"CHARLIE_I_Ks\", 5e-5);\n",
    "label_list[1].set_double_attribute(\"CHARLIE_I_V\", 2e-2);\n",
    "label_list[1].set_double_attribute(\"CHARLIE_I_dimless_roughness\", 0.05);\n",
    "label_list[1].set_double_attribute(\"CHARLIE_I_dstar\", 1);\n",
    "label_list[1].set_double_attribute(\"CHARLIE_I_threshold_incision\", 0);\n",
    "label_list[1].set_double_attribute(\"CHARLIE_I_threshold_entrainment\", 0);"
   ]
  },
  {
   "cell_type": "code",
   "execution_count": null,
   "metadata": {},
   "outputs": [],
   "source": []
  },
  {
   "cell_type": "code",
   "execution_count": null,
   "metadata": {},
   "outputs": [],
   "source": []
  },
  {
   "cell_type": "code",
   "execution_count": 8,
   "metadata": {},
   "outputs": [
    {
     "data": {
      "text/plain": [
       "array([0., 0., 0., ..., 0., 0., 0.])"
      ]
     },
     "execution_count": 8,
     "metadata": {},
     "output_type": "execute_result"
    }
   ],
   "source": [
    "model.get_water_flux()"
   ]
  },
  {
   "cell_type": "code",
   "execution_count": 43,
   "metadata": {},
   "outputs": [],
   "source": [
    "np.save(\"200_300_demo_dem.npy\", model.get_array_double_param(\"surface_elevation\"))"
   ]
  },
  {
   "cell_type": "code",
   "execution_count": 5,
   "metadata": {},
   "outputs": [
    {
     "name": "stdout",
     "output_type": "stream",
     "text": [
      "-------------\n"
     ]
    }
   ],
   "source": [
    "idx = []\n",
    "tid = -1\n",
    "all_bas = []\n",
    "for A in model.get_DEBUG_connbas():\n",
    "    tid+=1\n",
    "    if(A[0] == 129 or A[1] == 129):\n",
    "        print(A)\n",
    "        idx.append(tid)\n",
    "print(\"-------------\")\n",
    "connodes =  model.get_DEBUG_connode()\n",
    "for i in idx:\n",
    "    print(connodes[i])"
   ]
  },
  {
   "cell_type": "code",
   "execution_count": 7,
   "metadata": {},
   "outputs": [
    {
     "name": "stdout",
     "output_type": "stream",
     "text": [
      "bite\n",
      "bite\n"
     ]
    }
   ],
   "source": [
    "tree = model.get_mstree_translated()\n",
    "for furb in tree:\n",
    "    if(furb[0] == 235 or furb[1] == 235):\n",
    "        print(\"bite\")\n"
   ]
  },
  {
   "cell_type": "code",
   "execution_count": 3,
   "metadata": {},
   "outputs": [
    {
     "ename": "NameError",
     "evalue": "name 'new_elev' is not defined",
     "output_type": "error",
     "traceback": [
      "\u001b[0;31m---------------------------------------------------------------------------\u001b[0m",
      "\u001b[0;31mNameError\u001b[0m                                 Traceback (most recent call last)",
      "\u001b[0;32m<ipython-input-3-48444da70ce0>\u001b[0m in \u001b[0;36m<module>\u001b[0;34m\u001b[0m\n\u001b[0;32m----> 1\u001b[0;31m \u001b[0mnew_elev\u001b[0m \u001b[0;34m=\u001b[0m \u001b[0mnew_elev\u001b[0m\u001b[0;34m.\u001b[0m\u001b[0mreshape\u001b[0m\u001b[0;34m(\u001b[0m\u001b[0mnrows\u001b[0m\u001b[0;34m,\u001b[0m\u001b[0mncols\u001b[0m\u001b[0;34m)\u001b[0m\u001b[0;34m\u001b[0m\u001b[0;34m\u001b[0m\u001b[0m\n\u001b[0m\u001b[1;32m      2\u001b[0m \u001b[0;31m# new_elev[20:20,15:15] = new_elev[20:20,15:15] -  20\u001b[0m\u001b[0;34m\u001b[0m\u001b[0;34m\u001b[0m\u001b[0;34m\u001b[0m\u001b[0m\n\u001b[1;32m      3\u001b[0m \u001b[0mnew_elev\u001b[0m\u001b[0;34m[\u001b[0m\u001b[0;36m0\u001b[0m\u001b[0;34m:\u001b[0m\u001b[0;36m2\u001b[0m\u001b[0;34m,\u001b[0m\u001b[0;34m:\u001b[0m\u001b[0;34m]\u001b[0m \u001b[0;34m=\u001b[0m \u001b[0;36m0\u001b[0m\u001b[0;34m\u001b[0m\u001b[0;34m\u001b[0m\u001b[0m\n\u001b[1;32m      4\u001b[0m \u001b[0mnew_elev\u001b[0m\u001b[0;34m[\u001b[0m\u001b[0;34m-\u001b[0m\u001b[0;36m2\u001b[0m\u001b[0;34m:\u001b[0m\u001b[0;34m,\u001b[0m\u001b[0;34m:\u001b[0m\u001b[0;34m]\u001b[0m \u001b[0;34m=\u001b[0m \u001b[0;36m0\u001b[0m\u001b[0;34m\u001b[0m\u001b[0;34m\u001b[0m\u001b[0m\n\u001b[1;32m      5\u001b[0m \u001b[0mnew_elev\u001b[0m \u001b[0;34m=\u001b[0m \u001b[0mnew_elev\u001b[0m\u001b[0;34m.\u001b[0m\u001b[0mravel\u001b[0m\u001b[0;34m(\u001b[0m\u001b[0;34m)\u001b[0m\u001b[0;34m\u001b[0m\u001b[0;34m\u001b[0m\u001b[0m\n",
      "\u001b[0;31mNameError\u001b[0m: name 'new_elev' is not defined"
     ]
    }
   ],
   "source": [
    "new_elev = new_elev.reshape(nrows,ncols)\n",
    "# new_elev[20:20,15:15] = new_elev[20:20,15:15] -  20\n",
    "new_elev[0:2,:] = 0\n",
    "new_elev[-2:,:] = 0\n",
    "new_elev = new_elev.ravel()\n",
    "model.update_array_double_param(\"surface_elevation_tp1\", new_elev)\n",
    "model.update_array_double_param(\"surface_elevation\", new_elev)\n"
   ]
  },
  {
   "cell_type": "code",
   "execution_count": null,
   "metadata": {},
   "outputs": [],
   "source": [
    "this_K = np.zeros_like(Z.ravel())+1e-4\n",
    "\n",
    "popup_elev = ch.pop_elevation_to_SS_SF_SPIL(fstctx.stack -1, fstctx.rec -1,fstctx.length , uplift, this_K, 0.9, 0.45, xres*yres)\n",
    "pZ = np.copy(popup_elev)"
   ]
  },
  {
   "cell_type": "code",
   "execution_count": 6,
   "metadata": {},
   "outputs": [
    {
     "data": {
      "image/png": "[encoded data removed]",
      "text/plain": [
       "<Figure size 432x288 with 1 Axes>"
      ]
     },
     "metadata": {
      "needs_background": "light"
     },
     "output_type": "display_data"
    }
   ],
   "source": [
    "plt.imshow(pZ.reshape(nrows, ncols))\n",
    "model.update_array_double_param(\"surface_elevation_tp1\", pZ)\n",
    "\n",
    "model.update_array_double_param(\"surface_elevation\", pZ)\n"
   ]
  },
  {
   "cell_type": "code",
   "execution_count": 13,
   "metadata": {},
   "outputs": [
    {
     "name": "stdout",
     "output_type": "stream",
     "text": [
      "[0 0 0 ... 0 0 0]\n",
      "[0]\n"
     ]
    }
   ],
   "source": [
    "mfst = np.copy(fstctx.mstack.astype('int') - 1)\n",
    "print(model.get_array_int_param(\"MF_stack\") - mfst)\n",
    "print(np.unique(model.get_array_int_param(\"MF_stack\") - mfst))"
   ]
  },
  {
   "cell_type": "code",
   "execution_count": 5,
   "metadata": {},
   "outputs": [
    {
     "name": "stdout",
     "output_type": "stream",
     "text": [
      "[323]||323||"
     ]
    }
   ],
   "source": [
    "# Prec = fstctx.rec - 1\n",
    "# don = fstctx.don.transpose() - 1\n",
    "# ndon = fstctx.ndon\n",
    "# rec = fstctx.mrec.transpose() - 1\n",
    "# # print(model.get_array_int_param(\"MF_rec\")[792])\n",
    "# # print(model.get_array_int_param(\"MF_stack\")[2080])\n",
    "# # print(Prec[2080])\n",
    "# # print(model.DEBUG_get_receivers_at_node(2390))\n",
    "# # print(model.DEBUG_get_donors_at_node(2390))\n",
    "# rec[300]\n",
    "# ndon[300]\n",
    "# for i in range(100):\n",
    "#     print(model.DEBUG_get_receivers_at_node(i), end = \"||\")\n",
    "\n",
    "print(model.DEBUG_get_receivers_at_node(323), end = \"||\")\n",
    "print(model.DEBUG_get_Sreceivers_at_node(323), end = \"||\")\n",
    "for i in range(nrows,nrows*ncols - nrows):\n",
    "    if(len(model.DEBUG_get_receivers_at_node(i)) == 0):\n",
    "        print(i)"
   ]
  },
  {
   "cell_type": "code",
   "execution_count": 5,
   "metadata": {},
   "outputs": [],
   "source": [
    "lsd.raster_loader.save_raster(model.get_array_double_param(\"surface_elevation\").reshape(nrows,ncols),\n",
    "   0,xres*ncols,yres*nrows,0,xres,\"epsg:32635\",\"nodegraphv2_topo.tif\", fmt = 'GTIFF')\n",
    "lsd.raster_loader.save_raster((model.get_array_double_param(\"surface_elevation\") + model.get_array_double_param(\"lake_depth\")).reshape(nrows,ncols),\n",
    "   0,xres*ncols,yres*nrows,0,xres,\"epsg:32635\",\"nodegraphv2_topolake.tif\", fmt = 'GTIFF')\n",
    "lsd.raster_loader.save_raster(np.arange(nrows*ncols).astype(np.int32).reshape(nrows,ncols),\n",
    "   0,xres*ncols,yres*nrows,0,xres,\"epsg:32635\",\"nodegraphv2_ID.tif\", fmt = 'GTIFF')\n",
    "lsd.raster_loader.save_raster(np.log10(model.get_water_flux().reshape(nrows,ncols)).reshape(nrows,ncols),\n",
    "   0,xres*ncols,yres*nrows,0,xres,\"epsg:32635\",\"nodegraphv2_logDA.tif\", fmt = 'GTIFF')\n",
    "arr = model.get_array_double_param(\"lake_depth\").reshape(nrows,ncols)\n",
    "arr[arr<=0] = -9999\n",
    "lsd.raster_loader.save_raster(arr,\n",
    "   0,xres*ncols,yres*nrows,0,xres,\"epsg:32635\",\"nodegraphv2_lake_depth.tif\", fmt = 'GTIFF')\n",
    "caspers = model.get_broken_nodes()\n",
    "ARR = np.zeros_like(Z.ravel())\n",
    "ARR[caspers]=1\n",
    "lsd.raster_loader.save_raster(ARR.reshape(nrows,ncols),0,xres*ncols,yres*nrows,0,xres,\"epsg:32635\",\"nodegraphv2_broken_nodes.tif\", fmt = 'GTIFF')"
   ]
  },
  {
   "cell_type": "code",
   "execution_count": 16,
   "metadata": {},
   "outputs": [],
   "source": [
    "model.update_double_param(\"threshold_single_flow\", 1e5)\n"
   ]
  },
  {
   "cell_type": "code",
   "execution_count": 8,
   "metadata": {},
   "outputs": [],
   "source": [
    "np.save(\"SS_100_100_MFA.npy\",model.get_array_double_param(\"surface_elevation\"))"
   ]
  },
  {
   "cell_type": "code",
   "execution_count": 10,
   "metadata": {},
   "outputs": [
    {
     "name": "stdout",
     "output_type": "stream",
     "text": [
      "[]\n"
     ]
    }
   ],
   "source": [
    "caspers = model.get_broken_nodes()\n",
    "print(caspers)"
   ]
  },
  {
   "cell_type": "code",
   "execution_count": 11,
   "metadata": {},
   "outputs": [
    {
     "data": {
      "text/plain": [
       "<matplotlib.image.AxesImage at 0x7f850a6f5a90>"
      ]
     },
     "execution_count": 11,
     "metadata": {},
     "output_type": "execute_result"
    },
    {
     "data": {
      "image/png": "[encoded data removed]",
      "text/plain": [
       "<Figure size 432x288 with 1 Axes>"
      ]
     },
     "metadata": {
      "needs_background": "light"
     },
     "output_type": "display_data"
    }
   ],
   "source": [
    "ARR = np.zeros_like(Z.ravel())\n",
    "ARR[caspers]=1\n",
    "plt.imshow(ARR.reshape(nrows,ncols))"
   ]
  },
  {
   "cell_type": "code",
   "execution_count": 16,
   "metadata": {},
   "outputs": [],
   "source": [
    "from io import StringIO\n",
    "import pandas as pd\n",
    "res = \"\"\"ID|donor|score\n",
    "79|178|1638\n",
    "80|181|537\n",
    "81|182|536\n",
    "180|281|534\n",
    "877|978|507\n",
    "976|1077|470\n",
    "1175|1176|460\n",
    "1274|1273|1593\n",
    "1275|1176|460\n",
    "1374|1273|1593\n",
    "1375|1276|461\n",
    "1376|1477|435\n",
    "1474|1373|1594\n",
    "1475|1576|433\n",
    "1476|1577|431\n",
    "1573|1672|1576\n",
    "1574|1673|1577\n",
    "1575|1676|432\n",
    "1674|1774|1537\n",
    "1675|1776|415\n",
    "1775|1776|415\n",
    "2000|1999|705\n",
    "2001|1900|715\n",
    "2002|1901|717\n",
    "2003|1902|722\n",
    "2004|1905|848\n",
    "2005|1906|847\n",
    "2073|1974|1535\n",
    "2079|1980|413\n",
    "2080|1981|412\n",
    "2085|1986|388\n",
    "2097|1998|707\n",
    "2098|1999|705\n",
    "2099|1999|705\n",
    "2105|2006|2468\n",
    "2106|2207|2102\n",
    "2172|2071|1546\n",
    "2174|2075|1536\n",
    "2175|2076|426\n",
    "2177|2076|426\n",
    "2182|2282|2616\n",
    "2183|2282|2616\n",
    "2196|2095|709\n",
    "2198|2197|2097\n",
    "2200|2399|2160\n",
    "2204|2305|2483\n",
    "2205|2305|2483\n",
    "2206|2207|2102\n",
    "2271|2171|2135\n",
    "2275|2176|427\n",
    "2276|2176|427\n",
    "2287|2386|3221\n",
    "2294|2395|3340\n",
    "2295|2396|3337\n",
    "2297|2197|2097\n",
    "2298|2197|2097\n",
    "2299|2398|2159\n",
    "2300|2399|2160\n",
    "2304|2405|2482\n",
    "2371|2272|2136\n",
    "2390|2289|367\n",
    "2392|2491|3319\n",
    "2393|2492|3320\n",
    "2394|2495|3305\n",
    "2400|2399|2160\n",
    "2401|2500|3285\n",
    "2404|2405|2482\n",
    "2467|2368|1532\n",
    "2469|2368|1532\n",
    "2470|2471|2993\n",
    "2489|2588|3216\n",
    "2501|2600|3283\n",
    "2502|2603|2162\n",
    "2503|2603|2162\n",
    "2504|2603|2162\n",
    "2568|2669|3066\n",
    "2602|2702|2161\n",
    "2604|2603|2162\n",
    "2703|2702|2161\"\"\"\n",
    "df = pd.read_csv(StringIO(res.replace(\"|\",\",\")))"
   ]
  },
  {
   "cell_type": "code",
   "execution_count": 17,
   "metadata": {},
   "outputs": [
    {
     "data": {
      "text/html": [
       "<div>\n",
       "<style scoped>\n",
       "    .dataframe tbody tr th:only-of-type {\n",
       "        vertical-align: middle;\n",
       "    }\n",
       "\n",
       "    .dataframe tbody tr th {\n",
       "        vertical-align: top;\n",
       "    }\n",
       "\n",
       "    .dataframe thead th {\n",
       "        text-align: right;\n",
       "    }\n",
       "</style>\n",
       "<table border=\"1\" class=\"dataframe\">\n",
       "  <thead>\n",
       "    <tr style=\"text-align: right;\">\n",
       "      <th></th>\n",
       "      <th>ID</th>\n",
       "      <th>donor</th>\n",
       "      <th>score</th>\n",
       "    </tr>\n",
       "  </thead>\n",
       "  <tbody>\n",
       "    <tr>\n",
       "      <th>60</th>\n",
       "      <td>2390</td>\n",
       "      <td>2289</td>\n",
       "      <td>367</td>\n",
       "    </tr>\n",
       "  </tbody>\n",
       "</table>\n",
       "</div>"
      ],
      "text/plain": [
       "      ID  donor  score\n",
       "60  2390   2289    367"
      ]
     },
     "execution_count": 17,
     "metadata": {},
     "output_type": "execute_result"
    }
   ],
   "source": [
    "df[df['score'] == df['score'].min()]"
   ]
  },
  {
   "cell_type": "code",
   "execution_count": 3,
   "metadata": {},
   "outputs": [
    {
     "data": {
      "text/plain": [
       "['bite', 2]"
      ]
     },
     "execution_count": 3,
     "metadata": {},
     "output_type": "execute_result"
    }
   ],
   "source": [
    "[\"bite\"] +[2]"
   ]
  },
  {
   "cell_type": "code",
   "execution_count": 3,
   "metadata": {},
   "outputs": [],
   "source": [
    "fs.fastscape_init()\n",
    "fs.fastscape_set_nx_ny(ncols,nrows)\n",
    "fs.fastscape_setup()\n",
    "fs.fastscape_set_xl_yl(xmax - xmin, ymax - ymin)\n",
    "fs.fastscape_set_bc(1010)\n",
    "fstctx = fs.fastscapecontext\n",
    "fstctx.p = 3\n",
    "fstctx.h = new_elev\n",
    "fs.flowrouting()"
   ]
  },
  {
   "cell_type": "code",
   "execution_count": 9,
   "metadata": {},
   "outputs": [
    {
     "name": "stdout",
     "output_type": "stream",
     "text": [
      "53\n"
     ]
    }
   ],
   "source": [
    "Prec = fstctx.rec - 1\n",
    "print(Prec[152])"
   ]
  },
  {
   "cell_type": "code",
   "execution_count": 13,
   "metadata": {},
   "outputs": [],
   "source": [
    "model.update_double_param(\"threshold_single_flow\", 1e5)\n"
   ]
  },
  {
   "cell_type": "code",
   "execution_count": 8,
   "metadata": {},
   "outputs": [],
   "source": [
    "lab0 = ch.label(0)\n",
    "lab0.set_int_attribute(\"n_SPL\",3)\n",
    "lab0.set_double_attribute(\"m_SPL\",3.11)\n",
    "lab0.set_double_array_attribute(\"proportion_stuff\",np.array([2,3.5,45.7]))"
   ]
  },
  {
   "cell_type": "code",
   "execution_count": 11,
   "metadata": {},
   "outputs": [],
   "source": [
    "lablist = [lab0]\n",
    "model.reinitialise_label_list()\n",
    "model.initialise_label_list(lablist)"
   ]
  },
  {
   "cell_type": "code",
   "execution_count": null,
   "metadata": {},
   "outputs": [],
   "source": []
  },
  {
   "cell_type": "code",
   "execution_count": null,
   "metadata": {},
   "outputs": [],
   "source": []
  },
  {
   "cell_type": "code",
   "execution_count": null,
   "metadata": {},
   "outputs": [],
   "source": []
  },
  {
   "cell_type": "code",
   "execution_count": null,
   "metadata": {},
   "outputs": [],
   "source": []
  },
  {
   "cell_type": "code",
   "execution_count": 10,
   "metadata": {},
   "outputs": [
    {
     "name": "stdout",
     "output_type": "stream",
     "text": [
      "0.4054651081081643\n"
     ]
    }
   ],
   "source": [
    "H_star = 1\n",
    "V = 1\n",
    "Ks = 2e-5\n",
    "Kr = 1e-5\n",
    "r = 1\n",
    "\n",
    "\n",
    "\n",
    "aimed_H = - H_star * np.log(1 - (V/((Ks*r)/Kr + V)))\n",
    "print(aimed_H)"
   ]
  },
  {
   "cell_type": "code",
   "execution_count": null,
   "metadata": {},
   "outputs": [],
   "source": []
  }
 ],
 "metadata": {
  "kernelspec": {
   "display_name": "Python 3",
   "language": "python",
   "name": "python3"
  },
  "language_info": {
   "codemirror_mode": {
    "name": "ipython",
    "version": 3
   },
   "file_extension": ".py",
   "mimetype": "text/x-python",
   "name": "python",
   "nbconvert_exporter": "python",
   "pygments_lexer": "ipython3",
   "version": "3.7.7"
  }
 },
 "nbformat": 4,
 "nbformat_minor": 4
}
