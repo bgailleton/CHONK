{
 "cells": [
  {
   "cell_type": "code",
   "execution_count": 9,
   "id": "02343de3-a582-48d1-abf5-cbe0b97073e4",
   "metadata": {},
   "outputs": [],
   "source": [
    "import numpy as np\n",
    "import numba as nb\n"
   ]
  },
  {
   "cell_type": "code",
   "execution_count": 12,
   "id": "1820fb55-3a95-4349-a25d-6af75630ef4c",
   "metadata": {},
   "outputs": [],
   "source": [
    "@nb.njit()\n",
    "def f(A):\n",
    "    for i in range(1, A.shape[0]):\n",
    "        A[i] = A[i-1] + 1.2\n",
    "\n",
    "A = np.zeros(50000)"
   ]
  },
  {
   "cell_type": "code",
   "execution_count": 13,
   "id": "56937f1b-16d9-471d-9477-7c4c0a316c18",
   "metadata": {},
   "outputs": [
    {
     "name": "stdout",
     "output_type": "stream",
     "text": [
      "109 µs ± 715 ns per loop (mean ± std. dev. of 7 runs, 10000 loops each)\n"
     ]
    }
   ],
   "source": [
    "%timeit f(A)"
   ]
  },
  {
   "cell_type": "code",
   "execution_count": 14,
   "id": "76ad3a7f-61bf-4bab-9bf4-17dc5ec00b58",
   "metadata": {},
   "outputs": [],
   "source": [
    "import fastscape as fst"
   ]
  },
  {
   "cell_type": "code",
   "execution_count": 17,
   "id": "9d0806d3-1eed-47cf-ace5-5c988b8e3876",
   "metadata": {},
   "outputs": [
    {
     "data": {
      "text/plain": [
       "<xsimlab.Model (19 processes, 14 inputs)>\n",
       "grid\n",
       "    shape                   [in] ('shape_yx',) nb. of grid nodes in...\n",
       "    length                  [in] ('shape_yx',) total grid length in...\n",
       "boundary\n",
       "    status                  [in] () or ('border',) node status at b...\n",
       "fs_context\n",
       "uplift\n",
       "    rate                    [in] () or ('y', 'x') uplift rate\n",
       "tectonics\n",
       "init_topography\n",
       "    seed                    [in] random seed\n",
       "surf2erode\n",
       "init_erosion\n",
       "init_bedrock\n",
       "active_layer\n",
       "diffusion\n",
       "    diffusivity_bedrock     [in] () or ('y', 'x') bedrock diffusivity\n",
       "    diffusivity_soil        [in] () or ('y', 'x') soil (sediment) d...\n",
       "flow\n",
       "    slope_exp               [in] () or ('y', 'x') MFD partioner slo...\n",
       "drainage\n",
       "spl\n",
       "    area_exp                [in] drainage area exponent\n",
       "    slope_exp               [in] slope exponent\n",
       "    k_coef_bedrock          [in] () or ('y', 'x') bedrock channel i...\n",
       "    k_coef_soil             [in] () or ('y', 'x') soil (sediment) c...\n",
       "    g_coef_bedrock          [in] detached bedrock transport/deposit...\n",
       "    g_coef_soil             [in] soil (sediment) transport/depositi...\n",
       "erosion\n",
       "vmotion\n",
       "topography\n",
       "terrain\n",
       "bedrock"
      ]
     },
     "execution_count": 17,
     "metadata": {},
     "output_type": "execute_result"
    }
   ],
   "source": [
    "fst.models.sediment_model\n"
   ]
  },
  {
   "cell_type": "code",
   "execution_count": 22,
   "id": "96533f56-42c0-4181-82c5-af8257f2c44f",
   "metadata": {},
   "outputs": [
    {
     "data": {
      "text/plain": [
       "<xsimlab.Model (19 processes, 15 inputs)>\n",
       "grid\n",
       "    shape                   [in] ('shape_yx',) nb. of grid nodes in...\n",
       "    length                  [in] ('shape_yx',) total grid length in...\n",
       "boundary\n",
       "    status                  [in] () or ('border',) node status at b...\n",
       "fs_context\n",
       "uplift\n",
       "    rate                    [in] () or ('y', 'x') uplift rate\n",
       "tectonics\n",
       "init_topography\n",
       "    seed                    [in] random seed\n",
       "surf2erode\n",
       "init_erosion\n",
       "init_bedrock\n",
       "active_layer\n",
       "diffusion\n",
       "    diffusivity_bedrock     [in] () or ('y', 'x') bedrock diffusivity\n",
       "    diffusivity_soil        [in] () or ('y', 'x') soil (sediment) d...\n",
       "flow\n",
       "    slope_exp               [in] () or ('y', 'x') MFD partioner slo...\n",
       "drainage\n",
       "    runoff                  [in] () or ('y', 'x') surface runoff (s...\n",
       "spl\n",
       "    area_exp                [in] drainage area exponent\n",
       "    slope_exp               [in] slope exponent\n",
       "    k_coef_bedrock          [in] () or ('y', 'x') bedrock channel i...\n",
       "    k_coef_soil             [in] () or ('y', 'x') soil (sediment) c...\n",
       "    g_coef_bedrock          [in] detached bedrock transport/deposit...\n",
       "    g_coef_soil             [in] soil (sediment) transport/depositi...\n",
       "erosion\n",
       "vmotion\n",
       "topography\n",
       "terrain\n",
       "bedrock"
      ]
     },
     "execution_count": 22,
     "metadata": {},
     "output_type": "execute_result"
    }
   ],
   "source": [
    "fst.models.sediment_model.update_processes({'drainage':fst.processes.FlowAccumulator})"
   ]
  },
  {
   "cell_type": "code",
   "execution_count": 1,
   "id": "afc179b2-a98b-4d1c-a798-4d06aea2056e",
   "metadata": {},
   "outputs": [],
   "source": [
    "import numpy as np\n",
    "from IPython.display import display, clear_output\n"
   ]
  },
  {
   "cell_type": "code",
   "execution_count": null,
   "id": "4bf0bed6-4630-42c4-b8e3-8deba1da8a1a",
   "metadata": {},
   "outputs": [
    {
     "data": {
      "text/plain": [
       "-0.012908592521753163"
      ]
     },
     "metadata": {},
     "output_type": "display_data"
    }
   ],
   "source": [
    "s = 0\n",
    "for i in range(50000):\n",
    "    clear_output(wait=True)\n",
    "    s+=np.sum(np.random.uniform(- 1e-6,1e-6, 1000000))\n",
    "    display(s)"
   ]
  },
  {
   "cell_type": "code",
   "execution_count": null,
   "id": "bd33c20d-5a95-4a8d-8a5c-802a6b681eae",
   "metadata": {},
   "outputs": [],
   "source": []
  }
 ],
 "metadata": {
  "kernelspec": {
   "display_name": "Python 3",
   "language": "python",
   "name": "python3"
  },
  "language_info": {
   "codemirror_mode": {
    "name": "ipython",
    "version": 3
   },
   "file_extension": ".py",
   "mimetype": "text/x-python",
   "name": "python",
   "nbconvert_exporter": "python",
   "pygments_lexer": "ipython3",
   "version": "3.8.8"
  }
 },
 "nbformat": 4,
 "nbformat_minor": 5
}
