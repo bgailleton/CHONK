{
 "cells": [
  {
   "cell_type": "code",
   "execution_count": 2,
   "id": "charming-modification",
   "metadata": {},
   "outputs": [],
   "source": [
    "import numpy as np\n",
    "import matplotlib.pyplot as plt\n",
    "%matplotlib widget\n"
   ]
  },
  {
   "cell_type": "code",
   "execution_count": 44,
   "id": "breathing-composite",
   "metadata": {},
   "outputs": [
    {
     "data": {
      "application/vnd.jupyter.widget-view+json": {
       "model_id": "4610d4ed67d24303a3ecd58279920aff",
       "version_major": 2,
       "version_minor": 0
      },
      "text/plain": [
       "Canvas(toolbar=Toolbar(toolitems=[('Home', 'Reset original view', 'home', 'home'), ('Back', 'Back to previous …"
      ]
     },
     "metadata": {},
     "output_type": "display_data"
    },
    {
     "data": {
      "text/plain": [
       "Text(0, 0.5, 'elevation (m)')"
      ]
     },
     "execution_count": 44,
     "metadata": {},
     "output_type": "execute_result"
    }
   ],
   "source": [
    "dx = 0.1\n",
    "KD = 1\n",
    "dt = 1\n",
    "\n",
    "F = (dt * KD) / (dx**2)\n",
    "\n",
    "X = np.arange(0,10, dx)\n",
    "z = np.sin(X)\n",
    "original_z = z.copy()\n",
    "\n",
    "\n",
    "fig,ax = plt.subplots()\n",
    "ax.plot(X,z)\n",
    "ax.set_xlabel(\"distance (m)\")\n",
    "ax.set_ylabel(\"elevation (m)\")"
   ]
  },
  {
   "cell_type": "code",
   "execution_count": 75,
   "id": "cathedral-flooring",
   "metadata": {},
   "outputs": [],
   "source": [
    "results = []\n",
    "ndt = 100000\n",
    "\n",
    "for i in range(ndt):\n",
    "    z[1:-1] = (z[2:] - 2*z[1:-1] + z[:-2])/F + z[1:-1]\n",
    "    z[-1] = z[-2]\n",
    "    if(i%1000 == 0):\n",
    "        results.append(z.copy())"
   ]
  },
  {
   "cell_type": "code",
   "execution_count": 76,
   "id": "gothic-source",
   "metadata": {},
   "outputs": [
    {
     "data": {
      "application/vnd.jupyter.widget-view+json": {
       "model_id": "cbe30f988c844e27b71ab8a8e0c36777",
       "version_major": 2,
       "version_minor": 0
      },
      "text/plain": [
       "Canvas(toolbar=Toolbar(toolitems=[('Home', 'Reset original view', 'home', 'home'), ('Back', 'Back to previous …"
      ]
     },
     "metadata": {},
     "output_type": "display_data"
    }
   ],
   "source": [
    "fig,ax = plt.subplots()\n",
    "ax.plot(X, original_z)\n",
    "for res in results:\n",
    "    ax.plot(X,res)"
   ]
  },
  {
   "cell_type": "code",
   "execution_count": 70,
   "id": "flexible-making",
   "metadata": {},
   "outputs": [],
   "source": [
    "z[0:10]  = 0.25"
   ]
  },
  {
   "cell_type": "code",
   "execution_count": null,
   "id": "valid-newark",
   "metadata": {},
   "outputs": [],
   "source": []
  }
 ],
 "metadata": {
  "kernelspec": {
   "display_name": "Python 3",
   "language": "python",
   "name": "python3"
  },
  "language_info": {
   "codemirror_mode": {
    "name": "ipython",
    "version": 3
   },
   "file_extension": ".py",
   "mimetype": "text/x-python",
   "name": "python",
   "nbconvert_exporter": "python",
   "pygments_lexer": "ipython3",
   "version": "3.7.9"
  }
 },
 "nbformat": 4,
 "nbformat_minor": 5
}
