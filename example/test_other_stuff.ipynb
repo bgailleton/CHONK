{
 "cells": [
  {
   "cell_type": "code",
   "execution_count": 11,
   "id": "facial-helen",
   "metadata": {},
   "outputs": [],
   "source": [
    "import numpy as np\n",
    "import matplotlib.pyplot as plt\n",
    "%matplotlib widget\n",
    "\n",
    "zn_i = 5\n",
    "dt = 1000\n",
    "znp1_j = 4.5\n",
    "dx = 50\n",
    "kappa = 1e-2\n",
    "qsn_i = 100\n",
    "Sc = 2/50\n",
    "S = 0.2 / 50\n",
    "\n",
    "a = znp1_j\n",
    "b = qsn_i\n",
    "d = dx\n",
    "c = (a/d - Sc)**2\n",
    "e =  dt * kappa\n",
    "\n",
    "A = - e / dx**3\n",
    "B = 2 * c * e/d**2 + a * e/d**3 - b/d\n",
    "C = -kappa/d + e/d + (c**2)* e /d - 2 * a * e * c/d**2 + 2 * b * c / d**2\n",
    "D = kappa * a /d - a*e / d - (c**2)/d + b/d + b*c/d\n",
    "\n",
    "Ap = dt * A\n",
    "Bp = dt * B\n",
    "Cp = dt * C - 1\n",
    "Dp = dt * D + zn_i\n",
    "\n",
    "x = np.arange(-1e6,1e6, 10)\n",
    "y = Ap * x**3 + Bp * x**2 + Cp * x + Dp\n",
    "\n",
    "\n",
    "    \n",
    " "
   ]
  },
  {
   "cell_type": "code",
   "execution_count": 12,
   "id": "possible-corpus",
   "metadata": {},
   "outputs": [
    {
     "data": {
      "application/vnd.jupyter.widget-view+json": {
       "model_id": "58f467d33ec042f8b015c872ffd43500",
       "version_major": 2,
       "version_minor": 0
      },
      "text/plain": [
       "Canvas(toolbar=Toolbar(toolitems=[('Home', 'Reset original view', 'home', 'home'), ('Back', 'Back to previous …"
      ]
     },
     "metadata": {},
     "output_type": "display_data"
    }
   ],
   "source": [
    "fig, ax = plt.subplots()\n",
    "ax.plot(x,y,c = 'k', lw = 2)\n",
    "ax.grid()"
   ]
  },
  {
   "cell_type": "code",
   "execution_count": null,
   "id": "educated-genome",
   "metadata": {},
   "outputs": [],
   "source": []
  }
 ],
 "metadata": {
  "kernelspec": {
   "display_name": "Python 3",
   "language": "python",
   "name": "python3"
  },
  "language_info": {
   "codemirror_mode": {
    "name": "ipython",
    "version": 3
   },
   "file_extension": ".py",
   "mimetype": "text/x-python",
   "name": "python",
   "nbconvert_exporter": "python",
   "pygments_lexer": "ipython3",
   "version": "3.7.9"
  }
 },
 "nbformat": 4,
 "nbformat_minor": 5
}
