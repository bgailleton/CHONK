{
 "cells": [
  {
   "cell_type": "code",
   "execution_count": 1,
   "metadata": {},
   "outputs": [],
   "source": [
    "import CHONK_cpp as ch\n",
    "import numpy as np\n",
    "import fastscapelib_fortran as fs\n",
    "import lsdtopytools as lsd\n",
    "import numba as nb\n",
    "from matplotlib import pyplot as plt\n",
    "%matplotlib inline\n",
    "from IPython.display import clear_output, display\n",
    "nrows = 100\n",
    "ncols = 100\n",
    "xres = 500\n",
    "yres = 500\n",
    "xmin = 0\n",
    "xmax = ncols*yres\n",
    "ymin = 0\n",
    "ymax = nrows*xres\n",
    "Z = np.random.rand(nrows,ncols)/100\n",
    "Z = np.load(\"elev_breaking_stack.npy\")\n",
    "def check_stack(stack):\n",
    "    checker = np.zeros(stack.shape, dtype = np.int32)\n",
    "    incr = 0\n",
    "    for i in stack:\n",
    "        checker[i] = incr\n",
    "        incr +=1\n",
    "    return checker"
   ]
  },
  {
   "cell_type": "code",
   "execution_count": 5,
   "metadata": {},
   "outputs": [],
   "source": [
    "fs.fastscape_init()\n",
    "fs.fastscape_set_nx_ny(ncols,nrows)\n",
    "fs.fastscape_setup()\n",
    "fs.fastscape_set_xl_yl(xmax - xmin, ymax - ymin)\n",
    "fs.fastscape_set_bc(1010)\n",
    "fstctx = fs.fastscapecontext\n",
    "fstctx.p = -1\n",
    "fstctx.ibc = 1010\n",
    "\n"
   ]
  },
  {
   "cell_type": "code",
   "execution_count": 6,
   "metadata": {},
   "outputs": [
    {
     "ename": "RuntimeError",
     "evalue": "receiver basin of rerouted pit is itself::pitnode:0 recnode:0",
     "output_type": "error",
     "traceback": [
      "\u001b[0;31m---------------------------------------------------------------------------\u001b[0m",
      "\u001b[0;31mRuntimeError\u001b[0m                              Traceback (most recent call last)",
      "\u001b[0;32m<ipython-input-6-104f027c19e3>\u001b[0m in \u001b[0;36m<module>\u001b[0;34m\u001b[0m\n\u001b[1;32m     11\u001b[0m     \u001b[0mmlengths\u001b[0m \u001b[0;34m=\u001b[0m \u001b[0mfstctx\u001b[0m\u001b[0;34m.\u001b[0m\u001b[0mmlrec\u001b[0m\u001b[0;34m.\u001b[0m\u001b[0mtranspose\u001b[0m\u001b[0;34m(\u001b[0m\u001b[0;34m)\u001b[0m\u001b[0;34m\u001b[0m\u001b[0;34m\u001b[0m\u001b[0m\n\u001b[1;32m     12\u001b[0m     \u001b[0mlengths\u001b[0m \u001b[0;34m=\u001b[0m \u001b[0mfstctx\u001b[0m\u001b[0;34m.\u001b[0m\u001b[0mlength\u001b[0m\u001b[0;34m\u001b[0m\u001b[0;34m\u001b[0m\u001b[0m\n\u001b[0;32m---> 13\u001b[0;31m     \u001b[0mnodegraph\u001b[0m \u001b[0;34m=\u001b[0m \u001b[0mch\u001b[0m\u001b[0;34m.\u001b[0m\u001b[0mNodeGraph\u001b[0m\u001b[0;34m(\u001b[0m\u001b[0mstack\u001b[0m\u001b[0;34m,\u001b[0m\u001b[0mrec\u001b[0m\u001b[0;34m,\u001b[0m \u001b[0mprec\u001b[0m\u001b[0;34m,\u001b[0m\u001b[0mlengths\u001b[0m\u001b[0;34m,\u001b[0m\u001b[0mmrec\u001b[0m\u001b[0;34m,\u001b[0m\u001b[0mmlengths\u001b[0m\u001b[0;34m,\u001b[0m \u001b[0mactive\u001b[0m\u001b[0;34m.\u001b[0m\u001b[0mravel\u001b[0m\u001b[0;34m(\u001b[0m\u001b[0;34m)\u001b[0m\u001b[0;34m.\u001b[0m\u001b[0mastype\u001b[0m\u001b[0;34m(\u001b[0m\u001b[0mint\u001b[0m\u001b[0;34m)\u001b[0m\u001b[0;34m,\u001b[0m\u001b[0mZ\u001b[0m\u001b[0;34m.\u001b[0m\u001b[0mravel\u001b[0m\u001b[0;34m(\u001b[0m\u001b[0;34m)\u001b[0m\u001b[0;34m,\u001b[0m\u001b[0mxres\u001b[0m\u001b[0;34m,\u001b[0m\u001b[0myres\u001b[0m\u001b[0;34m,\u001b[0m\u001b[0mnrows\u001b[0m\u001b[0;34m,\u001b[0m\u001b[0mncols\u001b[0m\u001b[0;34m)\u001b[0m\u001b[0;34m\u001b[0m\u001b[0;34m\u001b[0m\u001b[0m\n\u001b[0m",
      "\u001b[0;31mRuntimeError\u001b[0m: receiver basin of rerouted pit is itself::pitnode:0 recnode:0"
     ]
    }
   ],
   "source": [
    "for i in range(1):\n",
    "#     Z = np.random.rand(nrows,ncols)/100\n",
    "    active = np.zeros((nrows,ncols), dtype = np.int)\n",
    "    active[1:-1,:] = 1\n",
    "    fstctx.h = Z.astype(np.float64).ravel()\n",
    "    fs.find_stacks_with_intermediate_save ()\n",
    "    stack = fstctx.stack0.astype('int') - 1\n",
    "    rec = fstctx.rec0.astype('int') - 1\n",
    "    prec = fstctx.rec.astype('int') - 1\n",
    "    mrec = fstctx.mrec.astype('int').transpose() - 1\n",
    "    mlengths = fstctx.mlrec.transpose()\n",
    "    lengths = fstctx.length\n",
    "    nodegraph = ch.NodeGraph(stack,rec, prec,lengths,mrec,mlengths, active.ravel().astype(int),Z.ravel(),xres,yres,nrows,ncols)"
   ]
  },
  {
   "cell_type": "code",
   "execution_count": 4,
   "metadata": {},
   "outputs": [
    {
     "name": "stdout",
     "output_type": "stream",
     "text": [
      "[[False False False ... False False False]\n",
      " [ True  True  True ...  True  True  True]\n",
      " [ True  True  True ...  True  True  True]\n",
      " ...\n",
      " [ True  True  True ...  True  True  True]\n",
      " [ True  True  True ...  True  True  True]\n",
      " [False False False ... False False False]]\n"
     ]
    }
   ],
   "source": [
    "print(active.astype(np.bool))"
   ]
  },
  {
   "cell_type": "code",
   "execution_count": 5,
   "metadata": {},
   "outputs": [
    {
     "ename": "NameError",
     "evalue": "name 'nodegraph' is not defined",
     "output_type": "error",
     "traceback": [
      "\u001b[0;31m---------------------------------------------------------------------------\u001b[0m",
      "\u001b[0;31mNameError\u001b[0m                                 Traceback (most recent call last)",
      "\u001b[0;32m<ipython-input-5-f8f30820fbed>\u001b[0m in \u001b[0;36m<module>\u001b[0;34m\u001b[0m\n\u001b[0;32m----> 1\u001b[0;31m \u001b[0mMF\u001b[0m \u001b[0;34m=\u001b[0m \u001b[0mnodegraph\u001b[0m\u001b[0;34m.\u001b[0m\u001b[0mget_MF_stack_full\u001b[0m\u001b[0;34m(\u001b[0m\u001b[0;34m)\u001b[0m\u001b[0;34m\u001b[0m\u001b[0;34m\u001b[0m\u001b[0m\n\u001b[0m",
      "\u001b[0;31mNameError\u001b[0m: name 'nodegraph' is not defined"
     ]
    }
   ],
   "source": [
    "MF = nodegraph.get_MF_stack_full()"
   ]
  },
  {
   "cell_type": "code",
   "execution_count": 6,
   "metadata": {},
   "outputs": [
    {
     "ename": "NameError",
     "evalue": "name 'MF' is not defined",
     "output_type": "error",
     "traceback": [
      "\u001b[0;31m---------------------------------------------------------------------------\u001b[0m",
      "\u001b[0;31mNameError\u001b[0m                                 Traceback (most recent call last)",
      "\u001b[0;32m<ipython-input-6-f5fd55ec9df5>\u001b[0m in \u001b[0;36m<module>\u001b[0;34m\u001b[0m\n\u001b[0;32m----> 1\u001b[0;31m \u001b[0mplt\u001b[0m\u001b[0;34m.\u001b[0m\u001b[0mimshow\u001b[0m\u001b[0;34m(\u001b[0m\u001b[0mcheck_stack\u001b[0m\u001b[0;34m(\u001b[0m\u001b[0mMF\u001b[0m\u001b[0;34m)\u001b[0m\u001b[0;34m.\u001b[0m\u001b[0mreshape\u001b[0m\u001b[0;34m(\u001b[0m\u001b[0mnrows\u001b[0m\u001b[0;34m,\u001b[0m\u001b[0mncols\u001b[0m\u001b[0;34m)\u001b[0m\u001b[0;34m)\u001b[0m\u001b[0;34m\u001b[0m\u001b[0;34m\u001b[0m\u001b[0m\n\u001b[0m",
      "\u001b[0;31mNameError\u001b[0m: name 'MF' is not defined"
     ]
    }
   ],
   "source": [
    "plt.imshow(check_stack(MF).reshape(nrows,ncols))"
   ]
  },
  {
   "cell_type": "code",
   "execution_count": 9,
   "metadata": {},
   "outputs": [],
   "source": [
    "lsd.raster_loader.save_raster(check_stack(MF).reshape(nrows,ncols),\n",
    "   0,xres*ncols,yres*nrows,0,xres,\"epsg:32635\",\"nodegraphv2_stack.tif\", fmt = 'GTIFF')\n",
    "lsd.raster_loader.save_raster(Z.reshape(nrows,ncols),\n",
    "   0,xres*ncols,yres*nrows,0,xres,\"epsg:32635\",\"nodegraphv2_topo.tif\", fmt = 'GTIFF')\n",
    "lsd.raster_loader.save_raster(np.arange(nrows*ncols).astype(np.int32).reshape(nrows,ncols),\n",
    "   0,xres*ncols,yres*nrows,0,xres,\"epsg:32635\",\"nodegraphv2_ID.tif\", fmt = 'GTIFF')"
   ]
  },
  {
   "cell_type": "code",
   "execution_count": null,
   "metadata": {},
   "outputs": [],
   "source": []
  }
 ],
 "metadata": {
  "kernelspec": {
   "display_name": "Python 3",
   "language": "python",
   "name": "python3"
  },
  "language_info": {
   "codemirror_mode": {
    "name": "ipython",
    "version": 3
   },
   "file_extension": ".py",
   "mimetype": "text/x-python",
   "name": "python",
   "nbconvert_exporter": "python",
   "pygments_lexer": "ipython3",
   "version": "3.7.7"
  }
 },
 "nbformat": 4,
 "nbformat_minor": 4
}
