{
 "cells": [
  {
   "cell_type": "code",
   "execution_count": 1,
   "metadata": {},
   "outputs": [],
   "source": [
    "import lsdtopytools as lsd\n",
    "import numpy as np\n",
    "import pyntail as pyt\n",
    "\n",
    "raster = lsd.raster_loader.load_raster(\"putna_50_NDF.tif\")"
   ]
  },
  {
   "cell_type": "code",
   "execution_count": 2,
   "metadata": {},
   "outputs": [],
   "source": [
    "fdir = pyt.cppintail(raster[\"x_min\"], raster[\"x_max\"], raster[\"y_min\"],raster[\"y_max\"],\n",
    "                     raster[\"res\"], raster[\"res\"],  raster[\"nrows\"], raster[\"ncols\"], -9999)\n",
    "fdir.compute_neighbors(raster[\"array\"])\n",
    "fdirarray = fdir.get_flowdir()\n",
    "fdir.find_nodes_with_no_donors(raster[\"array\"])\n",
    "# fdir.build_node_order(raster[\"array\"])"
   ]
  },
  {
   "cell_type": "code",
   "execution_count": null,
   "metadata": {},
   "outputs": [],
   "source": []
  },
  {
   "cell_type": "code",
   "execution_count": null,
   "metadata": {},
   "outputs": [],
   "source": [
    "from matplotlib import pyplot as plt\n",
    "plt.imshow(np.log10(fdirarray))\n"
   ]
  },
  {
   "cell_type": "code",
   "execution_count": null,
   "metadata": {},
   "outputs": [],
   "source": []
  }
 ],
 "metadata": {
  "kernelspec": {
   "display_name": "Python 3",
   "language": "python",
   "name": "python3"
  },
  "language_info": {
   "codemirror_mode": {
    "name": "ipython",
    "version": 3
   },
   "file_extension": ".py",
   "mimetype": "text/x-python",
   "name": "python",
   "nbconvert_exporter": "python",
   "pygments_lexer": "ipython3",
   "version": "3.7.6"
  }
 },
 "nbformat": 4,
 "nbformat_minor": 4
}
