{
 "cells": [
  {
   "cell_type": "markdown",
   "metadata": {},
   "source": [
    "# Test notebook\n",
    "\n",
    "sdkjfhskjdhfkalshdgkjhsdfg!"
   ]
  },
  {
   "cell_type": "code",
   "execution_count": 1,
   "metadata": {},
   "outputs": [
    {
     "data": {
      "text/plain": [
       "range(5, 2)"
      ]
     },
     "execution_count": 1,
     "metadata": {},
     "output_type": "execute_result"
    }
   ],
   "source": [
    "import numpy as np\n",
    "import time as clock\n",
    "import numba as nb\n",
    "range(5,2)"
   ]
  },
  {
   "cell_type": "code",
   "execution_count": 2,
   "metadata": {},
   "outputs": [
    {
     "name": "stdout",
     "output_type": "stream",
     "text": [
      "2/3/4/"
     ]
    }
   ],
   "source": [
    "import numba as nb\n",
    "from numba.core import types\n",
    "from numba.typed import Dict\n",
    "state = Dict.empty(\n",
    "    key_type=types.unicode_type,\n",
    "    value_type=types.float64[:],\n",
    ")\n",
    "\n",
    "npoints = 1_000_000\n",
    "Qw = np.zeros(npoints)\n",
    "topo = np.zeros(npoints)\n",
    "Kr = 1e-3\n",
    "\n",
    "state['Qw'] = Qw.astype('d')\n",
    "state['topo'] = topo.ravel().astype('d')\n",
    "state['Kr'] = np.broadcast_to(Kr, npoints).astype('d')\n",
    "\n",
    "@nb.njit\n",
    "def func1(i, state):\n",
    "    state['Qw'][i] += 1e2\n",
    "@nb.njit\n",
    "def func2(i, state):\n",
    "    state['topo'][i] += 1e3\n",
    "@nb.njit\n",
    "def scratch(i, state):\n",
    "    pass\n",
    "def chain(fs, inner=scratch):\n",
    "    head, tail = fs[-1], fs[:-1]\n",
    "    @nb.njit\n",
    "    def wrap(i, state):\n",
    "        inner(i, state)\n",
    "        head(i, state)\n",
    "    if tail:\n",
    "        return chain(tail, wrap)\n",
    "    else:\n",
    "        return wrap\n",
    "all_funcs = chain((func1, func2))\n",
    "@nb.njit\n",
    "def run(state):\n",
    "    for i in range(npoints):\n",
    "        all_funcs(i, state)"
   ]
  },
  {
   "cell_type": "code",
   "execution_count": 12,
   "metadata": {},
   "outputs": [],
   "source": [
    "# Testing here the speed of initialisation\n",
    "# @nb.njit()\n",
    "def initialisater():\n",
    "    state = Dict.empty(\n",
    "        key_type=types.unicode_type,\n",
    "        value_type=types.float64[:],\n",
    "    )\n",
    "\n",
    "    npoints = 1_000_000\n",
    "    Qw = np.zeros(npoints)\n",
    "    topo = np.zeros(npoints)\n",
    "    Kr = 1e-3\n",
    "\n",
    "    state['Qw'] = Qw.astype('d')\n",
    "    state['topo'] = topo.ravel().astype('d')\n",
    "    state['Kr'] = np.broadcast_to(Kr, npoints).astype('d')\n"
   ]
  },
  {
   "cell_type": "code",
   "execution_count": 16,
   "metadata": {},
   "outputs": [
    {
     "name": "stdout",
     "output_type": "stream",
     "text": [
      "8.75 ms ± 268 µs per loop (mean ± std. dev. of 7 runs, 100 loops each)\n"
     ]
    }
   ],
   "source": [
    "%%timeit\n",
    "initialisater()"
   ]
  },
  {
   "cell_type": "code",
   "execution_count": 4,
   "metadata": {},
   "outputs": [
    {
     "name": "stdout",
     "output_type": "stream",
     "text": [
      "Took  0.0001201693320274353\n"
     ]
    }
   ],
   "source": [
    "tt = clock.time()\n",
    "\n",
    "for i in range(10000):\n",
    "    B = np.ones(1000000)\n",
    "st = clock.time() - tt\n",
    "st = st/100000\n",
    "print(\"Took \", st)"
   ]
  },
  {
   "cell_type": "code",
   "execution_count": 10,
   "metadata": {},
   "outputs": [],
   "source": [
    "import numba as nb\n",
    "from numba.core import types\n",
    "from numba.typed import Dict\n",
    "import numpy as np\n",
    "\n",
    "state = Dict.empty(\n",
    "    key_type=types.unicode_type,\n",
    "    value_type=types.float64[:],\n",
    ")\n",
    "N = 1000000\n",
    "\n",
    "Qw = np.random.rand(N)\n",
    "topo = np.random.rand(N)\n",
    "Kr = np.random.rand(N)\n",
    "\n",
    "state['Qw'] = Qw.astype('d')\n",
    "state['topo'] = topo.astype('d')\n",
    "# state['Kr'] = np.broadcast_to(Kr, 100).astype('d')\n",
    "state['Kr'] = Kr.astype('d')\n",
    "\n",
    "_Qw = np.copy(Qw).astype('d')\n",
    "_topo = np.copy(topo).astype('d')\n",
    "_Kr = np.copy(Kr).astype('d')\n",
    "\n",
    "ARR = np.array([np.copy(Qw).astype('d'),np.copy(topo).astype('d'),np.copy(Kr).astype('d')])\n",
    "\n",
    "@nb.njit\n",
    "def mfunc(N, state):\n",
    "    for i in range(N): \n",
    "        func(i,state)\n",
    "    \n",
    "@nb.njit\n",
    "def func(i, state):\n",
    "    state['Qw'][i] = state['Kr'][i] * state['topo'][i]\n",
    "\n",
    "@nb.njit\n",
    "def dfunc(N, Qw,Kr,topo):\n",
    "    for i in range(N): \n",
    "        Qw[i] = Kr[i] * topo[i]\n",
    "\n",
    "@nb.njit\n",
    "def _func(i, Qw,Kr,topo):\n",
    "    Qw[i] = Kr[i] * topo[i]\n",
    "\n",
    "@nb.njit\n",
    "def mdfunc(N, Qw,Kr,topo):\n",
    "    for i in range(N): \n",
    "        _func(i, Qw,Kr,topo)\n",
    "@nb.njit\n",
    "def tdfunc(N, marr):\n",
    "    for i in range(N): \n",
    "        marr[0][i] = marr[1][i] * marr[2][i]\n",
    "        "
   ]
  },
  {
   "cell_type": "code",
   "execution_count": 11,
   "metadata": {},
   "outputs": [],
   "source": [
    "mfunc(N, state)\n",
    "dfunc(N, Qw,Kr,topo)\n",
    "mdfunc(N, Qw,Kr,topo)\n",
    "tdfunc(N, ARR)"
   ]
  },
  {
   "cell_type": "code",
   "execution_count": 12,
   "metadata": {},
   "outputs": [
    {
     "name": "stdout",
     "output_type": "stream",
     "text": [
      "295 ms ± 4.6 ms per loop (mean ± std. dev. of 7 runs, 1 loop each)\n",
      "1.1 ms ± 10.9 µs per loop (mean ± std. dev. of 7 runs, 1000 loops each)\n",
      "1.11 ms ± 29.4 µs per loop (mean ± std. dev. of 7 runs, 1000 loops each)\n",
      "1.14 ms ± 35.4 µs per loop (mean ± std. dev. of 7 runs, 1000 loops each)\n"
     ]
    }
   ],
   "source": [
    "%timeit mfunc(N, state)\n",
    "%timeit dfunc(N, Qw,Kr,topo)\n",
    "%timeit mdfunc(N, Qw,Kr,topo)\n",
    "%timeit tdfunc(N, ARR)"
   ]
  },
  {
   "cell_type": "code",
   "execution_count": 13,
   "metadata": {},
   "outputs": [
    {
     "name": "stdout",
     "output_type": "stream",
     "text": [
      "18.1 ns ± 0.239 ns per loop (mean ± std. dev. of 7 runs, 100000000 loops each)\n"
     ]
    }
   ],
   "source": [
    "%timeit tdfunc"
   ]
  },
  {
   "cell_type": "code",
   "execution_count": 8,
   "metadata": {},
   "outputs": [
    {
     "data": {
      "text/plain": [
       "array([0.001, 0.001, 0.001, 0.001, 0.001, 0.001, 0.001, 0.001, 0.001,\n",
       "       0.001, 0.001, 0.001, 0.001, 0.001, 0.001, 0.001, 0.001, 0.001,\n",
       "       0.001, 0.001, 0.001, 0.001, 0.001, 0.001, 0.001, 0.001, 0.001,\n",
       "       0.001, 0.001, 0.001, 0.001, 0.001, 0.001, 0.001, 0.001, 0.001,\n",
       "       0.001, 0.001, 0.001, 0.001, 0.001, 0.001, 0.001, 0.001, 0.001,\n",
       "       0.001, 0.001, 0.001, 0.001, 0.001, 0.001, 0.001, 0.001, 0.001,\n",
       "       0.001, 0.001, 0.001, 0.001, 0.001, 0.001, 0.001, 0.001, 0.001,\n",
       "       0.001, 0.001, 0.001, 0.001, 0.001, 0.001, 0.001, 0.001, 0.001,\n",
       "       0.001, 0.001, 0.001, 0.001, 0.001, 0.001, 0.001, 0.001, 0.001,\n",
       "       0.001, 0.001, 0.001, 0.001, 0.001, 0.001, 0.001, 0.001, 0.001,\n",
       "       0.001, 0.001, 0.001, 0.001, 0.001, 0.001, 0.001, 0.001, 0.001,\n",
       "       0.001])"
      ]
     },
     "execution_count": 8,
     "metadata": {},
     "output_type": "execute_result"
    }
   ],
   "source": [
    "state['Kr']"
   ]
  },
  {
   "cell_type": "code",
   "execution_count": null,
   "metadata": {},
   "outputs": [],
   "source": []
  }
 ],
 "metadata": {
  "kernelspec": {
   "display_name": "Python 3",
   "language": "python",
   "name": "python3"
  },
  "language_info": {
   "codemirror_mode": {
    "name": "ipython",
    "version": 3
   },
   "file_extension": ".py",
   "mimetype": "text/x-python",
   "name": "python",
   "nbconvert_exporter": "python",
   "pygments_lexer": "ipython3",
   "version": "3.7.7"
  }
 },
 "nbformat": 4,
 "nbformat_minor": 4
}
